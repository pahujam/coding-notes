{
 "cells": [
  {
   "cell_type": "markdown",
   "id": "a6d904e6-d7e4-444b-a3d6-f3a725109af1",
   "metadata": {},
   "source": [
    "Python features:\n",
    "- Dynamic Typing\n",
    "- Supports OOP\n",
    "- Interpreted Language\n",
    "- Very high level langauge"
   ]
  },
  {
   "cell_type": "markdown",
   "id": "5ec50194-83ff-4f7b-8e5d-4bb5a501169f",
   "metadata": {},
   "source": [
    "- Interpreter acts as a calculator"
   ]
  },
  {
   "cell_type": "code",
   "execution_count": 1,
   "id": "eb4b182c-52e4-4048-8c93-5f5bb273de56",
   "metadata": {},
   "outputs": [
    {
     "data": {
      "text/plain": [
       "4"
      ]
     },
     "execution_count": 1,
     "metadata": {},
     "output_type": "execute_result"
    }
   ],
   "source": [
    "2+2"
   ]
  },
  {
   "cell_type": "code",
   "execution_count": 20,
   "id": "76479f0d-b0ce-4b90-b80c-3c79b76e8cca",
   "metadata": {},
   "outputs": [
    {
     "data": {
      "text/plain": [
       "-1"
      ]
     },
     "execution_count": 20,
     "metadata": {},
     "output_type": "execute_result"
    }
   ],
   "source": [
    "4-5"
   ]
  },
  {
   "cell_type": "markdown",
   "id": "63d1e03c-f8ff-45cb-afc1-8411c93f9221",
   "metadata": {},
   "source": [
    "- Normal Division vs Floor Division\n",
    "- Normal Division = always returns float\n",
    "- Floor Division = always returns int"
   ]
  },
  {
   "cell_type": "code",
   "execution_count": 21,
   "id": "d0f369e9-9dca-4749-a09c-74f55c3943fd",
   "metadata": {},
   "outputs": [
    {
     "data": {
      "text/plain": [
       "5.666666666666667"
      ]
     },
     "execution_count": 21,
     "metadata": {},
     "output_type": "execute_result"
    }
   ],
   "source": [
    "17 / 3"
   ]
  },
  {
   "cell_type": "code",
   "execution_count": 22,
   "id": "3ae4c6c6-d7dc-48b2-9dad-661b61e7e608",
   "metadata": {},
   "outputs": [
    {
     "data": {
      "text/plain": [
       "5"
      ]
     },
     "execution_count": 22,
     "metadata": {},
     "output_type": "execute_result"
    }
   ],
   "source": [
    "17 // 3"
   ]
  },
  {
   "cell_type": "markdown",
   "id": "91548a44-33f2-4052-a18c-dd11f050895f",
   "metadata": {},
   "source": [
    "- Find Remainder Using % operator"
   ]
  },
  {
   "cell_type": "code",
   "execution_count": 23,
   "id": "79dd2d34-f421-4b09-b962-f8d364e512c9",
   "metadata": {},
   "outputs": [
    {
     "data": {
      "text/plain": [
       "2"
      ]
     },
     "execution_count": 23,
     "metadata": {},
     "output_type": "execute_result"
    }
   ],
   "source": [
    "17 % 3"
   ]
  },
  {
   "cell_type": "markdown",
   "id": "bab48025-2e87-460f-b218-4a1931aba544",
   "metadata": {},
   "source": [
    "- Square any Number\n",
    "- Find a raise to power b"
   ]
  },
  {
   "cell_type": "code",
   "execution_count": 24,
   "id": "53529f8f-9485-463b-aa00-63e778c00ed6",
   "metadata": {},
   "outputs": [
    {
     "data": {
      "text/plain": [
       "25"
      ]
     },
     "execution_count": 24,
     "metadata": {},
     "output_type": "execute_result"
    }
   ],
   "source": [
    "5 ** 2"
   ]
  },
  {
   "cell_type": "code",
   "execution_count": 25,
   "id": "3b817d44-a6d6-4bbf-9aec-630d12eb023a",
   "metadata": {},
   "outputs": [
    {
     "data": {
      "text/plain": [
       "128"
      ]
     },
     "execution_count": 25,
     "metadata": {},
     "output_type": "execute_result"
    }
   ],
   "source": [
    "2 ** 7"
   ]
  },
  {
   "cell_type": "markdown",
   "id": "fed4ff5b-8d3e-4485-8b40-4f4302d89712",
   "metadata": {},
   "source": [
    "- Last printed expression is saved in _"
   ]
  },
  {
   "cell_type": "code",
   "execution_count": 28,
   "id": "de2ebef5-ed06-49a3-8484-832b4df849c7",
   "metadata": {},
   "outputs": [
    {
     "data": {
      "text/plain": [
       "6"
      ]
     },
     "execution_count": 28,
     "metadata": {},
     "output_type": "execute_result"
    }
   ],
   "source": [
    "a = 2\n",
    "b = 3\n",
    "b*a"
   ]
  },
  {
   "cell_type": "code",
   "execution_count": 29,
   "id": "7c4ae0f5-b60e-4c8b-bd14-886928b076c2",
   "metadata": {},
   "outputs": [
    {
     "data": {
      "text/plain": [
       "6"
      ]
     },
     "execution_count": 29,
     "metadata": {},
     "output_type": "execute_result"
    }
   ],
   "source": [
    "_"
   ]
  },
  {
   "cell_type": "markdown",
   "id": "9d2eee14-cfda-4159-be7e-de9a5f4ac9d7",
   "metadata": {},
   "source": [
    "- Round decimal places"
   ]
  },
  {
   "cell_type": "code",
   "execution_count": 30,
   "id": "b39fb324-6f51-44ea-9a2d-cf451d1846b9",
   "metadata": {},
   "outputs": [
    {
     "data": {
      "text/plain": [
       "1"
      ]
     },
     "execution_count": 30,
     "metadata": {},
     "output_type": "execute_result"
    }
   ],
   "source": [
    "a = 1.34\n",
    "round(a)"
   ]
  },
  {
   "cell_type": "code",
   "execution_count": 31,
   "id": "e19b72ce-f831-4d77-ab80-4c72afd757ea",
   "metadata": {},
   "outputs": [
    {
     "data": {
      "text/plain": [
       "1.34"
      ]
     },
     "execution_count": 31,
     "metadata": {},
     "output_type": "execute_result"
    }
   ],
   "source": [
    "round(a,2)"
   ]
  },
  {
   "cell_type": "markdown",
   "id": "b2fd86e5-b92b-42aa-bb58-b26ccada2fd4",
   "metadata": {},
   "source": [
    "- String using single or double quotes"
   ]
  },
  {
   "cell_type": "code",
   "execution_count": 32,
   "id": "c75023c3-fa5b-4e52-ac85-3b2d385862df",
   "metadata": {},
   "outputs": [
    {
     "data": {
      "text/plain": [
       "'name'"
      ]
     },
     "execution_count": 32,
     "metadata": {},
     "output_type": "execute_result"
    }
   ],
   "source": [
    "\"name\""
   ]
  },
  {
   "cell_type": "code",
   "execution_count": 33,
   "id": "e723d749-f558-427f-86c8-7e6baea27b3d",
   "metadata": {},
   "outputs": [
    {
     "data": {
      "text/plain": [
       "'name'"
      ]
     },
     "execution_count": 33,
     "metadata": {},
     "output_type": "execute_result"
    }
   ],
   "source": [
    "'name'"
   ]
  },
  {
   "cell_type": "markdown",
   "id": "5f8ebd8f-c47d-4a08-b4e4-1d65f09ccd24",
   "metadata": {},
   "source": [
    "- Escape a single quote using double quote or backslash"
   ]
  },
  {
   "cell_type": "code",
   "execution_count": 34,
   "id": "81528592-719e-4f54-aaa1-e3307f947afe",
   "metadata": {},
   "outputs": [
    {
     "data": {
      "text/plain": [
       "\"doesn't\""
      ]
     },
     "execution_count": 34,
     "metadata": {},
     "output_type": "execute_result"
    }
   ],
   "source": [
    "\"doesn't\""
   ]
  },
  {
   "cell_type": "code",
   "execution_count": 35,
   "id": "74df4a04-c7ca-4502-8444-cd064c34845b",
   "metadata": {},
   "outputs": [
    {
     "data": {
      "text/plain": [
       "\"doesn't\""
      ]
     },
     "execution_count": 35,
     "metadata": {},
     "output_type": "execute_result"
    }
   ],
   "source": [
    "'doesn\\'t'"
   ]
  },
  {
   "cell_type": "markdown",
   "id": "8dd55ddd-3cee-4643-a18c-d0568e1099e6",
   "metadata": {},
   "source": [
    "- Print double quotes in a string"
   ]
  },
  {
   "cell_type": "code",
   "execution_count": 37,
   "id": "98254617-655b-4c25-9e67-d59a6ce4df2d",
   "metadata": {},
   "outputs": [
    {
     "data": {
      "text/plain": [
       "'\"Yes, true\"'"
      ]
     },
     "execution_count": 37,
     "metadata": {},
     "output_type": "execute_result"
    }
   ],
   "source": [
    "'\"Yes, true\"'"
   ]
  },
  {
   "cell_type": "code",
   "execution_count": 38,
   "id": "387bc9f2-1cce-4c5b-adbe-97f41862df34",
   "metadata": {},
   "outputs": [
    {
     "data": {
      "text/plain": [
       "'\"Yes, true\"'"
      ]
     },
     "execution_count": 38,
     "metadata": {},
     "output_type": "execute_result"
    }
   ],
   "source": [
    "\"\\\"Yes, true\\\"\""
   ]
  },
  {
   "cell_type": "markdown",
   "id": "1b9f4232-33fa-4b4d-97d6-c125e0b4cf13",
   "metadata": {},
   "source": [
    "- print() function produces more readable output by printing escaped characters"
   ]
  },
  {
   "cell_type": "code",
   "execution_count": 41,
   "id": "964d2520-bf16-4e64-b413-888640f58e9f",
   "metadata": {},
   "outputs": [
    {
     "data": {
      "text/plain": [
       "'This string has \\na newline'"
      ]
     },
     "execution_count": 41,
     "metadata": {},
     "output_type": "execute_result"
    }
   ],
   "source": [
    "newline_string = \"This string has \\na newline\"\n",
    "newline_string"
   ]
  },
  {
   "cell_type": "code",
   "execution_count": 42,
   "id": "b9018283-e761-4411-a7bd-72f575cba61d",
   "metadata": {},
   "outputs": [
    {
     "name": "stdout",
     "output_type": "stream",
     "text": [
      "This string has \n",
      "a newline\n"
     ]
    }
   ],
   "source": [
    "print(newline_string)"
   ]
  },
  {
   "cell_type": "markdown",
   "id": "64d2a555-b0ca-4330-a875-ec082c860c9c",
   "metadata": {},
   "source": [
    "- If we don't want \\ to be interpreted as a special character, use raw strings"
   ]
  },
  {
   "cell_type": "code",
   "execution_count": 45,
   "id": "7e31431a-f5ce-4582-841c-7c395f9a3c68",
   "metadata": {},
   "outputs": [
    {
     "data": {
      "text/plain": [
       "'this is not\\n raw string'"
      ]
     },
     "execution_count": 45,
     "metadata": {},
     "output_type": "execute_result"
    }
   ],
   "source": [
    "not_raw_string = \"this is not\\n raw string\"\n",
    "not_raw_string"
   ]
  },
  {
   "cell_type": "code",
   "execution_count": 46,
   "id": "aa57c41d-c98f-4aff-9906-4f629e757c51",
   "metadata": {},
   "outputs": [
    {
     "name": "stdout",
     "output_type": "stream",
     "text": [
      "this is not\n",
      " raw string\n"
     ]
    }
   ],
   "source": [
    "print(not_raw_string)"
   ]
  },
  {
   "cell_type": "code",
   "execution_count": 47,
   "id": "22068ae2-9a29-4007-8a78-83ecd325a8e5",
   "metadata": {},
   "outputs": [
    {
     "data": {
      "text/plain": [
       "'this is not\\\\n raw string'"
      ]
     },
     "execution_count": 47,
     "metadata": {},
     "output_type": "execute_result"
    }
   ],
   "source": [
    "raw_string = r\"this is not\\n raw string\"\n",
    "raw_string"
   ]
  },
  {
   "cell_type": "code",
   "execution_count": 48,
   "id": "244ceace-a5e2-48c5-b893-d5859bc8b018",
   "metadata": {},
   "outputs": [
    {
     "name": "stdout",
     "output_type": "stream",
     "text": [
      "this is not\\n raw string\n"
     ]
    }
   ],
   "source": [
    "print(raw_string)"
   ]
  },
  {
   "cell_type": "markdown",
   "id": "2fe31052-59f2-4686-9142-2b8b4105eb6f",
   "metadata": {},
   "source": [
    "- Multiline strings"
   ]
  },
  {
   "cell_type": "code",
   "execution_count": 51,
   "id": "d6da8711-fbfc-4a60-8610-58e256cd1dda",
   "metadata": {},
   "outputs": [
    {
     "data": {
      "text/plain": [
       "'this is a\\nmultiline\\nstring'"
      ]
     },
     "execution_count": 51,
     "metadata": {},
     "output_type": "execute_result"
    }
   ],
   "source": [
    "\"\"\"this is a\n",
    "multiline\n",
    "string\"\"\""
   ]
  },
  {
   "cell_type": "code",
   "execution_count": 52,
   "id": "f4e44012-dd09-481c-9b67-2027756a54d7",
   "metadata": {},
   "outputs": [
    {
     "data": {
      "text/plain": [
       "'this is also a \\nmultiline\\nstring'"
      ]
     },
     "execution_count": 52,
     "metadata": {},
     "output_type": "execute_result"
    }
   ],
   "source": [
    "'''this is also a \n",
    "multiline\n",
    "string'''"
   ]
  },
  {
   "cell_type": "markdown",
   "id": "4966e045-6335-43af-93ff-627a190d4f60",
   "metadata": {},
   "source": [
    "- Concatenate strings using + operator"
   ]
  },
  {
   "cell_type": "code",
   "execution_count": 54,
   "id": "ad28e730-4051-47e4-8592-bb71c6465b9f",
   "metadata": {},
   "outputs": [
    {
     "data": {
      "text/plain": [
       "'first_name second_name'"
      ]
     },
     "execution_count": 54,
     "metadata": {},
     "output_type": "execute_result"
    }
   ],
   "source": [
    "\"first_name\" + \" \" + \"second_name\""
   ]
  },
  {
   "cell_type": "markdown",
   "id": "b75a75f3-00e7-4187-88cb-26101202469b",
   "metadata": {},
   "source": [
    "- Repeat String using \\*"
   ]
  },
  {
   "cell_type": "code",
   "execution_count": 58,
   "id": "61ab09a5-de38-42ab-b4e1-34cec7c4cad8",
   "metadata": {},
   "outputs": [
    {
     "data": {
      "text/plain": [
       "'hello hello hello '"
      ]
     },
     "execution_count": 58,
     "metadata": {},
     "output_type": "execute_result"
    }
   ],
   "source": [
    "\"hello \"*3"
   ]
  },
  {
   "cell_type": "markdown",
   "id": "ebf81577-cde1-493a-9088-57ad7ab395de",
   "metadata": {},
   "source": [
    "- Strings can be indexed like array\n",
    "- Negative index + Slicing also supported"
   ]
  },
  {
   "cell_type": "code",
   "execution_count": 59,
   "id": "eafd4281-7244-454f-ae4a-3de041d31dd7",
   "metadata": {},
   "outputs": [
    {
     "data": {
      "text/plain": [
       "'p'"
      ]
     },
     "execution_count": 59,
     "metadata": {},
     "output_type": "execute_result"
    }
   ],
   "source": [
    "word = \"python\"\n",
    "word[0]"
   ]
  },
  {
   "cell_type": "code",
   "execution_count": 60,
   "id": "ef986638-2932-4144-90b5-2695acd984be",
   "metadata": {},
   "outputs": [
    {
     "data": {
      "text/plain": [
       "'n'"
      ]
     },
     "execution_count": 60,
     "metadata": {},
     "output_type": "execute_result"
    }
   ],
   "source": [
    "word[-1]"
   ]
  },
  {
   "cell_type": "code",
   "execution_count": 61,
   "id": "cf662354-79ee-4752-a57a-2b9ef172b8b1",
   "metadata": {},
   "outputs": [
    {
     "data": {
      "text/plain": [
       "'pyt'"
      ]
     },
     "execution_count": 61,
     "metadata": {},
     "output_type": "execute_result"
    }
   ],
   "source": [
    "word[0:3]"
   ]
  },
  {
   "cell_type": "markdown",
   "id": "2113a72c-47db-435a-8e4c-73cdf4914c4c",
   "metadata": {},
   "source": [
    "- Start is inclusive, End is exclusive in slicing"
   ]
  },
  {
   "cell_type": "code",
   "execution_count": 62,
   "id": "59b41be8-5872-4db9-b518-08b1f4b4f288",
   "metadata": {},
   "outputs": [
    {
     "data": {
      "text/plain": [
       "'pyt'"
      ]
     },
     "execution_count": 62,
     "metadata": {},
     "output_type": "execute_result"
    }
   ],
   "source": [
    "word[:3]"
   ]
  },
  {
   "cell_type": "code",
   "execution_count": 63,
   "id": "ed079a09-d9f7-4d36-98cf-91c12cd5924d",
   "metadata": {},
   "outputs": [
    {
     "data": {
      "text/plain": [
       "'on'"
      ]
     },
     "execution_count": 63,
     "metadata": {},
     "output_type": "execute_result"
    }
   ],
   "source": [
    "word[-2:]"
   ]
  },
  {
   "cell_type": "markdown",
   "id": "d16d723b-b2b1-475b-94f2-b2f5f66d572b",
   "metadata": {},
   "source": [
    "- Python strings are immutable"
   ]
  },
  {
   "cell_type": "code",
   "execution_count": 64,
   "id": "f21b63e6-51e3-4ad6-ab6c-a65126d2ff61",
   "metadata": {},
   "outputs": [],
   "source": [
    "word = \"python\""
   ]
  },
  {
   "cell_type": "code",
   "execution_count": 66,
   "id": "8b43c48b-b1f8-4876-b76c-1725d702d7cf",
   "metadata": {},
   "outputs": [],
   "source": [
    "# results in error\n",
    "# word[-1] = \"c\""
   ]
  },
  {
   "cell_type": "markdown",
   "id": "03929897-9b26-43aa-90e4-39d39690ae20",
   "metadata": {},
   "source": [
    "- Get length of string"
   ]
  },
  {
   "cell_type": "code",
   "execution_count": 68,
   "id": "ef3cee93-3573-4096-bf12-d3033d5b1b88",
   "metadata": {},
   "outputs": [
    {
     "data": {
      "text/plain": [
       "11"
      ]
     },
     "execution_count": 68,
     "metadata": {},
     "output_type": "execute_result"
    }
   ],
   "source": [
    "len(\"hello world\")"
   ]
  },
  {
   "cell_type": "markdown",
   "id": "5b242056-3844-4e8f-9dff-d727a626d562",
   "metadata": {},
   "source": [
    "- Python lists support indexing/slicing/negative indicies"
   ]
  },
  {
   "cell_type": "code",
   "execution_count": 69,
   "id": "1d035fc7-74b0-4337-9931-5e0de80402c2",
   "metadata": {},
   "outputs": [],
   "source": [
    "squares = [1, 4, 9, 16, 25]"
   ]
  },
  {
   "cell_type": "code",
   "execution_count": 70,
   "id": "629bae9c-e9d0-4388-9202-7843d29e7524",
   "metadata": {},
   "outputs": [
    {
     "data": {
      "text/plain": [
       "25"
      ]
     },
     "execution_count": 70,
     "metadata": {},
     "output_type": "execute_result"
    }
   ],
   "source": [
    "squares[-1]"
   ]
  },
  {
   "cell_type": "code",
   "execution_count": 71,
   "id": "27ca35a3-b32f-4fa6-8e3b-e0bb0747eacc",
   "metadata": {},
   "outputs": [
    {
     "data": {
      "text/plain": [
       "1"
      ]
     },
     "execution_count": 71,
     "metadata": {},
     "output_type": "execute_result"
    }
   ],
   "source": [
    "squares[0]"
   ]
  },
  {
   "cell_type": "code",
   "execution_count": 72,
   "id": "9953191c-20bc-4c5c-84aa-83cff1059581",
   "metadata": {},
   "outputs": [
    {
     "data": {
      "text/plain": [
       "[1, 4]"
      ]
     },
     "execution_count": 72,
     "metadata": {},
     "output_type": "execute_result"
    }
   ],
   "source": [
    "squares[0:2]"
   ]
  },
  {
   "cell_type": "code",
   "execution_count": 74,
   "id": "65af7aed-ada9-48b9-bea8-8419fa68afc9",
   "metadata": {},
   "outputs": [
    {
     "data": {
      "text/plain": [
       "[9, 16, 25]"
      ]
     },
     "execution_count": 74,
     "metadata": {},
     "output_type": "execute_result"
    }
   ],
   "source": [
    "squares[-3:]"
   ]
  },
  {
   "cell_type": "markdown",
   "id": "20bd6be8-4e7e-4f0a-afc3-50cf8f97df1d",
   "metadata": {},
   "source": [
    "- Python List can be concatenated"
   ]
  },
  {
   "cell_type": "code",
   "execution_count": 75,
   "id": "34276caa-124b-4b63-9199-4edb6ed2e99a",
   "metadata": {},
   "outputs": [
    {
     "data": {
      "text/plain": [
       "[1, 4, 9, 16, 25, 36, 49, 64, 81, 100]"
      ]
     },
     "execution_count": 75,
     "metadata": {},
     "output_type": "execute_result"
    }
   ],
   "source": [
    "squares + [36, 49, 64, 81, 100]"
   ]
  },
  {
   "cell_type": "markdown",
   "id": "f7f96353-b8d6-415b-abbd-b52985d1ae65",
   "metadata": {},
   "source": [
    "- Python lists are mutable"
   ]
  },
  {
   "cell_type": "code",
   "execution_count": 81,
   "id": "61d2692e-47ad-4d9a-bc1b-9b16c077f4af",
   "metadata": {},
   "outputs": [
    {
     "data": {
      "text/plain": [
       "[1, 8, 27, 65, 125]"
      ]
     },
     "execution_count": 81,
     "metadata": {},
     "output_type": "execute_result"
    }
   ],
   "source": [
    "cubes = [1, 8, 27, 65, 125]\n",
    "cubes"
   ]
  },
  {
   "cell_type": "code",
   "execution_count": 82,
   "id": "119b8821-8cfc-47b5-9dd7-c845fea246c9",
   "metadata": {},
   "outputs": [
    {
     "data": {
      "text/plain": [
       "140678906977024"
      ]
     },
     "execution_count": 82,
     "metadata": {},
     "output_type": "execute_result"
    }
   ],
   "source": [
    "id(cubes)"
   ]
  },
  {
   "cell_type": "code",
   "execution_count": 83,
   "id": "01953619-4d8f-473e-8161-4d4e85cd673d",
   "metadata": {},
   "outputs": [],
   "source": [
    "cubes[3] = 64"
   ]
  },
  {
   "cell_type": "code",
   "execution_count": 84,
   "id": "0e8ad71d-9973-49f7-896e-872140899f29",
   "metadata": {},
   "outputs": [
    {
     "data": {
      "text/plain": [
       "[1, 8, 27, 64, 125]"
      ]
     },
     "execution_count": 84,
     "metadata": {},
     "output_type": "execute_result"
    }
   ],
   "source": [
    "cubes"
   ]
  },
  {
   "cell_type": "code",
   "execution_count": 85,
   "id": "060f40b2-e562-438a-9525-e5fac170bb3a",
   "metadata": {},
   "outputs": [
    {
     "data": {
      "text/plain": [
       "140678906977024"
      ]
     },
     "execution_count": 85,
     "metadata": {},
     "output_type": "execute_result"
    }
   ],
   "source": [
    "id(cubes)"
   ]
  },
  {
   "cell_type": "markdown",
   "id": "f127ee02-c99b-4b40-8474-a3c8a408aded",
   "metadata": {},
   "source": [
    "- Add elements at the end of list"
   ]
  },
  {
   "cell_type": "code",
   "execution_count": 86,
   "id": "cf4d7ab9-41b2-45eb-b970-ea3710180deb",
   "metadata": {},
   "outputs": [],
   "source": [
    "cubes.append(36*6)"
   ]
  },
  {
   "cell_type": "code",
   "execution_count": 87,
   "id": "9d51ee85-ac4f-439a-a70f-91ef27b1d816",
   "metadata": {},
   "outputs": [
    {
     "data": {
      "text/plain": [
       "[1, 8, 27, 64, 125, 216]"
      ]
     },
     "execution_count": 87,
     "metadata": {},
     "output_type": "execute_result"
    }
   ],
   "source": [
    "cubes"
   ]
  },
  {
   "cell_type": "markdown",
   "id": "9a89e846-6d9d-48e1-be7d-947aedab5646",
   "metadata": {},
   "source": [
    "- Simple assignment in Python doesn't copy the list, it refers to original list"
   ]
  },
  {
   "cell_type": "code",
   "execution_count": 88,
   "id": "2da5aa2b-5b59-4e2c-ba2f-644f8f47e8c7",
   "metadata": {},
   "outputs": [
    {
     "data": {
      "text/plain": [
       "['Red', 'Green', 'Blue']"
      ]
     },
     "execution_count": 88,
     "metadata": {},
     "output_type": "execute_result"
    }
   ],
   "source": [
    "rgb = [\"Red\", \"Green\", \"Blue\"]\n",
    "rgb"
   ]
  },
  {
   "cell_type": "code",
   "execution_count": 89,
   "id": "34f9e1b0-4597-4cc5-8ec2-62b6643d4395",
   "metadata": {},
   "outputs": [],
   "source": [
    "rgba = rgb"
   ]
  },
  {
   "cell_type": "code",
   "execution_count": 90,
   "id": "e8f561f5-2b7b-49c3-ae56-6cce597661c7",
   "metadata": {},
   "outputs": [
    {
     "data": {
      "text/plain": [
       "True"
      ]
     },
     "execution_count": 90,
     "metadata": {},
     "output_type": "execute_result"
    }
   ],
   "source": [
    "id(rgb)==id(rgba)"
   ]
  },
  {
   "cell_type": "code",
   "execution_count": 91,
   "id": "d92a455e-79fc-4bf1-b67d-6e7ec30e746a",
   "metadata": {},
   "outputs": [],
   "source": [
    "rgba.append(\"Alph\")"
   ]
  },
  {
   "cell_type": "code",
   "execution_count": 92,
   "id": "b72d8a87-87c7-4621-b2d6-2d30d712ac09",
   "metadata": {},
   "outputs": [
    {
     "data": {
      "text/plain": [
       "['Red', 'Green', 'Blue', 'Alph']"
      ]
     },
     "execution_count": 92,
     "metadata": {},
     "output_type": "execute_result"
    }
   ],
   "source": [
    "rgba"
   ]
  },
  {
   "cell_type": "code",
   "execution_count": 93,
   "id": "6a3df998-0767-4cd7-8051-9d36a38d383d",
   "metadata": {},
   "outputs": [
    {
     "data": {
      "text/plain": [
       "['Red', 'Green', 'Blue', 'Alph']"
      ]
     },
     "execution_count": 93,
     "metadata": {},
     "output_type": "execute_result"
    }
   ],
   "source": [
    "rgb"
   ]
  },
  {
   "cell_type": "markdown",
   "id": "9157fb83-4b3a-4ae4-9ca3-957fa9fd19a2",
   "metadata": {},
   "source": [
    "- All slice operations return a new list containing the requested elements\n",
    "- This is different from numpy where **view** is returned"
   ]
  },
  {
   "cell_type": "code",
   "execution_count": 94,
   "id": "52b49b4b-70a4-46f3-9fc9-2fdc55e66345",
   "metadata": {},
   "outputs": [],
   "source": [
    "correct_rgba = rgba[:]"
   ]
  },
  {
   "cell_type": "code",
   "execution_count": 95,
   "id": "c116f21e-588b-4c55-b8e6-9c1f2557f680",
   "metadata": {},
   "outputs": [],
   "source": [
    "correct_rgba[-1] = \"Alpha\""
   ]
  },
  {
   "cell_type": "code",
   "execution_count": 96,
   "id": "b953ce5e-c804-4225-9b10-ece1e421ffa4",
   "metadata": {},
   "outputs": [
    {
     "data": {
      "text/plain": [
       "['Red', 'Green', 'Blue', 'Alpha']"
      ]
     },
     "execution_count": 96,
     "metadata": {},
     "output_type": "execute_result"
    }
   ],
   "source": [
    "correct_rgba"
   ]
  },
  {
   "cell_type": "code",
   "execution_count": 97,
   "id": "8c531e61-3c56-4d80-be4a-59132ca3bfe0",
   "metadata": {},
   "outputs": [
    {
     "data": {
      "text/plain": [
       "['Red', 'Green', 'Blue', 'Alph']"
      ]
     },
     "execution_count": 97,
     "metadata": {},
     "output_type": "execute_result"
    }
   ],
   "source": [
    "rgba"
   ]
  },
  {
   "cell_type": "markdown",
   "id": "d9b24461-06b7-428b-b6ee-b5ad2d3dfa3f",
   "metadata": {},
   "source": [
    "- Assignment to list slices is possible\n",
    "- This alters the list, can change its size too!"
   ]
  },
  {
   "cell_type": "code",
   "execution_count": 98,
   "id": "a0bbda6c-443e-4fe0-91c4-ae97ca45dc7f",
   "metadata": {},
   "outputs": [],
   "source": [
    "letters = ['a', 'b', 'c', 'd', 'e', 'f', 'g']"
   ]
  },
  {
   "cell_type": "code",
   "execution_count": 100,
   "id": "8d47c239-58f8-4248-a256-88febd8c5694",
   "metadata": {},
   "outputs": [],
   "source": [
    "letters[2:5] = [\"C\",\"D\",\"E\"]"
   ]
  },
  {
   "cell_type": "code",
   "execution_count": 101,
   "id": "a7810190-e921-4915-9cbf-7289786fab8b",
   "metadata": {},
   "outputs": [
    {
     "data": {
      "text/plain": [
       "['a', 'b', 'C', 'D', 'E', 'f', 'g']"
      ]
     },
     "execution_count": 101,
     "metadata": {},
     "output_type": "execute_result"
    }
   ],
   "source": [
    "letters"
   ]
  },
  {
   "cell_type": "code",
   "execution_count": 102,
   "id": "ecb26969-9c89-459b-b8ca-0f47e0f9d7d1",
   "metadata": {},
   "outputs": [],
   "source": [
    "letters[2:5] = []"
   ]
  },
  {
   "cell_type": "code",
   "execution_count": 103,
   "id": "09bbe4f1-1242-4b18-bc43-abbf62084482",
   "metadata": {},
   "outputs": [
    {
     "data": {
      "text/plain": [
       "['a', 'b', 'f', 'g']"
      ]
     },
     "execution_count": 103,
     "metadata": {},
     "output_type": "execute_result"
    }
   ],
   "source": [
    "letters"
   ]
  },
  {
   "cell_type": "code",
   "execution_count": 104,
   "id": "ced2dc56-6a77-4732-9d89-67c2e4e06e3a",
   "metadata": {},
   "outputs": [],
   "source": [
    "letters[:] = [] # this clears the entire list!"
   ]
  },
  {
   "cell_type": "code",
   "execution_count": 105,
   "id": "b52baf4f-5596-4793-beca-c4bf8d40cf93",
   "metadata": {},
   "outputs": [
    {
     "data": {
      "text/plain": [
       "[]"
      ]
     },
     "execution_count": 105,
     "metadata": {},
     "output_type": "execute_result"
    }
   ],
   "source": [
    "letters"
   ]
  },
  {
   "cell_type": "markdown",
   "id": "ecab5bdc-7275-448a-b8a2-7bab16688a71",
   "metadata": {},
   "source": [
    "- Can get the length of list"
   ]
  },
  {
   "cell_type": "code",
   "execution_count": 107,
   "id": "c20231fb-abc1-4918-9907-274f53909ef4",
   "metadata": {},
   "outputs": [
    {
     "data": {
      "text/plain": [
       "4"
      ]
     },
     "execution_count": 107,
     "metadata": {},
     "output_type": "execute_result"
    }
   ],
   "source": [
    "letters = ['a', 'b', 'c', 'd']\n",
    "len(letters)"
   ]
  },
  {
   "cell_type": "markdown",
   "id": "7d1b9b4d-3ac1-4f1c-b41e-15ff9ab1654f",
   "metadata": {},
   "source": [
    "- Create nested lists of mixed types!"
   ]
  },
  {
   "cell_type": "code",
   "execution_count": 110,
   "id": "313ed001-72b8-4b06-8c1c-bbac82d9e0f9",
   "metadata": {},
   "outputs": [],
   "source": [
    "a = ['a','b','c',4.5]\n",
    "n = [1,2,3,'d']\n",
    "x = [a,n]"
   ]
  },
  {
   "cell_type": "code",
   "execution_count": 111,
   "id": "7a2db692-9640-4a10-a252-aa195790bdc7",
   "metadata": {},
   "outputs": [
    {
     "data": {
      "text/plain": [
       "[['a', 'b', 'c', 4.5], [1, 2, 3, 'd']]"
      ]
     },
     "execution_count": 111,
     "metadata": {},
     "output_type": "execute_result"
    }
   ],
   "source": [
    "x"
   ]
  },
  {
   "cell_type": "code",
   "execution_count": 112,
   "id": "1d517fae-772d-4077-a5da-c99ad92ba87e",
   "metadata": {},
   "outputs": [
    {
     "data": {
      "text/plain": [
       "4.5"
      ]
     },
     "execution_count": 112,
     "metadata": {},
     "output_type": "execute_result"
    }
   ],
   "source": [
    "x[0][-1]"
   ]
  },
  {
   "cell_type": "code",
   "execution_count": 113,
   "id": "c8be8538-b82c-4b4d-a8d1-44d7f0ffa7f5",
   "metadata": {},
   "outputs": [
    {
     "data": {
      "text/plain": [
       "1"
      ]
     },
     "execution_count": 113,
     "metadata": {},
     "output_type": "execute_result"
    }
   ],
   "source": [
    "x[1][0]"
   ]
  },
  {
   "cell_type": "markdown",
   "id": "934c1131-3ef2-46b7-8411-0792801c79e9",
   "metadata": {},
   "source": [
    "- Multiple number assignment"
   ]
  },
  {
   "cell_type": "code",
   "execution_count": 114,
   "id": "3ef4ae38-2e40-4c3a-b11e-24641ebf46d9",
   "metadata": {},
   "outputs": [],
   "source": [
    "a,b = 0,1"
   ]
  },
  {
   "cell_type": "code",
   "execution_count": 115,
   "id": "62945b46-e883-401e-98e6-9f4c785054c2",
   "metadata": {},
   "outputs": [
    {
     "data": {
      "text/plain": [
       "0"
      ]
     },
     "execution_count": 115,
     "metadata": {},
     "output_type": "execute_result"
    }
   ],
   "source": [
    "a"
   ]
  },
  {
   "cell_type": "code",
   "execution_count": 116,
   "id": "f95c0133-8091-4183-85f7-192ab6c85a88",
   "metadata": {},
   "outputs": [
    {
     "data": {
      "text/plain": [
       "1"
      ]
     },
     "execution_count": 116,
     "metadata": {},
     "output_type": "execute_result"
    }
   ],
   "source": [
    "b"
   ]
  },
  {
   "cell_type": "markdown",
   "id": "86ef8663-f677-4257-8968-8fcefd8739ab",
   "metadata": {},
   "source": [
    "- Swap numbers easily"
   ]
  },
  {
   "cell_type": "code",
   "execution_count": 117,
   "id": "e0c8a78c-5476-442e-90b9-942997902caf",
   "metadata": {},
   "outputs": [],
   "source": [
    "a = -1\n",
    "b = 1"
   ]
  },
  {
   "cell_type": "code",
   "execution_count": 118,
   "id": "aaa08043-ad67-41eb-b9fd-a52e74c74a38",
   "metadata": {},
   "outputs": [],
   "source": [
    "a,b = b,a"
   ]
  },
  {
   "cell_type": "code",
   "execution_count": 119,
   "id": "67a8c8c1-a9f2-46a4-a7f6-c48a1052f403",
   "metadata": {},
   "outputs": [
    {
     "data": {
      "text/plain": [
       "1"
      ]
     },
     "execution_count": 119,
     "metadata": {},
     "output_type": "execute_result"
    }
   ],
   "source": [
    "a"
   ]
  },
  {
   "cell_type": "code",
   "execution_count": 120,
   "id": "a47d2722-5de3-42e8-8cdd-2aca0b1689af",
   "metadata": {},
   "outputs": [
    {
     "data": {
      "text/plain": [
       "-1"
      ]
     },
     "execution_count": 120,
     "metadata": {},
     "output_type": "execute_result"
    }
   ],
   "source": [
    "b"
   ]
  },
  {
   "cell_type": "markdown",
   "id": "57193a69-b23b-45bc-a372-ff74d33009ef",
   "metadata": {},
   "source": [
    "- Print function can be used to print mutliple arguments of any type\n",
    "- It adds space automatically\n",
    "- We can specify the end character using end=\"\\n\""
   ]
  },
  {
   "cell_type": "code",
   "execution_count": 121,
   "id": "74d10d0b-02a4-4266-b519-2240879107ab",
   "metadata": {},
   "outputs": [
    {
     "name": "stdout",
     "output_type": "stream",
     "text": [
      "hello\n"
     ]
    }
   ],
   "source": [
    "print(\"hello\")"
   ]
  },
  {
   "cell_type": "code",
   "execution_count": 122,
   "id": "9abe5019-5f8e-447d-9208-e1f9ea69690c",
   "metadata": {},
   "outputs": [
    {
     "name": "stdout",
     "output_type": "stream",
     "text": [
      "hello world 10\n"
     ]
    }
   ],
   "source": [
    "print(\"hello\",\"world\",10)"
   ]
  },
  {
   "cell_type": "code",
   "execution_count": 123,
   "id": "318a4e1d-8bc3-4bbf-93eb-7bafa09563ea",
   "metadata": {},
   "outputs": [
    {
     "name": "stdout",
     "output_type": "stream",
     "text": [
      "what is 12?"
     ]
    }
   ],
   "source": [
    "print(\"what is\",12,end=\"?\")"
   ]
  },
  {
   "cell_type": "markdown",
   "id": "0c616e62-e999-4cd3-a402-ee4b8bd343ba",
   "metadata": {},
   "source": [
    "- while condition in python\n",
    "- any non-zero value in while = true"
   ]
  },
  {
   "cell_type": "code",
   "execution_count": 124,
   "id": "d75de514-2705-4330-83f3-b60388d08a7b",
   "metadata": {},
   "outputs": [
    {
     "name": "stdout",
     "output_type": "stream",
     "text": [
      "1\n",
      "3\n"
     ]
    }
   ],
   "source": [
    "a = 1\n",
    "while a<5:\n",
    "    print(a)\n",
    "    a += 2"
   ]
  },
  {
   "cell_type": "markdown",
   "id": "1a8f4c4b-a15e-46c1-bef7-5761facc65a7",
   "metadata": {},
   "source": [
    "- any sequence with non zero length = true\n",
    "- empty string = false\n",
    "- empty list = false"
   ]
  },
  {
   "cell_type": "code",
   "execution_count": 127,
   "id": "30476ef5-6394-4326-9ba1-1b94fe4b298e",
   "metadata": {},
   "outputs": [
    {
     "data": {
      "text/plain": [
       "False"
      ]
     },
     "execution_count": 127,
     "metadata": {},
     "output_type": "execute_result"
    }
   ],
   "source": [
    "bool([])"
   ]
  },
  {
   "cell_type": "code",
   "execution_count": 128,
   "id": "17a5bbf6-c06c-4d6a-8655-b00816584d49",
   "metadata": {},
   "outputs": [
    {
     "data": {
      "text/plain": [
       "True"
      ]
     },
     "execution_count": 128,
     "metadata": {},
     "output_type": "execute_result"
    }
   ],
   "source": [
    "bool([1,2,3])"
   ]
  },
  {
   "cell_type": "code",
   "execution_count": 129,
   "id": "ccd636c2-ca4f-4fa1-b71a-076bb1673227",
   "metadata": {},
   "outputs": [
    {
     "data": {
      "text/plain": [
       "False"
      ]
     },
     "execution_count": 129,
     "metadata": {},
     "output_type": "execute_result"
    }
   ],
   "source": [
    "bool(\"\")"
   ]
  },
  {
   "cell_type": "code",
   "execution_count": 131,
   "id": "c993c83f-4ad7-42c0-9f72-f1f19bdd8f2c",
   "metadata": {},
   "outputs": [
    {
     "data": {
      "text/plain": [
       "True"
      ]
     },
     "execution_count": 131,
     "metadata": {},
     "output_type": "execute_result"
    }
   ],
   "source": [
    "bool(\"name\")"
   ]
  },
  {
   "cell_type": "code",
   "execution_count": 132,
   "id": "780695bb-5c01-4a31-acfa-6e2f6ae638ab",
   "metadata": {},
   "outputs": [],
   "source": [
    "while \"\":\n",
    "    print(\"never prints\")"
   ]
  },
  {
   "cell_type": "code",
   "execution_count": 135,
   "id": "046df9bc-281a-4621-91a8-1c3d593f0871",
   "metadata": {},
   "outputs": [
    {
     "name": "stdout",
     "output_type": "stream",
     "text": [
      "[1, 2, 3]\n",
      "[1, 2]\n",
      "[1]\n"
     ]
    }
   ],
   "source": [
    "a = [1,2,3]\n",
    "while a:\n",
    "    print(a)\n",
    "    a.remove(a[-1])"
   ]
  },
  {
   "cell_type": "markdown",
   "id": "464acaeb-bf00-45a0-94fb-c4e5dd167ab5",
   "metadata": {},
   "source": [
    "- if/else statements\n",
    "- else if is same as elif"
   ]
  },
  {
   "cell_type": "code",
   "execution_count": 139,
   "id": "c810be75-3093-42dc-90f1-eca044ad5004",
   "metadata": {},
   "outputs": [
    {
     "name": "stdout",
     "output_type": "stream",
     "text": [
      "positive number\n"
     ]
    }
   ],
   "source": [
    "x = 10\n",
    "if x < 0:\n",
    "    print(\"negative number\")\n",
    "elif x > 0:\n",
    "    print(\"positive number\")\n",
    "else:\n",
    "    print(\"zero number\")"
   ]
  },
  {
   "cell_type": "markdown",
   "id": "0ff02026-dd11-456f-abc3-d1cc6d570acc",
   "metadata": {},
   "source": [
    "- For statement"
   ]
  },
  {
   "cell_type": "code",
   "execution_count": 140,
   "id": "7b3c1ad9-c221-41df-8812-c51d19e6263a",
   "metadata": {},
   "outputs": [
    {
     "name": "stdout",
     "output_type": "stream",
     "text": [
      "cat 3\n",
      "window 6\n",
      "defenestrate 12\n"
     ]
    }
   ],
   "source": [
    "words = ['cat', 'window', 'defenestrate']\n",
    "for w in words:\n",
    "    print(w, len(w))"
   ]
  },
  {
   "cell_type": "markdown",
   "id": "3805115a-e397-4bf0-b46d-c422500ede0a",
   "metadata": {},
   "source": [
    "- Use range to get list of continuous numbers"
   ]
  },
  {
   "cell_type": "code",
   "execution_count": 141,
   "id": "66a01aa2-f452-4735-accb-f4d653b4e854",
   "metadata": {},
   "outputs": [
    {
     "data": {
      "text/plain": [
       "range(0, 4)"
      ]
     },
     "execution_count": 141,
     "metadata": {},
     "output_type": "execute_result"
    }
   ],
   "source": [
    "range(0,4)"
   ]
  },
  {
   "cell_type": "code",
   "execution_count": 142,
   "id": "5fe82e52-bd97-49a0-ae9f-ddddd0c876b7",
   "metadata": {},
   "outputs": [
    {
     "data": {
      "text/plain": [
       "[0, 1, 2, 3]"
      ]
     },
     "execution_count": 142,
     "metadata": {},
     "output_type": "execute_result"
    }
   ],
   "source": [
    "list(range(0,4))"
   ]
  },
  {
   "cell_type": "code",
   "execution_count": 143,
   "id": "6eed78f2-ebad-4cb6-85b4-2a71cefe0250",
   "metadata": {},
   "outputs": [
    {
     "name": "stdout",
     "output_type": "stream",
     "text": [
      "0\n",
      "1\n",
      "2\n",
      "3\n"
     ]
    }
   ],
   "source": [
    "for i in range(0,4):\n",
    "    print(i)"
   ]
  },
  {
   "cell_type": "code",
   "execution_count": 146,
   "id": "acad1ee5-ac2f-4804-94f2-66e96458c47a",
   "metadata": {},
   "outputs": [
    {
     "data": {
      "text/plain": [
       "[5, 6, 7, 8, 9]"
      ]
     },
     "execution_count": 146,
     "metadata": {},
     "output_type": "execute_result"
    }
   ],
   "source": [
    "list(range(5,10)) # specify start number"
   ]
  },
  {
   "cell_type": "code",
   "execution_count": 150,
   "id": "f309d19b-cf92-439d-ad98-dfb2cdb1a927",
   "metadata": {},
   "outputs": [
    {
     "data": {
      "text/plain": [
       "[5, 7, 9]"
      ]
     },
     "execution_count": 150,
     "metadata": {},
     "output_type": "execute_result"
    }
   ],
   "source": [
    "list(range(5,10,2)) # specify step size"
   ]
  },
  {
   "cell_type": "markdown",
   "id": "17efda90-6829-47b9-908a-a17368cb5392",
   "metadata": {},
   "source": [
    "- Range is an iterable\n",
    "- Iterable returns successive items until supply is exhaused\n",
    "- Range doesn't actually make the list, thus saving space"
   ]
  },
  {
   "cell_type": "code",
   "execution_count": 153,
   "id": "0f128776-bd4e-423f-baf0-998b49be8984",
   "metadata": {},
   "outputs": [
    {
     "data": {
      "text/plain": [
       "range(0, 1000)"
      ]
     },
     "execution_count": 153,
     "metadata": {},
     "output_type": "execute_result"
    }
   ],
   "source": [
    "range(0,1000) # not a list, saves memory"
   ]
  },
  {
   "cell_type": "markdown",
   "id": "4e532a9a-cf15-4c94-8352-b90643b12578",
   "metadata": {},
   "source": [
    "- Iterables can be used in for loops\n",
    "- Iterables can be used in sum()"
   ]
  },
  {
   "cell_type": "code",
   "execution_count": 155,
   "id": "4a135fde-cffd-47bc-b2b4-a361da39136c",
   "metadata": {},
   "outputs": [
    {
     "data": {
      "text/plain": [
       "499500"
      ]
     },
     "execution_count": 155,
     "metadata": {},
     "output_type": "execute_result"
    }
   ],
   "source": [
    "sum(range(0,1000))"
   ]
  },
  {
   "cell_type": "markdown",
   "id": "d8596e00-616e-42a0-b0b7-e26f1a6eaf1e",
   "metadata": {},
   "source": [
    "- break statement breaks out of innermost enclosing for or while loop\n",
    "- a for or while loop can include an else clause\n",
    "- the else clause is executed after the for loop ends or after the while loop condition becomes false\n",
    "- in both cases, the else is not executed if the loop was terminated by break\n",
    "- the else clause belongs to the for/while loop and not the **if** statement"
   ]
  },
  {
   "cell_type": "code",
   "execution_count": 181,
   "id": "9b06fa12-df8c-4b5b-a464-a47090cb9591",
   "metadata": {},
   "outputs": [
    {
     "name": "stdout",
     "output_type": "stream",
     "text": [
      "2 is a prime number\n",
      "3 is a prime number\n",
      "4 equals 2 * 2\n",
      "5 is a prime number\n",
      "6 equals 2 * 3\n",
      "7 is a prime number\n",
      "8 equals 2 * 4\n",
      "9 equals 3 * 3\n"
     ]
    }
   ],
   "source": [
    "for n in range(2, 10):\n",
    "    for x in range(2, n):\n",
    "        if n % x == 0:\n",
    "            print(n, 'equals', x, '*', n//x)\n",
    "            break\n",
    "    else:\n",
    "        # loop fell through without finding a factor\n",
    "        print(n, 'is a prime number')"
   ]
  },
  {
   "cell_type": "markdown",
   "id": "8fdf8721-324e-4963-8147-c036dc6adbad",
   "metadata": {},
   "source": [
    "- Continue is used to skip the rest of loop and continue to next iteration"
   ]
  },
  {
   "cell_type": "code",
   "execution_count": 186,
   "id": "cab5de9d-1351-445a-869b-aa8c75839132",
   "metadata": {},
   "outputs": [
    {
     "name": "stdout",
     "output_type": "stream",
     "text": [
      "Found an even number 2\n",
      "Found an odd number 3\n",
      "Found an even number 4\n",
      "Found an odd number 5\n"
     ]
    }
   ],
   "source": [
    "for num in range(2, 6):\n",
    "    if num % 2 == 0:\n",
    "        print(\"Found an even number\", num)\n",
    "        continue\n",
    "    print(\"Found an odd number\", num)"
   ]
  },
  {
   "cell_type": "markdown",
   "id": "ba2a7801-871c-4d71-86e9-c8e795e6f1af",
   "metadata": {},
   "source": [
    "- pass statement does nothing"
   ]
  },
  {
   "cell_type": "code",
   "execution_count": 189,
   "id": "a5c32634-1920-40c0-ac6f-6370c99c462c",
   "metadata": {},
   "outputs": [],
   "source": [
    "class MyEmptyClass:\n",
    "    pass"
   ]
  },
  {
   "cell_type": "code",
   "execution_count": 190,
   "id": "6c1e8bb7-482f-47c4-9ce6-9313dacd9775",
   "metadata": {},
   "outputs": [],
   "source": [
    "def do_nothing():\n",
    "    pass"
   ]
  },
  {
   "cell_type": "markdown",
   "id": "efa914ab-4391-4c5b-86ca-06ee79002ed6",
   "metadata": {},
   "source": [
    "- Match compares its value to successive patterns given as one or more case blocks\n",
    "- Only the first pattern that matches gets executed\n",
    "- _ acts as a wildcard and never fails to match\n",
    "- If no case is matched, none of the branches get executed\n",
    "- 401 | 402 => means 401 \"or\" 402 "
   ]
  },
  {
   "cell_type": "code",
   "execution_count": 196,
   "id": "0dec2c29-85ad-41e9-b03c-7980a5417b4c",
   "metadata": {},
   "outputs": [],
   "source": [
    "def http_error(status):\n",
    "    match status:\n",
    "        case 400:\n",
    "            return \"Bad Request\"\n",
    "        case 401 | 403 | 404:\n",
    "            return \"Not Found\"\n",
    "        case _:\n",
    "            return \"Something's wrong with Internet\""
   ]
  },
  {
   "cell_type": "code",
   "execution_count": 199,
   "id": "f4da9a0f-ed64-47ee-b402-67fddb76b292",
   "metadata": {},
   "outputs": [
    {
     "data": {
      "text/plain": [
       "'Bad Request'"
      ]
     },
     "execution_count": 199,
     "metadata": {},
     "output_type": "execute_result"
    }
   ],
   "source": [
    "http_error(400)"
   ]
  },
  {
   "cell_type": "code",
   "execution_count": 197,
   "id": "ee99bc94-6b34-4ca1-85ca-70b2b652ba0a",
   "metadata": {},
   "outputs": [
    {
     "data": {
      "text/plain": [
       "'Not Found'"
      ]
     },
     "execution_count": 197,
     "metadata": {},
     "output_type": "execute_result"
    }
   ],
   "source": [
    "http_error(401)"
   ]
  },
  {
   "cell_type": "code",
   "execution_count": 200,
   "id": "da15cc11-9b78-45d0-b544-41194e0dedaf",
   "metadata": {},
   "outputs": [
    {
     "data": {
      "text/plain": [
       "\"Something's wrong with Internet\""
      ]
     },
     "execution_count": 200,
     "metadata": {},
     "output_type": "execute_result"
    }
   ],
   "source": [
    "http_error(405)"
   ]
  },
  {
   "cell_type": "markdown",
   "id": "27778ee5-480c-4b70-a2d0-fa00e666a1a9",
   "metadata": {},
   "source": [
    "- Patterns can look like unpacking assignments and can be used to bind variables\n",
    "- Case can also extract components from the value into variables"
   ]
  },
  {
   "cell_type": "code",
   "execution_count": 205,
   "id": "f813d4fb-a100-4c9c-bf6a-8952c22f7ec4",
   "metadata": {},
   "outputs": [],
   "source": [
    "def match_example(point):\n",
    "    match point:\n",
    "        case (0, 0):\n",
    "            print(\"Origin\")\n",
    "        case (0, y):\n",
    "            print(f\"Y={y}\")\n",
    "        case (x, 0):\n",
    "            print(f\"X={x}\")\n",
    "        case (x, y):\n",
    "            print(f\"X={x}, Y={y}\")\n",
    "        case _:\n",
    "            raise ValueError(\"Not a point\")"
   ]
  },
  {
   "cell_type": "code",
   "execution_count": 207,
   "id": "d83a97f6-500a-4c83-a99e-02b8e9819226",
   "metadata": {},
   "outputs": [
    {
     "name": "stdout",
     "output_type": "stream",
     "text": [
      "Origin\n"
     ]
    }
   ],
   "source": [
    "match_example((0,0))"
   ]
  },
  {
   "cell_type": "code",
   "execution_count": 208,
   "id": "10140cb8-d795-4ee6-8662-38fb36a22269",
   "metadata": {},
   "outputs": [
    {
     "name": "stdout",
     "output_type": "stream",
     "text": [
      "Y=1\n"
     ]
    }
   ],
   "source": [
    "match_example((0,1))"
   ]
  },
  {
   "cell_type": "code",
   "execution_count": 209,
   "id": "16e75979-c9de-4afb-bc42-a47da8d13b48",
   "metadata": {},
   "outputs": [
    {
     "name": "stdout",
     "output_type": "stream",
     "text": [
      "X=3\n"
     ]
    }
   ],
   "source": [
    "match_example((3,0))"
   ]
  },
  {
   "cell_type": "code",
   "execution_count": 210,
   "id": "ea71a67b-c6fc-46ab-96f7-a59e759b0ebb",
   "metadata": {},
   "outputs": [
    {
     "name": "stdout",
     "output_type": "stream",
     "text": [
      "X=3, Y=4\n"
     ]
    }
   ],
   "source": [
    "match_example((3,4))"
   ]
  },
  {
   "cell_type": "markdown",
   "id": "ef767557-0ba2-4049-ade3-19150f962b8f",
   "metadata": {},
   "source": [
    "- In Python, list and tuple comparisons are done recursively, which means all nested elements are compared elem by elem\n",
    "- Even though memory address are different, true is returned if all elements are same"
   ]
  },
  {
   "cell_type": "code",
   "execution_count": 222,
   "id": "cfa8078f-6ea1-4d3c-b02e-ea424e4fdfd5",
   "metadata": {},
   "outputs": [],
   "source": [
    "a1 = [1,2,3]\n",
    "a2 = [1,2,3]"
   ]
  },
  {
   "cell_type": "code",
   "execution_count": 226,
   "id": "58884b20-ca61-4c3f-9219-4c4aeb159daa",
   "metadata": {},
   "outputs": [
    {
     "data": {
      "text/plain": [
       "False"
      ]
     },
     "execution_count": 226,
     "metadata": {},
     "output_type": "execute_result"
    }
   ],
   "source": [
    "id(a1)==id(a2)"
   ]
  },
  {
   "cell_type": "code",
   "execution_count": 227,
   "id": "8974e368-7ce0-41c9-b7fd-6b6627b9c90a",
   "metadata": {},
   "outputs": [
    {
     "data": {
      "text/plain": [
       "True"
      ]
     },
     "execution_count": 227,
     "metadata": {},
     "output_type": "execute_result"
    }
   ],
   "source": [
    "a1==a2"
   ]
  },
  {
   "cell_type": "code",
   "execution_count": 272,
   "id": "7c987445-90a1-4761-bc12-f6f49efbd7ee",
   "metadata": {},
   "outputs": [],
   "source": [
    "a1 = [[1,2],[3,4]]"
   ]
  },
  {
   "cell_type": "code",
   "execution_count": 273,
   "id": "f857705b-7158-4541-ac2c-97a5fb6b8c7b",
   "metadata": {},
   "outputs": [],
   "source": [
    "a2 = [[1,2],[3,4]]"
   ]
  },
  {
   "cell_type": "code",
   "execution_count": 274,
   "id": "cfade9b3-9bb3-4ee8-9b1d-b60c0938de88",
   "metadata": {},
   "outputs": [
    {
     "data": {
      "text/plain": [
       "False"
      ]
     },
     "execution_count": 274,
     "metadata": {},
     "output_type": "execute_result"
    }
   ],
   "source": [
    "id(a1)==id(a2)"
   ]
  },
  {
   "cell_type": "code",
   "execution_count": 275,
   "id": "12dc8027-a248-4ba8-bcfa-8baedbfaf7d5",
   "metadata": {},
   "outputs": [
    {
     "data": {
      "text/plain": [
       "True"
      ]
     },
     "execution_count": 275,
     "metadata": {},
     "output_type": "execute_result"
    }
   ],
   "source": [
    "a1 == a2"
   ]
  },
  {
   "cell_type": "markdown",
   "id": "d49e6761-d678-4f95-8228-45551529f667",
   "metadata": {},
   "source": [
    "- Equality check for tuples is also recursive"
   ]
  },
  {
   "cell_type": "code",
   "execution_count": 286,
   "id": "ffa06d70-bfe1-4760-96af-c02ea821a38b",
   "metadata": {},
   "outputs": [],
   "source": [
    "a1 = (1,2,3,(4,5))\n",
    "a2 = (1,2,3,(4,5))"
   ]
  },
  {
   "cell_type": "code",
   "execution_count": 287,
   "id": "608038d8-8d27-487e-9956-a42d33c94373",
   "metadata": {},
   "outputs": [
    {
     "data": {
      "text/plain": [
       "False"
      ]
     },
     "execution_count": 287,
     "metadata": {},
     "output_type": "execute_result"
    }
   ],
   "source": [
    "id(a1) == id(a2)"
   ]
  },
  {
   "cell_type": "code",
   "execution_count": 288,
   "id": "8cc259f9-bcf9-48cc-96fa-c40fbcee79ad",
   "metadata": {},
   "outputs": [
    {
     "data": {
      "text/plain": [
       "True"
      ]
     },
     "execution_count": 288,
     "metadata": {},
     "output_type": "execute_result"
    }
   ],
   "source": [
    "a1 == a2"
   ]
  },
  {
   "cell_type": "markdown",
   "id": "963aea65-d4c3-4229-8987-0b21161abcb3",
   "metadata": {},
   "source": [
    "- Two identical strings can have same memory location.\n",
    "- This is called string interning\n",
    "- This is done to avoid creating multiple copies of same string in memory"
   ]
  },
  {
   "cell_type": "code",
   "execution_count": 284,
   "id": "df2e9407-24b5-41c0-8180-b62e6fed8a99",
   "metadata": {},
   "outputs": [],
   "source": [
    "name1 = \"hello\"\n",
    "name2 = \"hello\""
   ]
  },
  {
   "cell_type": "code",
   "execution_count": 285,
   "id": "9e0da3a4-14ab-40dd-9f33-00e26b367389",
   "metadata": {},
   "outputs": [
    {
     "data": {
      "text/plain": [
       "True"
      ]
     },
     "execution_count": 285,
     "metadata": {},
     "output_type": "execute_result"
    }
   ],
   "source": [
    "id(name1) == id(name2)"
   ]
  },
  {
   "cell_type": "markdown",
   "id": "4335cda0-e8aa-4ace-bddf-d13de00476ba",
   "metadata": {},
   "source": [
    "- Python functions execution introduces a new symbol table for the local variables of the fn\n",
    "- variable references in fn look in the following order:\n",
    "    - local symbol table of fn\n",
    "    - local symbol tables of enclosing functions\n",
    "    - global symbol table\n",
    "    - table of built-in names"
   ]
  },
  {
   "cell_type": "code",
   "execution_count": 328,
   "id": "fe7306ac-6797-4ff2-a0cf-853f2531023d",
   "metadata": {},
   "outputs": [
    {
     "data": {
      "text/plain": [
       "5"
      ]
     },
     "execution_count": 328,
     "metadata": {},
     "output_type": "execute_result"
    }
   ],
   "source": [
    "# global variables reference\n",
    "x = 5\n",
    "def reference_global_variable():\n",
    "    return x\n",
    "reference_global_variable()"
   ]
  },
  {
   "cell_type": "code",
   "execution_count": 331,
   "id": "46a83dad-a205-4c8e-ad3e-9be3a55f4a16",
   "metadata": {},
   "outputs": [
    {
     "data": {
      "text/plain": [
       "False"
      ]
     },
     "execution_count": 331,
     "metadata": {},
     "output_type": "execute_result"
    }
   ],
   "source": [
    "# reference local variable of same name\n",
    "x = 5\n",
    "def reference_local_variable():\n",
    "    x = 10\n",
    "    return id(x)\n",
    "reference_local_variable() == id(x)"
   ]
  },
  {
   "cell_type": "markdown",
   "id": "9d5f6941-c3d3-4905-8fd6-54e358976fe8",
   "metadata": {},
   "source": [
    "- Thus, global variables and variables of enclosing functions cannot be directly assigned a value within a fn.\n",
    "- To assign a value to global variable, use global statement.\n",
    "- To assign a value to local variable, use nonlocal statement.\n",
    "- nonlocal statement gives access to nearest enclosing functions' variable name"
   ]
  },
  {
   "cell_type": "code",
   "execution_count": 332,
   "id": "7e35fc5c-cf2e-48bd-8fa0-509bc3a00e0a",
   "metadata": {},
   "outputs": [
    {
     "name": "stdout",
     "output_type": "stream",
     "text": [
      "5\n"
     ]
    }
   ],
   "source": [
    "x = 5\n",
    "def update_global_variable():\n",
    "    x = 10\n",
    "update_global_variable()\n",
    "# not updated, as local variable of same name was created\n",
    "print(x)"
   ]
  },
  {
   "cell_type": "code",
   "execution_count": 333,
   "id": "6d7ee201-31c8-45eb-993c-7ccec7a40948",
   "metadata": {},
   "outputs": [
    {
     "name": "stdout",
     "output_type": "stream",
     "text": [
      "10\n"
     ]
    }
   ],
   "source": [
    "x = 5\n",
    "def update_global_variable():\n",
    "    global x\n",
    "    x = 10\n",
    "update_global_variable()\n",
    "# updated, as global variable was updated using global keyword\n",
    "print(x)"
   ]
  },
  {
   "cell_type": "code",
   "execution_count": 335,
   "id": "f8abe31e-0a21-49ca-8c5e-3c06dd9c4664",
   "metadata": {},
   "outputs": [
    {
     "name": "stdout",
     "output_type": "stream",
     "text": [
      "Inner x: 20\n",
      "Outer x: 20\n"
     ]
    }
   ],
   "source": [
    "def outer():\n",
    "    x = 10\n",
    "    def inner():\n",
    "        # access variable in outer fn\n",
    "        nonlocal x\n",
    "        x = 20\n",
    "        print(\"Inner x:\", x)\n",
    "    inner()\n",
    "    # outer fn's variable was also updated!\n",
    "    print(\"Outer x:\", x)\n",
    "outer()"
   ]
  },
  {
   "cell_type": "markdown",
   "id": "a2e500a8-6c19-4c37-98e6-febf1a09f915",
   "metadata": {},
   "source": [
    "- The arguments to a fun are introduced in the local symbol table of the called fn\n",
    "- For Python's immutable data types such as integer, string, tuples etc, its not possible to modify it, outside or inside the fn. Thus they behave as if they are call by value.\n",
    "- Python's mutable data types such lists, dictionary, sets behave as if they are passed call by reference. ie. modifications inside fn are reflected outside"
   ]
  },
  {
   "cell_type": "code",
   "execution_count": 365,
   "id": "889ea994-9f37-4594-b761-7eec3d125670",
   "metadata": {},
   "outputs": [
    {
     "name": "stdout",
     "output_type": "stream",
     "text": [
      "abc\n"
     ]
    }
   ],
   "source": [
    "# call by value, ie. immutable object passed\n",
    "name = \"abc\"\n",
    "def modify(name):\n",
    "    # local variable \"name\" shadows global variable \"name\"\n",
    "    name = \"def\"\n",
    "modify(name)\n",
    "print(name)"
   ]
  },
  {
   "cell_type": "code",
   "execution_count": 366,
   "id": "87ba0818-0fcb-4780-8b65-b0ef5a56344c",
   "metadata": {},
   "outputs": [
    {
     "name": "stdout",
     "output_type": "stream",
     "text": [
      "(1, 2, 3)\n"
     ]
    }
   ],
   "source": [
    "# call by value, ie. immutable object passed\n",
    "name = (1,2,3)\n",
    "def modify(name):\n",
    "    name = (4,5,6)\n",
    "modify(name)\n",
    "print(name)"
   ]
  },
  {
   "cell_type": "code",
   "execution_count": 367,
   "id": "3da69f1c-59f1-41d0-8906-de869cc006e3",
   "metadata": {},
   "outputs": [
    {
     "name": "stdout",
     "output_type": "stream",
     "text": [
      "140678481800192\n",
      "140678483226688\n",
      "[1, 2, 3]\n"
     ]
    }
   ],
   "source": [
    "# call by reference, ie. mutable object passed\n",
    "name = [1,2,3]\n",
    "print(id(name))\n",
    "def modify(name):\n",
    "    # local variable \"name\" shadows global variable \"name\"\n",
    "    name = [4,5,6]\n",
    "    print(id(name))\n",
    "modify(name)\n",
    "print(name)"
   ]
  },
  {
   "cell_type": "code",
   "execution_count": 369,
   "id": "5591ad57-2180-475b-896e-55b756b02fbb",
   "metadata": {},
   "outputs": [
    {
     "name": "stdout",
     "output_type": "stream",
     "text": [
      "140678481800192\n",
      "140678481800192\n",
      "[1, 2, 3, 4]\n"
     ]
    }
   ],
   "source": [
    "# call by reference, ie. mutable object passed\n",
    "name = [1,2,3]\n",
    "print(id(name))\n",
    "def modify(name):\n",
    "    # here, name is referencing to global mutable variable\n",
    "    print(id(name))\n",
    "    name.append(4)\n",
    "modify(name)\n",
    "print(name)"
   ]
  },
  {
   "cell_type": "markdown",
   "id": "11eaf1bd-d95a-4f79-8903-a5ed450d89c8",
   "metadata": {},
   "source": [
    "- Method vs Function\n",
    "- Method is a fn that belongs to an object. for example: append method belongs to a list\n",
    "- A function can be defined with default setting of arguments and can be called in several ways"
   ]
  },
  {
   "cell_type": "code",
   "execution_count": 371,
   "id": "0a410605-52f8-4e73-94c1-28be789d7279",
   "metadata": {},
   "outputs": [],
   "source": [
    "def fn_name(arg1,keyword_arg1=\"1\",keyword_arg2=\"2\"):\n",
    "    print(\"arg1\",arg1)\n",
    "    print(\"keyword_arg1\",keyword_arg1)\n",
    "    print(\"keyword_arg2\",keyword_arg2)"
   ]
  },
  {
   "cell_type": "code",
   "execution_count": 372,
   "id": "26f2fb4a-ee84-42c2-a004-46d5181acb6b",
   "metadata": {},
   "outputs": [
    {
     "name": "stdout",
     "output_type": "stream",
     "text": [
      "arg1 hello\n",
      "keyword_arg1 1\n",
      "keyword_arg2 2\n"
     ]
    }
   ],
   "source": [
    "fn_name(\"hello\")"
   ]
  },
  {
   "cell_type": "code",
   "execution_count": 374,
   "id": "8498b09a-a080-4870-8c50-2ad09181e975",
   "metadata": {},
   "outputs": [
    {
     "name": "stdout",
     "output_type": "stream",
     "text": [
      "arg1 hello\n",
      "keyword_arg1 3\n",
      "keyword_arg2 4\n"
     ]
    }
   ],
   "source": [
    "fn_name(\"hello\",3,4)"
   ]
  },
  {
   "cell_type": "code",
   "execution_count": 375,
   "id": "b6952547-a618-4fc0-989a-b7292ad00517",
   "metadata": {},
   "outputs": [
    {
     "name": "stdout",
     "output_type": "stream",
     "text": [
      "arg1 hello\n",
      "keyword_arg1 3\n",
      "keyword_arg2 2\n"
     ]
    }
   ],
   "source": [
    "fn_name(\"hello\",3)"
   ]
  },
  {
   "cell_type": "code",
   "execution_count": 376,
   "id": "fbbd1d7f-332c-4d46-a5b5-b3df9da93eb5",
   "metadata": {},
   "outputs": [
    {
     "name": "stdout",
     "output_type": "stream",
     "text": [
      "arg1 hello\n",
      "keyword_arg1 3\n",
      "keyword_arg2 2\n"
     ]
    }
   ],
   "source": [
    "fn_name(\"hello\",keyword_arg1=3)"
   ]
  },
  {
   "cell_type": "code",
   "execution_count": 377,
   "id": "deaad867-2fb3-40e1-ad3a-b724161a5b3b",
   "metadata": {},
   "outputs": [
    {
     "name": "stdout",
     "output_type": "stream",
     "text": [
      "arg1 hello\n",
      "keyword_arg1 3\n",
      "keyword_arg2 5\n"
     ]
    }
   ],
   "source": [
    "fn_name(\"hello\",keyword_arg1=3,keyword_arg2=5)"
   ]
  },
  {
   "cell_type": "code",
   "execution_count": 378,
   "id": "0a468fef-36e9-455e-b9a5-d53ad23e5c3f",
   "metadata": {},
   "outputs": [
    {
     "name": "stdout",
     "output_type": "stream",
     "text": [
      "arg1 hello\n",
      "keyword_arg1 5\n",
      "keyword_arg2 3\n"
     ]
    }
   ],
   "source": [
    "fn_name(\"hello\",keyword_arg2=3,keyword_arg1=5)"
   ]
  },
  {
   "cell_type": "markdown",
   "id": "da8e0b02-e5be-4644-b1ea-46b47f52536c",
   "metadata": {},
   "source": [
    "- Default values are evaluated at the point of function definiton in the defining scope"
   ]
  },
  {
   "cell_type": "code",
   "execution_count": 379,
   "id": "8907e8c6-2603-42f9-8ccb-3dab7b1d5395",
   "metadata": {},
   "outputs": [
    {
     "name": "stdout",
     "output_type": "stream",
     "text": [
      "5\n"
     ]
    }
   ],
   "source": [
    "i = 5\n",
    "\n",
    "def f(arg=i):\n",
    "    print(arg)\n",
    "\n",
    "i = 6\n",
    "f()"
   ]
  },
  {
   "cell_type": "markdown",
   "id": "0b69301b-719f-455d-95bc-8c7ceebaa992",
   "metadata": {},
   "source": [
    "- The default value is evaluated only once. When a mutable object is made default value eg a list, the function accumulates the arguments!"
   ]
  },
  {
   "cell_type": "code",
   "execution_count": 386,
   "id": "7d9eb181-18e7-4226-a58e-b53b147e735b",
   "metadata": {},
   "outputs": [
    {
     "name": "stdout",
     "output_type": "stream",
     "text": [
      "[1]\n",
      "[1, 2]\n",
      "[1, 2, 3]\n"
     ]
    }
   ],
   "source": [
    "def f(a,L=[]):\n",
    "    L.append(a)\n",
    "    return L\n",
    "\n",
    "print(f(1))\n",
    "print(f(2))\n",
    "print(f(3))"
   ]
  },
  {
   "cell_type": "code",
   "execution_count": 387,
   "id": "b7333d61-a11f-4c9b-af1d-080d6f057692",
   "metadata": {},
   "outputs": [
    {
     "name": "stdout",
     "output_type": "stream",
     "text": [
      "[1]\n",
      "[2]\n",
      "[3]\n"
     ]
    }
   ],
   "source": [
    "# write this way instead\n",
    "def f(a,L=None):\n",
    "    if L is None:\n",
    "        L = []\n",
    "    L.append(a)\n",
    "    return L\n",
    "\n",
    "print(f(1))\n",
    "print(f(2))\n",
    "print(f(3))"
   ]
  },
  {
   "cell_type": "code",
   "execution_count": null,
   "id": "bcabac9c-a252-4afa-8bc7-6b9b01fcb0fb",
   "metadata": {},
   "outputs": [],
   "source": []
  }
 ],
 "metadata": {
  "kernelspec": {
   "display_name": "Python 3 (ipykernel)",
   "language": "python",
   "name": "python3"
  },
  "language_info": {
   "codemirror_mode": {
    "name": "ipython",
    "version": 3
   },
   "file_extension": ".py",
   "mimetype": "text/x-python",
   "name": "python",
   "nbconvert_exporter": "python",
   "pygments_lexer": "ipython3",
   "version": "3.10.12"
  }
 },
 "nbformat": 4,
 "nbformat_minor": 5
}
