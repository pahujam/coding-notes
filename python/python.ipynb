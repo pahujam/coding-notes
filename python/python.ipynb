{
 "cells": [
  {
   "cell_type": "markdown",
   "id": "a6d904e6-d7e4-444b-a3d6-f3a725109af1",
   "metadata": {},
   "source": [
    "Python features:\n",
    "- Dynamic Typing\n",
    "- Supports OOP\n",
    "- Interpreted Language\n",
    "- Very high level langauge"
   ]
  },
  {
   "cell_type": "markdown",
   "id": "5ec50194-83ff-4f7b-8e5d-4bb5a501169f",
   "metadata": {},
   "source": [
    "- Interpreter acts as a calculator"
   ]
  },
  {
   "cell_type": "code",
   "execution_count": 1,
   "id": "eb4b182c-52e4-4048-8c93-5f5bb273de56",
   "metadata": {},
   "outputs": [
    {
     "data": {
      "text/plain": [
       "4"
      ]
     },
     "execution_count": 1,
     "metadata": {},
     "output_type": "execute_result"
    }
   ],
   "source": [
    "2+2"
   ]
  },
  {
   "cell_type": "code",
   "execution_count": 20,
   "id": "76479f0d-b0ce-4b90-b80c-3c79b76e8cca",
   "metadata": {},
   "outputs": [
    {
     "data": {
      "text/plain": [
       "-1"
      ]
     },
     "execution_count": 20,
     "metadata": {},
     "output_type": "execute_result"
    }
   ],
   "source": [
    "4-5"
   ]
  },
  {
   "cell_type": "markdown",
   "id": "63d1e03c-f8ff-45cb-afc1-8411c93f9221",
   "metadata": {},
   "source": [
    "- Normal Division vs Floor Division\n",
    "- Normal Division = always returns float\n",
    "- Floor Division = always returns int"
   ]
  },
  {
   "cell_type": "code",
   "execution_count": 21,
   "id": "d0f369e9-9dca-4749-a09c-74f55c3943fd",
   "metadata": {},
   "outputs": [
    {
     "data": {
      "text/plain": [
       "5.666666666666667"
      ]
     },
     "execution_count": 21,
     "metadata": {},
     "output_type": "execute_result"
    }
   ],
   "source": [
    "17 / 3"
   ]
  },
  {
   "cell_type": "code",
   "execution_count": 22,
   "id": "3ae4c6c6-d7dc-48b2-9dad-661b61e7e608",
   "metadata": {},
   "outputs": [
    {
     "data": {
      "text/plain": [
       "5"
      ]
     },
     "execution_count": 22,
     "metadata": {},
     "output_type": "execute_result"
    }
   ],
   "source": [
    "17 // 3"
   ]
  },
  {
   "cell_type": "markdown",
   "id": "91548a44-33f2-4052-a18c-dd11f050895f",
   "metadata": {},
   "source": [
    "- Find Remainder Using % operator"
   ]
  },
  {
   "cell_type": "code",
   "execution_count": 23,
   "id": "79dd2d34-f421-4b09-b962-f8d364e512c9",
   "metadata": {},
   "outputs": [
    {
     "data": {
      "text/plain": [
       "2"
      ]
     },
     "execution_count": 23,
     "metadata": {},
     "output_type": "execute_result"
    }
   ],
   "source": [
    "17 % 3"
   ]
  },
  {
   "cell_type": "markdown",
   "id": "bab48025-2e87-460f-b218-4a1931aba544",
   "metadata": {},
   "source": [
    "- Square any Number\n",
    "- Find a raise to power b"
   ]
  },
  {
   "cell_type": "code",
   "execution_count": 24,
   "id": "53529f8f-9485-463b-aa00-63e778c00ed6",
   "metadata": {},
   "outputs": [
    {
     "data": {
      "text/plain": [
       "25"
      ]
     },
     "execution_count": 24,
     "metadata": {},
     "output_type": "execute_result"
    }
   ],
   "source": [
    "5 ** 2"
   ]
  },
  {
   "cell_type": "code",
   "execution_count": 25,
   "id": "3b817d44-a6d6-4bbf-9aec-630d12eb023a",
   "metadata": {},
   "outputs": [
    {
     "data": {
      "text/plain": [
       "128"
      ]
     },
     "execution_count": 25,
     "metadata": {},
     "output_type": "execute_result"
    }
   ],
   "source": [
    "2 ** 7"
   ]
  },
  {
   "cell_type": "markdown",
   "id": "fed4ff5b-8d3e-4485-8b40-4f4302d89712",
   "metadata": {},
   "source": [
    "- Last printed expression is saved in _"
   ]
  },
  {
   "cell_type": "code",
   "execution_count": 28,
   "id": "de2ebef5-ed06-49a3-8484-832b4df849c7",
   "metadata": {},
   "outputs": [
    {
     "data": {
      "text/plain": [
       "6"
      ]
     },
     "execution_count": 28,
     "metadata": {},
     "output_type": "execute_result"
    }
   ],
   "source": [
    "a = 2\n",
    "b = 3\n",
    "b*a"
   ]
  },
  {
   "cell_type": "code",
   "execution_count": 29,
   "id": "7c4ae0f5-b60e-4c8b-bd14-886928b076c2",
   "metadata": {},
   "outputs": [
    {
     "data": {
      "text/plain": [
       "6"
      ]
     },
     "execution_count": 29,
     "metadata": {},
     "output_type": "execute_result"
    }
   ],
   "source": [
    "_"
   ]
  },
  {
   "cell_type": "markdown",
   "id": "9d2eee14-cfda-4159-be7e-de9a5f4ac9d7",
   "metadata": {},
   "source": [
    "- Round decimal places"
   ]
  },
  {
   "cell_type": "code",
   "execution_count": 30,
   "id": "b39fb324-6f51-44ea-9a2d-cf451d1846b9",
   "metadata": {},
   "outputs": [
    {
     "data": {
      "text/plain": [
       "1"
      ]
     },
     "execution_count": 30,
     "metadata": {},
     "output_type": "execute_result"
    }
   ],
   "source": [
    "a = 1.34\n",
    "round(a)"
   ]
  },
  {
   "cell_type": "code",
   "execution_count": 31,
   "id": "e19b72ce-f831-4d77-ab80-4c72afd757ea",
   "metadata": {},
   "outputs": [
    {
     "data": {
      "text/plain": [
       "1.34"
      ]
     },
     "execution_count": 31,
     "metadata": {},
     "output_type": "execute_result"
    }
   ],
   "source": [
    "round(a,2)"
   ]
  },
  {
   "cell_type": "markdown",
   "id": "b2fd86e5-b92b-42aa-bb58-b26ccada2fd4",
   "metadata": {},
   "source": [
    "- String using single or double quotes"
   ]
  },
  {
   "cell_type": "code",
   "execution_count": 32,
   "id": "c75023c3-fa5b-4e52-ac85-3b2d385862df",
   "metadata": {},
   "outputs": [
    {
     "data": {
      "text/plain": [
       "'name'"
      ]
     },
     "execution_count": 32,
     "metadata": {},
     "output_type": "execute_result"
    }
   ],
   "source": [
    "\"name\""
   ]
  },
  {
   "cell_type": "code",
   "execution_count": 33,
   "id": "e723d749-f558-427f-86c8-7e6baea27b3d",
   "metadata": {},
   "outputs": [
    {
     "data": {
      "text/plain": [
       "'name'"
      ]
     },
     "execution_count": 33,
     "metadata": {},
     "output_type": "execute_result"
    }
   ],
   "source": [
    "'name'"
   ]
  },
  {
   "cell_type": "markdown",
   "id": "5f8ebd8f-c47d-4a08-b4e4-1d65f09ccd24",
   "metadata": {},
   "source": [
    "- Escape a single quote using double quote or backslash"
   ]
  },
  {
   "cell_type": "code",
   "execution_count": 34,
   "id": "81528592-719e-4f54-aaa1-e3307f947afe",
   "metadata": {},
   "outputs": [
    {
     "data": {
      "text/plain": [
       "\"doesn't\""
      ]
     },
     "execution_count": 34,
     "metadata": {},
     "output_type": "execute_result"
    }
   ],
   "source": [
    "\"doesn't\""
   ]
  },
  {
   "cell_type": "code",
   "execution_count": 35,
   "id": "74df4a04-c7ca-4502-8444-cd064c34845b",
   "metadata": {},
   "outputs": [
    {
     "data": {
      "text/plain": [
       "\"doesn't\""
      ]
     },
     "execution_count": 35,
     "metadata": {},
     "output_type": "execute_result"
    }
   ],
   "source": [
    "'doesn\\'t'"
   ]
  },
  {
   "cell_type": "markdown",
   "id": "8dd55ddd-3cee-4643-a18c-d0568e1099e6",
   "metadata": {},
   "source": [
    "- Print double quotes in a string"
   ]
  },
  {
   "cell_type": "code",
   "execution_count": 37,
   "id": "98254617-655b-4c25-9e67-d59a6ce4df2d",
   "metadata": {},
   "outputs": [
    {
     "data": {
      "text/plain": [
       "'\"Yes, true\"'"
      ]
     },
     "execution_count": 37,
     "metadata": {},
     "output_type": "execute_result"
    }
   ],
   "source": [
    "'\"Yes, true\"'"
   ]
  },
  {
   "cell_type": "code",
   "execution_count": 38,
   "id": "387bc9f2-1cce-4c5b-adbe-97f41862df34",
   "metadata": {},
   "outputs": [
    {
     "data": {
      "text/plain": [
       "'\"Yes, true\"'"
      ]
     },
     "execution_count": 38,
     "metadata": {},
     "output_type": "execute_result"
    }
   ],
   "source": [
    "\"\\\"Yes, true\\\"\""
   ]
  },
  {
   "cell_type": "markdown",
   "id": "1b9f4232-33fa-4b4d-97d6-c125e0b4cf13",
   "metadata": {},
   "source": [
    "- print() function produces more readable output by printing escaped characters"
   ]
  },
  {
   "cell_type": "code",
   "execution_count": 41,
   "id": "964d2520-bf16-4e64-b413-888640f58e9f",
   "metadata": {},
   "outputs": [
    {
     "data": {
      "text/plain": [
       "'This string has \\na newline'"
      ]
     },
     "execution_count": 41,
     "metadata": {},
     "output_type": "execute_result"
    }
   ],
   "source": [
    "newline_string = \"This string has \\na newline\"\n",
    "newline_string"
   ]
  },
  {
   "cell_type": "code",
   "execution_count": 42,
   "id": "b9018283-e761-4411-a7bd-72f575cba61d",
   "metadata": {},
   "outputs": [
    {
     "name": "stdout",
     "output_type": "stream",
     "text": [
      "This string has \n",
      "a newline\n"
     ]
    }
   ],
   "source": [
    "print(newline_string)"
   ]
  },
  {
   "cell_type": "markdown",
   "id": "64d2a555-b0ca-4330-a875-ec082c860c9c",
   "metadata": {},
   "source": [
    "- If we don't want \\ to be interpreted as a special character, use raw strings"
   ]
  },
  {
   "cell_type": "code",
   "execution_count": 45,
   "id": "7e31431a-f5ce-4582-841c-7c395f9a3c68",
   "metadata": {},
   "outputs": [
    {
     "data": {
      "text/plain": [
       "'this is not\\n raw string'"
      ]
     },
     "execution_count": 45,
     "metadata": {},
     "output_type": "execute_result"
    }
   ],
   "source": [
    "not_raw_string = \"this is not\\n raw string\"\n",
    "not_raw_string"
   ]
  },
  {
   "cell_type": "code",
   "execution_count": 46,
   "id": "aa57c41d-c98f-4aff-9906-4f629e757c51",
   "metadata": {},
   "outputs": [
    {
     "name": "stdout",
     "output_type": "stream",
     "text": [
      "this is not\n",
      " raw string\n"
     ]
    }
   ],
   "source": [
    "print(not_raw_string)"
   ]
  },
  {
   "cell_type": "code",
   "execution_count": 47,
   "id": "22068ae2-9a29-4007-8a78-83ecd325a8e5",
   "metadata": {},
   "outputs": [
    {
     "data": {
      "text/plain": [
       "'this is not\\\\n raw string'"
      ]
     },
     "execution_count": 47,
     "metadata": {},
     "output_type": "execute_result"
    }
   ],
   "source": [
    "raw_string = r\"this is not\\n raw string\"\n",
    "raw_string"
   ]
  },
  {
   "cell_type": "code",
   "execution_count": 48,
   "id": "244ceace-a5e2-48c5-b893-d5859bc8b018",
   "metadata": {},
   "outputs": [
    {
     "name": "stdout",
     "output_type": "stream",
     "text": [
      "this is not\\n raw string\n"
     ]
    }
   ],
   "source": [
    "print(raw_string)"
   ]
  },
  {
   "cell_type": "markdown",
   "id": "2fe31052-59f2-4686-9142-2b8b4105eb6f",
   "metadata": {},
   "source": [
    "- Multiline strings"
   ]
  },
  {
   "cell_type": "code",
   "execution_count": 51,
   "id": "d6da8711-fbfc-4a60-8610-58e256cd1dda",
   "metadata": {},
   "outputs": [
    {
     "data": {
      "text/plain": [
       "'this is a\\nmultiline\\nstring'"
      ]
     },
     "execution_count": 51,
     "metadata": {},
     "output_type": "execute_result"
    }
   ],
   "source": [
    "\"\"\"this is a\n",
    "multiline\n",
    "string\"\"\""
   ]
  },
  {
   "cell_type": "code",
   "execution_count": 52,
   "id": "f4e44012-dd09-481c-9b67-2027756a54d7",
   "metadata": {},
   "outputs": [
    {
     "data": {
      "text/plain": [
       "'this is also a \\nmultiline\\nstring'"
      ]
     },
     "execution_count": 52,
     "metadata": {},
     "output_type": "execute_result"
    }
   ],
   "source": [
    "'''this is also a \n",
    "multiline\n",
    "string'''"
   ]
  },
  {
   "cell_type": "markdown",
   "id": "4966e045-6335-43af-93ff-627a190d4f60",
   "metadata": {},
   "source": [
    "- Concatenate strings using + operator"
   ]
  },
  {
   "cell_type": "code",
   "execution_count": 54,
   "id": "ad28e730-4051-47e4-8592-bb71c6465b9f",
   "metadata": {},
   "outputs": [
    {
     "data": {
      "text/plain": [
       "'first_name second_name'"
      ]
     },
     "execution_count": 54,
     "metadata": {},
     "output_type": "execute_result"
    }
   ],
   "source": [
    "\"first_name\" + \" \" + \"second_name\""
   ]
  },
  {
   "cell_type": "markdown",
   "id": "b75a75f3-00e7-4187-88cb-26101202469b",
   "metadata": {},
   "source": [
    "- Repeat String using \\*"
   ]
  },
  {
   "cell_type": "code",
   "execution_count": 58,
   "id": "61ab09a5-de38-42ab-b4e1-34cec7c4cad8",
   "metadata": {},
   "outputs": [
    {
     "data": {
      "text/plain": [
       "'hello hello hello '"
      ]
     },
     "execution_count": 58,
     "metadata": {},
     "output_type": "execute_result"
    }
   ],
   "source": [
    "\"hello \"*3"
   ]
  },
  {
   "cell_type": "markdown",
   "id": "ebf81577-cde1-493a-9088-57ad7ab395de",
   "metadata": {},
   "source": [
    "- Strings can be indexed like array\n",
    "- Negative index + Slicing also supported"
   ]
  },
  {
   "cell_type": "code",
   "execution_count": 59,
   "id": "eafd4281-7244-454f-ae4a-3de041d31dd7",
   "metadata": {},
   "outputs": [
    {
     "data": {
      "text/plain": [
       "'p'"
      ]
     },
     "execution_count": 59,
     "metadata": {},
     "output_type": "execute_result"
    }
   ],
   "source": [
    "word = \"python\"\n",
    "word[0]"
   ]
  },
  {
   "cell_type": "code",
   "execution_count": 60,
   "id": "ef986638-2932-4144-90b5-2695acd984be",
   "metadata": {},
   "outputs": [
    {
     "data": {
      "text/plain": [
       "'n'"
      ]
     },
     "execution_count": 60,
     "metadata": {},
     "output_type": "execute_result"
    }
   ],
   "source": [
    "word[-1]"
   ]
  },
  {
   "cell_type": "code",
   "execution_count": 61,
   "id": "cf662354-79ee-4752-a57a-2b9ef172b8b1",
   "metadata": {},
   "outputs": [
    {
     "data": {
      "text/plain": [
       "'pyt'"
      ]
     },
     "execution_count": 61,
     "metadata": {},
     "output_type": "execute_result"
    }
   ],
   "source": [
    "word[0:3]"
   ]
  },
  {
   "cell_type": "markdown",
   "id": "2113a72c-47db-435a-8e4c-73cdf4914c4c",
   "metadata": {},
   "source": [
    "- Start is inclusive, End is exclusive in slicing"
   ]
  },
  {
   "cell_type": "code",
   "execution_count": 62,
   "id": "59b41be8-5872-4db9-b518-08b1f4b4f288",
   "metadata": {},
   "outputs": [
    {
     "data": {
      "text/plain": [
       "'pyt'"
      ]
     },
     "execution_count": 62,
     "metadata": {},
     "output_type": "execute_result"
    }
   ],
   "source": [
    "word[:3]"
   ]
  },
  {
   "cell_type": "code",
   "execution_count": 63,
   "id": "ed079a09-d9f7-4d36-98cf-91c12cd5924d",
   "metadata": {},
   "outputs": [
    {
     "data": {
      "text/plain": [
       "'on'"
      ]
     },
     "execution_count": 63,
     "metadata": {},
     "output_type": "execute_result"
    }
   ],
   "source": [
    "word[-2:]"
   ]
  },
  {
   "cell_type": "markdown",
   "id": "d16d723b-b2b1-475b-94f2-b2f5f66d572b",
   "metadata": {},
   "source": [
    "- Python strings are immutable"
   ]
  },
  {
   "cell_type": "code",
   "execution_count": 64,
   "id": "f21b63e6-51e3-4ad6-ab6c-a65126d2ff61",
   "metadata": {},
   "outputs": [],
   "source": [
    "word = \"python\""
   ]
  },
  {
   "cell_type": "code",
   "execution_count": 66,
   "id": "8b43c48b-b1f8-4876-b76c-1725d702d7cf",
   "metadata": {},
   "outputs": [],
   "source": [
    "# results in error\n",
    "# word[-1] = \"c\""
   ]
  },
  {
   "cell_type": "markdown",
   "id": "03929897-9b26-43aa-90e4-39d39690ae20",
   "metadata": {},
   "source": [
    "- Get length of string"
   ]
  },
  {
   "cell_type": "code",
   "execution_count": 68,
   "id": "ef3cee93-3573-4096-bf12-d3033d5b1b88",
   "metadata": {},
   "outputs": [
    {
     "data": {
      "text/plain": [
       "11"
      ]
     },
     "execution_count": 68,
     "metadata": {},
     "output_type": "execute_result"
    }
   ],
   "source": [
    "len(\"hello world\")"
   ]
  },
  {
   "cell_type": "markdown",
   "id": "5b242056-3844-4e8f-9dff-d727a626d562",
   "metadata": {},
   "source": [
    "- Python lists support indexing/slicing/negative indicies"
   ]
  },
  {
   "cell_type": "code",
   "execution_count": 69,
   "id": "1d035fc7-74b0-4337-9931-5e0de80402c2",
   "metadata": {},
   "outputs": [],
   "source": [
    "squares = [1, 4, 9, 16, 25]"
   ]
  },
  {
   "cell_type": "code",
   "execution_count": 70,
   "id": "629bae9c-e9d0-4388-9202-7843d29e7524",
   "metadata": {},
   "outputs": [
    {
     "data": {
      "text/plain": [
       "25"
      ]
     },
     "execution_count": 70,
     "metadata": {},
     "output_type": "execute_result"
    }
   ],
   "source": [
    "squares[-1]"
   ]
  },
  {
   "cell_type": "code",
   "execution_count": 71,
   "id": "27ca35a3-b32f-4fa6-8e3b-e0bb0747eacc",
   "metadata": {},
   "outputs": [
    {
     "data": {
      "text/plain": [
       "1"
      ]
     },
     "execution_count": 71,
     "metadata": {},
     "output_type": "execute_result"
    }
   ],
   "source": [
    "squares[0]"
   ]
  },
  {
   "cell_type": "code",
   "execution_count": 72,
   "id": "9953191c-20bc-4c5c-84aa-83cff1059581",
   "metadata": {},
   "outputs": [
    {
     "data": {
      "text/plain": [
       "[1, 4]"
      ]
     },
     "execution_count": 72,
     "metadata": {},
     "output_type": "execute_result"
    }
   ],
   "source": [
    "squares[0:2]"
   ]
  },
  {
   "cell_type": "code",
   "execution_count": 74,
   "id": "65af7aed-ada9-48b9-bea8-8419fa68afc9",
   "metadata": {},
   "outputs": [
    {
     "data": {
      "text/plain": [
       "[9, 16, 25]"
      ]
     },
     "execution_count": 74,
     "metadata": {},
     "output_type": "execute_result"
    }
   ],
   "source": [
    "squares[-3:]"
   ]
  },
  {
   "cell_type": "markdown",
   "id": "20bd6be8-4e7e-4f0a-afc3-50cf8f97df1d",
   "metadata": {},
   "source": [
    "- Python List can be concatenated"
   ]
  },
  {
   "cell_type": "code",
   "execution_count": 75,
   "id": "34276caa-124b-4b63-9199-4edb6ed2e99a",
   "metadata": {},
   "outputs": [
    {
     "data": {
      "text/plain": [
       "[1, 4, 9, 16, 25, 36, 49, 64, 81, 100]"
      ]
     },
     "execution_count": 75,
     "metadata": {},
     "output_type": "execute_result"
    }
   ],
   "source": [
    "squares + [36, 49, 64, 81, 100]"
   ]
  },
  {
   "cell_type": "markdown",
   "id": "f7f96353-b8d6-415b-abbd-b52985d1ae65",
   "metadata": {},
   "source": [
    "- Python lists are mutable"
   ]
  },
  {
   "cell_type": "code",
   "execution_count": 81,
   "id": "61d2692e-47ad-4d9a-bc1b-9b16c077f4af",
   "metadata": {},
   "outputs": [
    {
     "data": {
      "text/plain": [
       "[1, 8, 27, 65, 125]"
      ]
     },
     "execution_count": 81,
     "metadata": {},
     "output_type": "execute_result"
    }
   ],
   "source": [
    "cubes = [1, 8, 27, 65, 125]\n",
    "cubes"
   ]
  },
  {
   "cell_type": "code",
   "execution_count": 82,
   "id": "119b8821-8cfc-47b5-9dd7-c845fea246c9",
   "metadata": {},
   "outputs": [
    {
     "data": {
      "text/plain": [
       "140678906977024"
      ]
     },
     "execution_count": 82,
     "metadata": {},
     "output_type": "execute_result"
    }
   ],
   "source": [
    "id(cubes)"
   ]
  },
  {
   "cell_type": "code",
   "execution_count": 83,
   "id": "01953619-4d8f-473e-8161-4d4e85cd673d",
   "metadata": {},
   "outputs": [],
   "source": [
    "cubes[3] = 64"
   ]
  },
  {
   "cell_type": "code",
   "execution_count": 84,
   "id": "0e8ad71d-9973-49f7-896e-872140899f29",
   "metadata": {},
   "outputs": [
    {
     "data": {
      "text/plain": [
       "[1, 8, 27, 64, 125]"
      ]
     },
     "execution_count": 84,
     "metadata": {},
     "output_type": "execute_result"
    }
   ],
   "source": [
    "cubes"
   ]
  },
  {
   "cell_type": "code",
   "execution_count": 85,
   "id": "060f40b2-e562-438a-9525-e5fac170bb3a",
   "metadata": {},
   "outputs": [
    {
     "data": {
      "text/plain": [
       "140678906977024"
      ]
     },
     "execution_count": 85,
     "metadata": {},
     "output_type": "execute_result"
    }
   ],
   "source": [
    "id(cubes)"
   ]
  },
  {
   "cell_type": "markdown",
   "id": "f127ee02-c99b-4b40-8474-a3c8a408aded",
   "metadata": {},
   "source": [
    "- Add elements at the end of list"
   ]
  },
  {
   "cell_type": "code",
   "execution_count": 86,
   "id": "cf4d7ab9-41b2-45eb-b970-ea3710180deb",
   "metadata": {},
   "outputs": [],
   "source": [
    "cubes.append(36*6)"
   ]
  },
  {
   "cell_type": "code",
   "execution_count": 87,
   "id": "9d51ee85-ac4f-439a-a70f-91ef27b1d816",
   "metadata": {},
   "outputs": [
    {
     "data": {
      "text/plain": [
       "[1, 8, 27, 64, 125, 216]"
      ]
     },
     "execution_count": 87,
     "metadata": {},
     "output_type": "execute_result"
    }
   ],
   "source": [
    "cubes"
   ]
  },
  {
   "cell_type": "markdown",
   "id": "9a89e846-6d9d-48e1-be7d-947aedab5646",
   "metadata": {},
   "source": [
    "- Simple assignment in Python doesn't copy the list, it refers to original list"
   ]
  },
  {
   "cell_type": "code",
   "execution_count": 88,
   "id": "2da5aa2b-5b59-4e2c-ba2f-644f8f47e8c7",
   "metadata": {},
   "outputs": [
    {
     "data": {
      "text/plain": [
       "['Red', 'Green', 'Blue']"
      ]
     },
     "execution_count": 88,
     "metadata": {},
     "output_type": "execute_result"
    }
   ],
   "source": [
    "rgb = [\"Red\", \"Green\", \"Blue\"]\n",
    "rgb"
   ]
  },
  {
   "cell_type": "code",
   "execution_count": 89,
   "id": "34f9e1b0-4597-4cc5-8ec2-62b6643d4395",
   "metadata": {},
   "outputs": [],
   "source": [
    "rgba = rgb"
   ]
  },
  {
   "cell_type": "code",
   "execution_count": 90,
   "id": "e8f561f5-2b7b-49c3-ae56-6cce597661c7",
   "metadata": {},
   "outputs": [
    {
     "data": {
      "text/plain": [
       "True"
      ]
     },
     "execution_count": 90,
     "metadata": {},
     "output_type": "execute_result"
    }
   ],
   "source": [
    "id(rgb)==id(rgba)"
   ]
  },
  {
   "cell_type": "code",
   "execution_count": 91,
   "id": "d92a455e-79fc-4bf1-b67d-6e7ec30e746a",
   "metadata": {},
   "outputs": [],
   "source": [
    "rgba.append(\"Alph\")"
   ]
  },
  {
   "cell_type": "code",
   "execution_count": 92,
   "id": "b72d8a87-87c7-4621-b2d6-2d30d712ac09",
   "metadata": {},
   "outputs": [
    {
     "data": {
      "text/plain": [
       "['Red', 'Green', 'Blue', 'Alph']"
      ]
     },
     "execution_count": 92,
     "metadata": {},
     "output_type": "execute_result"
    }
   ],
   "source": [
    "rgba"
   ]
  },
  {
   "cell_type": "code",
   "execution_count": 93,
   "id": "6a3df998-0767-4cd7-8051-9d36a38d383d",
   "metadata": {},
   "outputs": [
    {
     "data": {
      "text/plain": [
       "['Red', 'Green', 'Blue', 'Alph']"
      ]
     },
     "execution_count": 93,
     "metadata": {},
     "output_type": "execute_result"
    }
   ],
   "source": [
    "rgb"
   ]
  },
  {
   "cell_type": "markdown",
   "id": "9157fb83-4b3a-4ae4-9ca3-957fa9fd19a2",
   "metadata": {},
   "source": [
    "- All slice operations return a new list containing the requested elements\n",
    "- This is different from numpy where **view** is returned"
   ]
  },
  {
   "cell_type": "code",
   "execution_count": 94,
   "id": "52b49b4b-70a4-46f3-9fc9-2fdc55e66345",
   "metadata": {},
   "outputs": [],
   "source": [
    "correct_rgba = rgba[:]"
   ]
  },
  {
   "cell_type": "code",
   "execution_count": 95,
   "id": "c116f21e-588b-4c55-b8e6-9c1f2557f680",
   "metadata": {},
   "outputs": [],
   "source": [
    "correct_rgba[-1] = \"Alpha\""
   ]
  },
  {
   "cell_type": "code",
   "execution_count": 96,
   "id": "b953ce5e-c804-4225-9b10-ece1e421ffa4",
   "metadata": {},
   "outputs": [
    {
     "data": {
      "text/plain": [
       "['Red', 'Green', 'Blue', 'Alpha']"
      ]
     },
     "execution_count": 96,
     "metadata": {},
     "output_type": "execute_result"
    }
   ],
   "source": [
    "correct_rgba"
   ]
  },
  {
   "cell_type": "code",
   "execution_count": 97,
   "id": "8c531e61-3c56-4d80-be4a-59132ca3bfe0",
   "metadata": {},
   "outputs": [
    {
     "data": {
      "text/plain": [
       "['Red', 'Green', 'Blue', 'Alph']"
      ]
     },
     "execution_count": 97,
     "metadata": {},
     "output_type": "execute_result"
    }
   ],
   "source": [
    "rgba"
   ]
  },
  {
   "cell_type": "markdown",
   "id": "d9b24461-06b7-428b-b6ee-b5ad2d3dfa3f",
   "metadata": {},
   "source": [
    "- Assignment to list slices is possible\n",
    "- This alters the list, can change its size too!"
   ]
  },
  {
   "cell_type": "code",
   "execution_count": 98,
   "id": "a0bbda6c-443e-4fe0-91c4-ae97ca45dc7f",
   "metadata": {},
   "outputs": [],
   "source": [
    "letters = ['a', 'b', 'c', 'd', 'e', 'f', 'g']"
   ]
  },
  {
   "cell_type": "code",
   "execution_count": 100,
   "id": "8d47c239-58f8-4248-a256-88febd8c5694",
   "metadata": {},
   "outputs": [],
   "source": [
    "letters[2:5] = [\"C\",\"D\",\"E\"]"
   ]
  },
  {
   "cell_type": "code",
   "execution_count": 101,
   "id": "a7810190-e921-4915-9cbf-7289786fab8b",
   "metadata": {},
   "outputs": [
    {
     "data": {
      "text/plain": [
       "['a', 'b', 'C', 'D', 'E', 'f', 'g']"
      ]
     },
     "execution_count": 101,
     "metadata": {},
     "output_type": "execute_result"
    }
   ],
   "source": [
    "letters"
   ]
  },
  {
   "cell_type": "code",
   "execution_count": 102,
   "id": "ecb26969-9c89-459b-b8ca-0f47e0f9d7d1",
   "metadata": {},
   "outputs": [],
   "source": [
    "letters[2:5] = []"
   ]
  },
  {
   "cell_type": "code",
   "execution_count": 103,
   "id": "09bbe4f1-1242-4b18-bc43-abbf62084482",
   "metadata": {},
   "outputs": [
    {
     "data": {
      "text/plain": [
       "['a', 'b', 'f', 'g']"
      ]
     },
     "execution_count": 103,
     "metadata": {},
     "output_type": "execute_result"
    }
   ],
   "source": [
    "letters"
   ]
  },
  {
   "cell_type": "code",
   "execution_count": 104,
   "id": "ced2dc56-6a77-4732-9d89-67c2e4e06e3a",
   "metadata": {},
   "outputs": [],
   "source": [
    "letters[:] = [] # this clears the entire list!"
   ]
  },
  {
   "cell_type": "code",
   "execution_count": 105,
   "id": "b52baf4f-5596-4793-beca-c4bf8d40cf93",
   "metadata": {},
   "outputs": [
    {
     "data": {
      "text/plain": [
       "[]"
      ]
     },
     "execution_count": 105,
     "metadata": {},
     "output_type": "execute_result"
    }
   ],
   "source": [
    "letters"
   ]
  },
  {
   "cell_type": "markdown",
   "id": "ecab5bdc-7275-448a-b8a2-7bab16688a71",
   "metadata": {},
   "source": [
    "- Can get the length of list"
   ]
  },
  {
   "cell_type": "code",
   "execution_count": 107,
   "id": "c20231fb-abc1-4918-9907-274f53909ef4",
   "metadata": {},
   "outputs": [
    {
     "data": {
      "text/plain": [
       "4"
      ]
     },
     "execution_count": 107,
     "metadata": {},
     "output_type": "execute_result"
    }
   ],
   "source": [
    "letters = ['a', 'b', 'c', 'd']\n",
    "len(letters)"
   ]
  },
  {
   "cell_type": "markdown",
   "id": "7d1b9b4d-3ac1-4f1c-b41e-15ff9ab1654f",
   "metadata": {},
   "source": [
    "- Create nested lists of mixed types!"
   ]
  },
  {
   "cell_type": "code",
   "execution_count": 110,
   "id": "313ed001-72b8-4b06-8c1c-bbac82d9e0f9",
   "metadata": {},
   "outputs": [],
   "source": [
    "a = ['a','b','c',4.5]\n",
    "n = [1,2,3,'d']\n",
    "x = [a,n]"
   ]
  },
  {
   "cell_type": "code",
   "execution_count": 111,
   "id": "7a2db692-9640-4a10-a252-aa195790bdc7",
   "metadata": {},
   "outputs": [
    {
     "data": {
      "text/plain": [
       "[['a', 'b', 'c', 4.5], [1, 2, 3, 'd']]"
      ]
     },
     "execution_count": 111,
     "metadata": {},
     "output_type": "execute_result"
    }
   ],
   "source": [
    "x"
   ]
  },
  {
   "cell_type": "code",
   "execution_count": 112,
   "id": "1d517fae-772d-4077-a5da-c99ad92ba87e",
   "metadata": {},
   "outputs": [
    {
     "data": {
      "text/plain": [
       "4.5"
      ]
     },
     "execution_count": 112,
     "metadata": {},
     "output_type": "execute_result"
    }
   ],
   "source": [
    "x[0][-1]"
   ]
  },
  {
   "cell_type": "code",
   "execution_count": 113,
   "id": "c8be8538-b82c-4b4d-a8d1-44d7f0ffa7f5",
   "metadata": {},
   "outputs": [
    {
     "data": {
      "text/plain": [
       "1"
      ]
     },
     "execution_count": 113,
     "metadata": {},
     "output_type": "execute_result"
    }
   ],
   "source": [
    "x[1][0]"
   ]
  },
  {
   "cell_type": "markdown",
   "id": "934c1131-3ef2-46b7-8411-0792801c79e9",
   "metadata": {},
   "source": [
    "- Multiple number assignment"
   ]
  },
  {
   "cell_type": "code",
   "execution_count": 114,
   "id": "3ef4ae38-2e40-4c3a-b11e-24641ebf46d9",
   "metadata": {},
   "outputs": [],
   "source": [
    "a,b = 0,1"
   ]
  },
  {
   "cell_type": "code",
   "execution_count": 115,
   "id": "62945b46-e883-401e-98e6-9f4c785054c2",
   "metadata": {},
   "outputs": [
    {
     "data": {
      "text/plain": [
       "0"
      ]
     },
     "execution_count": 115,
     "metadata": {},
     "output_type": "execute_result"
    }
   ],
   "source": [
    "a"
   ]
  },
  {
   "cell_type": "code",
   "execution_count": 116,
   "id": "f95c0133-8091-4183-85f7-192ab6c85a88",
   "metadata": {},
   "outputs": [
    {
     "data": {
      "text/plain": [
       "1"
      ]
     },
     "execution_count": 116,
     "metadata": {},
     "output_type": "execute_result"
    }
   ],
   "source": [
    "b"
   ]
  },
  {
   "cell_type": "markdown",
   "id": "86ef8663-f677-4257-8968-8fcefd8739ab",
   "metadata": {},
   "source": [
    "- Swap numbers easily"
   ]
  },
  {
   "cell_type": "code",
   "execution_count": 117,
   "id": "e0c8a78c-5476-442e-90b9-942997902caf",
   "metadata": {},
   "outputs": [],
   "source": [
    "a = -1\n",
    "b = 1"
   ]
  },
  {
   "cell_type": "code",
   "execution_count": 118,
   "id": "aaa08043-ad67-41eb-b9fd-a52e74c74a38",
   "metadata": {},
   "outputs": [],
   "source": [
    "a,b = b,a"
   ]
  },
  {
   "cell_type": "code",
   "execution_count": 119,
   "id": "67a8c8c1-a9f2-46a4-a7f6-c48a1052f403",
   "metadata": {},
   "outputs": [
    {
     "data": {
      "text/plain": [
       "1"
      ]
     },
     "execution_count": 119,
     "metadata": {},
     "output_type": "execute_result"
    }
   ],
   "source": [
    "a"
   ]
  },
  {
   "cell_type": "code",
   "execution_count": 120,
   "id": "a47d2722-5de3-42e8-8cdd-2aca0b1689af",
   "metadata": {},
   "outputs": [
    {
     "data": {
      "text/plain": [
       "-1"
      ]
     },
     "execution_count": 120,
     "metadata": {},
     "output_type": "execute_result"
    }
   ],
   "source": [
    "b"
   ]
  },
  {
   "cell_type": "markdown",
   "id": "57193a69-b23b-45bc-a372-ff74d33009ef",
   "metadata": {},
   "source": [
    "- Print function can be used to print mutliple arguments of any type\n",
    "- It adds space automatically\n",
    "- We can specify the end character using end=\"\\n\""
   ]
  },
  {
   "cell_type": "code",
   "execution_count": 121,
   "id": "74d10d0b-02a4-4266-b519-2240879107ab",
   "metadata": {},
   "outputs": [
    {
     "name": "stdout",
     "output_type": "stream",
     "text": [
      "hello\n"
     ]
    }
   ],
   "source": [
    "print(\"hello\")"
   ]
  },
  {
   "cell_type": "code",
   "execution_count": 122,
   "id": "9abe5019-5f8e-447d-9208-e1f9ea69690c",
   "metadata": {},
   "outputs": [
    {
     "name": "stdout",
     "output_type": "stream",
     "text": [
      "hello world 10\n"
     ]
    }
   ],
   "source": [
    "print(\"hello\",\"world\",10)"
   ]
  },
  {
   "cell_type": "code",
   "execution_count": 123,
   "id": "318a4e1d-8bc3-4bbf-93eb-7bafa09563ea",
   "metadata": {},
   "outputs": [
    {
     "name": "stdout",
     "output_type": "stream",
     "text": [
      "what is 12?"
     ]
    }
   ],
   "source": [
    "print(\"what is\",12,end=\"?\")"
   ]
  },
  {
   "cell_type": "markdown",
   "id": "0c616e62-e999-4cd3-a402-ee4b8bd343ba",
   "metadata": {},
   "source": [
    "- while condition in python\n",
    "- any non-zero value in while = true"
   ]
  },
  {
   "cell_type": "code",
   "execution_count": 124,
   "id": "d75de514-2705-4330-83f3-b60388d08a7b",
   "metadata": {},
   "outputs": [
    {
     "name": "stdout",
     "output_type": "stream",
     "text": [
      "1\n",
      "3\n"
     ]
    }
   ],
   "source": [
    "a = 1\n",
    "while a<5:\n",
    "    print(a)\n",
    "    a += 2"
   ]
  },
  {
   "cell_type": "markdown",
   "id": "1a8f4c4b-a15e-46c1-bef7-5761facc65a7",
   "metadata": {},
   "source": [
    "- any sequence with non zero length = true\n",
    "- empty string = false\n",
    "- empty list = false"
   ]
  },
  {
   "cell_type": "code",
   "execution_count": 127,
   "id": "30476ef5-6394-4326-9ba1-1b94fe4b298e",
   "metadata": {},
   "outputs": [
    {
     "data": {
      "text/plain": [
       "False"
      ]
     },
     "execution_count": 127,
     "metadata": {},
     "output_type": "execute_result"
    }
   ],
   "source": [
    "bool([])"
   ]
  },
  {
   "cell_type": "code",
   "execution_count": 128,
   "id": "17a5bbf6-c06c-4d6a-8655-b00816584d49",
   "metadata": {},
   "outputs": [
    {
     "data": {
      "text/plain": [
       "True"
      ]
     },
     "execution_count": 128,
     "metadata": {},
     "output_type": "execute_result"
    }
   ],
   "source": [
    "bool([1,2,3])"
   ]
  },
  {
   "cell_type": "code",
   "execution_count": 129,
   "id": "ccd636c2-ca4f-4fa1-b71a-076bb1673227",
   "metadata": {},
   "outputs": [
    {
     "data": {
      "text/plain": [
       "False"
      ]
     },
     "execution_count": 129,
     "metadata": {},
     "output_type": "execute_result"
    }
   ],
   "source": [
    "bool(\"\")"
   ]
  },
  {
   "cell_type": "code",
   "execution_count": 131,
   "id": "c993c83f-4ad7-42c0-9f72-f1f19bdd8f2c",
   "metadata": {},
   "outputs": [
    {
     "data": {
      "text/plain": [
       "True"
      ]
     },
     "execution_count": 131,
     "metadata": {},
     "output_type": "execute_result"
    }
   ],
   "source": [
    "bool(\"name\")"
   ]
  },
  {
   "cell_type": "code",
   "execution_count": 132,
   "id": "780695bb-5c01-4a31-acfa-6e2f6ae638ab",
   "metadata": {},
   "outputs": [],
   "source": [
    "while \"\":\n",
    "    print(\"never prints\")"
   ]
  },
  {
   "cell_type": "code",
   "execution_count": 135,
   "id": "046df9bc-281a-4621-91a8-1c3d593f0871",
   "metadata": {},
   "outputs": [
    {
     "name": "stdout",
     "output_type": "stream",
     "text": [
      "[1, 2, 3]\n",
      "[1, 2]\n",
      "[1]\n"
     ]
    }
   ],
   "source": [
    "a = [1,2,3]\n",
    "while a:\n",
    "    print(a)\n",
    "    a.remove(a[-1])"
   ]
  },
  {
   "cell_type": "markdown",
   "id": "464acaeb-bf00-45a0-94fb-c4e5dd167ab5",
   "metadata": {},
   "source": [
    "- if/else statements\n",
    "- else if is same as elif"
   ]
  },
  {
   "cell_type": "code",
   "execution_count": 139,
   "id": "c810be75-3093-42dc-90f1-eca044ad5004",
   "metadata": {},
   "outputs": [
    {
     "name": "stdout",
     "output_type": "stream",
     "text": [
      "positive number\n"
     ]
    }
   ],
   "source": [
    "x = 10\n",
    "if x < 0:\n",
    "    print(\"negative number\")\n",
    "elif x > 0:\n",
    "    print(\"positive number\")\n",
    "else:\n",
    "    print(\"zero number\")"
   ]
  },
  {
   "cell_type": "markdown",
   "id": "0ff02026-dd11-456f-abc3-d1cc6d570acc",
   "metadata": {},
   "source": [
    "- For statement"
   ]
  },
  {
   "cell_type": "code",
   "execution_count": 140,
   "id": "7b3c1ad9-c221-41df-8812-c51d19e6263a",
   "metadata": {},
   "outputs": [
    {
     "name": "stdout",
     "output_type": "stream",
     "text": [
      "cat 3\n",
      "window 6\n",
      "defenestrate 12\n"
     ]
    }
   ],
   "source": [
    "words = ['cat', 'window', 'defenestrate']\n",
    "for w in words:\n",
    "    print(w, len(w))"
   ]
  },
  {
   "cell_type": "markdown",
   "id": "3805115a-e397-4bf0-b46d-c422500ede0a",
   "metadata": {},
   "source": [
    "- Use range to get list of continuous numbers"
   ]
  },
  {
   "cell_type": "code",
   "execution_count": 141,
   "id": "66a01aa2-f452-4735-accb-f4d653b4e854",
   "metadata": {},
   "outputs": [
    {
     "data": {
      "text/plain": [
       "range(0, 4)"
      ]
     },
     "execution_count": 141,
     "metadata": {},
     "output_type": "execute_result"
    }
   ],
   "source": [
    "range(0,4)"
   ]
  },
  {
   "cell_type": "code",
   "execution_count": 142,
   "id": "5fe82e52-bd97-49a0-ae9f-ddddd0c876b7",
   "metadata": {},
   "outputs": [
    {
     "data": {
      "text/plain": [
       "[0, 1, 2, 3]"
      ]
     },
     "execution_count": 142,
     "metadata": {},
     "output_type": "execute_result"
    }
   ],
   "source": [
    "list(range(0,4))"
   ]
  },
  {
   "cell_type": "code",
   "execution_count": 143,
   "id": "6eed78f2-ebad-4cb6-85b4-2a71cefe0250",
   "metadata": {},
   "outputs": [
    {
     "name": "stdout",
     "output_type": "stream",
     "text": [
      "0\n",
      "1\n",
      "2\n",
      "3\n"
     ]
    }
   ],
   "source": [
    "for i in range(0,4):\n",
    "    print(i)"
   ]
  },
  {
   "cell_type": "code",
   "execution_count": 146,
   "id": "acad1ee5-ac2f-4804-94f2-66e96458c47a",
   "metadata": {},
   "outputs": [
    {
     "data": {
      "text/plain": [
       "[5, 6, 7, 8, 9]"
      ]
     },
     "execution_count": 146,
     "metadata": {},
     "output_type": "execute_result"
    }
   ],
   "source": [
    "list(range(5,10)) # specify start number"
   ]
  },
  {
   "cell_type": "code",
   "execution_count": 150,
   "id": "f309d19b-cf92-439d-ad98-dfb2cdb1a927",
   "metadata": {},
   "outputs": [
    {
     "data": {
      "text/plain": [
       "[5, 7, 9]"
      ]
     },
     "execution_count": 150,
     "metadata": {},
     "output_type": "execute_result"
    }
   ],
   "source": [
    "list(range(5,10,2)) # specify step size"
   ]
  },
  {
   "cell_type": "markdown",
   "id": "17efda90-6829-47b9-908a-a17368cb5392",
   "metadata": {},
   "source": [
    "- Range is an iterable\n",
    "- Iterable returns successive items until supply is exhaused\n",
    "- Range doesn't actually make the list, thus saving space"
   ]
  },
  {
   "cell_type": "code",
   "execution_count": 153,
   "id": "0f128776-bd4e-423f-baf0-998b49be8984",
   "metadata": {},
   "outputs": [
    {
     "data": {
      "text/plain": [
       "range(0, 1000)"
      ]
     },
     "execution_count": 153,
     "metadata": {},
     "output_type": "execute_result"
    }
   ],
   "source": [
    "range(0,1000) # not a list, saves memory"
   ]
  },
  {
   "cell_type": "markdown",
   "id": "4e532a9a-cf15-4c94-8352-b90643b12578",
   "metadata": {},
   "source": [
    "- Iterables can be used in for loops\n",
    "- Iterables can be used in sum()"
   ]
  },
  {
   "cell_type": "code",
   "execution_count": 155,
   "id": "4a135fde-cffd-47bc-b2b4-a361da39136c",
   "metadata": {},
   "outputs": [
    {
     "data": {
      "text/plain": [
       "499500"
      ]
     },
     "execution_count": 155,
     "metadata": {},
     "output_type": "execute_result"
    }
   ],
   "source": [
    "sum(range(0,1000))"
   ]
  },
  {
   "cell_type": "markdown",
   "id": "d8596e00-616e-42a0-b0b7-e26f1a6eaf1e",
   "metadata": {},
   "source": [
    "- break statement breaks out of innermost enclosing for or while loop\n",
    "- a for or while loop can include an else clause\n",
    "- the else clause is executed after the for loop ends or after the while loop condition becomes false\n",
    "- in both cases, the else is not executed if the loop was terminated by break\n",
    "- the else clause belongs to the for/while loop and not the **if** statement"
   ]
  },
  {
   "cell_type": "code",
   "execution_count": 181,
   "id": "9b06fa12-df8c-4b5b-a464-a47090cb9591",
   "metadata": {},
   "outputs": [
    {
     "name": "stdout",
     "output_type": "stream",
     "text": [
      "2 is a prime number\n",
      "3 is a prime number\n",
      "4 equals 2 * 2\n",
      "5 is a prime number\n",
      "6 equals 2 * 3\n",
      "7 is a prime number\n",
      "8 equals 2 * 4\n",
      "9 equals 3 * 3\n"
     ]
    }
   ],
   "source": [
    "for n in range(2, 10):\n",
    "    for x in range(2, n):\n",
    "        if n % x == 0:\n",
    "            print(n, 'equals', x, '*', n//x)\n",
    "            break\n",
    "    else:\n",
    "        # loop fell through without finding a factor\n",
    "        print(n, 'is a prime number')"
   ]
  },
  {
   "cell_type": "markdown",
   "id": "8fdf8721-324e-4963-8147-c036dc6adbad",
   "metadata": {},
   "source": [
    "- Continue is used to skip the rest of loop and continue to next iteration"
   ]
  },
  {
   "cell_type": "code",
   "execution_count": 186,
   "id": "cab5de9d-1351-445a-869b-aa8c75839132",
   "metadata": {},
   "outputs": [
    {
     "name": "stdout",
     "output_type": "stream",
     "text": [
      "Found an even number 2\n",
      "Found an odd number 3\n",
      "Found an even number 4\n",
      "Found an odd number 5\n"
     ]
    }
   ],
   "source": [
    "for num in range(2, 6):\n",
    "    if num % 2 == 0:\n",
    "        print(\"Found an even number\", num)\n",
    "        continue\n",
    "    print(\"Found an odd number\", num)"
   ]
  },
  {
   "cell_type": "markdown",
   "id": "ba2a7801-871c-4d71-86e9-c8e795e6f1af",
   "metadata": {},
   "source": [
    "- pass statement does nothing"
   ]
  },
  {
   "cell_type": "code",
   "execution_count": 189,
   "id": "a5c32634-1920-40c0-ac6f-6370c99c462c",
   "metadata": {},
   "outputs": [],
   "source": [
    "class MyEmptyClass:\n",
    "    pass"
   ]
  },
  {
   "cell_type": "code",
   "execution_count": 190,
   "id": "6c1e8bb7-482f-47c4-9ce6-9313dacd9775",
   "metadata": {},
   "outputs": [],
   "source": [
    "def do_nothing():\n",
    "    pass"
   ]
  },
  {
   "cell_type": "markdown",
   "id": "efa914ab-4391-4c5b-86ca-06ee79002ed6",
   "metadata": {},
   "source": [
    "- Match compares its value to successive patterns given as one or more case blocks\n",
    "- Only the first pattern that matches gets executed\n",
    "- _ acts as a wildcard and never fails to match\n",
    "- If no case is matched, none of the branches get executed\n",
    "- 401 | 402 => means 401 \"or\" 402 "
   ]
  },
  {
   "cell_type": "code",
   "execution_count": 196,
   "id": "0dec2c29-85ad-41e9-b03c-7980a5417b4c",
   "metadata": {},
   "outputs": [],
   "source": [
    "def http_error(status):\n",
    "    match status:\n",
    "        case 400:\n",
    "            return \"Bad Request\"\n",
    "        case 401 | 403 | 404:\n",
    "            return \"Not Found\"\n",
    "        case _:\n",
    "            return \"Something's wrong with Internet\""
   ]
  },
  {
   "cell_type": "code",
   "execution_count": 199,
   "id": "f4da9a0f-ed64-47ee-b402-67fddb76b292",
   "metadata": {},
   "outputs": [
    {
     "data": {
      "text/plain": [
       "'Bad Request'"
      ]
     },
     "execution_count": 199,
     "metadata": {},
     "output_type": "execute_result"
    }
   ],
   "source": [
    "http_error(400)"
   ]
  },
  {
   "cell_type": "code",
   "execution_count": 197,
   "id": "ee99bc94-6b34-4ca1-85ca-70b2b652ba0a",
   "metadata": {},
   "outputs": [
    {
     "data": {
      "text/plain": [
       "'Not Found'"
      ]
     },
     "execution_count": 197,
     "metadata": {},
     "output_type": "execute_result"
    }
   ],
   "source": [
    "http_error(401)"
   ]
  },
  {
   "cell_type": "code",
   "execution_count": 200,
   "id": "da15cc11-9b78-45d0-b544-41194e0dedaf",
   "metadata": {},
   "outputs": [
    {
     "data": {
      "text/plain": [
       "\"Something's wrong with Internet\""
      ]
     },
     "execution_count": 200,
     "metadata": {},
     "output_type": "execute_result"
    }
   ],
   "source": [
    "http_error(405)"
   ]
  },
  {
   "cell_type": "markdown",
   "id": "27778ee5-480c-4b70-a2d0-fa00e666a1a9",
   "metadata": {},
   "source": [
    "- Patterns can look like unpacking assignments and can be used to bind variables\n",
    "- Case can also extract components from the value into variables"
   ]
  },
  {
   "cell_type": "code",
   "execution_count": 205,
   "id": "f813d4fb-a100-4c9c-bf6a-8952c22f7ec4",
   "metadata": {},
   "outputs": [],
   "source": [
    "def match_example(point):\n",
    "    match point:\n",
    "        case (0, 0):\n",
    "            print(\"Origin\")\n",
    "        case (0, y):\n",
    "            print(f\"Y={y}\")\n",
    "        case (x, 0):\n",
    "            print(f\"X={x}\")\n",
    "        case (x, y):\n",
    "            print(f\"X={x}, Y={y}\")\n",
    "        case _:\n",
    "            raise ValueError(\"Not a point\")"
   ]
  },
  {
   "cell_type": "code",
   "execution_count": 207,
   "id": "d83a97f6-500a-4c83-a99e-02b8e9819226",
   "metadata": {},
   "outputs": [
    {
     "name": "stdout",
     "output_type": "stream",
     "text": [
      "Origin\n"
     ]
    }
   ],
   "source": [
    "match_example((0,0))"
   ]
  },
  {
   "cell_type": "code",
   "execution_count": 208,
   "id": "10140cb8-d795-4ee6-8662-38fb36a22269",
   "metadata": {},
   "outputs": [
    {
     "name": "stdout",
     "output_type": "stream",
     "text": [
      "Y=1\n"
     ]
    }
   ],
   "source": [
    "match_example((0,1))"
   ]
  },
  {
   "cell_type": "code",
   "execution_count": 209,
   "id": "16e75979-c9de-4afb-bc42-a47da8d13b48",
   "metadata": {},
   "outputs": [
    {
     "name": "stdout",
     "output_type": "stream",
     "text": [
      "X=3\n"
     ]
    }
   ],
   "source": [
    "match_example((3,0))"
   ]
  },
  {
   "cell_type": "code",
   "execution_count": 210,
   "id": "ea71a67b-c6fc-46ab-96f7-a59e759b0ebb",
   "metadata": {},
   "outputs": [
    {
     "name": "stdout",
     "output_type": "stream",
     "text": [
      "X=3, Y=4\n"
     ]
    }
   ],
   "source": [
    "match_example((3,4))"
   ]
  },
  {
   "cell_type": "markdown",
   "id": "ef767557-0ba2-4049-ade3-19150f962b8f",
   "metadata": {},
   "source": [
    "- In Python, list and tuple comparisons are done recursively, which means all nested elements are compared elem by elem\n",
    "- Even though memory address are different, true is returned if all elements are same"
   ]
  },
  {
   "cell_type": "code",
   "execution_count": 222,
   "id": "cfa8078f-6ea1-4d3c-b02e-ea424e4fdfd5",
   "metadata": {},
   "outputs": [],
   "source": [
    "a1 = [1,2,3]\n",
    "a2 = [1,2,3]"
   ]
  },
  {
   "cell_type": "code",
   "execution_count": 226,
   "id": "58884b20-ca61-4c3f-9219-4c4aeb159daa",
   "metadata": {},
   "outputs": [
    {
     "data": {
      "text/plain": [
       "False"
      ]
     },
     "execution_count": 226,
     "metadata": {},
     "output_type": "execute_result"
    }
   ],
   "source": [
    "id(a1)==id(a2)"
   ]
  },
  {
   "cell_type": "code",
   "execution_count": 227,
   "id": "8974e368-7ce0-41c9-b7fd-6b6627b9c90a",
   "metadata": {},
   "outputs": [
    {
     "data": {
      "text/plain": [
       "True"
      ]
     },
     "execution_count": 227,
     "metadata": {},
     "output_type": "execute_result"
    }
   ],
   "source": [
    "a1==a2"
   ]
  },
  {
   "cell_type": "code",
   "execution_count": 272,
   "id": "7c987445-90a1-4761-bc12-f6f49efbd7ee",
   "metadata": {},
   "outputs": [],
   "source": [
    "a1 = [[1,2],[3,4]]"
   ]
  },
  {
   "cell_type": "code",
   "execution_count": 273,
   "id": "f857705b-7158-4541-ac2c-97a5fb6b8c7b",
   "metadata": {},
   "outputs": [],
   "source": [
    "a2 = [[1,2],[3,4]]"
   ]
  },
  {
   "cell_type": "code",
   "execution_count": 274,
   "id": "cfade9b3-9bb3-4ee8-9b1d-b60c0938de88",
   "metadata": {},
   "outputs": [
    {
     "data": {
      "text/plain": [
       "False"
      ]
     },
     "execution_count": 274,
     "metadata": {},
     "output_type": "execute_result"
    }
   ],
   "source": [
    "id(a1)==id(a2)"
   ]
  },
  {
   "cell_type": "code",
   "execution_count": 275,
   "id": "12dc8027-a248-4ba8-bcfa-8baedbfaf7d5",
   "metadata": {},
   "outputs": [
    {
     "data": {
      "text/plain": [
       "True"
      ]
     },
     "execution_count": 275,
     "metadata": {},
     "output_type": "execute_result"
    }
   ],
   "source": [
    "a1 == a2"
   ]
  },
  {
   "cell_type": "markdown",
   "id": "d49e6761-d678-4f95-8228-45551529f667",
   "metadata": {},
   "source": [
    "- Equality check for tuples is also recursive"
   ]
  },
  {
   "cell_type": "code",
   "execution_count": 286,
   "id": "ffa06d70-bfe1-4760-96af-c02ea821a38b",
   "metadata": {},
   "outputs": [],
   "source": [
    "a1 = (1,2,3,(4,5))\n",
    "a2 = (1,2,3,(4,5))"
   ]
  },
  {
   "cell_type": "code",
   "execution_count": 287,
   "id": "608038d8-8d27-487e-9956-a42d33c94373",
   "metadata": {},
   "outputs": [
    {
     "data": {
      "text/plain": [
       "False"
      ]
     },
     "execution_count": 287,
     "metadata": {},
     "output_type": "execute_result"
    }
   ],
   "source": [
    "id(a1) == id(a2)"
   ]
  },
  {
   "cell_type": "code",
   "execution_count": 288,
   "id": "8cc259f9-bcf9-48cc-96fa-c40fbcee79ad",
   "metadata": {},
   "outputs": [
    {
     "data": {
      "text/plain": [
       "True"
      ]
     },
     "execution_count": 288,
     "metadata": {},
     "output_type": "execute_result"
    }
   ],
   "source": [
    "a1 == a2"
   ]
  },
  {
   "cell_type": "markdown",
   "id": "963aea65-d4c3-4229-8987-0b21161abcb3",
   "metadata": {},
   "source": [
    "- Two identical strings can have same memory location.\n",
    "- This is called string interning\n",
    "- This is done to avoid creating multiple copies of same string in memory"
   ]
  },
  {
   "cell_type": "code",
   "execution_count": 284,
   "id": "df2e9407-24b5-41c0-8180-b62e6fed8a99",
   "metadata": {},
   "outputs": [],
   "source": [
    "name1 = \"hello\"\n",
    "name2 = \"hello\""
   ]
  },
  {
   "cell_type": "code",
   "execution_count": 285,
   "id": "9e0da3a4-14ab-40dd-9f33-00e26b367389",
   "metadata": {},
   "outputs": [
    {
     "data": {
      "text/plain": [
       "True"
      ]
     },
     "execution_count": 285,
     "metadata": {},
     "output_type": "execute_result"
    }
   ],
   "source": [
    "id(name1) == id(name2)"
   ]
  },
  {
   "cell_type": "markdown",
   "id": "4335cda0-e8aa-4ace-bddf-d13de00476ba",
   "metadata": {},
   "source": [
    "- Python functions execution introduces a new symbol table for the local variables of the fn\n",
    "- variable references in fn look in the following order:\n",
    "    - local symbol table of fn\n",
    "    - local symbol tables of enclosing functions\n",
    "    - global symbol table\n",
    "    - table of built-in names"
   ]
  },
  {
   "cell_type": "code",
   "execution_count": 328,
   "id": "fe7306ac-6797-4ff2-a0cf-853f2531023d",
   "metadata": {},
   "outputs": [
    {
     "data": {
      "text/plain": [
       "5"
      ]
     },
     "execution_count": 328,
     "metadata": {},
     "output_type": "execute_result"
    }
   ],
   "source": [
    "# global variables reference\n",
    "x = 5\n",
    "def reference_global_variable():\n",
    "    return x\n",
    "reference_global_variable()"
   ]
  },
  {
   "cell_type": "code",
   "execution_count": 331,
   "id": "46a83dad-a205-4c8e-ad3e-9be3a55f4a16",
   "metadata": {},
   "outputs": [
    {
     "data": {
      "text/plain": [
       "False"
      ]
     },
     "execution_count": 331,
     "metadata": {},
     "output_type": "execute_result"
    }
   ],
   "source": [
    "# reference local variable of same name\n",
    "x = 5\n",
    "def reference_local_variable():\n",
    "    x = 10\n",
    "    return id(x)\n",
    "reference_local_variable() == id(x)"
   ]
  },
  {
   "cell_type": "markdown",
   "id": "9d5f6941-c3d3-4905-8fd6-54e358976fe8",
   "metadata": {},
   "source": [
    "- Thus, global variables and variables of enclosing functions cannot be directly assigned a value within a fn.\n",
    "- To assign a value to global variable, use global statement.\n",
    "- To assign a value to local variable, use nonlocal statement.\n",
    "- nonlocal statement gives access to nearest enclosing functions' variable name"
   ]
  },
  {
   "cell_type": "code",
   "execution_count": 332,
   "id": "7e35fc5c-cf2e-48bd-8fa0-509bc3a00e0a",
   "metadata": {},
   "outputs": [
    {
     "name": "stdout",
     "output_type": "stream",
     "text": [
      "5\n"
     ]
    }
   ],
   "source": [
    "x = 5\n",
    "def update_global_variable():\n",
    "    x = 10\n",
    "update_global_variable()\n",
    "# not updated, as local variable of same name was created\n",
    "print(x)"
   ]
  },
  {
   "cell_type": "code",
   "execution_count": 333,
   "id": "6d7ee201-31c8-45eb-993c-7ccec7a40948",
   "metadata": {},
   "outputs": [
    {
     "name": "stdout",
     "output_type": "stream",
     "text": [
      "10\n"
     ]
    }
   ],
   "source": [
    "x = 5\n",
    "def update_global_variable():\n",
    "    global x\n",
    "    x = 10\n",
    "update_global_variable()\n",
    "# updated, as global variable was updated using global keyword\n",
    "print(x)"
   ]
  },
  {
   "cell_type": "code",
   "execution_count": 335,
   "id": "f8abe31e-0a21-49ca-8c5e-3c06dd9c4664",
   "metadata": {},
   "outputs": [
    {
     "name": "stdout",
     "output_type": "stream",
     "text": [
      "Inner x: 20\n",
      "Outer x: 20\n"
     ]
    }
   ],
   "source": [
    "def outer():\n",
    "    x = 10\n",
    "    def inner():\n",
    "        # access variable in outer fn\n",
    "        nonlocal x\n",
    "        x = 20\n",
    "        print(\"Inner x:\", x)\n",
    "    inner()\n",
    "    # outer fn's variable was also updated!\n",
    "    print(\"Outer x:\", x)\n",
    "outer()"
   ]
  },
  {
   "cell_type": "markdown",
   "id": "a2e500a8-6c19-4c37-98e6-febf1a09f915",
   "metadata": {},
   "source": [
    "- The arguments to a fun are introduced in the local symbol table of the called fn\n",
    "- For Python's immutable data types such as integer, string, tuples etc, its not possible to modify it, outside or inside the fn. Thus they behave as if they are call by value.\n",
    "- Python's mutable data types such lists, dictionary, sets behave as if they are passed call by reference. ie. modifications inside fn are reflected outside"
   ]
  },
  {
   "cell_type": "code",
   "execution_count": 365,
   "id": "889ea994-9f37-4594-b761-7eec3d125670",
   "metadata": {},
   "outputs": [
    {
     "name": "stdout",
     "output_type": "stream",
     "text": [
      "abc\n"
     ]
    }
   ],
   "source": [
    "# call by value, ie. immutable object passed\n",
    "name = \"abc\"\n",
    "def modify(name):\n",
    "    # local variable \"name\" shadows global variable \"name\"\n",
    "    name = \"def\"\n",
    "modify(name)\n",
    "print(name)"
   ]
  },
  {
   "cell_type": "code",
   "execution_count": 366,
   "id": "87ba0818-0fcb-4780-8b65-b0ef5a56344c",
   "metadata": {},
   "outputs": [
    {
     "name": "stdout",
     "output_type": "stream",
     "text": [
      "(1, 2, 3)\n"
     ]
    }
   ],
   "source": [
    "# call by value, ie. immutable object passed\n",
    "name = (1,2,3)\n",
    "def modify(name):\n",
    "    name = (4,5,6)\n",
    "modify(name)\n",
    "print(name)"
   ]
  },
  {
   "cell_type": "code",
   "execution_count": 367,
   "id": "3da69f1c-59f1-41d0-8906-de869cc006e3",
   "metadata": {},
   "outputs": [
    {
     "name": "stdout",
     "output_type": "stream",
     "text": [
      "140678481800192\n",
      "140678483226688\n",
      "[1, 2, 3]\n"
     ]
    }
   ],
   "source": [
    "# call by reference, ie. mutable object passed\n",
    "name = [1,2,3]\n",
    "print(id(name))\n",
    "def modify(name):\n",
    "    # local variable \"name\" shadows global variable \"name\"\n",
    "    name = [4,5,6]\n",
    "    print(id(name))\n",
    "modify(name)\n",
    "print(name)"
   ]
  },
  {
   "cell_type": "code",
   "execution_count": 369,
   "id": "5591ad57-2180-475b-896e-55b756b02fbb",
   "metadata": {},
   "outputs": [
    {
     "name": "stdout",
     "output_type": "stream",
     "text": [
      "140678481800192\n",
      "140678481800192\n",
      "[1, 2, 3, 4]\n"
     ]
    }
   ],
   "source": [
    "# call by reference, ie. mutable object passed\n",
    "name = [1,2,3]\n",
    "print(id(name))\n",
    "def modify(name):\n",
    "    # here, name is referencing to global mutable variable\n",
    "    print(id(name))\n",
    "    name.append(4)\n",
    "modify(name)\n",
    "print(name)"
   ]
  },
  {
   "cell_type": "markdown",
   "id": "11eaf1bd-d95a-4f79-8903-a5ed450d89c8",
   "metadata": {},
   "source": [
    "- Method vs Function\n",
    "- Method is a fn that belongs to an object. for example: append method belongs to a list\n",
    "- A function can be defined with default setting of arguments and can be called in several ways\n",
    "- keyword arguments must follow positional arguments"
   ]
  },
  {
   "cell_type": "code",
   "execution_count": 371,
   "id": "0a410605-52f8-4e73-94c1-28be789d7279",
   "metadata": {},
   "outputs": [],
   "source": [
    "def fn_name(arg1,keyword_arg1=\"1\",keyword_arg2=\"2\"):\n",
    "    print(\"arg1\",arg1)\n",
    "    print(\"keyword_arg1\",keyword_arg1)\n",
    "    print(\"keyword_arg2\",keyword_arg2)"
   ]
  },
  {
   "cell_type": "code",
   "execution_count": 372,
   "id": "26f2fb4a-ee84-42c2-a004-46d5181acb6b",
   "metadata": {},
   "outputs": [
    {
     "name": "stdout",
     "output_type": "stream",
     "text": [
      "arg1 hello\n",
      "keyword_arg1 1\n",
      "keyword_arg2 2\n"
     ]
    }
   ],
   "source": [
    "fn_name(\"hello\")"
   ]
  },
  {
   "cell_type": "code",
   "execution_count": 388,
   "id": "e661aec8-d59d-4468-aac6-9e3d3cea9785",
   "metadata": {},
   "outputs": [
    {
     "name": "stdout",
     "output_type": "stream",
     "text": [
      "arg1 hello\n",
      "keyword_arg1 1\n",
      "keyword_arg2 2\n"
     ]
    }
   ],
   "source": [
    "fn_name(arg1=\"hello\")"
   ]
  },
  {
   "cell_type": "code",
   "execution_count": 374,
   "id": "8498b09a-a080-4870-8c50-2ad09181e975",
   "metadata": {},
   "outputs": [
    {
     "name": "stdout",
     "output_type": "stream",
     "text": [
      "arg1 hello\n",
      "keyword_arg1 3\n",
      "keyword_arg2 4\n"
     ]
    }
   ],
   "source": [
    "fn_name(\"hello\",3,4)"
   ]
  },
  {
   "cell_type": "code",
   "execution_count": 375,
   "id": "b6952547-a618-4fc0-989a-b7292ad00517",
   "metadata": {},
   "outputs": [
    {
     "name": "stdout",
     "output_type": "stream",
     "text": [
      "arg1 hello\n",
      "keyword_arg1 3\n",
      "keyword_arg2 2\n"
     ]
    }
   ],
   "source": [
    "fn_name(\"hello\",3)"
   ]
  },
  {
   "cell_type": "code",
   "execution_count": 376,
   "id": "fbbd1d7f-332c-4d46-a5b5-b3df9da93eb5",
   "metadata": {},
   "outputs": [
    {
     "name": "stdout",
     "output_type": "stream",
     "text": [
      "arg1 hello\n",
      "keyword_arg1 3\n",
      "keyword_arg2 2\n"
     ]
    }
   ],
   "source": [
    "fn_name(\"hello\",keyword_arg1=3)"
   ]
  },
  {
   "cell_type": "code",
   "execution_count": 377,
   "id": "deaad867-2fb3-40e1-ad3a-b724161a5b3b",
   "metadata": {},
   "outputs": [
    {
     "name": "stdout",
     "output_type": "stream",
     "text": [
      "arg1 hello\n",
      "keyword_arg1 3\n",
      "keyword_arg2 5\n"
     ]
    }
   ],
   "source": [
    "fn_name(\"hello\",keyword_arg1=3,keyword_arg2=5)"
   ]
  },
  {
   "cell_type": "code",
   "execution_count": 378,
   "id": "0a468fef-36e9-455e-b9a5-d53ad23e5c3f",
   "metadata": {},
   "outputs": [
    {
     "name": "stdout",
     "output_type": "stream",
     "text": [
      "arg1 hello\n",
      "keyword_arg1 5\n",
      "keyword_arg2 3\n"
     ]
    }
   ],
   "source": [
    "fn_name(\"hello\",keyword_arg2=3,keyword_arg1=5)"
   ]
  },
  {
   "cell_type": "markdown",
   "id": "da8e0b02-e5be-4644-b1ea-46b47f52536c",
   "metadata": {},
   "source": [
    "- Default values are evaluated at the point of function definiton in the defining scope"
   ]
  },
  {
   "cell_type": "code",
   "execution_count": 379,
   "id": "8907e8c6-2603-42f9-8ccb-3dab7b1d5395",
   "metadata": {},
   "outputs": [
    {
     "name": "stdout",
     "output_type": "stream",
     "text": [
      "5\n"
     ]
    }
   ],
   "source": [
    "i = 5\n",
    "\n",
    "def f(arg=i):\n",
    "    print(arg)\n",
    "\n",
    "i = 6\n",
    "f()"
   ]
  },
  {
   "cell_type": "markdown",
   "id": "0b69301b-719f-455d-95bc-8c7ceebaa992",
   "metadata": {},
   "source": [
    "- The default value is evaluated only once. When a mutable object is made default value eg a list, the function accumulates the arguments!"
   ]
  },
  {
   "cell_type": "code",
   "execution_count": 386,
   "id": "7d9eb181-18e7-4226-a58e-b53b147e735b",
   "metadata": {},
   "outputs": [
    {
     "name": "stdout",
     "output_type": "stream",
     "text": [
      "[1]\n",
      "[1, 2]\n",
      "[1, 2, 3]\n"
     ]
    }
   ],
   "source": [
    "def f(a,L=[]):\n",
    "    L.append(a)\n",
    "    return L\n",
    "\n",
    "print(f(1))\n",
    "print(f(2))\n",
    "print(f(3))"
   ]
  },
  {
   "cell_type": "code",
   "execution_count": 387,
   "id": "b7333d61-a11f-4c9b-af1d-080d6f057692",
   "metadata": {},
   "outputs": [
    {
     "name": "stdout",
     "output_type": "stream",
     "text": [
      "[1]\n",
      "[2]\n",
      "[3]\n"
     ]
    }
   ],
   "source": [
    "# write this way instead\n",
    "def f(a,L=None):\n",
    "    if L is None:\n",
    "        L = []\n",
    "    L.append(a)\n",
    "    return L\n",
    "\n",
    "print(f(1))\n",
    "print(f(2))\n",
    "print(f(3))"
   ]
  },
  {
   "cell_type": "markdown",
   "id": "82aaa672-3486-490f-864e-749a7bc49b48",
   "metadata": {},
   "source": [
    "- \\**name receives a dictionary containing all keyword arguments except for those corresponding to a formal paramter.\n",
    "- \\*name receives a tuple containing the positional arguments beyond the formal parameter list\n",
    "- \\*name must occur before \\**name\n",
    "- that the order in which the keyword arguments are printed is guaranteed to match the order in which they were provided"
   ]
  },
  {
   "cell_type": "code",
   "execution_count": 389,
   "id": "38aa22d7-4d6f-436b-8828-fe68c95ec25f",
   "metadata": {},
   "outputs": [],
   "source": [
    "def fn(name,*args,**keywords):\n",
    "    print(\"name\",name)\n",
    "    print(\"args\",args)\n",
    "    print(\"keywords\",keywords)"
   ]
  },
  {
   "cell_type": "code",
   "execution_count": 390,
   "id": "056b6590-4d9a-4655-8d6e-0226c2f39762",
   "metadata": {},
   "outputs": [
    {
     "name": "stdout",
     "output_type": "stream",
     "text": [
      "name james\n",
      "args ()\n",
      "keywords {}\n"
     ]
    }
   ],
   "source": [
    "fn(\"james\")"
   ]
  },
  {
   "cell_type": "code",
   "execution_count": 391,
   "id": "cc05bc5b-cdd0-4224-b694-4c39fe2bff2e",
   "metadata": {},
   "outputs": [
    {
     "name": "stdout",
     "output_type": "stream",
     "text": [
      "name james\n",
      "args ()\n",
      "keywords {}\n"
     ]
    }
   ],
   "source": [
    "fn(name=\"james\")"
   ]
  },
  {
   "cell_type": "code",
   "execution_count": 392,
   "id": "b015566e-6250-45c1-957d-cd6fa697821c",
   "metadata": {},
   "outputs": [
    {
     "name": "stdout",
     "output_type": "stream",
     "text": [
      "name james\n",
      "args ()\n",
      "keywords {'age': 12}\n"
     ]
    }
   ],
   "source": [
    "fn(name=\"james\",age=12)"
   ]
  },
  {
   "cell_type": "code",
   "execution_count": 394,
   "id": "6cc8cbfb-16dc-4384-98ee-dffefcc07382",
   "metadata": {},
   "outputs": [
    {
     "name": "stdout",
     "output_type": "stream",
     "text": [
      "name james\n",
      "args ('seven',)\n",
      "keywords {'age': 12}\n"
     ]
    }
   ],
   "source": [
    "fn(\"james\",\"seven\",age=12)"
   ]
  },
  {
   "cell_type": "code",
   "execution_count": 395,
   "id": "8dad7d3e-6f5f-4e72-8773-79c0d14ee3a8",
   "metadata": {},
   "outputs": [
    {
     "name": "stdout",
     "output_type": "stream",
     "text": [
      "name james\n",
      "args ('joe', 'biden')\n",
      "keywords {'age': 60, 'designation': 'president'}\n"
     ]
    }
   ],
   "source": [
    "fn(\"james\",\"joe\",\"biden\",age=60,designation=\"president\")"
   ]
  },
  {
   "cell_type": "markdown",
   "id": "d2ec6019-d745-4bad-99c1-ab006129fab2",
   "metadata": {},
   "source": [
    "- Unpack the positional arguments to a fn from a list/tuple"
   ]
  },
  {
   "cell_type": "code",
   "execution_count": 396,
   "id": "4c032ee2-3d71-4223-aae0-0cbf4b34dd13",
   "metadata": {},
   "outputs": [],
   "source": [
    "args = [3,6]\n",
    "def sum(a,b):\n",
    "    return a + b"
   ]
  },
  {
   "cell_type": "code",
   "execution_count": 398,
   "id": "e0020815-3269-4fb9-9ea5-67fa699a7518",
   "metadata": {},
   "outputs": [
    {
     "data": {
      "text/plain": [
       "9"
      ]
     },
     "execution_count": 398,
     "metadata": {},
     "output_type": "execute_result"
    }
   ],
   "source": [
    "sum(*args)"
   ]
  },
  {
   "cell_type": "code",
   "execution_count": 399,
   "id": "6855a859-5238-4f73-a2bf-0ac89164650d",
   "metadata": {},
   "outputs": [],
   "source": [
    "# results in error\n",
    "# sum(args)"
   ]
  },
  {
   "cell_type": "markdown",
   "id": "70d24dc5-6a9c-48c3-aa58-da10a4ee70e6",
   "metadata": {},
   "source": [
    "- Unpack the keyword arguments to a fun from dictionary"
   ]
  },
  {
   "cell_type": "code",
   "execution_count": 407,
   "id": "c8ce6f86-5ad2-4f56-9f09-f5566725373c",
   "metadata": {},
   "outputs": [],
   "source": [
    "d = {\"a\": \"1\", \"b\": \"2\", \"c\": \"3\"}\n",
    "def fn(a=None,b=None,c=None):\n",
    "    print(a,b,c)"
   ]
  },
  {
   "cell_type": "code",
   "execution_count": 408,
   "id": "c0803f2d-3b5e-4974-8591-26b7be2fb778",
   "metadata": {},
   "outputs": [
    {
     "name": "stdout",
     "output_type": "stream",
     "text": [
      "1 2 3\n"
     ]
    }
   ],
   "source": [
    "fn(**d)"
   ]
  },
  {
   "cell_type": "markdown",
   "id": "3ceb952c-41c8-4080-8cbd-306475b41337",
   "metadata": {},
   "source": [
    "- Lambda fn"
   ]
  },
  {
   "cell_type": "code",
   "execution_count": 409,
   "id": "a2d84ddb-f3d2-4f45-8fb3-2bf53b57f0c1",
   "metadata": {},
   "outputs": [],
   "source": [
    "def make_incrementor(n):\n",
    "    return lambda x: x + n"
   ]
  },
  {
   "cell_type": "code",
   "execution_count": 411,
   "id": "123c7c0e-a33c-42ee-ab0b-eb6e6c08cebc",
   "metadata": {},
   "outputs": [],
   "source": [
    "f = make_incrementor(42)"
   ]
  },
  {
   "cell_type": "code",
   "execution_count": 414,
   "id": "655a870b-61eb-40c1-8a25-4c40469a7216",
   "metadata": {},
   "outputs": [
    {
     "data": {
      "text/plain": [
       "42"
      ]
     },
     "execution_count": 414,
     "metadata": {},
     "output_type": "execute_result"
    }
   ],
   "source": [
    "f(0)"
   ]
  },
  {
   "cell_type": "code",
   "execution_count": 415,
   "id": "d3273084-fa51-43e9-ab0f-2d980e6530ca",
   "metadata": {},
   "outputs": [
    {
     "data": {
      "text/plain": [
       "43"
      ]
     },
     "execution_count": 415,
     "metadata": {},
     "output_type": "execute_result"
    }
   ],
   "source": [
    "f(1)"
   ]
  },
  {
   "cell_type": "code",
   "execution_count": 416,
   "id": "43aaa531-9d04-469c-814a-31f7991c8aa7",
   "metadata": {},
   "outputs": [],
   "source": [
    "pairs = [(1, 'one'), (2, 'two'), (3, 'three'), (4, 'four')]"
   ]
  },
  {
   "cell_type": "code",
   "execution_count": 417,
   "id": "9c30bb99-7f98-4be0-8736-cd2cd763a357",
   "metadata": {},
   "outputs": [
    {
     "data": {
      "text/plain": [
       "[(1, 'one'), (2, 'two'), (3, 'three'), (4, 'four')]"
      ]
     },
     "execution_count": 417,
     "metadata": {},
     "output_type": "execute_result"
    }
   ],
   "source": [
    "pairs"
   ]
  },
  {
   "cell_type": "code",
   "execution_count": 420,
   "id": "d1749413-951a-42e0-a55f-e2fc810167f9",
   "metadata": {},
   "outputs": [],
   "source": [
    "pairs.sort(key=lambda x:x[1])"
   ]
  },
  {
   "cell_type": "code",
   "execution_count": 421,
   "id": "279fecaa-8486-4719-8b32-9caabf4e0315",
   "metadata": {},
   "outputs": [
    {
     "data": {
      "text/plain": [
       "[(4, 'four'), (1, 'one'), (3, 'three'), (2, 'two')]"
      ]
     },
     "execution_count": 421,
     "metadata": {},
     "output_type": "execute_result"
    }
   ],
   "source": [
    "pairs"
   ]
  },
  {
   "cell_type": "markdown",
   "id": "bcd6f31d-c255-4179-829e-da2ca8d3a0bb",
   "metadata": {},
   "source": [
    "- PEP8 is the style guide for Python\n",
    "Main Points:\n",
    "- Use 4-space indentation, no space.\n",
    "- Wrap lines s/t max 79 chars in 1 line.\n",
    "- Put comments on a line of their own.\n",
    "- Use docstrings\n",
    "- Use spaces around operators and after commas, but not inside the brackets. eg. a = f(1, 2) + g(3, 4)\n",
    "- Name classes using UpperCamelCase\n",
    "- Name fns using lowercase_with_underscores\n",
    "- Use self as the name for first method argument"
   ]
  },
  {
   "cell_type": "code",
   "execution_count": 426,
   "id": "61a19032-630d-434c-b404-7062eabfde5a",
   "metadata": {},
   "outputs": [],
   "source": [
    "# no code example"
   ]
  },
  {
   "cell_type": "markdown",
   "id": "15c286c6-a4fc-44ff-815f-b6fccaabf4ca",
   "metadata": {},
   "source": [
    "- List methods\n",
    "- Append = add item at last\n",
    "- Extend = add iterable at list\n",
    "- Insert = insert an item at given index i value x\n",
    "- a.insert(0,x) = insert x at first index\n",
    "- a.insert(len(a),x) = insert x at last index\n",
    "- a.remove(x) = remove the first item found\n",
    "- a.pop(i) = removes the element at index i and return it\n",
    "- a.pop() = removes and returns the last item in list\n",
    "- a.clear() = delete all items from list\n",
    "- del a[:] = same as a.clear()\n",
    "- Index = a.index(x) -> return index of the first item x\n",
    "- a.count(x) -> count the number of times x appeared\n",
    "- a.reverse()\n",
    "- a.sort() / sorted() -> can pass key to sort based on key\n",
    "- a.copy() -> return a shallow copy.\n",
    "- a[:] -> same as a.copy()"
   ]
  },
  {
   "cell_type": "code",
   "execution_count": 434,
   "id": "18b3a808-005d-45be-b8f2-feb16b4c975a",
   "metadata": {},
   "outputs": [
    {
     "data": {
      "text/plain": [
       "['orange', 'apple', 'pear', 'banana', 'kiwi', 'apple', 'banana']"
      ]
     },
     "execution_count": 434,
     "metadata": {},
     "output_type": "execute_result"
    }
   ],
   "source": [
    "fruits = ['orange', 'apple', 'pear', 'banana', 'kiwi', 'apple', 'banana']\n",
    "fruits"
   ]
  },
  {
   "cell_type": "code",
   "execution_count": 435,
   "id": "3112cb63-14d2-412c-98b1-bec7e27d2650",
   "metadata": {},
   "outputs": [
    {
     "data": {
      "text/plain": [
       "2"
      ]
     },
     "execution_count": 435,
     "metadata": {},
     "output_type": "execute_result"
    }
   ],
   "source": [
    "fruits.count('apple')"
   ]
  },
  {
   "cell_type": "code",
   "execution_count": 436,
   "id": "7ad6c193-8006-4957-8855-065c1245799f",
   "metadata": {},
   "outputs": [
    {
     "data": {
      "text/plain": [
       "0"
      ]
     },
     "execution_count": 436,
     "metadata": {},
     "output_type": "execute_result"
    }
   ],
   "source": [
    "fruits.count('tangerine')"
   ]
  },
  {
   "cell_type": "code",
   "execution_count": 437,
   "id": "7dc0cc41-dad4-4467-8668-782af6e43581",
   "metadata": {},
   "outputs": [
    {
     "data": {
      "text/plain": [
       "3"
      ]
     },
     "execution_count": 437,
     "metadata": {},
     "output_type": "execute_result"
    }
   ],
   "source": [
    "fruits.index('banana')"
   ]
  },
  {
   "cell_type": "code",
   "execution_count": 438,
   "id": "4a3e1d91-dae3-483a-8ee0-2ae01c4f4bfc",
   "metadata": {},
   "outputs": [],
   "source": [
    "fruits.reverse()"
   ]
  },
  {
   "cell_type": "code",
   "execution_count": 439,
   "id": "abc99489-cc3b-48fb-a843-49610de6f636",
   "metadata": {},
   "outputs": [
    {
     "data": {
      "text/plain": [
       "['banana', 'apple', 'kiwi', 'banana', 'pear', 'apple', 'orange']"
      ]
     },
     "execution_count": 439,
     "metadata": {},
     "output_type": "execute_result"
    }
   ],
   "source": [
    "fruits"
   ]
  },
  {
   "cell_type": "code",
   "execution_count": 440,
   "id": "39a70c67-f723-493d-8777-530eb3ef20cc",
   "metadata": {},
   "outputs": [],
   "source": [
    "fruits.append('grape')"
   ]
  },
  {
   "cell_type": "code",
   "execution_count": 441,
   "id": "aeee53a3-27f0-4ce5-8131-1db5f0fa3623",
   "metadata": {},
   "outputs": [
    {
     "data": {
      "text/plain": [
       "['banana', 'apple', 'kiwi', 'banana', 'pear', 'apple', 'orange', 'grape']"
      ]
     },
     "execution_count": 441,
     "metadata": {},
     "output_type": "execute_result"
    }
   ],
   "source": [
    "fruits"
   ]
  },
  {
   "cell_type": "code",
   "execution_count": 442,
   "id": "b2138870-c88f-40f8-8d6f-cefc26c979e9",
   "metadata": {},
   "outputs": [],
   "source": [
    "fruits.sort()"
   ]
  },
  {
   "cell_type": "code",
   "execution_count": 443,
   "id": "96d45ad2-8c6e-4c4f-b5c0-b84a3d039e86",
   "metadata": {},
   "outputs": [
    {
     "data": {
      "text/plain": [
       "['apple', 'apple', 'banana', 'banana', 'grape', 'kiwi', 'orange', 'pear']"
      ]
     },
     "execution_count": 443,
     "metadata": {},
     "output_type": "execute_result"
    }
   ],
   "source": [
    "fruits"
   ]
  },
  {
   "cell_type": "code",
   "execution_count": 444,
   "id": "20ca1263-4244-4d27-ab29-7b0d7c143da2",
   "metadata": {},
   "outputs": [
    {
     "data": {
      "text/plain": [
       "'pear'"
      ]
     },
     "execution_count": 444,
     "metadata": {},
     "output_type": "execute_result"
    }
   ],
   "source": [
    "fruits.pop()"
   ]
  },
  {
   "cell_type": "code",
   "execution_count": 445,
   "id": "a8b7ac2c-e573-4ee1-8d4a-3613aaa56bf8",
   "metadata": {},
   "outputs": [
    {
     "data": {
      "text/plain": [
       "['apple', 'apple', 'banana', 'banana', 'grape', 'kiwi', 'orange']"
      ]
     },
     "execution_count": 445,
     "metadata": {},
     "output_type": "execute_result"
    }
   ],
   "source": [
    "fruits"
   ]
  },
  {
   "cell_type": "markdown",
   "id": "cd73c731-78f8-401a-b818-b68b2f184b0e",
   "metadata": {},
   "source": [
    "- Using list as stack"
   ]
  },
  {
   "cell_type": "code",
   "execution_count": 446,
   "id": "9fc7f2d1-8f0c-42ff-8b78-f36e571a2b32",
   "metadata": {},
   "outputs": [],
   "source": [
    "stack = [3, 4, 5]"
   ]
  },
  {
   "cell_type": "code",
   "execution_count": 447,
   "id": "b4408084-22ad-4e88-b6ce-1d635fa08fc5",
   "metadata": {},
   "outputs": [],
   "source": [
    "stack.append(6)"
   ]
  },
  {
   "cell_type": "code",
   "execution_count": 448,
   "id": "72a867e9-383e-4a7d-9dc0-8a6d657177b0",
   "metadata": {},
   "outputs": [],
   "source": [
    "stack.append(7)"
   ]
  },
  {
   "cell_type": "code",
   "execution_count": 449,
   "id": "319c7821-f1a2-45e3-a8a9-723d986a9032",
   "metadata": {},
   "outputs": [
    {
     "data": {
      "text/plain": [
       "[3, 4, 5, 6, 7]"
      ]
     },
     "execution_count": 449,
     "metadata": {},
     "output_type": "execute_result"
    }
   ],
   "source": [
    "stack"
   ]
  },
  {
   "cell_type": "code",
   "execution_count": 450,
   "id": "23693bb4-37d1-49a3-9990-d2a98aa280e1",
   "metadata": {},
   "outputs": [
    {
     "data": {
      "text/plain": [
       "7"
      ]
     },
     "execution_count": 450,
     "metadata": {},
     "output_type": "execute_result"
    }
   ],
   "source": [
    "stack.pop()"
   ]
  },
  {
   "cell_type": "code",
   "execution_count": 451,
   "id": "2690106c-e4ff-4a56-94cd-ebcfc2c11deb",
   "metadata": {},
   "outputs": [
    {
     "data": {
      "text/plain": [
       "[3, 4, 5, 6]"
      ]
     },
     "execution_count": 451,
     "metadata": {},
     "output_type": "execute_result"
    }
   ],
   "source": [
    "stack"
   ]
  },
  {
   "cell_type": "code",
   "execution_count": 452,
   "id": "9724dee3-9daf-4597-94b6-fd93d5632278",
   "metadata": {},
   "outputs": [
    {
     "data": {
      "text/plain": [
       "6"
      ]
     },
     "execution_count": 452,
     "metadata": {},
     "output_type": "execute_result"
    }
   ],
   "source": [
    "stack.pop()"
   ]
  },
  {
   "cell_type": "code",
   "execution_count": 453,
   "id": "592f99f5-84fa-4fcc-9fdf-6ac6aaa84d29",
   "metadata": {},
   "outputs": [
    {
     "data": {
      "text/plain": [
       "[3, 4, 5]"
      ]
     },
     "execution_count": 453,
     "metadata": {},
     "output_type": "execute_result"
    }
   ],
   "source": [
    "stack"
   ]
  },
  {
   "cell_type": "markdown",
   "id": "38fd97d1-fc53-40ce-9b27-0758882fd470",
   "metadata": {},
   "source": [
    "- Use list as queue\n",
    "- append = O(1) amortized time complexity.\n",
    "- amortized because list needs to resized if array is full\n",
    "- pop() = O(1) if popping from end\n",
    "- pop(i) = O(n) = requires shifting all subsequent elements one position to the left."
   ]
  },
  {
   "cell_type": "code",
   "execution_count": 458,
   "id": "24fb2e5f-b937-4704-ba4d-63058582e1bc",
   "metadata": {},
   "outputs": [],
   "source": [
    "queue = [1,2,3]"
   ]
  },
  {
   "cell_type": "code",
   "execution_count": 459,
   "id": "3365cde4-6b4b-4863-84a0-7e876de5cf9c",
   "metadata": {},
   "outputs": [],
   "source": [
    "# enqueue O(1)\n",
    "queue.append(4)"
   ]
  },
  {
   "cell_type": "code",
   "execution_count": 463,
   "id": "d730ca6b-bece-4e35-9c76-0c2be107938b",
   "metadata": {},
   "outputs": [
    {
     "data": {
      "text/plain": [
       "2"
      ]
     },
     "execution_count": 463,
     "metadata": {},
     "output_type": "execute_result"
    }
   ],
   "source": [
    "# dequeue -> slow!\n",
    "queue.pop(0)"
   ]
  },
  {
   "cell_type": "code",
   "execution_count": 464,
   "id": "3c053986-55cd-441d-b6f0-245bb7cb3af9",
   "metadata": {},
   "outputs": [
    {
     "data": {
      "text/plain": [
       "[3, 4]"
      ]
     },
     "execution_count": 464,
     "metadata": {},
     "output_type": "execute_result"
    }
   ],
   "source": [
    "queue"
   ]
  },
  {
   "cell_type": "markdown",
   "id": "d40741c4-128d-476f-bbda-637cee40ebdb",
   "metadata": {},
   "source": [
    "- Use collections.deque for fast appends and fast pops from both ends!"
   ]
  },
  {
   "cell_type": "code",
   "execution_count": 466,
   "id": "052d698c-0f1b-408b-8624-3138e75231d0",
   "metadata": {},
   "outputs": [],
   "source": [
    "from collections import deque"
   ]
  },
  {
   "cell_type": "code",
   "execution_count": 467,
   "id": "2159bb91-5ba6-47f2-b88f-c4c0590dce37",
   "metadata": {},
   "outputs": [],
   "source": [
    "queue = deque([\"Eric\",\"John\",\"Micheal\"])"
   ]
  },
  {
   "cell_type": "code",
   "execution_count": 468,
   "id": "31ee3c55-ce86-48ab-b0a2-382137af44c2",
   "metadata": {},
   "outputs": [],
   "source": [
    "queue.append(\"Terry\")"
   ]
  },
  {
   "cell_type": "code",
   "execution_count": 469,
   "id": "472bfdc1-77d7-4b7f-aed4-7b4f81e4f09e",
   "metadata": {},
   "outputs": [],
   "source": [
    "queue.append(\"Graham\")"
   ]
  },
  {
   "cell_type": "code",
   "execution_count": 470,
   "id": "5c9a4857-2d20-4c47-8b7d-53057fb356ee",
   "metadata": {},
   "outputs": [
    {
     "data": {
      "text/plain": [
       "'Eric'"
      ]
     },
     "execution_count": 470,
     "metadata": {},
     "output_type": "execute_result"
    }
   ],
   "source": [
    "queue.popleft()"
   ]
  },
  {
   "cell_type": "code",
   "execution_count": 471,
   "id": "c9878668-febf-4e49-8c7e-1c91833e645d",
   "metadata": {},
   "outputs": [
    {
     "data": {
      "text/plain": [
       "deque(['John', 'Micheal', 'Terry', 'Graham'])"
      ]
     },
     "execution_count": 471,
     "metadata": {},
     "output_type": "execute_result"
    }
   ],
   "source": [
    "queue"
   ]
  },
  {
   "cell_type": "code",
   "execution_count": 472,
   "id": "9e08aeb7-e0ac-483b-a7ea-029f4ece6a1e",
   "metadata": {},
   "outputs": [
    {
     "data": {
      "text/plain": [
       "'John'"
      ]
     },
     "execution_count": 472,
     "metadata": {},
     "output_type": "execute_result"
    }
   ],
   "source": [
    "queue.popleft()"
   ]
  },
  {
   "cell_type": "code",
   "execution_count": 473,
   "id": "09551832-23a2-49d0-ad3c-7868cc913f9f",
   "metadata": {},
   "outputs": [
    {
     "data": {
      "text/plain": [
       "deque(['Micheal', 'Terry', 'Graham'])"
      ]
     },
     "execution_count": 473,
     "metadata": {},
     "output_type": "execute_result"
    }
   ],
   "source": [
    "queue"
   ]
  },
  {
   "cell_type": "markdown",
   "id": "9e6cc617-0d03-4270-a0f5-11aa8b633fc3",
   "metadata": {},
   "source": [
    "- List Comprehensions"
   ]
  },
  {
   "cell_type": "code",
   "execution_count": 475,
   "id": "2f1438c1-dc40-4175-b506-640b23e99689",
   "metadata": {},
   "outputs": [
    {
     "data": {
      "text/plain": [
       "[0, 1, 4, 9, 16, 25, 36, 49, 64, 81]"
      ]
     },
     "execution_count": 475,
     "metadata": {},
     "output_type": "execute_result"
    }
   ],
   "source": [
    "squares = [x**2 for x in range(10)]\n",
    "squares"
   ]
  },
  {
   "cell_type": "code",
   "execution_count": 477,
   "id": "a055058c-3590-4a94-82af-06bbbf19f874",
   "metadata": {},
   "outputs": [
    {
     "data": {
      "text/plain": [
       "[(1, 3), (1, 4), (2, 3), (2, 1), (2, 4), (3, 1), (3, 4)]"
      ]
     },
     "execution_count": 477,
     "metadata": {},
     "output_type": "execute_result"
    }
   ],
   "source": [
    "# ex: combine the elements of two lists if they are not equal\n",
    "[(x,y) for x in [1,2,3] for y in [3,1,4] if x!=y]"
   ]
  },
  {
   "cell_type": "code",
   "execution_count": 478,
   "id": "7f7cdb81-4672-4b0b-a688-b9058e322d45",
   "metadata": {},
   "outputs": [
    {
     "data": {
      "text/plain": [
       "[-8, -4, 0, 4, 8]"
      ]
     },
     "execution_count": 478,
     "metadata": {},
     "output_type": "execute_result"
    }
   ],
   "source": [
    "vec = [-4, -2, 0, 2, 4]\n",
    "[x*2 for x in vec]"
   ]
  },
  {
   "cell_type": "code",
   "execution_count": 479,
   "id": "e1fab0c7-b68b-489a-a634-2f308bf50fda",
   "metadata": {},
   "outputs": [
    {
     "data": {
      "text/plain": [
       "[0, 2, 4]"
      ]
     },
     "execution_count": 479,
     "metadata": {},
     "output_type": "execute_result"
    }
   ],
   "source": [
    "[x for x in vec if x>=0]"
   ]
  },
  {
   "cell_type": "code",
   "execution_count": 480,
   "id": "7a75db76-f1ef-4547-bdfc-29d547d3524d",
   "metadata": {},
   "outputs": [
    {
     "data": {
      "text/plain": [
       "[4, 2, 0, 2, 4]"
      ]
     },
     "execution_count": 480,
     "metadata": {},
     "output_type": "execute_result"
    }
   ],
   "source": [
    "[abs(x) for x in vec]"
   ]
  },
  {
   "cell_type": "code",
   "execution_count": 482,
   "id": "24b46a9a-a1bc-4942-84cc-5f78c0c7e4e0",
   "metadata": {},
   "outputs": [
    {
     "data": {
      "text/plain": [
       "['  banana', '  loganberry ', 'passion fruit  ']"
      ]
     },
     "execution_count": 482,
     "metadata": {},
     "output_type": "execute_result"
    }
   ],
   "source": [
    "freshfruit = ['  banana', '  loganberry ', 'passion fruit  ']\n",
    "freshfruit"
   ]
  },
  {
   "cell_type": "code",
   "execution_count": 483,
   "id": "0c6b5056-9d63-4585-b8c1-b28b086c8797",
   "metadata": {},
   "outputs": [
    {
     "data": {
      "text/plain": [
       "['banana', 'loganberry', 'passion fruit']"
      ]
     },
     "execution_count": 483,
     "metadata": {},
     "output_type": "execute_result"
    }
   ],
   "source": [
    "[x.strip() for x in freshfruit]"
   ]
  },
  {
   "cell_type": "code",
   "execution_count": 484,
   "id": "23312170-4a79-4077-9868-2a7a9d85151c",
   "metadata": {},
   "outputs": [
    {
     "data": {
      "text/plain": [
       "[(0, 0), (1, 1), (2, 4), (3, 9), (4, 16), (5, 25)]"
      ]
     },
     "execution_count": 484,
     "metadata": {},
     "output_type": "execute_result"
    }
   ],
   "source": [
    "[(x,x**2) for x in range(6)]"
   ]
  },
  {
   "cell_type": "code",
   "execution_count": 485,
   "id": "e4bf5466-b36a-46dd-aed6-2ed24a28ba9d",
   "metadata": {},
   "outputs": [
    {
     "data": {
      "text/plain": [
       "[1, 2, 3, 4, 5, 6, 7, 8, 9]"
      ]
     },
     "execution_count": 485,
     "metadata": {},
     "output_type": "execute_result"
    }
   ],
   "source": [
    "vec = [[1,2,3], [4,5,6], [7,8,9]]\n",
    "[num for elem in vec for num in elem]"
   ]
  },
  {
   "cell_type": "markdown",
   "id": "da59c0ed-c49a-4499-a5df-40bbf7b08c37",
   "metadata": {},
   "source": [
    "- Nested List Comprehensions"
   ]
  },
  {
   "cell_type": "code",
   "execution_count": 487,
   "id": "204e0586-01a7-4f2f-903b-edf960347c71",
   "metadata": {},
   "outputs": [
    {
     "data": {
      "text/plain": [
       "[[1, 2, 3, 4], [5, 6, 7, 8], [9, 10, 11, 12]]"
      ]
     },
     "execution_count": 487,
     "metadata": {},
     "output_type": "execute_result"
    }
   ],
   "source": [
    "matrix = [\n",
    "    [1,2,3,4],\n",
    "    [5,6,7,8],\n",
    "    [9,10,11,12]\n",
    "]\n",
    "matrix"
   ]
  },
  {
   "cell_type": "code",
   "execution_count": 493,
   "id": "2923651a-2e6c-446f-bf83-56a0e846fd11",
   "metadata": {},
   "outputs": [
    {
     "data": {
      "text/plain": [
       "[[1, 5, 9], [2, 6, 10], [3, 7, 11], [4, 8, 12]]"
      ]
     },
     "execution_count": 493,
     "metadata": {},
     "output_type": "execute_result"
    }
   ],
   "source": [
    "[[row[i] for row in matrix] for i in range(4)]"
   ]
  },
  {
   "cell_type": "markdown",
   "id": "06ab6048-0aff-4f14-a6df-a194117064a0",
   "metadata": {},
   "source": [
    "- zip() function is used to combine two or more iterables into a single iterable of tuples\n",
    "- Syntax: zip(*iterables)"
   ]
  },
  {
   "cell_type": "code",
   "execution_count": 501,
   "id": "10600e07-d5a0-43df-ac0a-3acb2dbbcac7",
   "metadata": {},
   "outputs": [],
   "source": [
    "list1 = [1,2,3]\n",
    "list2 = ['a','b','c']"
   ]
  },
  {
   "cell_type": "code",
   "execution_count": 502,
   "id": "5ed78f75-006c-4f27-8472-3d8d2fb0591c",
   "metadata": {},
   "outputs": [],
   "source": [
    "zipped = zip(list1,list2)"
   ]
  },
  {
   "cell_type": "code",
   "execution_count": 503,
   "id": "f7265ace-c048-43bd-8541-68fe5a4a57a1",
   "metadata": {},
   "outputs": [
    {
     "data": {
      "text/plain": [
       "[(1, 'a'), (2, 'b'), (3, 'c')]"
      ]
     },
     "execution_count": 503,
     "metadata": {},
     "output_type": "execute_result"
    }
   ],
   "source": [
    "list(zipped)"
   ]
  },
  {
   "cell_type": "code",
   "execution_count": 504,
   "id": "eeaa1db8-2d45-4b4b-b5d6-0861eb180ede",
   "metadata": {},
   "outputs": [
    {
     "data": {
      "text/plain": [
       "[[1, 2, 3, 4], [5, 6, 7, 8], [9, 10, 11, 12]]"
      ]
     },
     "execution_count": 504,
     "metadata": {},
     "output_type": "execute_result"
    }
   ],
   "source": [
    "matrix = [\n",
    "    [1,2,3,4],\n",
    "    [5,6,7,8],\n",
    "    [9,10,11,12]\n",
    "]\n",
    "matrix"
   ]
  },
  {
   "cell_type": "code",
   "execution_count": 506,
   "id": "4b2993a0-b840-4f46-be22-668d8adcdf74",
   "metadata": {},
   "outputs": [
    {
     "data": {
      "text/plain": [
       "[(1, 5, 9), (2, 6, 10), (3, 7, 11), (4, 8, 12)]"
      ]
     },
     "execution_count": 506,
     "metadata": {},
     "output_type": "execute_result"
    }
   ],
   "source": [
    "# create transpose using zip\n",
    "list(zip(*matrix))"
   ]
  },
  {
   "cell_type": "markdown",
   "id": "5b7b9b96-d6c7-4ae3-ae20-c3f8be992a52",
   "metadata": {},
   "source": [
    "- Delete elem from list\n",
    "- Delete a slice from list\n",
    "- Clear an entire list!"
   ]
  },
  {
   "cell_type": "code",
   "execution_count": 510,
   "id": "b27a52b4-dacf-4e87-8a50-c3c255227f37",
   "metadata": {},
   "outputs": [],
   "source": [
    "a = [-1, 1, 66.25, 333, 333, 1234.5]"
   ]
  },
  {
   "cell_type": "code",
   "execution_count": 511,
   "id": "937a41bd-c1be-4941-a873-9290e5b082c0",
   "metadata": {},
   "outputs": [],
   "source": [
    "del a[0]"
   ]
  },
  {
   "cell_type": "code",
   "execution_count": 512,
   "id": "b73687eb-d80b-47aa-803a-c31360a51f4a",
   "metadata": {},
   "outputs": [
    {
     "data": {
      "text/plain": [
       "[1, 66.25, 333, 333, 1234.5]"
      ]
     },
     "execution_count": 512,
     "metadata": {},
     "output_type": "execute_result"
    }
   ],
   "source": [
    "a"
   ]
  },
  {
   "cell_type": "code",
   "execution_count": 513,
   "id": "2d235b27-b014-4abf-8bfa-5851eb753b23",
   "metadata": {},
   "outputs": [],
   "source": [
    "del a[2:4]"
   ]
  },
  {
   "cell_type": "code",
   "execution_count": 514,
   "id": "27536043-541b-4054-9bdc-9a6607a55600",
   "metadata": {},
   "outputs": [
    {
     "data": {
      "text/plain": [
       "[1, 66.25, 1234.5]"
      ]
     },
     "execution_count": 514,
     "metadata": {},
     "output_type": "execute_result"
    }
   ],
   "source": [
    "a"
   ]
  },
  {
   "cell_type": "code",
   "execution_count": 515,
   "id": "4fbcc10c-aabd-4df6-a017-77be64eeb336",
   "metadata": {},
   "outputs": [],
   "source": [
    "del a[:]"
   ]
  },
  {
   "cell_type": "code",
   "execution_count": 516,
   "id": "8375597c-b4e5-4b72-8348-68ca6e4c4a5e",
   "metadata": {},
   "outputs": [
    {
     "data": {
      "text/plain": [
       "[]"
      ]
     },
     "execution_count": 516,
     "metadata": {},
     "output_type": "execute_result"
    }
   ],
   "source": [
    "a"
   ]
  },
  {
   "cell_type": "code",
   "execution_count": 517,
   "id": "ee5d8f33-3e97-465c-8927-2e63a10c249f",
   "metadata": {},
   "outputs": [],
   "source": [
    "del a"
   ]
  },
  {
   "cell_type": "code",
   "execution_count": 518,
   "id": "b1195ee4-a12f-4994-8a19-a9029021eae1",
   "metadata": {},
   "outputs": [],
   "source": [
    "# returns in error, variable a was deleted\n",
    "# print(a)"
   ]
  },
  {
   "cell_type": "markdown",
   "id": "dba12305-8942-44ff-bbce-fe343ae9ebe3",
   "metadata": {},
   "source": [
    "- Tuples are immutable!"
   ]
  },
  {
   "cell_type": "code",
   "execution_count": 519,
   "id": "527bc51c-f09b-430a-bc5f-73a2d5cb20cf",
   "metadata": {},
   "outputs": [],
   "source": [
    "t = 13,313,\"hello\""
   ]
  },
  {
   "cell_type": "code",
   "execution_count": 520,
   "id": "83a9d75d-5b05-46b4-8b14-086bc5687ba2",
   "metadata": {},
   "outputs": [
    {
     "data": {
      "text/plain": [
       "(13, 313, 'hello')"
      ]
     },
     "execution_count": 520,
     "metadata": {},
     "output_type": "execute_result"
    }
   ],
   "source": [
    "t"
   ]
  },
  {
   "cell_type": "code",
   "execution_count": 521,
   "id": "f84db35f-d97f-4a5a-9abd-4b89cd565927",
   "metadata": {},
   "outputs": [
    {
     "data": {
      "text/plain": [
       "13"
      ]
     },
     "execution_count": 521,
     "metadata": {},
     "output_type": "execute_result"
    }
   ],
   "source": [
    "t[0]"
   ]
  },
  {
   "cell_type": "code",
   "execution_count": 522,
   "id": "0b800716-07bc-45b5-bf23-9c1c6c50bd6c",
   "metadata": {},
   "outputs": [],
   "source": [
    "u = t,(1,2,3)"
   ]
  },
  {
   "cell_type": "code",
   "execution_count": 523,
   "id": "9b70fb6c-0d9b-407c-8798-6f2c1432650a",
   "metadata": {},
   "outputs": [
    {
     "data": {
      "text/plain": [
       "((13, 313, 'hello'), (1, 2, 3))"
      ]
     },
     "execution_count": 523,
     "metadata": {},
     "output_type": "execute_result"
    }
   ],
   "source": [
    "u"
   ]
  },
  {
   "cell_type": "code",
   "execution_count": 525,
   "id": "02376692-d90f-43da-8924-a4aabb9f5bfe",
   "metadata": {},
   "outputs": [],
   "source": [
    "# results in error! can't modify a tuple\n",
    "# t[0] = 1"
   ]
  },
  {
   "cell_type": "markdown",
   "id": "1dc98fce-1eda-4658-8aa1-fe3e4d00b91d",
   "metadata": {},
   "source": [
    "- Tuple of size 0 and 1 are created like this"
   ]
  },
  {
   "cell_type": "code",
   "execution_count": 526,
   "id": "6083957f-38a6-48f5-a78d-4d403fb78314",
   "metadata": {},
   "outputs": [],
   "source": [
    "empty_tuple = ()"
   ]
  },
  {
   "cell_type": "code",
   "execution_count": 527,
   "id": "e15bf580-c6a6-4eee-a06c-9e7cfc9c1aff",
   "metadata": {},
   "outputs": [
    {
     "data": {
      "text/plain": [
       "()"
      ]
     },
     "execution_count": 527,
     "metadata": {},
     "output_type": "execute_result"
    }
   ],
   "source": [
    "empty_tuple"
   ]
  },
  {
   "cell_type": "code",
   "execution_count": 528,
   "id": "2e6c715c-8e64-4522-8c30-ee1c87f103e0",
   "metadata": {},
   "outputs": [],
   "source": [
    "singleton = \"hello\", # <--- note the trailing comma"
   ]
  },
  {
   "cell_type": "code",
   "execution_count": 529,
   "id": "7fbba29b-37b0-444c-9955-bc512a9148d3",
   "metadata": {},
   "outputs": [
    {
     "data": {
      "text/plain": [
       "('hello',)"
      ]
     },
     "execution_count": 529,
     "metadata": {},
     "output_type": "execute_result"
    }
   ],
   "source": [
    "singleton"
   ]
  },
  {
   "cell_type": "code",
   "execution_count": 532,
   "id": "3e1d63bb-d306-4a57-b4a2-894050e6140d",
   "metadata": {},
   "outputs": [
    {
     "data": {
      "text/plain": [
       "0"
      ]
     },
     "execution_count": 532,
     "metadata": {},
     "output_type": "execute_result"
    }
   ],
   "source": [
    "len(empty_tuple)"
   ]
  },
  {
   "cell_type": "code",
   "execution_count": 533,
   "id": "53ebf342-d1ac-4e1b-b2ac-3a68e73c73f2",
   "metadata": {},
   "outputs": [
    {
     "data": {
      "text/plain": [
       "1"
      ]
     },
     "execution_count": 533,
     "metadata": {},
     "output_type": "execute_result"
    }
   ],
   "source": [
    "len(singleton)"
   ]
  },
  {
   "cell_type": "markdown",
   "id": "518b1dc6-8f53-4036-982e-d5f66626a9b3",
   "metadata": {},
   "source": [
    "- Tuple packing and unpacking"
   ]
  },
  {
   "cell_type": "code",
   "execution_count": 540,
   "id": "44d1dc39-8700-463c-9f0d-41a4d25d6f6b",
   "metadata": {},
   "outputs": [],
   "source": [
    "# tuple packing\n",
    "t = 1234,4532,\"hello!\""
   ]
  },
  {
   "cell_type": "code",
   "execution_count": 541,
   "id": "1ba5774b-b0bd-41eb-8091-3bc96714170a",
   "metadata": {},
   "outputs": [
    {
     "data": {
      "text/plain": [
       "(1234, 4532, 'hello!')"
      ]
     },
     "execution_count": 541,
     "metadata": {},
     "output_type": "execute_result"
    }
   ],
   "source": [
    "t"
   ]
  },
  {
   "cell_type": "code",
   "execution_count": 542,
   "id": "1e629ab2-255a-436f-9a4f-ee411d79f9a6",
   "metadata": {},
   "outputs": [],
   "source": [
    "# tuple un-packing\n",
    "x,y,z = t"
   ]
  },
  {
   "cell_type": "code",
   "execution_count": 543,
   "id": "858c89a2-0e37-4a39-bd1b-388b8c612a2d",
   "metadata": {},
   "outputs": [
    {
     "name": "stdout",
     "output_type": "stream",
     "text": [
      "1234\n",
      "4532\n",
      "hello!\n"
     ]
    }
   ],
   "source": [
    "print(x)\n",
    "print(y)\n",
    "print(z)"
   ]
  },
  {
   "cell_type": "markdown",
   "id": "d5b0956e-0a51-41f6-aa1e-f018498576a5",
   "metadata": {},
   "source": [
    "- Sets = unordered collection of elements\n",
    "- {} = this creates an empty dict, not a set!"
   ]
  },
  {
   "cell_type": "code",
   "execution_count": 546,
   "id": "1035b3bd-ce1a-4976-aa67-7c161327b412",
   "metadata": {},
   "outputs": [
    {
     "data": {
      "text/plain": [
       "set()"
      ]
     },
     "execution_count": 546,
     "metadata": {},
     "output_type": "execute_result"
    }
   ],
   "source": [
    "empty_set = set()\n",
    "empty_set"
   ]
  },
  {
   "cell_type": "code",
   "execution_count": 547,
   "id": "f051f318-7f36-4f4b-98f6-bdc5e806528a",
   "metadata": {},
   "outputs": [
    {
     "data": {
      "text/plain": [
       "{}"
      ]
     },
     "execution_count": 547,
     "metadata": {},
     "output_type": "execute_result"
    }
   ],
   "source": [
    "empty_dict = {}\n",
    "empty_dict"
   ]
  },
  {
   "cell_type": "code",
   "execution_count": 549,
   "id": "67161f17-a583-4490-b48e-badea753120e",
   "metadata": {},
   "outputs": [
    {
     "data": {
      "text/plain": [
       "{'apple', 'banana', 'orange', 'pear'}"
      ]
     },
     "execution_count": 549,
     "metadata": {},
     "output_type": "execute_result"
    }
   ],
   "source": [
    "basket = {'apple', 'orange', 'apple', 'pear', 'orange', 'banana'}\n",
    "basket"
   ]
  },
  {
   "cell_type": "code",
   "execution_count": 550,
   "id": "f045f07e-b7c0-463f-b61c-345fa1f26d0e",
   "metadata": {},
   "outputs": [
    {
     "data": {
      "text/plain": [
       "True"
      ]
     },
     "execution_count": 550,
     "metadata": {},
     "output_type": "execute_result"
    }
   ],
   "source": [
    "\"apple\" in basket"
   ]
  },
  {
   "cell_type": "code",
   "execution_count": 551,
   "id": "bfc356fc-d2ff-466c-be3c-f24c0553eb56",
   "metadata": {},
   "outputs": [
    {
     "data": {
      "text/plain": [
       "{'a', 'c', 'l', 'm', 'z'}"
      ]
     },
     "execution_count": 551,
     "metadata": {},
     "output_type": "execute_result"
    }
   ],
   "source": [
    "set('alacazam')"
   ]
  },
  {
   "cell_type": "markdown",
   "id": "e326ff23-eb1c-4c7b-ba26-46e0dac73ca2",
   "metadata": {},
   "source": [
    "- Set comprehensions are also possible"
   ]
  },
  {
   "cell_type": "code",
   "execution_count": 552,
   "id": "f2fdb1dc-c656-4de9-9acf-d58541574d46",
   "metadata": {},
   "outputs": [
    {
     "data": {
      "text/plain": [
       "{'l', 'm', 'z'}"
      ]
     },
     "execution_count": 552,
     "metadata": {},
     "output_type": "execute_result"
    }
   ],
   "source": [
    "a = {x for x in 'alacazam' if x not in 'abc'}\n",
    "a"
   ]
  },
  {
   "cell_type": "markdown",
   "id": "08311cab-cb30-4b9a-b072-746ffeb08d13",
   "metadata": {},
   "source": [
    "- Dictionaries are indexed by keys\n",
    "- keys can be any **immutable** type: string, numbers\n",
    "- Tuples can be keys if they contain only string, numbers or tuples\n",
    "- List can't be used as a key"
   ]
  },
  {
   "cell_type": "code",
   "execution_count": 553,
   "id": "6462a63b-2381-43c0-bcb1-c10e6c9431d8",
   "metadata": {},
   "outputs": [
    {
     "data": {
      "text/plain": [
       "{'jack': 4098, 'sape': 4139}"
      ]
     },
     "execution_count": 553,
     "metadata": {},
     "output_type": "execute_result"
    }
   ],
   "source": [
    "tel = {'jack': 4098, 'sape': 4139}\n",
    "tel"
   ]
  },
  {
   "cell_type": "code",
   "execution_count": 554,
   "id": "7ec46517-c470-4869-91e6-bec9f79e585d",
   "metadata": {},
   "outputs": [],
   "source": [
    "tel['guido'] = 4127"
   ]
  },
  {
   "cell_type": "code",
   "execution_count": 555,
   "id": "3f03a588-b249-4854-b3af-6959b3bdb614",
   "metadata": {},
   "outputs": [
    {
     "data": {
      "text/plain": [
       "{'jack': 4098, 'sape': 4139, 'guido': 4127}"
      ]
     },
     "execution_count": 555,
     "metadata": {},
     "output_type": "execute_result"
    }
   ],
   "source": [
    "tel"
   ]
  },
  {
   "cell_type": "code",
   "execution_count": 556,
   "id": "bf435f0f-90ea-452e-812b-3608243357c7",
   "metadata": {},
   "outputs": [
    {
     "data": {
      "text/plain": [
       "4098"
      ]
     },
     "execution_count": 556,
     "metadata": {},
     "output_type": "execute_result"
    }
   ],
   "source": [
    "tel['jack']"
   ]
  },
  {
   "cell_type": "markdown",
   "id": "19622f0c-b123-4ba4-97c8-16ca612b92ef",
   "metadata": {},
   "source": [
    "- del keyword to delete a key-value pair"
   ]
  },
  {
   "cell_type": "code",
   "execution_count": 557,
   "id": "3f4fd34f-f9e9-4e85-84d1-018a27b6f48f",
   "metadata": {},
   "outputs": [],
   "source": [
    "del tel['sape']"
   ]
  },
  {
   "cell_type": "code",
   "execution_count": 558,
   "id": "104a573d-d8ee-4f94-a97a-7be944f0e44d",
   "metadata": {},
   "outputs": [
    {
     "data": {
      "text/plain": [
       "{'jack': 4098, 'guido': 4127}"
      ]
     },
     "execution_count": 558,
     "metadata": {},
     "output_type": "execute_result"
    }
   ],
   "source": [
    "tel"
   ]
  },
  {
   "cell_type": "markdown",
   "id": "1c7dc307-1a1f-48a0-aa27-254e9bbe365e",
   "metadata": {},
   "source": [
    "- If same key is used again, the old value is forgotten and new is written\n",
    "- To check if key is in dictionary, use **in** keyword"
   ]
  },
  {
   "cell_type": "code",
   "execution_count": 559,
   "id": "af47f67c-8245-4d29-8c70-c84343239050",
   "metadata": {},
   "outputs": [],
   "source": [
    "tel['irv'] = 4127"
   ]
  },
  {
   "cell_type": "code",
   "execution_count": 560,
   "id": "f82f4430-d399-4795-99b6-1c3a752c45f6",
   "metadata": {},
   "outputs": [
    {
     "data": {
      "text/plain": [
       "{'jack': 4098, 'guido': 4127, 'irv': 4127}"
      ]
     },
     "execution_count": 560,
     "metadata": {},
     "output_type": "execute_result"
    }
   ],
   "source": [
    "tel"
   ]
  },
  {
   "cell_type": "code",
   "execution_count": 561,
   "id": "eee18a16-1f17-4996-a75c-29ef4583933b",
   "metadata": {},
   "outputs": [
    {
     "data": {
      "text/plain": [
       "True"
      ]
     },
     "execution_count": 561,
     "metadata": {},
     "output_type": "execute_result"
    }
   ],
   "source": [
    "'guido' in tel"
   ]
  },
  {
   "cell_type": "code",
   "execution_count": 562,
   "id": "dd377840-a866-4012-856c-34078aab9ba7",
   "metadata": {},
   "outputs": [
    {
     "data": {
      "text/plain": [
       "['jack', 'guido', 'irv']"
      ]
     },
     "execution_count": 562,
     "metadata": {},
     "output_type": "execute_result"
    }
   ],
   "source": [
    "list(tel)"
   ]
  },
  {
   "cell_type": "code",
   "execution_count": 567,
   "id": "27c483c8-1987-4d4f-a2d9-61ca02ee5563",
   "metadata": {},
   "outputs": [
    {
     "data": {
      "text/plain": [
       "[('jack', 4098), ('guido', 4127), ('irv', 4127)]"
      ]
     },
     "execution_count": 567,
     "metadata": {},
     "output_type": "execute_result"
    }
   ],
   "source": [
    "list(tel.items())"
   ]
  },
  {
   "cell_type": "code",
   "execution_count": 568,
   "id": "2069394f-6e70-47b3-843e-01e9c102ae60",
   "metadata": {},
   "outputs": [
    {
     "data": {
      "text/plain": [
       "['jack', 'guido', 'irv']"
      ]
     },
     "execution_count": 568,
     "metadata": {},
     "output_type": "execute_result"
    }
   ],
   "source": [
    "list(tel.keys())"
   ]
  },
  {
   "cell_type": "code",
   "execution_count": 569,
   "id": "4d898aff-f23e-4bb5-945e-be5ebe6ed631",
   "metadata": {},
   "outputs": [
    {
     "data": {
      "text/plain": [
       "[4098, 4127, 4127]"
      ]
     },
     "execution_count": 569,
     "metadata": {},
     "output_type": "execute_result"
    }
   ],
   "source": [
    "list(tel.values())"
   ]
  },
  {
   "cell_type": "markdown",
   "id": "b7836d9e-3cd4-4d91-afa2-7e2f1b164f30",
   "metadata": {},
   "source": [
    "- Dict from tuples!"
   ]
  },
  {
   "cell_type": "code",
   "execution_count": 570,
   "id": "318a42d6-c7dc-4d84-a4f4-eb548aa4a839",
   "metadata": {},
   "outputs": [
    {
     "data": {
      "text/plain": [
       "{'sape': 4139, 'guido': 4127, 'jack': 4098}"
      ]
     },
     "execution_count": 570,
     "metadata": {},
     "output_type": "execute_result"
    }
   ],
   "source": [
    "dict([('sape', 4139), ('guido', 4127), ('jack', 4098)])"
   ]
  },
  {
   "cell_type": "markdown",
   "id": "1d01fadd-1b54-41b7-8781-181ea8635317",
   "metadata": {},
   "source": [
    "- Dict Comprehensions"
   ]
  },
  {
   "cell_type": "code",
   "execution_count": 573,
   "id": "b2f31bcc-f1b6-44ef-8288-89e7b3c15340",
   "metadata": {},
   "outputs": [
    {
     "data": {
      "text/plain": [
       "{1: 1, 3: 9, 5: 25, 7: 49, 9: 81}"
      ]
     },
     "execution_count": 573,
     "metadata": {},
     "output_type": "execute_result"
    }
   ],
   "source": [
    "{x: x**2 for x in range(1,10,2)}"
   ]
  },
  {
   "cell_type": "markdown",
   "id": "0a51d44a-5715-4509-ba15-812bc326df7c",
   "metadata": {},
   "source": [
    "- Looping over dictionaries"
   ]
  },
  {
   "cell_type": "code",
   "execution_count": 575,
   "id": "2d36de3e-ad20-4bf2-8cfa-34b1d52ae761",
   "metadata": {},
   "outputs": [
    {
     "data": {
      "text/plain": [
       "[(0, 'jack'), (1, 'guido'), (2, 'irv')]"
      ]
     },
     "execution_count": 575,
     "metadata": {},
     "output_type": "execute_result"
    }
   ],
   "source": [
    "[(i,v) for i,v in enumerate(tel)]"
   ]
  },
  {
   "cell_type": "code",
   "execution_count": 577,
   "id": "1b37662d-7dab-4c3f-a4be-397db903318d",
   "metadata": {},
   "outputs": [
    {
     "data": {
      "text/plain": [
       "['jack', 'guido', 'irv']"
      ]
     },
     "execution_count": 577,
     "metadata": {},
     "output_type": "execute_result"
    }
   ],
   "source": [
    "[k for k in tel.keys()]"
   ]
  },
  {
   "cell_type": "code",
   "execution_count": 579,
   "id": "9225fab7-c343-4726-9332-68aee4b4867f",
   "metadata": {},
   "outputs": [
    {
     "data": {
      "text/plain": [
       "[('jack', 4098), ('guido', 4127), ('irv', 4127)]"
      ]
     },
     "execution_count": 579,
     "metadata": {},
     "output_type": "execute_result"
    }
   ],
   "source": [
    "[(k,v) for k,v in tel.items()]"
   ]
  },
  {
   "cell_type": "markdown",
   "id": "fd7e7543-747f-4a09-8366-610994c70573",
   "metadata": {},
   "source": [
    "- Use zip to iterate over multiple sequences!"
   ]
  },
  {
   "cell_type": "code",
   "execution_count": 582,
   "id": "9ea47783-a1bf-4214-9c6c-170fb7b1e095",
   "metadata": {},
   "outputs": [
    {
     "name": "stdout",
     "output_type": "stream",
     "text": [
      "name : lancelot\n",
      "quest : the holy grail\n",
      "favorite color : blue\n"
     ]
    }
   ],
   "source": [
    "questions = ['name', 'quest', 'favorite color']\n",
    "answers = ['lancelot', 'the holy grail', 'blue']\n",
    "for q,a in zip(questions,answers):\n",
    "    print(q,\":\",a)"
   ]
  },
  {
   "cell_type": "markdown",
   "id": "f599f378-635b-4abc-9d40-8dc48f5dc917",
   "metadata": {},
   "source": [
    "- Use reversed to iterate in reverse order!\n",
    "- Use sorted to iterate in sorted order!"
   ]
  },
  {
   "cell_type": "code",
   "execution_count": 583,
   "id": "96f43df7-4ee2-4b66-9572-1b4d8b076371",
   "metadata": {},
   "outputs": [
    {
     "name": "stdout",
     "output_type": "stream",
     "text": [
      "9\n",
      "7\n",
      "5\n",
      "3\n",
      "1\n"
     ]
    }
   ],
   "source": [
    "for i in reversed(range(1,10,2)):\n",
    "    print(i)"
   ]
  },
  {
   "cell_type": "code",
   "execution_count": 584,
   "id": "10a54566-a461-492b-bb2b-a106fc8c5721",
   "metadata": {},
   "outputs": [
    {
     "name": "stdout",
     "output_type": "stream",
     "text": [
      "apple\n",
      "apple\n",
      "banana\n",
      "orange\n",
      "orange\n",
      "pear\n"
     ]
    }
   ],
   "source": [
    "basket = ['apple', 'orange', 'apple', 'pear', 'orange', 'banana']\n",
    "for i in sorted(basket):\n",
    "    print(i)"
   ]
  },
  {
   "cell_type": "markdown",
   "id": "f5fee1c9-d93f-42ea-867c-e733a2f53994",
   "metadata": {},
   "source": [
    "- Iterate over unique sorted elements in list this way"
   ]
  },
  {
   "cell_type": "code",
   "execution_count": 590,
   "id": "3cc5a816-e5dd-40ee-b647-347f72cb7925",
   "metadata": {},
   "outputs": [
    {
     "name": "stdout",
     "output_type": "stream",
     "text": [
      "apple\n",
      "banana\n",
      "orange\n",
      "pear\n"
     ]
    }
   ],
   "source": [
    "basket = ['apple', 'orange', 'apple', 'pear', 'orange', 'banana']\n",
    "for f in sorted(set(basket)):\n",
    "    print(f)"
   ]
  },
  {
   "cell_type": "markdown",
   "id": "932b14fb-cf0a-4839-81d2-3088752c36b8",
   "metadata": {},
   "source": [
    "- Boolean operators **and** and **or** are short-circuit operators, meaning that their arguments are evaluated from left to right and evaluation stops as soon as outcome is determined"
   ]
  },
  {
   "cell_type": "code",
   "execution_count": 592,
   "id": "b471ab22-e8bb-4363-818b-21b0ea686231",
   "metadata": {},
   "outputs": [
    {
     "data": {
      "text/plain": [
       "1"
      ]
     },
     "execution_count": 592,
     "metadata": {},
     "output_type": "execute_result"
    }
   ],
   "source": [
    "# undefined_var was never evaluated, hence no error\n",
    "1 or undefined_var"
   ]
  },
  {
   "cell_type": "code",
   "execution_count": 594,
   "id": "01056b52-d05a-4f63-8a5d-492045387aa1",
   "metadata": {},
   "outputs": [],
   "source": [
    "# this results in error\n",
    "# 1 and undefined_var"
   ]
  },
  {
   "cell_type": "markdown",
   "id": "75d9e667-44ef-476c-bccb-ba97cf91c761",
   "metadata": {},
   "source": [
    "- Walrus Operator: Allows you to assign a value to a variable as part of an expression"
   ]
  },
  {
   "cell_type": "code",
   "execution_count": 596,
   "id": "4506b005-9928-4848-8e15-3d8545a63462",
   "metadata": {},
   "outputs": [
    {
     "data": {
      "text/plain": [
       "[16, 25]"
      ]
     },
     "execution_count": 596,
     "metadata": {},
     "output_type": "execute_result"
    }
   ],
   "source": [
    "numbers = [1,2,3,4,5]\n",
    "squares = [square for num in numbers if (square := num*num) > 10]\n",
    "squares"
   ]
  },
  {
   "cell_type": "code",
   "execution_count": 598,
   "id": "67c2251d-3f03-4077-8341-b7a64ced33f7",
   "metadata": {},
   "outputs": [
    {
     "name": "stdout",
     "output_type": "stream",
     "text": [
      "the length of the string is: True\n"
     ]
    }
   ],
   "source": [
    "if length := len(\"hello world\") >= 5:\n",
    "    print(\"the length of the string is:\",length)"
   ]
  },
  {
   "cell_type": "markdown",
   "id": "37ecffd7-b3dd-461a-80c0-99dbd5d265de",
   "metadata": {},
   "source": [
    "- Module = a python file with Python def and statements\n",
    "- File name = Module name + **.py** extension\n",
    "- Main module = the current script\n",
    "- Current Module Name is in `__name__`  global variable\n",
    "- Each module has its own private namespace"
   ]
  },
  {
   "cell_type": "code",
   "execution_count": 599,
   "id": "f83d8905-85f1-4f96-88dd-6b7e813d0ae2",
   "metadata": {},
   "outputs": [],
   "source": [
    "import fibo"
   ]
  },
  {
   "cell_type": "code",
   "execution_count": 601,
   "id": "1b71648c-27c1-41da-81fd-d061f10b1707",
   "metadata": {},
   "outputs": [
    {
     "name": "stdout",
     "output_type": "stream",
     "text": [
      "0 1 1 2 3 5 8 13 21 34 55 89 \n"
     ]
    }
   ],
   "source": [
    "fibo.fib(100)"
   ]
  },
  {
   "cell_type": "code",
   "execution_count": 602,
   "id": "7cda6d63-817b-44bf-8700-caf9c66f641a",
   "metadata": {},
   "outputs": [
    {
     "data": {
      "text/plain": [
       "'fibo'"
      ]
     },
     "execution_count": 602,
     "metadata": {},
     "output_type": "execute_result"
    }
   ],
   "source": [
    "fibo.__name__"
   ]
  },
  {
   "cell_type": "code",
   "execution_count": 604,
   "id": "5aad8147-b8ea-45c4-afdb-d54a5a242e05",
   "metadata": {},
   "outputs": [],
   "source": [
    "# fib in local namespace\n",
    "fib = fibo.fib"
   ]
  },
  {
   "cell_type": "code",
   "execution_count": 605,
   "id": "26cf3f1f-8dd0-4f19-969c-31f8ce0c039d",
   "metadata": {},
   "outputs": [
    {
     "name": "stdout",
     "output_type": "stream",
     "text": [
      "0 1 1 2 3 5 8 13 21 34 55 89 \n"
     ]
    }
   ],
   "source": [
    "fib(100)"
   ]
  },
  {
   "cell_type": "code",
   "execution_count": 606,
   "id": "ffdea1be-896f-49bc-8142-0294a4878e9e",
   "metadata": {},
   "outputs": [],
   "source": [
    "# import names from fibo module\n",
    "from fibo import fib, fib2"
   ]
  },
  {
   "cell_type": "code",
   "execution_count": 607,
   "id": "659f9635-2086-46e4-8103-ff555af1de06",
   "metadata": {},
   "outputs": [],
   "source": [
    "# import all names from fibo module\n",
    "from fibo import *"
   ]
  },
  {
   "cell_type": "code",
   "execution_count": 608,
   "id": "84666a80-e972-4fce-b84c-44e5c00105c4",
   "metadata": {},
   "outputs": [],
   "source": [
    "# import module with a different name\n",
    "import fibo as fib"
   ]
  },
  {
   "cell_type": "code",
   "execution_count": 609,
   "id": "2d818108-019c-4564-825b-00daeba96729",
   "metadata": {},
   "outputs": [
    {
     "data": {
      "text/plain": [
       "<module 'fibo' from '/home/mohitpahuja/coding-notes/python/fibo.py'>"
      ]
     },
     "execution_count": 609,
     "metadata": {},
     "output_type": "execute_result"
    }
   ],
   "source": [
    "fib"
   ]
  },
  {
   "cell_type": "code",
   "execution_count": 610,
   "id": "92fe6122-e6cb-4846-bd5a-44fb2956f3f8",
   "metadata": {},
   "outputs": [
    {
     "name": "stdout",
     "output_type": "stream",
     "text": [
      "0 1 1 2 3 5 8 13 21 34 55 89 \n"
     ]
    }
   ],
   "source": [
    "fib.fib(100)"
   ]
  },
  {
   "cell_type": "code",
   "execution_count": 611,
   "id": "d5d61789-6309-43e4-a589-8e7c83b617c4",
   "metadata": {},
   "outputs": [],
   "source": [
    "from fibo import fib as fibonacci"
   ]
  },
  {
   "cell_type": "markdown",
   "id": "4bc4b0fc-b6ad-4910-a4c7-666916ce6364",
   "metadata": {},
   "source": [
    "- Modules are imported only once per session\n",
    "- Reload modules if updates are made to the module"
   ]
  },
  {
   "cell_type": "code",
   "execution_count": 612,
   "id": "9ffedfc5-bd0f-4f19-a19b-b1c8bd051a49",
   "metadata": {},
   "outputs": [
    {
     "data": {
      "text/plain": [
       "<module 'fibo' from '/home/mohitpahuja/coding-notes/python/fibo.py'>"
      ]
     },
     "execution_count": 612,
     "metadata": {},
     "output_type": "execute_result"
    }
   ],
   "source": [
    "import importlib\n",
    "importlib.reload(fibo)"
   ]
  },
  {
   "cell_type": "markdown",
   "id": "7640b401-26fa-4bed-ac58-367569699c95",
   "metadata": {},
   "source": [
    "- `__name__` is set to `__main__` when the current module is active"
   ]
  },
  {
   "cell_type": "code",
   "execution_count": 613,
   "id": "ba0f2a27-dc3d-4146-a0cd-1e2ad3c0cfe1",
   "metadata": {},
   "outputs": [
    {
     "data": {
      "text/plain": [
       "'__main__'"
      ]
     },
     "execution_count": 613,
     "metadata": {},
     "output_type": "execute_result"
    }
   ],
   "source": [
    "__name__"
   ]
  },
  {
   "cell_type": "code",
   "execution_count": 617,
   "id": "c8ef8f09-face-41f0-bc09-233d13f1e4e1",
   "metadata": {},
   "outputs": [
    {
     "name": "stdout",
     "output_type": "stream",
     "text": [
      "runs only if the current module was run as script\n"
     ]
    }
   ],
   "source": [
    "if __name__ == \"__main__\":\n",
    "    print(\"runs only if the current module was run as script\")"
   ]
  },
  {
   "cell_type": "code",
   "execution_count": 621,
   "id": "8b176c85-3d3b-4fb0-ae4b-d10e5911dcdb",
   "metadata": {},
   "outputs": [
    {
     "name": "stdout",
     "output_type": "stream",
     "text": [
      "0 1 1 2 3 5 8 13 21 34 \n"
     ]
    }
   ],
   "source": [
    "# the module can be run as script\n",
    "# if __name__ == \"__main__\":\n",
    "#     import sys\n",
    "#     fib(int(sys.argv[1]))\n",
    "!python3 fibo.py 50"
   ]
  },
  {
   "cell_type": "code",
   "execution_count": 622,
   "id": "bd3bcc4d-f8e7-4b0a-a549-8b46a0eff342",
   "metadata": {},
   "outputs": [],
   "source": [
    "# code not run if module is imported\n",
    "# if __name__ == \"__main__\":\n",
    "#     import sys\n",
    "#     fib(int(sys.argv[1]))\n",
    "import fibo"
   ]
  },
  {
   "cell_type": "markdown",
   "id": "7efc65dc-5349-4c83-8c32-2bf6aca826d9",
   "metadata": {},
   "source": [
    "- Underscores can be used in integers to improve readability\n",
    "- They have no effect on the value of the number\n",
    "- Underscores can be used in any numeric literals"
   ]
  },
  {
   "cell_type": "code",
   "execution_count": 640,
   "id": "eec5b251-7f47-4cfd-b672-87a99014c324",
   "metadata": {},
   "outputs": [
    {
     "data": {
      "text/plain": [
       "47572654"
      ]
     },
     "execution_count": 640,
     "metadata": {},
     "output_type": "execute_result"
    }
   ],
   "source": [
    "47_572_654"
   ]
  },
  {
   "cell_type": "code",
   "execution_count": 641,
   "id": "f2ba17e7-71ac-4716-8260-31e696a2993e",
   "metadata": {},
   "outputs": [
    {
     "data": {
      "text/plain": [
       "5555.6343553"
      ]
     },
     "execution_count": 641,
     "metadata": {},
     "output_type": "execute_result"
    }
   ],
   "source": [
    "555_5.63_435_53"
   ]
  },
  {
   "cell_type": "markdown",
   "id": "a92bf24c-2255-4b42-82eb-70f5de3ecdaf",
   "metadata": {},
   "source": [
    "- Formatted String Literals"
   ]
  },
  {
   "cell_type": "code",
   "execution_count": 634,
   "id": "7a655843-d002-48de-87af-bb9f7c77247f",
   "metadata": {},
   "outputs": [
    {
     "data": {
      "text/plain": [
       "'Results of the 2024 Olympics'"
      ]
     },
     "execution_count": 634,
     "metadata": {},
     "output_type": "execute_result"
    }
   ],
   "source": [
    "year = 2024\n",
    "event = \"Olympics\"\n",
    "f\"Results of the {year} {event}\""
   ]
  },
  {
   "cell_type": "markdown",
   "id": "8086d508-c1dd-4357-9ff2-25ff0cd89c5f",
   "metadata": {},
   "source": [
    "- Using str.format() method\n",
    "- Use positional Arguments to control the order"
   ]
  },
  {
   "cell_type": "code",
   "execution_count": 687,
   "id": "dedea2fd-4a56-4c04-bfe2-996b34cf6c85",
   "metadata": {},
   "outputs": [],
   "source": [
    "yes_votes = 1432\n",
    "total_votes = 4342\n",
    "perc_votes = yes_votes/total_votes"
   ]
  },
  {
   "cell_type": "code",
   "execution_count": 688,
   "id": "5496d294-cda6-4120-9f34-fb31692014c9",
   "metadata": {},
   "outputs": [
    {
     "data": {
      "text/plain": [
       "'Yes votes are 1432 and Total votes are 4342'"
      ]
     },
     "execution_count": 688,
     "metadata": {},
     "output_type": "execute_result"
    }
   ],
   "source": [
    "\"Yes votes are {} and Total votes are {}\".format(yes_votes,total_votes)"
   ]
  },
  {
   "cell_type": "code",
   "execution_count": 689,
   "id": "c6e0b512-af1f-4104-b992-6f875ba7c3d7",
   "metadata": {},
   "outputs": [
    {
     "data": {
      "text/plain": [
       "'Total votes are 4342 and Yes votes are 1432'"
      ]
     },
     "execution_count": 689,
     "metadata": {},
     "output_type": "execute_result"
    }
   ],
   "source": [
    "\"Total votes are {1} and Yes votes are {0}\".format(yes_votes,total_votes)"
   ]
  },
  {
   "cell_type": "markdown",
   "id": "c1f24709-67bf-4cc8-abb2-19c9ad94fb5e",
   "metadata": {},
   "source": [
    "- Use Keyword Arguments for clarity"
   ]
  },
  {
   "cell_type": "code",
   "execution_count": 690,
   "id": "1dff8bad-d8ad-4c35-915f-630efe7bb632",
   "metadata": {},
   "outputs": [
    {
     "data": {
      "text/plain": [
       "'Total votes are 4342 and Yes votes are 1432'"
      ]
     },
     "execution_count": 690,
     "metadata": {},
     "output_type": "execute_result"
    }
   ],
   "source": [
    "\"Total votes are {total} and Yes votes are {yes}\"\\\n",
    "    .format(total=total_votes,yes=yes_votes)                                                      "
   ]
  },
  {
   "cell_type": "markdown",
   "id": "951853b9-3955-44a4-a746-a6aa2682c23f",
   "metadata": {},
   "source": [
    "- Formatting Numbers using .format()\n",
    "- Formatting Numbers using f strings"
   ]
  },
  {
   "cell_type": "code",
   "execution_count": 691,
   "id": "4b78e88f-03aa-47d1-ace8-88d0c46f2e11",
   "metadata": {},
   "outputs": [
    {
     "data": {
      "text/plain": [
       "'Pi to three decimal places: 3.142'"
      ]
     },
     "execution_count": 691,
     "metadata": {},
     "output_type": "execute_result"
    }
   ],
   "source": [
    "pi = 3.14159\n",
    "\"Pi to three decimal places: {:.3f}\".format(pi)"
   ]
  },
  {
   "cell_type": "code",
   "execution_count": 692,
   "id": "463bde02-5c14-40d4-b676-1c0757a170b7",
   "metadata": {},
   "outputs": [
    {
     "data": {
      "text/plain": [
       "'Pi to three decimal places 3.142'"
      ]
     },
     "execution_count": 692,
     "metadata": {},
     "output_type": "execute_result"
    }
   ],
   "source": [
    "f\"Pi to three decimal places {pi:.3f}\""
   ]
  },
  {
   "cell_type": "markdown",
   "id": "0b8f6441-af63-471e-854c-1c01a90b35db",
   "metadata": {},
   "source": [
    "- Format Percentages in String"
   ]
  },
  {
   "cell_type": "code",
   "execution_count": 717,
   "id": "accbb9e3-1a9a-42b5-8427-1b65e8865ac9",
   "metadata": {},
   "outputs": [
    {
     "data": {
      "text/plain": [
       "'Perc of yes votes: 0.32980193459235374'"
      ]
     },
     "execution_count": 717,
     "metadata": {},
     "output_type": "execute_result"
    }
   ],
   "source": [
    "# no formatting\n",
    "\"Perc of yes votes: {:}\".format(perc_votes)"
   ]
  },
  {
   "cell_type": "code",
   "execution_count": 718,
   "id": "b6fba7ca-23a8-4150-a21b-be78c5ec213d",
   "metadata": {},
   "outputs": [
    {
     "data": {
      "text/plain": [
       "'Perc of yes votes: 0.33'"
      ]
     },
     "execution_count": 718,
     "metadata": {},
     "output_type": "execute_result"
    }
   ],
   "source": [
    "# limit decimal places\n",
    "\"Perc of yes votes: {:.2}\".format(perc_votes)"
   ]
  },
  {
   "cell_type": "code",
   "execution_count": 719,
   "id": "e6ed10d8-0a44-4495-aa65-c64efef9e083",
   "metadata": {},
   "outputs": [
    {
     "data": {
      "text/plain": [
       "'Perc of yes votes: 32.98%'"
      ]
     },
     "execution_count": 719,
     "metadata": {},
     "output_type": "execute_result"
    }
   ],
   "source": [
    "# multiply by hundred to show percentage\n",
    "\"Perc of yes votes: {:.2%}\".format(perc_votes)"
   ]
  },
  {
   "cell_type": "code",
   "execution_count": 720,
   "id": "d3369542-dacf-4b58-b799-966504fe9e75",
   "metadata": {},
   "outputs": [
    {
     "data": {
      "text/plain": [
       "'Perc of yes votes: 32.98%'"
      ]
     },
     "execution_count": 720,
     "metadata": {},
     "output_type": "execute_result"
    }
   ],
   "source": [
    "# using f-string\n",
    "f\"Perc of yes votes: {perc_votes:.2%}\""
   ]
  },
  {
   "cell_type": "code",
   "execution_count": 721,
   "id": "0e0156ea-f785-461d-9665-34f9ba6bcdc2",
   "metadata": {},
   "outputs": [
    {
     "name": "stdout",
     "output_type": "stream",
     "text": [
      "The value of pi is approximately 3.142.\n"
     ]
    }
   ],
   "source": [
    "import math\n",
    "print(f'The value of pi is approximately {math.pi:.3f}.')"
   ]
  },
  {
   "cell_type": "markdown",
   "id": "281c58eb-5e3d-4889-94f6-c0bf8185cfda",
   "metadata": {},
   "source": [
    "- Passing an integer after `:` causes that field to be mininum that number of characters wide. This is useful for making columns line up!"
   ]
  },
  {
   "cell_type": "code",
   "execution_count": 740,
   "id": "ceb88521-9b0f-40ea-820d-7762f0eed96f",
   "metadata": {},
   "outputs": [
    {
     "name": "stdout",
     "output_type": "stream",
     "text": [
      "Joe    ==>   4127\n",
      "Jack   ==>   4098\n",
      "Doe    ==>   7678\n"
     ]
    }
   ],
   "source": [
    "votes = {'Joe': 4127, 'Jack': 4098, 'Doe': 7678}\n",
    "for name, vote in votes.items():\n",
    "    print(f\"{name:6} ==> {vote:6}\")"
   ]
  },
  {
   "cell_type": "code",
   "execution_count": 741,
   "id": "2386e18f-c878-4514-8136-08fe108f2d93",
   "metadata": {},
   "outputs": [],
   "source": [
    "animals = \"eels\""
   ]
  },
  {
   "cell_type": "markdown",
   "id": "af9c5546-1e02-453e-a63e-7b372ad85076",
   "metadata": {},
   "source": [
    "- Binary Representations in Python"
   ]
  },
  {
   "cell_type": "code",
   "execution_count": 743,
   "id": "3c256c01-a64d-4473-98de-b08bdbcdd0ff",
   "metadata": {},
   "outputs": [],
   "source": [
    "num = 42\n",
    "binary_repr = bin(42)"
   ]
  },
  {
   "cell_type": "code",
   "execution_count": 745,
   "id": "02082e63-1e21-4a23-90cb-a1c28a425afa",
   "metadata": {},
   "outputs": [
    {
     "data": {
      "text/plain": [
       "'0b101010'"
      ]
     },
     "execution_count": 745,
     "metadata": {},
     "output_type": "execute_result"
    }
   ],
   "source": [
    "# starts with 0b to indicate that this is binary repr\n",
    "binary_repr"
   ]
  },
  {
   "cell_type": "code",
   "execution_count": 747,
   "id": "315fdd32-0627-4fe5-bb85-7ea920bc806a",
   "metadata": {},
   "outputs": [
    {
     "data": {
      "text/plain": [
       "'101010'"
      ]
     },
     "execution_count": 747,
     "metadata": {},
     "output_type": "execute_result"
    }
   ],
   "source": [
    "binary_repr[2:]"
   ]
  },
  {
   "cell_type": "markdown",
   "id": "6cc32841-8dbf-4780-8608-928c3eaabad2",
   "metadata": {},
   "source": [
    "- Print 8-bit binary representation of a number"
   ]
  },
  {
   "cell_type": "code",
   "execution_count": 749,
   "id": "e1025283-85c6-4af2-990b-9fd4bea2637d",
   "metadata": {},
   "outputs": [
    {
     "data": {
      "text/plain": [
       "'number in 8-bit binary representation: 101010'"
      ]
     },
     "execution_count": 749,
     "metadata": {},
     "output_type": "execute_result"
    }
   ],
   "source": [
    "num = 42\n",
    "f\"number in 8-bit binary representation: {num:b}\""
   ]
  },
  {
   "cell_type": "markdown",
   "id": "c3213a6b-7427-4af6-9c8b-6fc9a3699f1d",
   "metadata": {},
   "source": [
    "- Add leading zeros to make it fixed size!"
   ]
  },
  {
   "cell_type": "code",
   "execution_count": 753,
   "id": "a37eb088-2867-4934-816d-00a677e1271b",
   "metadata": {},
   "outputs": [
    {
     "data": {
      "text/plain": [
       "'number in 8-bit binary representation: 00101010'"
      ]
     },
     "execution_count": 753,
     "metadata": {},
     "output_type": "execute_result"
    }
   ],
   "source": [
    "num = 42\n",
    "f\"number in 8-bit binary representation: {num:08b}\""
   ]
  },
  {
   "cell_type": "markdown",
   "id": "4df2070f-4be8-49b6-b273-a8e704aeed67",
   "metadata": {},
   "source": [
    "- Binary to integer"
   ]
  },
  {
   "cell_type": "code",
   "execution_count": 756,
   "id": "c2a1796c-013f-4022-9bb4-fb94b49d0a4e",
   "metadata": {},
   "outputs": [
    {
     "data": {
      "text/plain": [
       "42"
      ]
     },
     "execution_count": 756,
     "metadata": {},
     "output_type": "execute_result"
    }
   ],
   "source": [
    "binary_string = \"101010\"\n",
    "int(binary_string,base=2)"
   ]
  },
  {
   "cell_type": "markdown",
   "id": "a59ce2e3-73be-4259-88ef-a6a15778ebc6",
   "metadata": {},
   "source": [
    "- Binary Representations of Strings"
   ]
  },
  {
   "cell_type": "code",
   "execution_count": 778,
   "id": "34cf3db3-2048-4cf3-8fb6-48ad6116be40",
   "metadata": {},
   "outputs": [
    {
     "data": {
      "text/plain": [
       "b'Hello'"
      ]
     },
     "execution_count": 778,
     "metadata": {},
     "output_type": "execute_result"
    }
   ],
   "source": [
    "text = \"Hello\"\n",
    "binary_str = text.encode(encoding=\"ascii\",errors=\"strict\")\n",
    "binary_str"
   ]
  },
  {
   "cell_type": "code",
   "execution_count": 779,
   "id": "f8cee242-67e6-4f7e-9c4d-407e61f8498f",
   "metadata": {},
   "outputs": [
    {
     "data": {
      "text/plain": [
       "5"
      ]
     },
     "execution_count": 779,
     "metadata": {},
     "output_type": "execute_result"
    }
   ],
   "source": [
    "len(binary_str)"
   ]
  },
  {
   "cell_type": "code",
   "execution_count": 787,
   "id": "feb91795-becd-445d-bedd-fbf5143a0425",
   "metadata": {},
   "outputs": [
    {
     "name": "stdout",
     "output_type": "stream",
     "text": [
      "True\n",
      "72\n"
     ]
    }
   ],
   "source": [
    "print(binary_str[0] == ord('H'))\n",
    "print(binary_str[0])"
   ]
  },
  {
   "cell_type": "code",
   "execution_count": 788,
   "id": "4012b32f-4e7d-499f-980b-5b73b8421fbc",
   "metadata": {},
   "outputs": [
    {
     "name": "stdout",
     "output_type": "stream",
     "text": [
      "True\n",
      "101\n"
     ]
    }
   ],
   "source": [
    "print(binary_str[1] == ord('e'))\n",
    "print(binary_str[1])"
   ]
  },
  {
   "cell_type": "code",
   "execution_count": 803,
   "id": "e8f9090c-6ca7-476e-8461-b5fcbda156cb",
   "metadata": {},
   "outputs": [
    {
     "name": "stdout",
     "output_type": "stream",
     "text": [
      "ascii ==> char  ==> byte    \n",
      "   72 ==> H     ==> 0b1001000\n",
      "  101 ==> e     ==> 0b1100101\n",
      "  108 ==> l     ==> 0b1101100\n",
      "  108 ==> l     ==> 0b1101100\n",
      "  111 ==> o     ==> 0b1101111\n"
     ]
    }
   ],
   "source": [
    "print(f\"{'ascii':5} ==> {'char':5} ==> {'byte':8}\")\n",
    "for char_ascii in binary_str:\n",
    "    print(f\"{char_ascii:5} ==> {chr(char_ascii):5} ==> {bin(char_ascii):8}\")"
   ]
  },
  {
   "cell_type": "code",
   "execution_count": 806,
   "id": "08743d69-9bbd-4dad-b818-f62c53c0ad8f",
   "metadata": {},
   "outputs": [
    {
     "data": {
      "text/plain": [
       "'01001000'"
      ]
     },
     "execution_count": 806,
     "metadata": {},
     "output_type": "execute_result"
    }
   ],
   "source": [
    "format(binary_str[0],'08b')"
   ]
  },
  {
   "cell_type": "markdown",
   "id": "d8bb43db-e117-47d5-8aac-4352394c2971",
   "metadata": {},
   "source": [
    "- ord() = returns the unicode point for one-char string\n",
    "- chr() = returns the unicode string for one character with ordinal as the input"
   ]
  },
  {
   "cell_type": "code",
   "execution_count": 818,
   "id": "bc20aa9c-f32f-48ec-8106-266275408549",
   "metadata": {},
   "outputs": [
    {
     "data": {
      "text/plain": [
       "65"
      ]
     },
     "execution_count": 818,
     "metadata": {},
     "output_type": "execute_result"
    }
   ],
   "source": [
    "ord('A')"
   ]
  },
  {
   "cell_type": "code",
   "execution_count": 819,
   "id": "a56959a7-3620-4c76-9a0d-31e331547fab",
   "metadata": {},
   "outputs": [
    {
     "data": {
      "text/plain": [
       "'A'"
      ]
     },
     "execution_count": 819,
     "metadata": {},
     "output_type": "execute_result"
    }
   ],
   "source": [
    "chr(65)"
   ]
  },
  {
   "cell_type": "code",
   "execution_count": 827,
   "id": "bc40f629-2691-44df-a2a0-c1ef28c10c7a",
   "metadata": {},
   "outputs": [
    {
     "data": {
      "text/plain": [
       "128522"
      ]
     },
     "execution_count": 827,
     "metadata": {},
     "output_type": "execute_result"
    }
   ],
   "source": [
    "# smiley emoji\n",
    "ord('😊')"
   ]
  },
  {
   "cell_type": "code",
   "execution_count": 828,
   "id": "17b98ed1-bade-4daf-9ccf-2d51f3c132b9",
   "metadata": {},
   "outputs": [
    {
     "data": {
      "text/plain": [
       "'😊'"
      ]
     },
     "execution_count": 828,
     "metadata": {},
     "output_type": "execute_result"
    }
   ],
   "source": [
    "chr(128522)"
   ]
  },
  {
   "cell_type": "code",
   "execution_count": 831,
   "id": "948d97aa-30cd-4d10-9238-baf660aa6bc2",
   "metadata": {},
   "outputs": [
    {
     "data": {
      "text/plain": [
       "127757"
      ]
     },
     "execution_count": 831,
     "metadata": {},
     "output_type": "execute_result"
    }
   ],
   "source": [
    "# google earth emoji\n",
    "ord('🌍')"
   ]
  },
  {
   "cell_type": "code",
   "execution_count": 832,
   "id": "c41bac2b-c2bb-4dd7-af56-29d469c6a297",
   "metadata": {},
   "outputs": [
    {
     "data": {
      "text/plain": [
       "'🌍'"
      ]
     },
     "execution_count": 832,
     "metadata": {},
     "output_type": "execute_result"
    }
   ],
   "source": [
    "chr(127757)"
   ]
  },
  {
   "cell_type": "markdown",
   "id": "087dc353-9e01-4270-b8e2-a721dcdc2faa",
   "metadata": {},
   "source": [
    "- Encode and Decode Strings in Python\n",
    "- Encode = converts string to bytes using UTF-8 encoding\n",
    "- Decode = converts bytes to string using UTF-8 decoding"
   ]
  },
  {
   "cell_type": "code",
   "execution_count": 833,
   "id": "9b5fc1d7-a57d-46c0-9416-dca8ebb1eaf1",
   "metadata": {},
   "outputs": [],
   "source": [
    "encoded_string = \"hello\".encode(encoding=\"utf-8\",errors='strict')"
   ]
  },
  {
   "cell_type": "code",
   "execution_count": 836,
   "id": "7ca0994c-def9-4b18-a3a3-15639a28edaa",
   "metadata": {},
   "outputs": [
    {
     "data": {
      "text/plain": [
       "str"
      ]
     },
     "execution_count": 836,
     "metadata": {},
     "output_type": "execute_result"
    }
   ],
   "source": [
    "type(\"hello\")"
   ]
  },
  {
   "cell_type": "code",
   "execution_count": 835,
   "id": "1b6ebff7-916d-4b65-8869-f5f60f3575c5",
   "metadata": {},
   "outputs": [
    {
     "data": {
      "text/plain": [
       "bytes"
      ]
     },
     "execution_count": 835,
     "metadata": {},
     "output_type": "execute_result"
    }
   ],
   "source": [
    "type(encoded_string)"
   ]
  },
  {
   "cell_type": "code",
   "execution_count": 838,
   "id": "51751bb4-4f53-41dd-bb1f-e8aef27416c4",
   "metadata": {},
   "outputs": [
    {
     "name": "stdout",
     "output_type": "stream",
     "text": [
      "b'hello'\n"
     ]
    }
   ],
   "source": [
    "# notice the b at the start\n",
    "print(encoded_string)"
   ]
  },
  {
   "cell_type": "code",
   "execution_count": 839,
   "id": "a192a0a2-0e55-4da7-a68e-e1cc4f36bbfa",
   "metadata": {},
   "outputs": [
    {
     "data": {
      "text/plain": [
       "[104, 101, 108, 108, 111]"
      ]
     },
     "execution_count": 839,
     "metadata": {},
     "output_type": "execute_result"
    }
   ],
   "source": [
    "list(encoded_string)"
   ]
  },
  {
   "cell_type": "code",
   "execution_count": 848,
   "id": "8a583477-3048-429a-99ad-f0b428b5a8c5",
   "metadata": {},
   "outputs": [
    {
     "data": {
      "text/plain": [
       "'0110100001100101011011000110110001101111'"
      ]
     },
     "execution_count": 848,
     "metadata": {},
     "output_type": "execute_result"
    }
   ],
   "source": [
    "# complete binary representation of string\n",
    "\"\".join([f\"{i:08b}\" for i in list(encoded_string)])"
   ]
  },
  {
   "cell_type": "markdown",
   "id": "e7ae8efd-e1e9-412c-a617-4c8bf4458c68",
   "metadata": {},
   "source": [
    "- We can decode bytes to str in similar fashion"
   ]
  },
  {
   "cell_type": "code",
   "execution_count": 851,
   "id": "797c8304-88ce-4e5b-ba33-56c36ec2c503",
   "metadata": {},
   "outputs": [],
   "source": [
    "text = \"Hello, World!\"\n",
    "encoded_bytes = text.encode('utf-8')"
   ]
  },
  {
   "cell_type": "code",
   "execution_count": 853,
   "id": "3c374846-5d7a-494a-b499-d920a74b3e31",
   "metadata": {},
   "outputs": [
    {
     "data": {
      "text/plain": [
       "b'Hello, World!'"
      ]
     },
     "execution_count": 853,
     "metadata": {},
     "output_type": "execute_result"
    }
   ],
   "source": [
    "encoded_bytes"
   ]
  },
  {
   "cell_type": "code",
   "execution_count": 854,
   "id": "17efb7da-4414-45ae-ab18-5d13d28e32c2",
   "metadata": {},
   "outputs": [
    {
     "data": {
      "text/plain": [
       "'Hello, World!'"
      ]
     },
     "execution_count": 854,
     "metadata": {},
     "output_type": "execute_result"
    }
   ],
   "source": [
    "encoded_bytes.decode('utf-8')"
   ]
  },
  {
   "cell_type": "markdown",
   "id": "3c80eff4-1feb-463a-a0fc-a9e97096f239",
   "metadata": {},
   "source": [
    "- Old string formatting\n",
    "- %f = float, %d = integer, %s = string"
   ]
  },
  {
   "cell_type": "code",
   "execution_count": 860,
   "id": "0ee8a3fd-8f03-4e0a-94f9-75fe20c7ea27",
   "metadata": {},
   "outputs": [
    {
     "name": "stdout",
     "output_type": "stream",
     "text": [
      "the value of pi is 3.141593\n"
     ]
    }
   ],
   "source": [
    "import math\n",
    "print(\"the value of pi is %f\" % math.pi)"
   ]
  },
  {
   "cell_type": "code",
   "execution_count": 861,
   "id": "bddd7080-9cf6-4686-b155-7af991bea5b3",
   "metadata": {},
   "outputs": [
    {
     "name": "stdout",
     "output_type": "stream",
     "text": [
      "the value of pi is 3.14\n"
     ]
    }
   ],
   "source": [
    "import math\n",
    "print(\"the value of pi is %.2f\" % math.pi)"
   ]
  },
  {
   "cell_type": "code",
   "execution_count": 868,
   "id": "cfc883c1-672f-498c-9f35-3cca472a9a33",
   "metadata": {},
   "outputs": [
    {
     "data": {
      "text/plain": [
       "'Name: Alice, Age: 30'"
      ]
     },
     "execution_count": 868,
     "metadata": {},
     "output_type": "execute_result"
    }
   ],
   "source": [
    "name = \"Alice\"\n",
    "age = 30\n",
    "\"Name: %s, Age: %d\" % (name, age)"
   ]
  },
  {
   "cell_type": "markdown",
   "id": "9b116e90-ce56-4cfd-96ad-7d4fb47cb862",
   "metadata": {},
   "source": [
    "Working with files:\n",
    "- w = write mode\n",
    "- r = read mode (default)\n",
    "- a = append mode\n",
    "- r+ = both reading and writing is allowed\n",
    "- UTF-8 is the modern de-facto standard.\n",
    "- By default, file opens in **text** mode\n",
    "- appending b to the mode opens the file in **binary** mode, encoding parameter doesn't make sense if file is in binary mode"
   ]
  },
  {
   "cell_type": "code",
   "execution_count": 876,
   "id": "28a42bb9-ca3c-4890-b8d7-cc4b53f74b7a",
   "metadata": {},
   "outputs": [],
   "source": [
    "f = open(\"my_file\",\"w\",encoding=\"utf-8\")"
   ]
  },
  {
   "cell_type": "code",
   "execution_count": 877,
   "id": "86870306-4c30-44ba-9c2d-6f9a4f9d76b9",
   "metadata": {},
   "outputs": [
    {
     "data": {
      "text/plain": [
       "21"
      ]
     },
     "execution_count": 877,
     "metadata": {},
     "output_type": "execute_result"
    }
   ],
   "source": [
    "f.write(\"James Bond\\nBond James\")"
   ]
  },
  {
   "cell_type": "code",
   "execution_count": 878,
   "id": "d0655606-18ff-47ae-8420-cd0563c5a578",
   "metadata": {},
   "outputs": [],
   "source": [
    "f.close() # important to close the file"
   ]
  },
  {
   "cell_type": "markdown",
   "id": "2fd86e70-87ac-428a-9bdc-1645762c2d61",
   "metadata": {},
   "source": [
    "- Reading from file"
   ]
  },
  {
   "cell_type": "code",
   "execution_count": 897,
   "id": "2a250b65-afba-40ec-96ca-562352706d79",
   "metadata": {},
   "outputs": [],
   "source": [
    "f = open(\"my_file\",\"r\")"
   ]
  },
  {
   "cell_type": "code",
   "execution_count": 898,
   "id": "b477eac2-1d2d-421f-9b6b-07e7b76b7ed6",
   "metadata": {},
   "outputs": [
    {
     "data": {
      "text/plain": [
       "'James'"
      ]
     },
     "execution_count": 898,
     "metadata": {},
     "output_type": "execute_result"
    }
   ],
   "source": [
    "f.read(5) # read 5 characters"
   ]
  },
  {
   "cell_type": "code",
   "execution_count": 899,
   "id": "0854e278-459f-46b1-a95d-b95e349b6ea7",
   "metadata": {},
   "outputs": [
    {
     "data": {
      "text/plain": [
       "' Bond\\nBond'"
      ]
     },
     "execution_count": 899,
     "metadata": {},
     "output_type": "execute_result"
    }
   ],
   "source": [
    "f.read(10) # read next 10 characters"
   ]
  },
  {
   "cell_type": "code",
   "execution_count": 900,
   "id": "6a3b0362-6468-4298-9919-de75693bf774",
   "metadata": {},
   "outputs": [],
   "source": [
    "f.close()"
   ]
  },
  {
   "cell_type": "markdown",
   "id": "8535a1e6-1267-4a2b-bdc0-34ab223700cb",
   "metadata": {},
   "source": [
    "- Read all lines in a list"
   ]
  },
  {
   "cell_type": "code",
   "execution_count": 909,
   "id": "a85b5435-4d1a-40a9-a729-6e751f12ebe3",
   "metadata": {},
   "outputs": [],
   "source": [
    "f = open(\"my_file\",\"r\")"
   ]
  },
  {
   "cell_type": "code",
   "execution_count": 907,
   "id": "e9475011-f8c3-47b0-9307-7c54e93b1019",
   "metadata": {},
   "outputs": [
    {
     "data": {
      "text/plain": [
       "['James Bond\\n', 'Bond James']"
      ]
     },
     "execution_count": 907,
     "metadata": {},
     "output_type": "execute_result"
    }
   ],
   "source": [
    "f.readlines()"
   ]
  },
  {
   "cell_type": "code",
   "execution_count": 912,
   "id": "dc27d905-28f9-4dda-8a51-6602dcbdf342",
   "metadata": {},
   "outputs": [],
   "source": [
    "f.close()"
   ]
  },
  {
   "cell_type": "markdown",
   "id": "c183cc13-c473-465f-af02-28df5096da35",
   "metadata": {},
   "source": [
    "- Read file in binary mode"
   ]
  },
  {
   "cell_type": "code",
   "execution_count": 936,
   "id": "8accec2d-4a89-46cb-bda9-bc8401791186",
   "metadata": {},
   "outputs": [],
   "source": [
    "f = open(\"my_file\",\"rb\")"
   ]
  },
  {
   "cell_type": "code",
   "execution_count": 937,
   "id": "d1293bc2-8bda-4f73-85d6-4a0fc7d85ac4",
   "metadata": {},
   "outputs": [],
   "source": [
    "output = f.read()"
   ]
  },
  {
   "cell_type": "code",
   "execution_count": 938,
   "id": "3563eecf-08bd-4edd-91f8-94b137f46f38",
   "metadata": {},
   "outputs": [
    {
     "data": {
      "text/plain": [
       "b'James Bond\\nBond James'"
      ]
     },
     "execution_count": 938,
     "metadata": {},
     "output_type": "execute_result"
    }
   ],
   "source": [
    "output"
   ]
  },
  {
   "cell_type": "code",
   "execution_count": 939,
   "id": "6e759f30-b250-4fa8-aad9-5677feb0c865",
   "metadata": {},
   "outputs": [
    {
     "data": {
      "text/plain": [
       "bytes"
      ]
     },
     "execution_count": 939,
     "metadata": {},
     "output_type": "execute_result"
    }
   ],
   "source": [
    "type(output)"
   ]
  },
  {
   "cell_type": "code",
   "execution_count": 941,
   "id": "50465367-f6ef-480a-b887-50686ceb662d",
   "metadata": {},
   "outputs": [
    {
     "name": "stdout",
     "output_type": "stream",
     "text": [
      "[74, 97, 109, 101, 115, 32, 66, 111, 110, 100, 10, 66, 111, 110, 100, 32, 74, 97, 109, 101, 115]\n"
     ]
    }
   ],
   "source": [
    "# get bytes stored in file\n",
    "print([i for i in output])"
   ]
  },
  {
   "cell_type": "code",
   "execution_count": 942,
   "id": "9cdce07d-30d5-48e8-80c5-317bbf85d5eb",
   "metadata": {},
   "outputs": [],
   "source": [
    "f.close()"
   ]
  },
  {
   "cell_type": "markdown",
   "id": "9633597c-33aa-4adb-bd28-5fa8e819b60c",
   "metadata": {},
   "source": [
    "- Its good practice to use `with` keyword\n",
    "- The file is properly closed even if exception is raised"
   ]
  },
  {
   "cell_type": "code",
   "execution_count": 946,
   "id": "7e833b76-573f-48f4-8741-413fc4a52e6f",
   "metadata": {},
   "outputs": [],
   "source": [
    "with open(\"my_file\",\"r\") as f:\n",
    "    read_data = f.read()"
   ]
  },
  {
   "cell_type": "code",
   "execution_count": 947,
   "id": "4c947f17-7275-4ee2-9244-c9a613a807d7",
   "metadata": {},
   "outputs": [
    {
     "data": {
      "text/plain": [
       "True"
      ]
     },
     "execution_count": 947,
     "metadata": {},
     "output_type": "execute_result"
    }
   ],
   "source": [
    "f.closed"
   ]
  },
  {
   "cell_type": "code",
   "execution_count": 948,
   "id": "0e2c545a-5367-4866-8fef-d3f5cbb652e5",
   "metadata": {},
   "outputs": [
    {
     "data": {
      "text/plain": [
       "'James Bond\\nBond James'"
      ]
     },
     "execution_count": 948,
     "metadata": {},
     "output_type": "execute_result"
    }
   ],
   "source": [
    "read_data"
   ]
  },
  {
   "cell_type": "markdown",
   "id": "f2bf058b-0d11-4cd0-9087-e69ddcc8c33b",
   "metadata": {},
   "source": [
    "- read(n) = reads at most n number of chars (in text mode) and n number of bytes (in binary mode)"
   ]
  },
  {
   "cell_type": "markdown",
   "id": "99229f6f-5a1b-443a-8c29-5c387239519c",
   "metadata": {},
   "source": [
    "- values must be converted to str before writing in text mode"
   ]
  },
  {
   "cell_type": "code",
   "execution_count": 950,
   "id": "933f1014-f9cd-4cf2-bfe6-418db00cd92f",
   "metadata": {},
   "outputs": [],
   "source": [
    "# results in error!\n",
    "# with open(\"my_file\",\"w\") as f:\n",
    "#     f.write(54)"
   ]
  },
  {
   "cell_type": "code",
   "execution_count": 952,
   "id": "b2fb63a1-c4ab-40da-80df-f6c15fd17655",
   "metadata": {},
   "outputs": [],
   "source": [
    "# works!\n",
    "with open(\"my_file\",\"w\") as f:\n",
    "    f.write(str(54))"
   ]
  },
  {
   "cell_type": "markdown",
   "id": "8ad5298e-007f-42cb-9f91-cd78ecf4a4ee",
   "metadata": {},
   "source": [
    "- f.tell() -> returns file object's current position index\n",
    "- equal to number of bytes from the beginning of the file in binary mode\n",
    "- f.seek(offset,whence) -> change the file pointer\n",
    "- offset = # of steps to take from reference point\n",
    "- whence = specifies the reference point\n",
    "- whence = 0 -> reference = beginning of file (default value)\n",
    "- whence = 1 -> reference = current file position\n",
    "- whence = 2 -> reference = end of file "
   ]
  },
  {
   "cell_type": "code",
   "execution_count": 1031,
   "id": "0d1c32c3-48fa-41d4-bf3d-60cb5ee89ae2",
   "metadata": {},
   "outputs": [],
   "source": [
    "f = open(\"my_file\",\"rb+\")"
   ]
  },
  {
   "cell_type": "code",
   "execution_count": 1032,
   "id": "7ebbba39-2298-47cc-9568-5481fc660fec",
   "metadata": {},
   "outputs": [
    {
     "data": {
      "text/plain": [
       "16"
      ]
     },
     "execution_count": 1032,
     "metadata": {},
     "output_type": "execute_result"
    }
   ],
   "source": [
    "f.write(b\"0123456789abcdef\")"
   ]
  },
  {
   "cell_type": "code",
   "execution_count": 1033,
   "id": "5cb66713-1f59-4cc5-9ee8-d82e3b1e0aed",
   "metadata": {},
   "outputs": [
    {
     "data": {
      "text/plain": [
       "16"
      ]
     },
     "execution_count": 1033,
     "metadata": {},
     "output_type": "execute_result"
    }
   ],
   "source": [
    "f.tell()"
   ]
  },
  {
   "cell_type": "code",
   "execution_count": 1034,
   "id": "006c7ebb-8770-4707-8fd7-d7140a869029",
   "metadata": {},
   "outputs": [
    {
     "data": {
      "text/plain": [
       "6"
      ]
     },
     "execution_count": 1034,
     "metadata": {},
     "output_type": "execute_result"
    }
   ],
   "source": [
    "f.seek(6) # go to the 6th byte in the file"
   ]
  },
  {
   "cell_type": "code",
   "execution_count": 1035,
   "id": "0a8ff537-b9b3-49b3-afbf-dc4e99903335",
   "metadata": {},
   "outputs": [
    {
     "data": {
      "text/plain": [
       "b'6'"
      ]
     },
     "execution_count": 1035,
     "metadata": {},
     "output_type": "execute_result"
    }
   ],
   "source": [
    "f.read(1) # read next byte which is 6th byte"
   ]
  },
  {
   "cell_type": "code",
   "execution_count": 1036,
   "id": "8d0d621d-45c8-4eda-8899-e180b5d8f972",
   "metadata": {},
   "outputs": [
    {
     "data": {
      "text/plain": [
       "13"
      ]
     },
     "execution_count": 1036,
     "metadata": {},
     "output_type": "execute_result"
    }
   ],
   "source": [
    "f.seek(-3,2)"
   ]
  },
  {
   "cell_type": "code",
   "execution_count": 1037,
   "id": "8648ac15-30f9-4518-8f2f-4e4ee50a749c",
   "metadata": {},
   "outputs": [
    {
     "data": {
      "text/plain": [
       "b'd'"
      ]
     },
     "execution_count": 1037,
     "metadata": {},
     "output_type": "execute_result"
    }
   ],
   "source": [
    "f.read(1)"
   ]
  },
  {
   "cell_type": "code",
   "execution_count": 1038,
   "id": "7035f566-ff0d-42d7-97fc-e8a8a83df10c",
   "metadata": {},
   "outputs": [],
   "source": [
    "f.close()"
   ]
  },
  {
   "cell_type": "markdown",
   "id": "3a9e17af-a068-40a4-bbc8-07360bdc9d75",
   "metadata": {},
   "source": [
    "- Working with json\n",
    "- Serialization = json object to str/file, uses: save objects to file, sending data over networks, caching data etc.\n",
    "- Deserialization = str/file to json object\n",
    "- JSON files must be encoded in UTF-8"
   ]
  },
  {
   "cell_type": "code",
   "execution_count": 1039,
   "id": "33956342-5173-4a9a-a19e-6a2784875f20",
   "metadata": {},
   "outputs": [],
   "source": [
    "import json"
   ]
  },
  {
   "cell_type": "code",
   "execution_count": 1051,
   "id": "fa4a2bb1-e7d9-47d1-bb01-21a9c5701ced",
   "metadata": {},
   "outputs": [],
   "source": [
    "x = [1,'simple','list']"
   ]
  },
  {
   "cell_type": "code",
   "execution_count": 1052,
   "id": "ef950f90-a3bb-4c1f-a0fd-4134a603f0b0",
   "metadata": {},
   "outputs": [
    {
     "data": {
      "text/plain": [
       "[1, 'simple', 'list']"
      ]
     },
     "execution_count": 1052,
     "metadata": {},
     "output_type": "execute_result"
    }
   ],
   "source": [
    "x"
   ]
  },
  {
   "cell_type": "code",
   "execution_count": 1053,
   "id": "bea0591a-1db3-43bf-8099-3d22fa3af12c",
   "metadata": {},
   "outputs": [
    {
     "data": {
      "text/plain": [
       "'[1, \"simple\", \"list\"]'"
      ]
     },
     "execution_count": 1053,
     "metadata": {},
     "output_type": "execute_result"
    }
   ],
   "source": [
    "# serialize to str\n",
    "json_str = json.dumps(x)\n",
    "json_str"
   ]
  },
  {
   "cell_type": "code",
   "execution_count": 1054,
   "id": "48c89fa3-8ecc-4293-b5f4-204d6724a21a",
   "metadata": {},
   "outputs": [
    {
     "data": {
      "text/plain": [
       "[1, 'simple', 'list']"
      ]
     },
     "execution_count": 1054,
     "metadata": {},
     "output_type": "execute_result"
    }
   ],
   "source": [
    "# deserialize to json object\n",
    "x_deserialized = json.loads(json_str)\n",
    "x_deserialized"
   ]
  },
  {
   "cell_type": "code",
   "execution_count": 1055,
   "id": "3876a93e-24c8-4086-bf94-15e17aefe691",
   "metadata": {},
   "outputs": [],
   "source": [
    "# serialize object to a file\n",
    "with open(\"json.txt\",\"w\") as f:\n",
    "    json.dump(x,f)"
   ]
  },
  {
   "cell_type": "code",
   "execution_count": 1058,
   "id": "c4d0211c-754c-458b-9900-6d098a84eada",
   "metadata": {},
   "outputs": [],
   "source": [
    "# deserialize from file\n",
    "with open(\"json.txt\",\"r\") as f:\n",
    "    x_loaded = json.load(f)"
   ]
  },
  {
   "cell_type": "code",
   "execution_count": 1059,
   "id": "55b0b35a-2bfd-4046-b4b9-08d626beed99",
   "metadata": {},
   "outputs": [
    {
     "data": {
      "text/plain": [
       "[1, 'simple', 'list']"
      ]
     },
     "execution_count": 1059,
     "metadata": {},
     "output_type": "execute_result"
    }
   ],
   "source": [
    "x_loaded"
   ]
  },
  {
   "cell_type": "markdown",
   "id": "68da84d7-a57c-4468-b494-abf86f423995",
   "metadata": {},
   "source": [
    "What is pickle?\n",
    "- serialize/deserialize arbitrary python objects\n",
    "- serialization = python object to byte stream (aka pickling)\n",
    "- deserialization = byte stream to python object (aka unpickling)\n",
    "\n",
    "Uses:\n",
    "- save python objects to a file or database\n",
    "- serialize to send over network / different processes"
   ]
  },
  {
   "cell_type": "code",
   "execution_count": 1060,
   "id": "0c1dbf86-bb80-40ef-8074-961c59f6f735",
   "metadata": {},
   "outputs": [],
   "source": [
    "import pickle"
   ]
  },
  {
   "cell_type": "code",
   "execution_count": 1061,
   "id": "c622cf8d-2c49-4656-bb38-6460d3c8a44c",
   "metadata": {},
   "outputs": [],
   "source": [
    "data = {'name':'Alice','age':30}"
   ]
  },
  {
   "cell_type": "code",
   "execution_count": 1066,
   "id": "be669f96-7799-41b1-838d-3f588fbd80bd",
   "metadata": {},
   "outputs": [],
   "source": [
    "# pickling\n",
    "with open(\"data.pkl\",\"wb\") as f:\n",
    "    pickle.dump(data,f)"
   ]
  },
  {
   "cell_type": "code",
   "execution_count": 1068,
   "id": "47ecfcae-e63b-4e40-988c-5f9525046d60",
   "metadata": {},
   "outputs": [],
   "source": [
    "# unpickling\n",
    "with open(\"data.pkl\",\"rb\") as f:\n",
    "    loaded_data = pickle.load(f)"
   ]
  },
  {
   "cell_type": "code",
   "execution_count": 1069,
   "id": "be25e6e9-56b7-42cc-a7a9-676e9b11c603",
   "metadata": {},
   "outputs": [
    {
     "data": {
      "text/plain": [
       "{'name': 'Alice', 'age': 30}"
      ]
     },
     "execution_count": 1069,
     "metadata": {},
     "output_type": "execute_result"
    }
   ],
   "source": [
    "loaded_data"
   ]
  },
  {
   "cell_type": "markdown",
   "id": "8cd6f2de-66df-44e7-8451-2c51f7544613",
   "metadata": {},
   "source": [
    "- Pickling in Memory"
   ]
  },
  {
   "cell_type": "code",
   "execution_count": 1079,
   "id": "1756bcc8-bd5a-47f5-8d7c-fa7d0ecf835c",
   "metadata": {},
   "outputs": [
    {
     "data": {
      "text/plain": [
       "{'name': 'Alice', 'age': 30}"
      ]
     },
     "execution_count": 1079,
     "metadata": {},
     "output_type": "execute_result"
    }
   ],
   "source": [
    "data"
   ]
  },
  {
   "cell_type": "code",
   "execution_count": 1070,
   "id": "f25b47b2-9a95-49e1-9ee8-aa201dd14afb",
   "metadata": {},
   "outputs": [
    {
     "data": {
      "text/plain": [
       "b'\\x80\\x04\\x95\\x1c\\x00\\x00\\x00\\x00\\x00\\x00\\x00}\\x94(\\x8c\\x04name\\x94\\x8c\\x05Alice\\x94\\x8c\\x03age\\x94K\\x1eu.'"
      ]
     },
     "execution_count": 1070,
     "metadata": {},
     "output_type": "execute_result"
    }
   ],
   "source": [
    "pickled_data = pickle.dumps(data)\n",
    "pickled_data"
   ]
  },
  {
   "cell_type": "code",
   "execution_count": 1077,
   "id": "e527c907-4629-4952-83ef-7b710025308e",
   "metadata": {},
   "outputs": [],
   "source": [
    "unpickled_data = pickle.loads(pickled_data)"
   ]
  },
  {
   "cell_type": "code",
   "execution_count": 1078,
   "id": "38f8c72d-a0c6-4df0-9efd-ce9620de324c",
   "metadata": {},
   "outputs": [
    {
     "data": {
      "text/plain": [
       "{'name': 'Alice', 'age': 30}"
      ]
     },
     "execution_count": 1078,
     "metadata": {},
     "output_type": "execute_result"
    }
   ],
   "source": [
    "unpickled_data"
   ]
  },
  {
   "cell_type": "markdown",
   "id": "ec877479-299d-43bb-b0e9-37fc65f84ad9",
   "metadata": {},
   "source": [
    "**Pickle**:\n",
    "- pickle can serialize custom python functions, custom classes.\n",
    "- it is python specific only\n",
    "- pickled data is not human readable (binary format)\n",
    "\n",
    "**JSON**:\n",
    "- serialize data that is language independent, such as string, numbers, lists, dictionaries etc.\n",
    "- json is human readable (text format)\n",
    "- cross language support.\n",
    "- widely used in APIs."
   ]
  },
  {
   "cell_type": "markdown",
   "id": "37c21fd6-39b0-41db-8ead-3be5ce84d530",
   "metadata": {},
   "source": [
    "**Scopes and Namespaces:**\n",
    "- namespace = mapping of names to objects\n",
    "- ex of namespaces:\n",
    "    - built-in names eg. abs()\n",
    "    - built-in exception names\n",
    "    - global names in module\n",
    "    - local names in a function"
   ]
  },
  {
   "cell_type": "code",
   "execution_count": 1089,
   "id": "a1f79afc-a844-4030-9aa4-6b3c4d3fff75",
   "metadata": {},
   "outputs": [
    {
     "name": "stdout",
     "output_type": "stream",
     "text": [
      "After local assignment: test spam\n",
      "After nonlocal assignment: nonlocal spam\n",
      "After global assignment: nonlocal spam\n",
      "In global scope: global spam\n"
     ]
    }
   ],
   "source": [
    "def scope_test():\n",
    "    def do_local():\n",
    "        spam = \"local spam\"\n",
    "    \n",
    "    def do_nonlocal():\n",
    "        nonlocal spam\n",
    "        spam = \"nonlocal spam\"\n",
    "\n",
    "    def do_global():\n",
    "        global spam\n",
    "        spam = \"global spam\"\n",
    "\n",
    "    spam = \"test spam\"\n",
    "    do_local()\n",
    "    print(\"After local assignment:\",spam)\n",
    "    do_nonlocal()\n",
    "    print(\"After nonlocal assignment:\",spam)\n",
    "    do_global()\n",
    "    print(\"After global assignment:\",spam)\n",
    "\n",
    "scope_test()\n",
    "print(\"In global scope:\",spam)"
   ]
  },
  {
   "cell_type": "markdown",
   "id": "50ff33c8-aa38-48ea-926b-27e4ed39d864",
   "metadata": {},
   "source": [
    "- Class Definition Syntax"
   ]
  },
  {
   "cell_type": "code",
   "execution_count": 1101,
   "id": "0b543a0f-3266-4f1e-80d2-dc71ce48ee13",
   "metadata": {},
   "outputs": [],
   "source": [
    "class MyClass:\n",
    "    \"\"\"A simple example class\"\"\"\n",
    "    i = 12345\n",
    "\n",
    "    def f(self):\n",
    "        return \"hello world\""
   ]
  },
  {
   "cell_type": "code",
   "execution_count": 1102,
   "id": "c4aafd59-c7bb-4480-956f-81e074e5d4a0",
   "metadata": {},
   "outputs": [
    {
     "data": {
      "text/plain": [
       "12345"
      ]
     },
     "execution_count": 1102,
     "metadata": {},
     "output_type": "execute_result"
    }
   ],
   "source": [
    "MyClass.i"
   ]
  },
  {
   "cell_type": "code",
   "execution_count": 1103,
   "id": "e577cb85-0fa5-4caa-b259-20c608efa294",
   "metadata": {},
   "outputs": [
    {
     "data": {
      "text/plain": [
       "<function __main__.MyClass.f(self)>"
      ]
     },
     "execution_count": 1103,
     "metadata": {},
     "output_type": "execute_result"
    }
   ],
   "source": [
    "MyClass.f"
   ]
  },
  {
   "cell_type": "code",
   "execution_count": 1104,
   "id": "afe2a45e-2be9-4022-89df-6dd1b17c75e4",
   "metadata": {},
   "outputs": [
    {
     "data": {
      "text/plain": [
       "'hello world'"
      ]
     },
     "execution_count": 1104,
     "metadata": {},
     "output_type": "execute_result"
    }
   ],
   "source": [
    "MyClass.f(MyClass)"
   ]
  },
  {
   "cell_type": "code",
   "execution_count": 1105,
   "id": "00065af4-d8bb-4677-a14f-7c4fad507db3",
   "metadata": {},
   "outputs": [
    {
     "data": {
      "text/plain": [
       "'A simple example class'"
      ]
     },
     "execution_count": 1105,
     "metadata": {},
     "output_type": "execute_result"
    }
   ],
   "source": [
    "MyClass.__doc__"
   ]
  },
  {
   "cell_type": "markdown",
   "id": "47d868f9-ef02-4f06-8354-5ba6b3e88960",
   "metadata": {},
   "source": [
    "- Class Instantiation"
   ]
  },
  {
   "cell_type": "code",
   "execution_count": 1117,
   "id": "cbbc8ab7-200b-4ae0-ab1a-d97a711756c8",
   "metadata": {},
   "outputs": [],
   "source": [
    "class Complex:\n",
    "    def __init__(self,real,imag):\n",
    "        self.r = real\n",
    "        self.i = imag\n",
    "    \n",
    "    def pprint(self):\n",
    "        print(f\"{self.r} + {self.i}i\")"
   ]
  },
  {
   "cell_type": "code",
   "execution_count": 1122,
   "id": "2cfcf02b-718d-43b0-9bf7-dbed036daedc",
   "metadata": {},
   "outputs": [],
   "source": [
    "x = Complex(3,5)"
   ]
  },
  {
   "cell_type": "code",
   "execution_count": 1123,
   "id": "e40d2163-4bf0-4748-bba1-da1a7434c6e1",
   "metadata": {},
   "outputs": [
    {
     "data": {
      "text/plain": [
       "3"
      ]
     },
     "execution_count": 1123,
     "metadata": {},
     "output_type": "execute_result"
    }
   ],
   "source": [
    "x.r"
   ]
  },
  {
   "cell_type": "code",
   "execution_count": 1124,
   "id": "8a20f85b-5620-47b3-b46e-d8c9a52c4d2d",
   "metadata": {},
   "outputs": [
    {
     "data": {
      "text/plain": [
       "5"
      ]
     },
     "execution_count": 1124,
     "metadata": {},
     "output_type": "execute_result"
    }
   ],
   "source": [
    "x.i"
   ]
  },
  {
   "cell_type": "code",
   "execution_count": 1125,
   "id": "6c654a9c-f2dc-4068-a78e-6b3871e79176",
   "metadata": {},
   "outputs": [
    {
     "name": "stdout",
     "output_type": "stream",
     "text": [
      "3 + 5i\n"
     ]
    }
   ],
   "source": [
    "x.pprint()"
   ]
  },
  {
   "cell_type": "code",
   "execution_count": 1131,
   "id": "bc4aaacd-75fd-4c40-b99f-f3e29e84f9e3",
   "metadata": {},
   "outputs": [
    {
     "name": "stdout",
     "output_type": "stream",
     "text": [
      "3 + 5i\n"
     ]
    }
   ],
   "source": [
    "# fn call on object is similar to this call!\n",
    "Complex.pprint(x)"
   ]
  },
  {
   "cell_type": "markdown",
   "id": "a41217c4-5f77-4599-8c1b-955dcaa8897d",
   "metadata": {},
   "source": [
    "- Class variables = shared among objects\n",
    "- Instance variables = specific to objects"
   ]
  },
  {
   "cell_type": "code",
   "execution_count": 1152,
   "id": "1ccff21d-31f5-4a88-bd58-33e72909debf",
   "metadata": {},
   "outputs": [],
   "source": [
    "class Dog:\n",
    "    kind = 'canine'\n",
    "    def __init__(self,name):\n",
    "        self.name = name"
   ]
  },
  {
   "cell_type": "code",
   "execution_count": 1153,
   "id": "1a21d73b-2fb3-4fda-8fa6-ec3937f546ae",
   "metadata": {},
   "outputs": [],
   "source": [
    "d = Dog(\"Fido\")"
   ]
  },
  {
   "cell_type": "code",
   "execution_count": 1154,
   "id": "b57cdceb-7f34-41ed-b4fb-7e17f9519da3",
   "metadata": {},
   "outputs": [],
   "source": [
    "e = Dog(\"Buddy\")"
   ]
  },
  {
   "cell_type": "code",
   "execution_count": 1155,
   "id": "5e86d2fe-e2a7-4d8b-bb25-bd37b7408061",
   "metadata": {},
   "outputs": [
    {
     "data": {
      "text/plain": [
       "'canine'"
      ]
     },
     "execution_count": 1155,
     "metadata": {},
     "output_type": "execute_result"
    }
   ],
   "source": [
    "d.kind"
   ]
  },
  {
   "cell_type": "code",
   "execution_count": 1156,
   "id": "05382982-91a6-4f91-8d9d-4ceba693da1f",
   "metadata": {},
   "outputs": [
    {
     "data": {
      "text/plain": [
       "'canine'"
      ]
     },
     "execution_count": 1156,
     "metadata": {},
     "output_type": "execute_result"
    }
   ],
   "source": [
    "e.kind"
   ]
  },
  {
   "cell_type": "code",
   "execution_count": 1157,
   "id": "ad74ccb3-d8e7-49fc-ac83-d602528a68ce",
   "metadata": {},
   "outputs": [
    {
     "data": {
      "text/plain": [
       "'Fido'"
      ]
     },
     "execution_count": 1157,
     "metadata": {},
     "output_type": "execute_result"
    }
   ],
   "source": [
    "d.name"
   ]
  },
  {
   "cell_type": "code",
   "execution_count": 1158,
   "id": "ea528194-a38f-4979-9521-0a226aa1a576",
   "metadata": {},
   "outputs": [
    {
     "data": {
      "text/plain": [
       "'Buddy'"
      ]
     },
     "execution_count": 1158,
     "metadata": {},
     "output_type": "execute_result"
    }
   ],
   "source": [
    "e.name"
   ]
  },
  {
   "cell_type": "markdown",
   "id": "6fcab6bb-fe04-433a-9fff-d1ced60eed02",
   "metadata": {},
   "source": [
    "- Shared data can have unexpected effects with mutable objects\n",
    "- Correct design of the class should use an instance variable instead"
   ]
  },
  {
   "cell_type": "code",
   "execution_count": 1159,
   "id": "525a03e0-b26e-436a-a4ba-7bed412210db",
   "metadata": {},
   "outputs": [],
   "source": [
    "class Dog:\n",
    "    tricks = []\n",
    "    def __init__(self,name):\n",
    "        self.name = name\n",
    "    def add_trick(self,trick):\n",
    "        self.tricks.append(trick)"
   ]
  },
  {
   "cell_type": "code",
   "execution_count": 1160,
   "id": "4ee6240b-0f44-4460-a88d-f5ef57141e9d",
   "metadata": {},
   "outputs": [],
   "source": [
    "d = Dog(\"Fido\")\n",
    "e = Dog(\"Buddy\")"
   ]
  },
  {
   "cell_type": "code",
   "execution_count": 1161,
   "id": "b4ed2ed5-d510-4c6e-9db5-c5e5ffcf1a51",
   "metadata": {},
   "outputs": [],
   "source": [
    "d.add_trick(\"roll over\")\n",
    "e.add_trick(\"play dead\")"
   ]
  },
  {
   "cell_type": "code",
   "execution_count": 1162,
   "id": "ad789256-87ee-4741-a67d-c84b98611c58",
   "metadata": {},
   "outputs": [
    {
     "data": {
      "text/plain": [
       "['roll over', 'play dead']"
      ]
     },
     "execution_count": 1162,
     "metadata": {},
     "output_type": "execute_result"
    }
   ],
   "source": [
    "d.tricks"
   ]
  },
  {
   "cell_type": "code",
   "execution_count": 1163,
   "id": "0efd6fc5-1eb2-4544-925e-0a7901ad00e0",
   "metadata": {},
   "outputs": [
    {
     "data": {
      "text/plain": [
       "['roll over', 'play dead']"
      ]
     },
     "execution_count": 1163,
     "metadata": {},
     "output_type": "execute_result"
    }
   ],
   "source": [
    "e.tricks"
   ]
  },
  {
   "cell_type": "markdown",
   "id": "004ac00a-f1b9-4c1f-9c04-9c840b5619ac",
   "metadata": {},
   "source": [
    "- If the same attribute name occurs in both an instance and in a class, then attribute lookup prioritizes the instance"
   ]
  },
  {
   "cell_type": "code",
   "execution_count": 1164,
   "id": "566d59e8-076c-4278-8d40-77690c22ebca",
   "metadata": {},
   "outputs": [
    {
     "name": "stdout",
     "output_type": "stream",
     "text": [
      "storage west\n"
     ]
    }
   ],
   "source": [
    "class Warehouse:\n",
    "   purpose = 'storage'\n",
    "   region = 'west'\n",
    "\n",
    "w1 = Warehouse()\n",
    "print(w1.purpose, w1.region)"
   ]
  },
  {
   "cell_type": "code",
   "execution_count": 1165,
   "id": "7d85774c-8340-4753-b7c6-a1a674c869a4",
   "metadata": {},
   "outputs": [
    {
     "name": "stdout",
     "output_type": "stream",
     "text": [
      "storage east\n"
     ]
    }
   ],
   "source": [
    "w2 = Warehouse()\n",
    "w2.region = 'east'\n",
    "print(w2.purpose, w2.region)"
   ]
  },
  {
   "cell_type": "markdown",
   "id": "76e9bc11-03b4-4e5a-b6ea-e37d0eeb8cf9",
   "metadata": {},
   "source": [
    "- Check if object is instance of class"
   ]
  },
  {
   "cell_type": "code",
   "execution_count": 1177,
   "id": "8c1812e3-5440-4bfe-ba33-e15591bacbc0",
   "metadata": {},
   "outputs": [],
   "source": [
    "class MyClass:\n",
    "    pass\n",
    "obj = MyClass()"
   ]
  },
  {
   "cell_type": "code",
   "execution_count": 1179,
   "id": "0eaac6c8-ae87-4a49-aedc-23913c869a41",
   "metadata": {},
   "outputs": [
    {
     "data": {
      "text/plain": [
       "True"
      ]
     },
     "execution_count": 1179,
     "metadata": {},
     "output_type": "execute_result"
    }
   ],
   "source": [
    "isinstance(obj,MyClass)"
   ]
  },
  {
   "cell_type": "code",
   "execution_count": 1180,
   "id": "160a50cd-3108-4c98-bdc9-aae0a55fe31a",
   "metadata": {},
   "outputs": [
    {
     "data": {
      "text/plain": [
       "True"
      ]
     },
     "execution_count": 1180,
     "metadata": {},
     "output_type": "execute_result"
    }
   ],
   "source": [
    "isinstance(\"hello\",str)"
   ]
  },
  {
   "cell_type": "code",
   "execution_count": 1184,
   "id": "9b3bec2e-902f-419f-adb3-3f372a1f1368",
   "metadata": {},
   "outputs": [
    {
     "data": {
      "text/plain": [
       "True"
      ]
     },
     "execution_count": 1184,
     "metadata": {},
     "output_type": "execute_result"
    }
   ],
   "source": [
    "isinstance(324,int)"
   ]
  },
  {
   "cell_type": "markdown",
   "id": "09363337-96af-4398-aa62-6bfd9a4ab30b",
   "metadata": {},
   "source": [
    "- Check if 1 class is derived class of other"
   ]
  },
  {
   "cell_type": "code",
   "execution_count": 1187,
   "id": "cfe709eb-30ba-46dd-aeae-039fb621b6ec",
   "metadata": {},
   "outputs": [
    {
     "data": {
      "text/plain": [
       "True"
      ]
     },
     "execution_count": 1187,
     "metadata": {},
     "output_type": "execute_result"
    }
   ],
   "source": [
    "# bool is a subclass of int\n",
    "issubclass(bool,int)"
   ]
  },
  {
   "cell_type": "code",
   "execution_count": 1188,
   "id": "140ea7d8-3d18-4481-a798-6605ea57046c",
   "metadata": {},
   "outputs": [
    {
     "data": {
      "text/plain": [
       "False"
      ]
     },
     "execution_count": 1188,
     "metadata": {},
     "output_type": "execute_result"
    }
   ],
   "source": [
    "# float is not a subclass of int\n",
    "issubclass(float,int)"
   ]
  },
  {
   "cell_type": "markdown",
   "id": "b737b23b-09c1-4288-9c8a-d2689d79eda2",
   "metadata": {},
   "source": [
    "- All class members in Python are public by default\n",
    "- Private variables are defined by prefixing the variable name with double underscores `__` to make it private."
   ]
  },
  {
   "cell_type": "code",
   "execution_count": 1196,
   "id": "9d91e29f-1a3f-4ed1-aca2-0caedb1d9aa5",
   "metadata": {},
   "outputs": [],
   "source": [
    "class MyClass:\n",
    "    def __init__(self):\n",
    "        self.public_data = 42\n",
    "        self.__private_data = 45\n",
    "    \n",
    "    def public_method(self):\n",
    "        print(\"this is public method\")\n",
    "\n",
    "    def __private_method(self):\n",
    "        print(\"this is private method: \", self.__private_data)"
   ]
  },
  {
   "cell_type": "code",
   "execution_count": 1197,
   "id": "4782e41b-4f71-4a94-8b42-99616e41d485",
   "metadata": {},
   "outputs": [],
   "source": [
    "obj = MyClass()"
   ]
  },
  {
   "cell_type": "code",
   "execution_count": 1198,
   "id": "28813f0f-d912-41bd-8b87-28aea37daf74",
   "metadata": {},
   "outputs": [
    {
     "data": {
      "text/plain": [
       "42"
      ]
     },
     "execution_count": 1198,
     "metadata": {},
     "output_type": "execute_result"
    }
   ],
   "source": [
    "obj.public_data"
   ]
  },
  {
   "cell_type": "code",
   "execution_count": 1199,
   "id": "a5e075cc-af24-40e7-9765-88c5078c9c36",
   "metadata": {},
   "outputs": [
    {
     "name": "stdout",
     "output_type": "stream",
     "text": [
      "this is public method\n"
     ]
    }
   ],
   "source": [
    "obj.public_method()"
   ]
  },
  {
   "cell_type": "code",
   "execution_count": 1201,
   "id": "20a996b8-26f4-4551-9a75-6dd2450e1fd1",
   "metadata": {},
   "outputs": [],
   "source": [
    "# raises error\n",
    "# obj.__private_data"
   ]
  },
  {
   "cell_type": "code",
   "execution_count": 1203,
   "id": "8d61f9b4-1e4f-4ceb-bd2a-805aee057b61",
   "metadata": {},
   "outputs": [],
   "source": [
    "# raises error\n",
    "# obj.__private_method()"
   ]
  },
  {
   "cell_type": "markdown",
   "id": "e9af1159-640f-4dca-aa50-3dee934af42a",
   "metadata": {},
   "source": [
    "- Its still possible to access private variables!\n",
    "- Python doesn't make these variables actually private, only name mangling is done!"
   ]
  },
  {
   "cell_type": "code",
   "execution_count": 1204,
   "id": "11d8daf9-43ba-4868-b81e-7a82c167af0b",
   "metadata": {},
   "outputs": [],
   "source": [
    "class MyClass:\n",
    "    def __init__(self):\n",
    "        self.public_data = 42\n",
    "        self.__private_data = 45\n",
    "    \n",
    "    def public_method(self):\n",
    "        print(\"this is public method\")\n",
    "\n",
    "    def __private_method(self):\n",
    "        print(\"this is private method: \", self.__private_data)"
   ]
  },
  {
   "cell_type": "code",
   "execution_count": 1205,
   "id": "ebdd5cee-f034-4adf-86a7-8e15b4c0edec",
   "metadata": {},
   "outputs": [],
   "source": [
    "obj = MyClass()"
   ]
  },
  {
   "cell_type": "code",
   "execution_count": 1206,
   "id": "934014a1-7bee-482c-a926-ea0d05714a48",
   "metadata": {},
   "outputs": [
    {
     "data": {
      "text/plain": [
       "45"
      ]
     },
     "execution_count": 1206,
     "metadata": {},
     "output_type": "execute_result"
    }
   ],
   "source": [
    "obj._MyClass__private_data"
   ]
  },
  {
   "cell_type": "code",
   "execution_count": 1207,
   "id": "7c871d11-7c38-4cf3-8eef-3ea700948dfe",
   "metadata": {},
   "outputs": [
    {
     "name": "stdout",
     "output_type": "stream",
     "text": [
      "this is private method:  45\n"
     ]
    }
   ],
   "source": [
    "obj._MyClass__private_method()"
   ]
  },
  {
   "cell_type": "markdown",
   "id": "207decc5-6908-491b-a9b7-50e1ba49e4de",
   "metadata": {},
   "source": [
    "- Object class is the most fundamental class in Python. All classes in python inherit from this base class.\n",
    "- Object class defines built-in methods such as `__init__()` , `__str__()` etc."
   ]
  },
  {
   "cell_type": "code",
   "execution_count": 1212,
   "id": "263b4f4f-748b-4ff6-8b27-41256b4e4146",
   "metadata": {},
   "outputs": [],
   "source": [
    "class BaseClass:\n",
    "    pass\n",
    "\n",
    "class DerivedClass(BaseClass):\n",
    "    pass"
   ]
  },
  {
   "cell_type": "code",
   "execution_count": 1213,
   "id": "5ca0e349-37f1-4485-a46c-66767ddf387d",
   "metadata": {},
   "outputs": [
    {
     "data": {
      "text/plain": [
       "__main__.BaseClass"
      ]
     },
     "execution_count": 1213,
     "metadata": {},
     "output_type": "execute_result"
    }
   ],
   "source": [
    "DerivedClass.__base__"
   ]
  },
  {
   "cell_type": "code",
   "execution_count": 1214,
   "id": "696116e1-686d-4373-b159-8260e9d944f4",
   "metadata": {},
   "outputs": [
    {
     "data": {
      "text/plain": [
       "object"
      ]
     },
     "execution_count": 1214,
     "metadata": {},
     "output_type": "execute_result"
    }
   ],
   "source": [
    "BaseClass.__base__"
   ]
  },
  {
   "cell_type": "markdown",
   "id": "a17d44bd-bbb3-467a-b59d-58bcaad4dfdd",
   "metadata": {},
   "source": [
    "- A class in Python can inherit multiple classes!"
   ]
  },
  {
   "cell_type": "code",
   "execution_count": 1218,
   "id": "eeb3ea08-aaf0-4381-87ed-0a1dc9323d50",
   "metadata": {},
   "outputs": [],
   "source": [
    "# Base class 1\n",
    "class BaseClass1:\n",
    "    def method_base1(self):\n",
    "        print(\"Method from BaseClass1\")\n",
    "\n",
    "# Base class 2\n",
    "class BaseClass2:\n",
    "    def method_base2(self):\n",
    "        print(\"Method from BaseClass2\")\n",
    "\n",
    "# Derived class inheriting from BaseClass1 and BaseClass2\n",
    "class DerivedClass(BaseClass1, BaseClass2):\n",
    "    def method_derived(self):\n",
    "        print(\"Method from DerivedClass\")\n",
    "\n",
    "# Create an instance of the DerivedClass\n",
    "obj = DerivedClass()"
   ]
  },
  {
   "cell_type": "code",
   "execution_count": 1219,
   "id": "963ad06e-c8fe-4d08-80d9-6fb5e136248e",
   "metadata": {},
   "outputs": [
    {
     "name": "stdout",
     "output_type": "stream",
     "text": [
      "Method from BaseClass1\n",
      "Method from BaseClass2\n",
      "Method from DerivedClass\n"
     ]
    }
   ],
   "source": [
    "# Call methods from both base classes and the derived class\n",
    "obj.method_base1()  # From BaseClass1\n",
    "obj.method_base2()  # From BaseClass2\n",
    "obj.method_derived()  # From DerivedClass"
   ]
  },
  {
   "cell_type": "markdown",
   "id": "82269941-8264-4a50-bece-b3e981a41b77",
   "metadata": {},
   "source": [
    "**Method Resolution Order:**\n",
    "- In multiple inheritance, Python uses the Method Resolution Order (MRO) to determine which class’s method to call when there is a method with the same name in multiple base classes.\n",
    "- MRO Order is: Derived Class -> Base Class 1 -> Base Class 2 -> Object Class"
   ]
  },
  {
   "cell_type": "code",
   "execution_count": 1220,
   "id": "5620090a-3ace-4393-8801-2434f35b9e7e",
   "metadata": {},
   "outputs": [
    {
     "data": {
      "text/plain": [
       "<__main__.DerivedClass at 0x7ff240e07220>"
      ]
     },
     "execution_count": 1220,
     "metadata": {},
     "output_type": "execute_result"
    }
   ],
   "source": [
    "obj"
   ]
  },
  {
   "cell_type": "code",
   "execution_count": 1221,
   "id": "8851c185-5c79-43b5-b367-6b0d7cc01508",
   "metadata": {},
   "outputs": [
    {
     "data": {
      "text/plain": [
       "[__main__.DerivedClass, __main__.BaseClass1, __main__.BaseClass2, object]"
      ]
     },
     "execution_count": 1221,
     "metadata": {},
     "output_type": "execute_result"
    }
   ],
   "source": [
    "DerivedClass.mro()"
   ]
  },
  {
   "cell_type": "markdown",
   "id": "04bdca96-f18f-43ef-97ed-b4c65728c594",
   "metadata": {},
   "source": [
    "- Dataclasses in Python\n",
    "- Use case: Bundle together few named data items\n",
    "- Reduces boilerplate code\n",
    "- Type annotations are not enforced!"
   ]
  },
  {
   "cell_type": "code",
   "execution_count": 1224,
   "id": "ffea93be-f30a-4cb4-91e0-2c13590d4466",
   "metadata": {},
   "outputs": [],
   "source": [
    "from dataclasses import dataclass"
   ]
  },
  {
   "cell_type": "code",
   "execution_count": 1253,
   "id": "5f9e3b6e-d8ec-4eb7-9d1e-977b942c996e",
   "metadata": {},
   "outputs": [],
   "source": [
    "@dataclass\n",
    "class Employee:\n",
    "    name: str\n",
    "    dept: str\n",
    "    salary: int"
   ]
  },
  {
   "cell_type": "code",
   "execution_count": 1254,
   "id": "842f4bb4-0114-4f09-a68e-e9bc20a188be",
   "metadata": {},
   "outputs": [],
   "source": [
    "# order is important\n",
    "e1 = Employee(\"John\",\"AI\",1000)"
   ]
  },
  {
   "cell_type": "code",
   "execution_count": 1255,
   "id": "6ceb621e-9af4-4ace-a5cb-be23594c43c6",
   "metadata": {},
   "outputs": [
    {
     "data": {
      "text/plain": [
       "('John', 'AI', 1000)"
      ]
     },
     "execution_count": 1255,
     "metadata": {},
     "output_type": "execute_result"
    }
   ],
   "source": [
    "e1.name,e1.dept,e1.salary"
   ]
  },
  {
   "cell_type": "code",
   "execution_count": 1256,
   "id": "9aabdcf6-333e-45f7-ab43-672c3dce46ee",
   "metadata": {},
   "outputs": [],
   "source": [
    "# can pass as keywords also!\n",
    "e1 = Employee(name=\"John\",dept=\"AI\",salary=1000)"
   ]
  },
  {
   "cell_type": "code",
   "execution_count": 1257,
   "id": "ef070be3-51e6-4898-8af1-bd6a892e65ff",
   "metadata": {},
   "outputs": [
    {
     "data": {
      "text/plain": [
       "('John', 'AI', 1000)"
      ]
     },
     "execution_count": 1257,
     "metadata": {},
     "output_type": "execute_result"
    }
   ],
   "source": [
    "e1.name,e1.dept,e1.salary"
   ]
  },
  {
   "cell_type": "markdown",
   "id": "8baab66d-91d9-445c-87d9-1bca251213d3",
   "metadata": {},
   "source": [
    "- Can set default values!"
   ]
  },
  {
   "cell_type": "code",
   "execution_count": 1258,
   "id": "67e65662-0ab0-440a-902a-cd9dd10e593b",
   "metadata": {},
   "outputs": [],
   "source": [
    "@dataclass\n",
    "class Employee:\n",
    "    name: str\n",
    "    dept: str\n",
    "    salary: int = 10000"
   ]
  },
  {
   "cell_type": "code",
   "execution_count": 1259,
   "id": "d63ee932-357b-4695-ac7c-5c3715e19b35",
   "metadata": {},
   "outputs": [],
   "source": [
    "e1 = Employee(name=\"John\",dept=\"AI\")"
   ]
  },
  {
   "cell_type": "code",
   "execution_count": 1260,
   "id": "cc9d1beb-9961-4e01-ba8e-965861320278",
   "metadata": {},
   "outputs": [
    {
     "data": {
      "text/plain": [
       "('John', 'AI', 10000)"
      ]
     },
     "execution_count": 1260,
     "metadata": {},
     "output_type": "execute_result"
    }
   ],
   "source": [
    "e1.name,e1.dept,e1.salary"
   ]
  },
  {
   "cell_type": "code",
   "execution_count": 1263,
   "id": "bc1e099d-3aef-4203-a27f-9b3173145d95",
   "metadata": {},
   "outputs": [
    {
     "name": "stdout",
     "output_type": "stream",
     "text": [
      "Employee(name='John', dept='AI', salary=10000)\n"
     ]
    }
   ],
   "source": [
    "print(e1)"
   ]
  },
  {
   "cell_type": "markdown",
   "id": "4f08354b-a9f6-4186-a327-188f69943b57",
   "metadata": {},
   "source": [
    "- If you want to make your data class instances immutable (like tuples), you can use the frozen=True option."
   ]
  },
  {
   "cell_type": "code",
   "execution_count": 1268,
   "id": "9e413923-67d1-4301-9bca-cb5897c7bd1b",
   "metadata": {},
   "outputs": [],
   "source": [
    "@dataclass(frozen=True)\n",
    "class Person:\n",
    "    name:str\n",
    "    age:int"
   ]
  },
  {
   "cell_type": "code",
   "execution_count": 1269,
   "id": "fac4f731-475e-4950-93b4-5ebb65d2b1e2",
   "metadata": {},
   "outputs": [],
   "source": [
    "p1 = Person(\"Joe\",43)"
   ]
  },
  {
   "cell_type": "code",
   "execution_count": 1270,
   "id": "ad28dfa1-7e0a-46d8-8a37-f2f81460a32b",
   "metadata": {},
   "outputs": [
    {
     "data": {
      "text/plain": [
       "Person(name='Joe', age=43)"
      ]
     },
     "execution_count": 1270,
     "metadata": {},
     "output_type": "execute_result"
    }
   ],
   "source": [
    "p1"
   ]
  },
  {
   "cell_type": "code",
   "execution_count": 1273,
   "id": "f9769893-27c3-45a7-b847-6dcc334c10ac",
   "metadata": {},
   "outputs": [],
   "source": [
    "# results in error\n",
    "# p1.age = 45"
   ]
  },
  {
   "cell_type": "markdown",
   "id": "eeb07836-2e6c-4fab-8564-b5554700cc4d",
   "metadata": {},
   "source": [
    "- Most used methods of Object Class\n",
    "- `__init__` -> called when object is initialized\n",
    "- `__str__` -> called when str() or print() is used\n",
    "- `__eq__` -> called by the == operator\n",
    "- `__hash__` -> returns the hash value of object. used when objects are inserted into hashed collections like sets or dict keys\n",
    "- `__del__` -> called when object is about to be destroyed"
   ]
  },
  {
   "cell_type": "markdown",
   "id": "d17faff6-d69e-418b-8638-baf468f78eba",
   "metadata": {},
   "source": [
    "Iterators\n",
    "- the for statement calls iter() on the container object\n",
    "- `next()` -> returns next element (accesses one at a time). If no more objects, raises StopIteration exception! -> which tells the loop to terminate!\n",
    "- Iterable = list/tuples/strings/dicts/sets -> that return an iterator\n",
    "- Iterator = an object that represents a stream of data!"
   ]
  },
  {
   "cell_type": "code",
   "execution_count": 1274,
   "id": "3cc1fb00-9219-4144-9ec6-13b25edad30c",
   "metadata": {},
   "outputs": [],
   "source": [
    "s = \"abc\"\n",
    "it = iter(s)"
   ]
  },
  {
   "cell_type": "code",
   "execution_count": 1275,
   "id": "ea79c27c-5266-4ff7-94a7-13006427b8bf",
   "metadata": {},
   "outputs": [
    {
     "data": {
      "text/plain": [
       "<str_iterator at 0x7ff2411752a0>"
      ]
     },
     "execution_count": 1275,
     "metadata": {},
     "output_type": "execute_result"
    }
   ],
   "source": [
    "it"
   ]
  },
  {
   "cell_type": "code",
   "execution_count": 1276,
   "id": "6b8723cd-199b-41a1-bb21-0433212b1766",
   "metadata": {},
   "outputs": [
    {
     "data": {
      "text/plain": [
       "'a'"
      ]
     },
     "execution_count": 1276,
     "metadata": {},
     "output_type": "execute_result"
    }
   ],
   "source": [
    "next(it)"
   ]
  },
  {
   "cell_type": "code",
   "execution_count": 1277,
   "id": "e02f3500-83c3-436f-aa53-3d4579620e7e",
   "metadata": {},
   "outputs": [
    {
     "data": {
      "text/plain": [
       "'b'"
      ]
     },
     "execution_count": 1277,
     "metadata": {},
     "output_type": "execute_result"
    }
   ],
   "source": [
    "next(it)"
   ]
  },
  {
   "cell_type": "code",
   "execution_count": 1278,
   "id": "a4dedd91-d1db-4c06-ab2e-12a72eaf62c9",
   "metadata": {},
   "outputs": [
    {
     "data": {
      "text/plain": [
       "'c'"
      ]
     },
     "execution_count": 1278,
     "metadata": {},
     "output_type": "execute_result"
    }
   ],
   "source": [
    "next(it)"
   ]
  },
  {
   "cell_type": "code",
   "execution_count": 1282,
   "id": "80534daa-5874-4c45-921a-af7d9ee1576e",
   "metadata": {},
   "outputs": [],
   "source": [
    "# raises StopIteration\n",
    "# next(it)"
   ]
  },
  {
   "cell_type": "markdown",
   "id": "80a716b4-7a50-497f-8528-bc69c079ecf2",
   "metadata": {},
   "source": [
    "- Iterator from a list"
   ]
  },
  {
   "cell_type": "code",
   "execution_count": 1283,
   "id": "68da8d78-e9aa-47ed-b0c6-401d28b27d9d",
   "metadata": {},
   "outputs": [],
   "source": [
    "my_list = [1,2,3]"
   ]
  },
  {
   "cell_type": "code",
   "execution_count": 1284,
   "id": "0bcaaffe-13e4-4029-a3ad-51fe5a1d5644",
   "metadata": {},
   "outputs": [],
   "source": [
    "my_iterator = iter(my_list)"
   ]
  },
  {
   "cell_type": "code",
   "execution_count": 1286,
   "id": "8b5ad0dd-2ab0-4dee-959f-e71cae064443",
   "metadata": {},
   "outputs": [
    {
     "data": {
      "text/plain": [
       "1"
      ]
     },
     "execution_count": 1286,
     "metadata": {},
     "output_type": "execute_result"
    }
   ],
   "source": [
    "next(my_iterator)"
   ]
  },
  {
   "cell_type": "code",
   "execution_count": 1289,
   "id": "9910478f-56fb-40ca-8566-802474156984",
   "metadata": {},
   "outputs": [
    {
     "data": {
      "text/plain": [
       "2"
      ]
     },
     "execution_count": 1289,
     "metadata": {},
     "output_type": "execute_result"
    }
   ],
   "source": [
    "next(my_iterator)"
   ]
  },
  {
   "cell_type": "markdown",
   "id": "9341c58b-2961-4260-b681-d0c6f049d802",
   "metadata": {},
   "source": [
    "- Custom Iterator Example"
   ]
  },
  {
   "cell_type": "code",
   "execution_count": 1294,
   "id": "e06d2439-0797-456f-afa3-2d7372bffed3",
   "metadata": {},
   "outputs": [],
   "source": [
    "class Reverse:\n",
    "    \"\"\"Iterator for looping backwards!\"\"\"\n",
    "    def __init__(self,data):\n",
    "        self.data = data\n",
    "        self.index = len(data)\n",
    "    def __iter__(self):\n",
    "        return self\n",
    "    def __next__(self):\n",
    "        if self.index == 0:\n",
    "            raise StopIteration\n",
    "        self.index = self.index - 1\n",
    "        return self.data[self.index]"
   ]
  },
  {
   "cell_type": "code",
   "execution_count": 1299,
   "id": "4a03dc33-043b-49b2-ac89-0374e6e70da2",
   "metadata": {},
   "outputs": [],
   "source": [
    "rev = Reverse('spam')"
   ]
  },
  {
   "cell_type": "code",
   "execution_count": 1300,
   "id": "ea09f1a8-1634-4fba-b3f2-85247cf3838c",
   "metadata": {},
   "outputs": [
    {
     "data": {
      "text/plain": [
       "<__main__.Reverse at 0x7ff240e643d0>"
      ]
     },
     "execution_count": 1300,
     "metadata": {},
     "output_type": "execute_result"
    }
   ],
   "source": [
    "iter(rev)"
   ]
  },
  {
   "cell_type": "code",
   "execution_count": 1301,
   "id": "26684791-df9f-4e8b-8e67-030293e97e93",
   "metadata": {},
   "outputs": [
    {
     "name": "stdout",
     "output_type": "stream",
     "text": [
      "m,a,p,s,"
     ]
    }
   ],
   "source": [
    "for char in rev:\n",
    "    print(char, end=\",\")"
   ]
  },
  {
   "cell_type": "markdown",
   "id": "754ff572-64dc-489b-b76b-47e28cbfd548",
   "metadata": {},
   "source": [
    "- A generator is a special type of iterator in Python that allows you to iterate over data lazily.\n",
    "- each time next() is called, fn executes until it reaches **yield** statement, then returns the value and pauses execution"
   ]
  },
  {
   "cell_type": "code",
   "execution_count": 1302,
   "id": "3af53d61-0819-41da-8ee1-0291c0b4714f",
   "metadata": {},
   "outputs": [],
   "source": [
    "def my_generator():\n",
    "    yield 1\n",
    "    yield 2\n",
    "    yield 3"
   ]
  },
  {
   "cell_type": "code",
   "execution_count": 1303,
   "id": "37873051-c941-4301-8175-094f344e6dfb",
   "metadata": {},
   "outputs": [],
   "source": [
    "gen = my_generator()"
   ]
  },
  {
   "cell_type": "code",
   "execution_count": 1304,
   "id": "5f5893d7-3cee-4b4a-9365-871dbf708103",
   "metadata": {},
   "outputs": [
    {
     "name": "stdout",
     "output_type": "stream",
     "text": [
      "1\n"
     ]
    }
   ],
   "source": [
    "print(next(gen))"
   ]
  },
  {
   "cell_type": "code",
   "execution_count": 1305,
   "id": "ae7514ec-6355-4c37-9863-c96aa057d3d7",
   "metadata": {},
   "outputs": [
    {
     "name": "stdout",
     "output_type": "stream",
     "text": [
      "2\n"
     ]
    }
   ],
   "source": [
    "print(next(gen))"
   ]
  },
  {
   "cell_type": "code",
   "execution_count": 1306,
   "id": "21d889c9-57ab-4192-b732-84c3608e1eef",
   "metadata": {},
   "outputs": [
    {
     "name": "stdout",
     "output_type": "stream",
     "text": [
      "3\n"
     ]
    }
   ],
   "source": [
    "print(next(gen))"
   ]
  },
  {
   "cell_type": "code",
   "execution_count": 1307,
   "id": "3e0566e6-94e1-45c7-a5ab-1113749542a0",
   "metadata": {},
   "outputs": [],
   "source": [
    "# Raises StopIteration after all values are yielded\n",
    "# print(next(gen))"
   ]
  },
  {
   "cell_type": "markdown",
   "id": "b8cc2716-b0ba-40ad-a9de-8102234321d0",
   "metadata": {},
   "source": [
    "- Lazy fibonacci generator"
   ]
  },
  {
   "cell_type": "code",
   "execution_count": 1308,
   "id": "af578430-d35e-45b9-9577-b80e5e84c28e",
   "metadata": {},
   "outputs": [],
   "source": [
    "def fibonacci(n):\n",
    "    a,b = 0,1\n",
    "    for _ in range(n):\n",
    "        yield a\n",
    "        a,b = b, a + b"
   ]
  },
  {
   "cell_type": "code",
   "execution_count": 1309,
   "id": "82c9e160-c444-4428-9472-391982736409",
   "metadata": {},
   "outputs": [],
   "source": [
    "fib_gen = fibonacci(5)"
   ]
  },
  {
   "cell_type": "code",
   "execution_count": 1310,
   "id": "003d73c5-90cb-4948-a8b6-e29985bbf674",
   "metadata": {},
   "outputs": [
    {
     "name": "stdout",
     "output_type": "stream",
     "text": [
      "0\n",
      "1\n",
      "1\n",
      "2\n",
      "3\n"
     ]
    }
   ],
   "source": [
    "for num in fib_gen:\n",
    "    print(num)"
   ]
  },
  {
   "cell_type": "markdown",
   "id": "0e2eb1d3-e020-4f2d-aacf-7a578b9eacc2",
   "metadata": {},
   "source": [
    "**Generator Expressions**\n",
    "- Syntax similar to list comprehensions but with parentheses instead of square brackets\n",
    "- more memory friendly than list comprehensions!\n",
    "- can pass generator objects to sum() directly!\n",
    "- list comp -> stores entire list in memory\n",
    "- gen expr -> produces items lazily!"
   ]
  },
  {
   "cell_type": "code",
   "execution_count": 1323,
   "id": "b31b13f9-87cf-484c-94cc-84a790926655",
   "metadata": {},
   "outputs": [],
   "source": [
    "gen_obj = (i*i for i in range(1,10))"
   ]
  },
  {
   "cell_type": "code",
   "execution_count": 1324,
   "id": "c4746bf8-a66b-4e7e-8e12-73c6dc3c2837",
   "metadata": {},
   "outputs": [
    {
     "data": {
      "text/plain": [
       "1"
      ]
     },
     "execution_count": 1324,
     "metadata": {},
     "output_type": "execute_result"
    }
   ],
   "source": [
    "next(gen_obj)"
   ]
  },
  {
   "cell_type": "code",
   "execution_count": 1325,
   "id": "4e8616fc-0919-435c-8640-44c34c7ec9c2",
   "metadata": {},
   "outputs": [
    {
     "data": {
      "text/plain": [
       "4"
      ]
     },
     "execution_count": 1325,
     "metadata": {},
     "output_type": "execute_result"
    }
   ],
   "source": [
    "next(gen_obj)"
   ]
  },
  {
   "cell_type": "code",
   "execution_count": 1326,
   "id": "4188b692-3bcc-4e16-8c48-24f2d6f085e1",
   "metadata": {},
   "outputs": [
    {
     "data": {
      "text/plain": [
       "9"
      ]
     },
     "execution_count": 1326,
     "metadata": {},
     "output_type": "execute_result"
    }
   ],
   "source": [
    "next(gen_obj)"
   ]
  },
  {
   "cell_type": "code",
   "execution_count": 1327,
   "id": "acb5ddfb-7df8-4318-b7bb-833fed52c786",
   "metadata": {},
   "outputs": [
    {
     "data": {
      "text/plain": [
       "285"
      ]
     },
     "execution_count": 1327,
     "metadata": {},
     "output_type": "execute_result"
    }
   ],
   "source": [
    "sum(i*i for i in range(10))"
   ]
  },
  {
   "cell_type": "code",
   "execution_count": null,
   "id": "35050893-cad6-4914-9370-2943d1353f10",
   "metadata": {},
   "outputs": [],
   "source": []
  }
 ],
 "metadata": {
  "kernelspec": {
   "display_name": "Python 3 (ipykernel)",
   "language": "python",
   "name": "python3"
  },
  "language_info": {
   "codemirror_mode": {
    "name": "ipython",
    "version": 3
   },
   "file_extension": ".py",
   "mimetype": "text/x-python",
   "name": "python",
   "nbconvert_exporter": "python",
   "pygments_lexer": "ipython3",
   "version": "3.10.12"
  }
 },
 "nbformat": 4,
 "nbformat_minor": 5
}
