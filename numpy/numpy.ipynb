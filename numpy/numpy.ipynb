{
 "cells": [
  {
   "cell_type": "markdown",
   "id": "1f0d45df-1e33-462b-93e2-0e5d27f4202a",
   "metadata": {},
   "source": [
    "- Numpy arrays are **homogeneous multidimensional** arrays ie. all of same type and have n>=2 dimensions\n",
    "- Numpy = Numerical Python is an open source library\n",
    "- Numpy arrays are called ndarray"
   ]
  },
  {
   "cell_type": "code",
   "execution_count": 1,
   "id": "359735c3-4b15-43e3-96e6-a51c145029e5",
   "metadata": {},
   "outputs": [],
   "source": [
    "import numpy as np"
   ]
  },
  {
   "cell_type": "markdown",
   "id": "9afc7e8b-ba15-4d7d-a782-7296639b7ca6",
   "metadata": {},
   "source": [
    "- Create numpy 1d-array from list"
   ]
  },
  {
   "cell_type": "code",
   "execution_count": 2,
   "id": "da9c65c5-90ae-4f7f-b4a9-a96b03ae1843",
   "metadata": {},
   "outputs": [
    {
     "data": {
      "text/plain": [
       "array([1, 2, 3])"
      ]
     },
     "execution_count": 2,
     "metadata": {},
     "output_type": "execute_result"
    }
   ],
   "source": [
    "np.array([1,2,3])"
   ]
  },
  {
   "cell_type": "markdown",
   "id": "267cd7e1-ec3e-4fdc-9722-ecfcca5f2ced",
   "metadata": {},
   "source": [
    "- Create 2d-array from list of list"
   ]
  },
  {
   "cell_type": "code",
   "execution_count": 3,
   "id": "e6be3833-f16d-4dc0-a9ee-6fddaf84908e",
   "metadata": {},
   "outputs": [
    {
     "data": {
      "text/plain": [
       "array([[1, 2, 3],\n",
       "       [5, 1, 3]])"
      ]
     },
     "execution_count": 3,
     "metadata": {},
     "output_type": "execute_result"
    }
   ],
   "source": [
    "np.array([[1,2,3],[5,1,3]])"
   ]
  },
  {
   "cell_type": "markdown",
   "id": "afd9f1eb-6164-4b2d-8105-c45c1bb6d978",
   "metadata": {},
   "source": [
    "- Numpy vs Python List\n",
    "- Numpy = homogenous. ie. same data type\n",
    "- Python List = heterogenous, general purpose\n",
    "\n",
    "Properties of Numpy Array:\n",
    "- All elements of same type\n",
    "- Once created, size cant change\n",
    "- Must be rectangular. ie. each row of 2d array must have same number of cols"
   ]
  },
  {
   "cell_type": "markdown",
   "id": "7536431a-ae7e-4e48-ac07-4075ff2b7f86",
   "metadata": {},
   "source": [
    "- Access any element by index"
   ]
  },
  {
   "cell_type": "code",
   "execution_count": 4,
   "id": "7b3920aa-857b-4867-8870-2f1192063fdd",
   "metadata": {},
   "outputs": [],
   "source": [
    "a = np.array([1,2,3,4,5,6])"
   ]
  },
  {
   "cell_type": "code",
   "execution_count": 5,
   "id": "5ce63968-c9b7-4fac-a38d-ab666100bc68",
   "metadata": {},
   "outputs": [
    {
     "data": {
      "text/plain": [
       "np.int64(1)"
      ]
     },
     "execution_count": 5,
     "metadata": {},
     "output_type": "execute_result"
    }
   ],
   "source": [
    "a[0]"
   ]
  },
  {
   "cell_type": "markdown",
   "id": "48cb5944-e563-44d7-bf46-1282662c33f0",
   "metadata": {},
   "source": [
    "- Slice indexing\n",
    "- Slicing in array creates a **view** ie. it refers to the original data.\n",
    "- Slicing in list creates a copy"
   ]
  },
  {
   "cell_type": "code",
   "execution_count": 6,
   "id": "a259d3db-8f25-4738-9de6-078435a2491b",
   "metadata": {},
   "outputs": [
    {
     "data": {
      "text/plain": [
       "array([2, 3])"
      ]
     },
     "execution_count": 6,
     "metadata": {},
     "output_type": "execute_result"
    }
   ],
   "source": [
    "a[1:3]"
   ]
  },
  {
   "cell_type": "code",
   "execution_count": 7,
   "id": "32f943b1-a923-49e3-ae02-340cbf646868",
   "metadata": {},
   "outputs": [],
   "source": [
    "a = [1,2,3]"
   ]
  },
  {
   "cell_type": "markdown",
   "id": "9d36d807-03fa-4b37-ab55-b4d6d9bac8cb",
   "metadata": {},
   "source": [
    "- Create 2d array using list of lists"
   ]
  },
  {
   "cell_type": "code",
   "execution_count": 8,
   "id": "579d4187-851c-4675-8987-fcfa84fc9018",
   "metadata": {},
   "outputs": [
    {
     "data": {
      "text/plain": [
       "[[1, 2, 3, 4], [5, 6, 7, 8], [9, 10, 11, 12]]"
      ]
     },
     "execution_count": 8,
     "metadata": {},
     "output_type": "execute_result"
    }
   ],
   "source": [
    "list_of_list = [[1, 2, 3, 4], [5, 6, 7, 8], [9, 10, 11, 12]]\n",
    "list_of_list"
   ]
  },
  {
   "cell_type": "markdown",
   "id": "03f5f7a2-c379-4f13-b86b-6e23e3dafda0",
   "metadata": {},
   "source": [
    "- Indexing in list can be done in recursive manner"
   ]
  },
  {
   "cell_type": "code",
   "execution_count": 9,
   "id": "22a7eb88-62cb-45bf-9dc3-4c9e8dec9f61",
   "metadata": {},
   "outputs": [
    {
     "data": {
      "text/plain": [
       "10"
      ]
     },
     "execution_count": 9,
     "metadata": {},
     "output_type": "execute_result"
    }
   ],
   "source": [
    "list_of_list[2][1]"
   ]
  },
  {
   "cell_type": "code",
   "execution_count": 10,
   "id": "03bb376f-7270-4277-acdd-69c925d4af65",
   "metadata": {},
   "outputs": [],
   "source": [
    "a = np.array(list_of_list)"
   ]
  },
  {
   "cell_type": "code",
   "execution_count": 11,
   "id": "1f88eff3-9333-437a-925d-0931ed3755de",
   "metadata": {},
   "outputs": [
    {
     "data": {
      "text/plain": [
       "array([[ 1,  2,  3,  4],\n",
       "       [ 5,  6,  7,  8],\n",
       "       [ 9, 10, 11, 12]])"
      ]
     },
     "execution_count": 11,
     "metadata": {},
     "output_type": "execute_result"
    }
   ],
   "source": [
    "a"
   ]
  },
  {
   "cell_type": "markdown",
   "id": "c33d4ff9-11f1-429b-96d5-df09eaa535be",
   "metadata": {},
   "source": [
    "- Indexing in array can be done using index only or like list"
   ]
  },
  {
   "cell_type": "code",
   "execution_count": 12,
   "id": "3c41501c-8ba9-45df-a3a8-12c8c1b542fa",
   "metadata": {},
   "outputs": [
    {
     "data": {
      "text/plain": [
       "np.int64(2)"
      ]
     },
     "execution_count": 12,
     "metadata": {},
     "output_type": "execute_result"
    }
   ],
   "source": [
    "a[0,1]"
   ]
  },
  {
   "cell_type": "code",
   "execution_count": 13,
   "id": "eef94b23-f946-4243-a7db-65311cd9edf7",
   "metadata": {},
   "outputs": [
    {
     "data": {
      "text/plain": [
       "np.int64(2)"
      ]
     },
     "execution_count": 13,
     "metadata": {},
     "output_type": "execute_result"
    }
   ],
   "source": [
    "a[0][1]"
   ]
  },
  {
   "cell_type": "markdown",
   "id": "16285395-2f5a-40eb-a4ae-87247be32e4b",
   "metadata": {},
   "source": [
    "- Array Attributes\n",
    "- Total Dimensions/Axis of Array\n",
    "- Shape of Array"
   ]
  },
  {
   "cell_type": "code",
   "execution_count": 14,
   "id": "4bbc5a8e-ccff-4445-b257-9f2da06cc020",
   "metadata": {},
   "outputs": [
    {
     "data": {
      "text/plain": [
       "2"
      ]
     },
     "execution_count": 14,
     "metadata": {},
     "output_type": "execute_result"
    }
   ],
   "source": [
    "a.ndim"
   ]
  },
  {
   "cell_type": "code",
   "execution_count": 15,
   "id": "860d0d6d-81e1-42df-8471-dd6bef275047",
   "metadata": {},
   "outputs": [
    {
     "data": {
      "text/plain": [
       "(3, 4)"
      ]
     },
     "execution_count": 15,
     "metadata": {},
     "output_type": "execute_result"
    }
   ],
   "source": [
    "a.shape"
   ]
  },
  {
   "cell_type": "code",
   "execution_count": 16,
   "id": "13a70241-4c84-4959-9e9e-3aa8a155ef7c",
   "metadata": {},
   "outputs": [
    {
     "data": {
      "text/plain": [
       "True"
      ]
     },
     "execution_count": 16,
     "metadata": {},
     "output_type": "execute_result"
    }
   ],
   "source": [
    "len(a.shape)==a.ndim"
   ]
  },
  {
   "cell_type": "markdown",
   "id": "8e574834-0a99-4713-8fc1-504b0a3775f4",
   "metadata": {},
   "source": [
    "- Total elements stored in array"
   ]
  },
  {
   "cell_type": "code",
   "execution_count": 17,
   "id": "7b1e0b4d-8365-45f6-86bf-4031abbdaaf2",
   "metadata": {},
   "outputs": [
    {
     "data": {
      "text/plain": [
       "12"
      ]
     },
     "execution_count": 17,
     "metadata": {},
     "output_type": "execute_result"
    }
   ],
   "source": [
    "a.size"
   ]
  },
  {
   "cell_type": "markdown",
   "id": "416237e3-6c3b-48b5-9130-ea76d33ced31",
   "metadata": {},
   "source": [
    "- Print type of each element (homogeneous)"
   ]
  },
  {
   "cell_type": "code",
   "execution_count": 18,
   "id": "ffd253c4-7712-40e3-a6d9-a5aabd78e761",
   "metadata": {},
   "outputs": [
    {
     "data": {
      "text/plain": [
       "dtype('int64')"
      ]
     },
     "execution_count": 18,
     "metadata": {},
     "output_type": "execute_result"
    }
   ],
   "source": [
    "a.dtype"
   ]
  },
  {
   "cell_type": "markdown",
   "id": "dd334ac6-b107-420d-b64e-95badee8ee63",
   "metadata": {},
   "source": [
    "- Create Basic Arrays"
   ]
  },
  {
   "cell_type": "code",
   "execution_count": 19,
   "id": "d78075c4-1084-4b2e-bbea-ff3341a8ba21",
   "metadata": {},
   "outputs": [
    {
     "data": {
      "text/plain": [
       "array([0., 0.])"
      ]
     },
     "execution_count": 19,
     "metadata": {},
     "output_type": "execute_result"
    }
   ],
   "source": [
    "np.zeros(2)"
   ]
  },
  {
   "cell_type": "code",
   "execution_count": 20,
   "id": "59fb0b95-15d2-4adf-973d-b5e6a98cc212",
   "metadata": {},
   "outputs": [
    {
     "data": {
      "text/plain": [
       "array([[0., 0., 0., 0.],\n",
       "       [0., 0., 0., 0.],\n",
       "       [0., 0., 0., 0.]])"
      ]
     },
     "execution_count": 20,
     "metadata": {},
     "output_type": "execute_result"
    }
   ],
   "source": [
    "np.zeros((3,4))"
   ]
  },
  {
   "cell_type": "code",
   "execution_count": 21,
   "id": "aef8c576-1b14-4803-b1ea-1365e5a22f1f",
   "metadata": {},
   "outputs": [
    {
     "data": {
      "text/plain": [
       "array([1., 1., 1., 1.])"
      ]
     },
     "execution_count": 21,
     "metadata": {},
     "output_type": "execute_result"
    }
   ],
   "source": [
    "np.ones(4)"
   ]
  },
  {
   "cell_type": "markdown",
   "id": "60031db6-e5a1-4383-aa34-2fe5d424a4e0",
   "metadata": {},
   "source": [
    "- Uninitialized Array"
   ]
  },
  {
   "cell_type": "code",
   "execution_count": 22,
   "id": "1ee6c857-a447-4369-b0c6-1e2a4f6c6393",
   "metadata": {},
   "outputs": [
    {
     "data": {
      "text/plain": [
       "array([4.64774600e-310, 0.00000000e+000, 4.64715571e-310, 4.64715574e-310,\n",
       "       2.37151510e-322])"
      ]
     },
     "execution_count": 22,
     "metadata": {},
     "output_type": "execute_result"
    }
   ],
   "source": [
    "np.empty(5)"
   ]
  },
  {
   "cell_type": "markdown",
   "id": "0aea45bb-c9d0-4f03-9c45-fb40e4f6a080",
   "metadata": {},
   "source": [
    "- Create array with range of elements\n",
    "- Can specify start, end and step size"
   ]
  },
  {
   "cell_type": "code",
   "execution_count": 23,
   "id": "742aa8e6-1a10-4665-a5b9-6d75573ad39b",
   "metadata": {},
   "outputs": [
    {
     "data": {
      "text/plain": [
       "array([0, 1, 2, 3])"
      ]
     },
     "execution_count": 23,
     "metadata": {},
     "output_type": "execute_result"
    }
   ],
   "source": [
    "np.arange(4)"
   ]
  },
  {
   "cell_type": "code",
   "execution_count": 24,
   "id": "7766ef36-41ee-4767-b102-be64843ae5bb",
   "metadata": {},
   "outputs": [
    {
     "data": {
      "text/plain": [
       "array([0, 1, 2, 3])"
      ]
     },
     "execution_count": 24,
     "metadata": {},
     "output_type": "execute_result"
    }
   ],
   "source": [
    "np.array(range(4))"
   ]
  },
  {
   "cell_type": "code",
   "execution_count": 25,
   "id": "1d081650-1c0a-44f2-b3df-7e01f5a5d103",
   "metadata": {},
   "outputs": [
    {
     "data": {
      "text/plain": [
       "array([4, 6, 8])"
      ]
     },
     "execution_count": 25,
     "metadata": {},
     "output_type": "execute_result"
    }
   ],
   "source": [
    "np.arange(4,10,2)"
   ]
  },
  {
   "cell_type": "code",
   "execution_count": 26,
   "id": "11ea22da-945b-43b0-9ae1-aa02f4261c9c",
   "metadata": {},
   "outputs": [
    {
     "data": {
      "text/plain": [
       "array([4, 6, 8])"
      ]
     },
     "execution_count": 26,
     "metadata": {},
     "output_type": "execute_result"
    }
   ],
   "source": [
    "np.array(range(4,10,2))"
   ]
  },
  {
   "cell_type": "markdown",
   "id": "a41134cd-19a3-4c88-b64f-ae185517b001",
   "metadata": {},
   "source": [
    "- Create array with values spaced linearly over interval"
   ]
  },
  {
   "cell_type": "code",
   "execution_count": 27,
   "id": "d4c2f58a-b17d-4bd6-8fb8-5ca53e2ff8f3",
   "metadata": {},
   "outputs": [
    {
     "data": {
      "text/plain": [
       "array([ 0. ,  2.5,  5. ,  7.5, 10. ])"
      ]
     },
     "execution_count": 27,
     "metadata": {},
     "output_type": "execute_result"
    }
   ],
   "source": [
    "np.linspace(0,10,num=5)"
   ]
  },
  {
   "cell_type": "markdown",
   "id": "61f062f5-5b31-48c4-a17e-8012c71d821b",
   "metadata": {},
   "source": [
    "- Specify dtype of nd array\n",
    "- Default is float64\n",
    "- Int Types: int8 / int16 / int32 and so on.."
   ]
  },
  {
   "cell_type": "code",
   "execution_count": 28,
   "id": "3e14f834-7e58-4474-a251-dfc2dce841b2",
   "metadata": {},
   "outputs": [
    {
     "data": {
      "text/plain": [
       "array([[0, 0, 0, 0],\n",
       "       [0, 0, 0, 0],\n",
       "       [0, 0, 0, 0]], dtype=int32)"
      ]
     },
     "execution_count": 28,
     "metadata": {},
     "output_type": "execute_result"
    }
   ],
   "source": [
    "np.zeros((3,4),dtype=np.int32)"
   ]
  },
  {
   "cell_type": "markdown",
   "id": "b72b1848-fefe-4e25-bdec-4185ddb1bc4f",
   "metadata": {},
   "source": [
    "- Sort Array"
   ]
  },
  {
   "cell_type": "code",
   "execution_count": 29,
   "id": "25082fbb-887d-4850-ac5a-0f86051e352b",
   "metadata": {},
   "outputs": [],
   "source": [
    "arr = np.array([2, 1, 5, 3, 7, 4, 6, 8])"
   ]
  },
  {
   "cell_type": "code",
   "execution_count": 30,
   "id": "ddbcd6ee-31eb-48fc-aa3e-27116b3f28a6",
   "metadata": {},
   "outputs": [
    {
     "data": {
      "text/plain": [
       "array([1, 2, 3, 4, 5, 6, 7, 8])"
      ]
     },
     "execution_count": 30,
     "metadata": {},
     "output_type": "execute_result"
    }
   ],
   "source": [
    "np.sort(arr)"
   ]
  },
  {
   "cell_type": "markdown",
   "id": "97a6d9cb-efe2-4396-9d8c-b45514d693e7",
   "metadata": {},
   "source": [
    "- Concatenate Array"
   ]
  },
  {
   "cell_type": "code",
   "execution_count": 31,
   "id": "43dddc33-5b74-48c4-b397-b9525d0418d0",
   "metadata": {},
   "outputs": [],
   "source": [
    "a = np.array([1,2,3,4])\n",
    "b = np.array([5,6,7,8])"
   ]
  },
  {
   "cell_type": "code",
   "execution_count": 32,
   "id": "cac2a318-0678-4e87-848a-cb4182793c72",
   "metadata": {},
   "outputs": [
    {
     "data": {
      "text/plain": [
       "array([1, 2, 3, 4, 5, 6, 7, 8])"
      ]
     },
     "execution_count": 32,
     "metadata": {},
     "output_type": "execute_result"
    }
   ],
   "source": [
    "np.concatenate((a,b))"
   ]
  },
  {
   "cell_type": "code",
   "execution_count": 33,
   "id": "53da30f8-54a8-48ac-b9ef-6c7abddd2ea3",
   "metadata": {},
   "outputs": [
    {
     "data": {
      "text/plain": [
       "array([1, 2, 3, 4, 5, 6, 7, 8])"
      ]
     },
     "execution_count": 33,
     "metadata": {},
     "output_type": "execute_result"
    }
   ],
   "source": [
    "np.concat((a,b))"
   ]
  },
  {
   "cell_type": "code",
   "execution_count": 257,
   "id": "438fd29a-9d38-4203-8f63-6376cdebfe54",
   "metadata": {},
   "outputs": [],
   "source": [
    "x = np.array([[1, 2], [3, 4]])\n",
    "y = np.array([[5, 6]])"
   ]
  },
  {
   "cell_type": "code",
   "execution_count": 258,
   "id": "66ca8b7f-f6b1-4f25-a3a9-c5fcbf3cf4c7",
   "metadata": {},
   "outputs": [
    {
     "data": {
      "text/plain": [
       "array([[1, 2],\n",
       "       [3, 4]])"
      ]
     },
     "execution_count": 258,
     "metadata": {},
     "output_type": "execute_result"
    }
   ],
   "source": [
    "x"
   ]
  },
  {
   "cell_type": "code",
   "execution_count": 259,
   "id": "a3de4fd6-24c5-490e-8e59-9795e375a556",
   "metadata": {},
   "outputs": [
    {
     "data": {
      "text/plain": [
       "array([[5, 6]])"
      ]
     },
     "execution_count": 259,
     "metadata": {},
     "output_type": "execute_result"
    }
   ],
   "source": [
    "y"
   ]
  },
  {
   "cell_type": "code",
   "execution_count": 261,
   "id": "48253978-356a-4fa9-8357-0c6253cb8f96",
   "metadata": {},
   "outputs": [],
   "source": [
    "concatenated_arr = np.concat((x,y))"
   ]
  },
  {
   "cell_type": "code",
   "execution_count": 262,
   "id": "afb40cf3-d4c3-4a79-b51c-04b75f1aa745",
   "metadata": {},
   "outputs": [
    {
     "data": {
      "text/plain": [
       "array([[1, 2],\n",
       "       [3, 4],\n",
       "       [5, 6]])"
      ]
     },
     "execution_count": 262,
     "metadata": {},
     "output_type": "execute_result"
    }
   ],
   "source": [
    "concatenated_arr"
   ]
  },
  {
   "cell_type": "code",
   "execution_count": 263,
   "id": "eceeb607-4d73-4dfd-a276-3edca7cad351",
   "metadata": {},
   "outputs": [
    {
     "data": {
      "text/plain": [
       "(3, 2)"
      ]
     },
     "execution_count": 263,
     "metadata": {},
     "output_type": "execute_result"
    }
   ],
   "source": [
    "concatenated_arr.shape"
   ]
  },
  {
   "cell_type": "markdown",
   "id": "8cdff5a2-a006-4e8b-b152-d094107b9892",
   "metadata": {},
   "source": [
    "- Concatenation was along axis=0 ie axis=0 was extended"
   ]
  },
  {
   "cell_type": "code",
   "execution_count": 38,
   "id": "591cb90c-5b64-42d9-9989-2917ffb3bef4",
   "metadata": {},
   "outputs": [
    {
     "data": {
      "text/plain": [
       "array([[1, 2],\n",
       "       [3, 4],\n",
       "       [5, 6]])"
      ]
     },
     "execution_count": 38,
     "metadata": {},
     "output_type": "execute_result"
    }
   ],
   "source": [
    "np.concat((x,y),axis=0)"
   ]
  },
  {
   "cell_type": "markdown",
   "id": "7c5d541f-5aa1-4396-87f7-efe9519db929",
   "metadata": {},
   "source": [
    "- Concatenation along axis=1 can also be done"
   ]
  },
  {
   "cell_type": "code",
   "execution_count": 265,
   "id": "c0625ad9-9cd9-43fb-b0d2-389bab62d79b",
   "metadata": {},
   "outputs": [
    {
     "data": {
      "text/plain": [
       "array([[1, 2],\n",
       "       [3, 4]])"
      ]
     },
     "execution_count": 265,
     "metadata": {},
     "output_type": "execute_result"
    }
   ],
   "source": [
    "x = np.array([[1, 2], [3, 4]])\n",
    "x"
   ]
  },
  {
   "cell_type": "code",
   "execution_count": 266,
   "id": "e429dce4-22c4-4474-9ce9-b77b75856dcd",
   "metadata": {},
   "outputs": [
    {
     "data": {
      "text/plain": [
       "(2, 2)"
      ]
     },
     "execution_count": 266,
     "metadata": {},
     "output_type": "execute_result"
    }
   ],
   "source": [
    "x.shape"
   ]
  },
  {
   "cell_type": "code",
   "execution_count": 267,
   "id": "c0bca652-6bb9-414a-89ee-bac7de57d1bf",
   "metadata": {},
   "outputs": [
    {
     "data": {
      "text/plain": [
       "array([[5],\n",
       "       [6]])"
      ]
     },
     "execution_count": 267,
     "metadata": {},
     "output_type": "execute_result"
    }
   ],
   "source": [
    "y = np.array([[5], [6]])\n",
    "y"
   ]
  },
  {
   "cell_type": "code",
   "execution_count": 268,
   "id": "6a1d6527-54bb-40b0-aa24-edfb78a258c0",
   "metadata": {},
   "outputs": [
    {
     "data": {
      "text/plain": [
       "(2, 1)"
      ]
     },
     "execution_count": 268,
     "metadata": {},
     "output_type": "execute_result"
    }
   ],
   "source": [
    "y.shape"
   ]
  },
  {
   "cell_type": "code",
   "execution_count": 271,
   "id": "e75fb0f7-7e78-413c-90ae-81d06f0626c2",
   "metadata": {},
   "outputs": [
    {
     "data": {
      "text/plain": [
       "array([[1, 2, 5],\n",
       "       [3, 4, 6]])"
      ]
     },
     "execution_count": 271,
     "metadata": {},
     "output_type": "execute_result"
    }
   ],
   "source": [
    "concatenated_arr = np.concat((x,y),axis=1)\n",
    "concatenated_arr"
   ]
  },
  {
   "cell_type": "code",
   "execution_count": 272,
   "id": "b1855389-ef31-4a7f-95e5-3456eb04c94c",
   "metadata": {},
   "outputs": [
    {
     "data": {
      "text/plain": [
       "(2, 3)"
      ]
     },
     "execution_count": 272,
     "metadata": {},
     "output_type": "execute_result"
    }
   ],
   "source": [
    "concatenated_arr.shape"
   ]
  },
  {
   "cell_type": "markdown",
   "id": "aa8e503b-b508-4a7f-8d0f-ab1f0dc7f391",
   "metadata": {},
   "source": [
    "- Size/Shape/Dim of Array"
   ]
  },
  {
   "cell_type": "code",
   "execution_count": 39,
   "id": "314665dd-1361-443e-baf6-e5bcf6246e7b",
   "metadata": {},
   "outputs": [],
   "source": [
    "array_example = np.array(\n",
    "[[[0, 1, 2, 3],\n",
    "[4, 5, 6, 7]],\n",
    "[[0, 1, 2, 3],\n",
    "[4, 5, 6, 7]],\n",
    "[[0 ,1 ,2, 3],\n",
    "[4, 5, 6, 7]]])"
   ]
  },
  {
   "cell_type": "code",
   "execution_count": 40,
   "id": "8dddc233-290d-4c74-b3fe-4e6a71aa6e82",
   "metadata": {},
   "outputs": [
    {
     "data": {
      "text/plain": [
       "array([[[0, 1, 2, 3],\n",
       "        [4, 5, 6, 7]],\n",
       "\n",
       "       [[0, 1, 2, 3],\n",
       "        [4, 5, 6, 7]],\n",
       "\n",
       "       [[0, 1, 2, 3],\n",
       "        [4, 5, 6, 7]]])"
      ]
     },
     "execution_count": 40,
     "metadata": {},
     "output_type": "execute_result"
    }
   ],
   "source": [
    "array_example"
   ]
  },
  {
   "cell_type": "code",
   "execution_count": 41,
   "id": "eb143de9-8fd8-46fd-9144-eaea984e4489",
   "metadata": {},
   "outputs": [
    {
     "data": {
      "text/plain": [
       "3"
      ]
     },
     "execution_count": 41,
     "metadata": {},
     "output_type": "execute_result"
    }
   ],
   "source": [
    "array_example.ndim"
   ]
  },
  {
   "cell_type": "code",
   "execution_count": 42,
   "id": "0b6c9bf7-0cef-4ff2-bd52-4d646a1c4562",
   "metadata": {},
   "outputs": [
    {
     "data": {
      "text/plain": [
       "(3, 2, 4)"
      ]
     },
     "execution_count": 42,
     "metadata": {},
     "output_type": "execute_result"
    }
   ],
   "source": [
    "array_example.shape"
   ]
  },
  {
   "cell_type": "code",
   "execution_count": 43,
   "id": "6337f4fc-aa35-4028-9879-0d28cbcaa1bc",
   "metadata": {},
   "outputs": [
    {
     "data": {
      "text/plain": [
       "24"
      ]
     },
     "execution_count": 43,
     "metadata": {},
     "output_type": "execute_result"
    }
   ],
   "source": [
    "array_example.size"
   ]
  },
  {
   "cell_type": "markdown",
   "id": "d56f2a76-92a5-41dd-883d-0ee7a8b4df5e",
   "metadata": {},
   "source": [
    "- Reshape an array\n",
    "- Size (ie. the number of elements) must remain same\n",
    "- Elements are distributed right-index to left-index"
   ]
  },
  {
   "cell_type": "code",
   "execution_count": 44,
   "id": "4c36b31f-48a5-4829-918f-f773fbeb2858",
   "metadata": {},
   "outputs": [],
   "source": [
    "a = np.arange(6)"
   ]
  },
  {
   "cell_type": "code",
   "execution_count": 45,
   "id": "030efad7-e092-4003-b669-09709d0dd8dd",
   "metadata": {},
   "outputs": [
    {
     "data": {
      "text/plain": [
       "array([0, 1, 2, 3, 4, 5])"
      ]
     },
     "execution_count": 45,
     "metadata": {},
     "output_type": "execute_result"
    }
   ],
   "source": [
    "a"
   ]
  },
  {
   "cell_type": "code",
   "execution_count": 46,
   "id": "9960e99b-a209-4d28-a6da-a89986a4da53",
   "metadata": {},
   "outputs": [
    {
     "data": {
      "text/plain": [
       "array([[0, 1, 2],\n",
       "       [3, 4, 5]])"
      ]
     },
     "execution_count": 46,
     "metadata": {},
     "output_type": "execute_result"
    }
   ],
   "source": [
    "a.reshape((2,3))"
   ]
  },
  {
   "cell_type": "code",
   "execution_count": 47,
   "id": "e6ffbf4f-b6ab-49dc-9276-b389b0dee57f",
   "metadata": {},
   "outputs": [
    {
     "data": {
      "text/plain": [
       "array([[0, 1],\n",
       "       [2, 3],\n",
       "       [4, 5]])"
      ]
     },
     "execution_count": 47,
     "metadata": {},
     "output_type": "execute_result"
    }
   ],
   "source": [
    "a.reshape((3,2))"
   ]
  },
  {
   "cell_type": "markdown",
   "id": "d4b01ce6-ab2a-461d-b4a4-318ac869e0ab",
   "metadata": {},
   "source": [
    "- Convert 1d array to 2d (Add an axis)\n",
    "- Row Vector: (1,b)\n",
    "- Column Vector: (a,1)\n",
    "- Matrix: (a,b)"
   ]
  },
  {
   "cell_type": "code",
   "execution_count": 48,
   "id": "f4fcba42-0317-489a-a8cb-41edd921d8d8",
   "metadata": {},
   "outputs": [],
   "source": [
    "a = np.array([1, 2, 3, 4, 5, 6])"
   ]
  },
  {
   "cell_type": "code",
   "execution_count": 49,
   "id": "7e5cb06a-e78d-4398-b9ca-aa7d5ae4a22d",
   "metadata": {},
   "outputs": [
    {
     "data": {
      "text/plain": [
       "(6,)"
      ]
     },
     "execution_count": 49,
     "metadata": {},
     "output_type": "execute_result"
    }
   ],
   "source": [
    "a.shape"
   ]
  },
  {
   "cell_type": "code",
   "execution_count": 50,
   "id": "e8658130-1de6-4237-a3b6-a7e64384672b",
   "metadata": {},
   "outputs": [
    {
     "data": {
      "text/plain": [
       "1"
      ]
     },
     "execution_count": 50,
     "metadata": {},
     "output_type": "execute_result"
    }
   ],
   "source": [
    "a.ndim"
   ]
  },
  {
   "cell_type": "code",
   "execution_count": 51,
   "id": "0854ece4-b78a-4228-90ed-a86bc295156c",
   "metadata": {},
   "outputs": [],
   "source": [
    "a2 = a[np.newaxis,:]"
   ]
  },
  {
   "cell_type": "code",
   "execution_count": 52,
   "id": "06fd118c-7b21-43b9-a490-53c31a47cc38",
   "metadata": {},
   "outputs": [
    {
     "data": {
      "text/plain": [
       "array([[1, 2, 3, 4, 5, 6]])"
      ]
     },
     "execution_count": 52,
     "metadata": {},
     "output_type": "execute_result"
    }
   ],
   "source": [
    "a2"
   ]
  },
  {
   "cell_type": "code",
   "execution_count": 53,
   "id": "14183557-eb53-43a8-9661-a93cbd9f35f0",
   "metadata": {},
   "outputs": [
    {
     "data": {
      "text/plain": [
       "(1, 6)"
      ]
     },
     "execution_count": 53,
     "metadata": {},
     "output_type": "execute_result"
    }
   ],
   "source": [
    "a2.shape"
   ]
  },
  {
   "cell_type": "code",
   "execution_count": 54,
   "id": "cfcbc779-17b1-4379-9d4b-577ef521351d",
   "metadata": {},
   "outputs": [],
   "source": [
    "row_vector = a[np.newaxis,:]"
   ]
  },
  {
   "cell_type": "code",
   "execution_count": 55,
   "id": "39118bbb-c207-4b5f-9268-2a2df3d2ce14",
   "metadata": {},
   "outputs": [
    {
     "data": {
      "text/plain": [
       "array([[1, 2, 3, 4, 5, 6]])"
      ]
     },
     "execution_count": 55,
     "metadata": {},
     "output_type": "execute_result"
    }
   ],
   "source": [
    "row_vector"
   ]
  },
  {
   "cell_type": "code",
   "execution_count": 56,
   "id": "16a7f022-1bcb-4739-9533-a93ccdeb2792",
   "metadata": {},
   "outputs": [
    {
     "data": {
      "text/plain": [
       "(1, 6)"
      ]
     },
     "execution_count": 56,
     "metadata": {},
     "output_type": "execute_result"
    }
   ],
   "source": [
    "row_vector.shape"
   ]
  },
  {
   "cell_type": "code",
   "execution_count": 57,
   "id": "91a0b90e-346b-4905-ac78-a399e9f5c010",
   "metadata": {},
   "outputs": [],
   "source": [
    "col_vector = a[:,np.newaxis]"
   ]
  },
  {
   "cell_type": "code",
   "execution_count": 58,
   "id": "cf980388-25b1-41f0-b1c0-6fe41e185b1b",
   "metadata": {},
   "outputs": [
    {
     "data": {
      "text/plain": [
       "array([[1],\n",
       "       [2],\n",
       "       [3],\n",
       "       [4],\n",
       "       [5],\n",
       "       [6]])"
      ]
     },
     "execution_count": 58,
     "metadata": {},
     "output_type": "execute_result"
    }
   ],
   "source": [
    "col_vector"
   ]
  },
  {
   "cell_type": "code",
   "execution_count": 59,
   "id": "2f290ac4-9eb4-446a-aedc-bb702f046c68",
   "metadata": {},
   "outputs": [
    {
     "data": {
      "text/plain": [
       "(6, 1)"
      ]
     },
     "execution_count": 59,
     "metadata": {},
     "output_type": "execute_result"
    }
   ],
   "source": [
    "col_vector.shape"
   ]
  },
  {
   "cell_type": "markdown",
   "id": "77e8324a-0ed3-4b6d-bb10-a3042a7f9f24",
   "metadata": {},
   "source": [
    "- Expand the dimension at a specified position"
   ]
  },
  {
   "cell_type": "code",
   "execution_count": 60,
   "id": "4e349033-e323-454c-ba95-3a30d05caca4",
   "metadata": {},
   "outputs": [],
   "source": [
    "a = np.array(range(1,7))"
   ]
  },
  {
   "cell_type": "code",
   "execution_count": 61,
   "id": "cdc53d76-950c-4939-9fc2-a11cd8392b87",
   "metadata": {},
   "outputs": [
    {
     "data": {
      "text/plain": [
       "array([1, 2, 3, 4, 5, 6])"
      ]
     },
     "execution_count": 61,
     "metadata": {},
     "output_type": "execute_result"
    }
   ],
   "source": [
    "a"
   ]
  },
  {
   "cell_type": "code",
   "execution_count": 62,
   "id": "2fa8bec7-e436-4299-8bcf-7edc16fdae85",
   "metadata": {},
   "outputs": [],
   "source": [
    "b = np.expand_dims(a,axis=1)"
   ]
  },
  {
   "cell_type": "code",
   "execution_count": 63,
   "id": "5a83c805-ac07-4973-b047-f8be3af95fd5",
   "metadata": {},
   "outputs": [
    {
     "data": {
      "text/plain": [
       "array([[1],\n",
       "       [2],\n",
       "       [3],\n",
       "       [4],\n",
       "       [5],\n",
       "       [6]])"
      ]
     },
     "execution_count": 63,
     "metadata": {},
     "output_type": "execute_result"
    }
   ],
   "source": [
    "b"
   ]
  },
  {
   "cell_type": "code",
   "execution_count": 64,
   "id": "b5b9eadc-e693-4ed8-8663-7c05a4929cc1",
   "metadata": {},
   "outputs": [
    {
     "data": {
      "text/plain": [
       "(6, 1)"
      ]
     },
     "execution_count": 64,
     "metadata": {},
     "output_type": "execute_result"
    }
   ],
   "source": [
    "b.shape"
   ]
  },
  {
   "cell_type": "code",
   "execution_count": 65,
   "id": "7d957cf5-2602-4074-aa68-616e7bf6b366",
   "metadata": {},
   "outputs": [],
   "source": [
    "c = np.expand_dims(a,axis=0)"
   ]
  },
  {
   "cell_type": "code",
   "execution_count": 66,
   "id": "1db9548d-6b64-4a9e-b0de-b0bf8292eeba",
   "metadata": {},
   "outputs": [
    {
     "data": {
      "text/plain": [
       "array([[1, 2, 3, 4, 5, 6]])"
      ]
     },
     "execution_count": 66,
     "metadata": {},
     "output_type": "execute_result"
    }
   ],
   "source": [
    "c"
   ]
  },
  {
   "cell_type": "code",
   "execution_count": 67,
   "id": "626033c7-9229-426d-b562-84eaab1a50ed",
   "metadata": {},
   "outputs": [
    {
     "data": {
      "text/plain": [
       "(1, 6)"
      ]
     },
     "execution_count": 67,
     "metadata": {},
     "output_type": "execute_result"
    }
   ],
   "source": [
    "c.shape"
   ]
  },
  {
   "cell_type": "markdown",
   "id": "e5b3b4a7-ba24-4920-9ce8-29b6de717478",
   "metadata": {},
   "source": [
    "- Indexing/Slicing Numpy Array"
   ]
  },
  {
   "cell_type": "code",
   "execution_count": 68,
   "id": "6907111f-7102-4b27-b1e4-34cb895a5ead",
   "metadata": {},
   "outputs": [],
   "source": [
    "data = np.array([1,2,3])"
   ]
  },
  {
   "cell_type": "code",
   "execution_count": 69,
   "id": "af6183da-e11d-4721-b41d-d3914cc6abdb",
   "metadata": {},
   "outputs": [
    {
     "data": {
      "text/plain": [
       "np.int64(1)"
      ]
     },
     "execution_count": 69,
     "metadata": {},
     "output_type": "execute_result"
    }
   ],
   "source": [
    "data[0]"
   ]
  },
  {
   "cell_type": "code",
   "execution_count": 70,
   "id": "0df1663b-6077-4cf6-b863-440f56fb15d4",
   "metadata": {},
   "outputs": [
    {
     "data": {
      "text/plain": [
       "array([1, 2])"
      ]
     },
     "execution_count": 70,
     "metadata": {},
     "output_type": "execute_result"
    }
   ],
   "source": [
    "data[0:2]"
   ]
  },
  {
   "cell_type": "code",
   "execution_count": 71,
   "id": "e7e875de-a2fc-4e17-a6ce-a1c1574e7bc7",
   "metadata": {},
   "outputs": [
    {
     "data": {
      "text/plain": [
       "array([2, 3])"
      ]
     },
     "execution_count": 71,
     "metadata": {},
     "output_type": "execute_result"
    }
   ],
   "source": [
    "data[-2:]"
   ]
  },
  {
   "cell_type": "markdown",
   "id": "b0cda465-7eaa-4978-b850-3b5f7d780029",
   "metadata": {},
   "source": [
    "- Boolean Indexing"
   ]
  },
  {
   "cell_type": "code",
   "execution_count": 72,
   "id": "73cea8ac-38cd-456b-b248-18d2faff5704",
   "metadata": {},
   "outputs": [],
   "source": [
    "a = np.array([[1 , 2, 3, 4], [5, 6, 7, 8], [9, 10, 11, 12]])"
   ]
  },
  {
   "cell_type": "code",
   "execution_count": 73,
   "id": "848ac815-2e2a-4227-9310-aab1008d8032",
   "metadata": {},
   "outputs": [
    {
     "data": {
      "text/plain": [
       "array([[ 1,  2,  3,  4],\n",
       "       [ 5,  6,  7,  8],\n",
       "       [ 9, 10, 11, 12]])"
      ]
     },
     "execution_count": 73,
     "metadata": {},
     "output_type": "execute_result"
    }
   ],
   "source": [
    "a"
   ]
  },
  {
   "cell_type": "code",
   "execution_count": 74,
   "id": "555fd515-2db1-48ac-8e4f-54718ee5437f",
   "metadata": {},
   "outputs": [
    {
     "data": {
      "text/plain": [
       "(3, 4)"
      ]
     },
     "execution_count": 74,
     "metadata": {},
     "output_type": "execute_result"
    }
   ],
   "source": [
    "a.shape"
   ]
  },
  {
   "cell_type": "code",
   "execution_count": 75,
   "id": "ae322203-bec9-439b-9d33-d04609c3e0d1",
   "metadata": {},
   "outputs": [
    {
     "data": {
      "text/plain": [
       "array([[ True,  True,  True,  True],\n",
       "       [ True,  True, False, False],\n",
       "       [False, False, False, False]])"
      ]
     },
     "execution_count": 75,
     "metadata": {},
     "output_type": "execute_result"
    }
   ],
   "source": [
    "mask = a<7\n",
    "mask"
   ]
  },
  {
   "cell_type": "code",
   "execution_count": 76,
   "id": "fc46f905-37b0-40db-a899-04b573e61160",
   "metadata": {},
   "outputs": [
    {
     "data": {
      "text/plain": [
       "array([1, 2, 3, 4, 5, 6])"
      ]
     },
     "execution_count": 76,
     "metadata": {},
     "output_type": "execute_result"
    }
   ],
   "source": [
    "a[mask]"
   ]
  },
  {
   "cell_type": "code",
   "execution_count": 77,
   "id": "84d7f390-4b35-4180-9f4b-70865deca239",
   "metadata": {},
   "outputs": [],
   "source": [
    "divisible_by_2_mask = a%2==0"
   ]
  },
  {
   "cell_type": "code",
   "execution_count": 78,
   "id": "acd19a43-defc-4073-83ec-47434f830aef",
   "metadata": {},
   "outputs": [
    {
     "data": {
      "text/plain": [
       "array([[False,  True, False,  True],\n",
       "       [False,  True, False,  True],\n",
       "       [False,  True, False,  True]])"
      ]
     },
     "execution_count": 78,
     "metadata": {},
     "output_type": "execute_result"
    }
   ],
   "source": [
    "divisible_by_2_mask"
   ]
  },
  {
   "cell_type": "code",
   "execution_count": 79,
   "id": "e712a6a8-15ba-4aab-8615-adf44148650a",
   "metadata": {},
   "outputs": [
    {
     "data": {
      "text/plain": [
       "array([ 2,  4,  6,  8, 10, 12])"
      ]
     },
     "execution_count": 79,
     "metadata": {},
     "output_type": "execute_result"
    }
   ],
   "source": [
    "a[divisible_by_2_mask]"
   ]
  },
  {
   "cell_type": "markdown",
   "id": "590ff717-9ee5-4ac0-a43b-b8373ff8d93e",
   "metadata": {},
   "source": [
    "- Specify multiple conditions using & and | operators"
   ]
  },
  {
   "cell_type": "code",
   "execution_count": 80,
   "id": "73c1219d-ae83-4c96-8c72-c2e7ac80dba1",
   "metadata": {},
   "outputs": [
    {
     "data": {
      "text/plain": [
       "array([[ 1,  2,  3,  4],\n",
       "       [ 5,  6,  7,  8],\n",
       "       [ 9, 10, 11, 12]])"
      ]
     },
     "execution_count": 80,
     "metadata": {},
     "output_type": "execute_result"
    }
   ],
   "source": [
    "a"
   ]
  },
  {
   "cell_type": "code",
   "execution_count": 81,
   "id": "d4c356c4-e999-4a3c-99fb-38c96eea917e",
   "metadata": {},
   "outputs": [
    {
     "data": {
      "text/plain": [
       "array([ 3,  4,  5,  6,  7,  8,  9, 10])"
      ]
     },
     "execution_count": 81,
     "metadata": {},
     "output_type": "execute_result"
    }
   ],
   "source": [
    "a[(a>2) & (a<11)]"
   ]
  },
  {
   "cell_type": "markdown",
   "id": "53451993-b7fb-4ece-a9e6-3c2604298be9",
   "metadata": {},
   "source": [
    "- use **np.nonzero** to get indices of non zero elements\n",
    "- returns tuple: (row_indices,column_indices)\n",
    "- need to zip to get element indices"
   ]
  },
  {
   "cell_type": "code",
   "execution_count": 82,
   "id": "e855a8ce-37b1-4b8b-b8ee-7d6f6d16eac7",
   "metadata": {},
   "outputs": [
    {
     "data": {
      "text/plain": [
       "array([[ 1,  2,  3,  4],\n",
       "       [ 5,  6,  7,  8],\n",
       "       [ 9, 10, 11, 12]])"
      ]
     },
     "execution_count": 82,
     "metadata": {},
     "output_type": "execute_result"
    }
   ],
   "source": [
    "a"
   ]
  },
  {
   "cell_type": "code",
   "execution_count": 83,
   "id": "8e775fa9-62f1-448a-b6ca-008f8eff4d8c",
   "metadata": {},
   "outputs": [],
   "source": [
    "b = np.nonzero((a>5)|(a<2))"
   ]
  },
  {
   "cell_type": "code",
   "execution_count": 84,
   "id": "8d0aef4b-05fd-4be1-ad44-9078b2d1c48b",
   "metadata": {},
   "outputs": [],
   "source": [
    "list_of_coordinates = list(zip(b[0],b[1]))"
   ]
  },
  {
   "cell_type": "code",
   "execution_count": 85,
   "id": "b5deeb7d-d546-425e-a981-3a7eb02cc216",
   "metadata": {},
   "outputs": [
    {
     "data": {
      "text/plain": [
       "[(np.int64(0), np.int64(0)),\n",
       " (np.int64(1), np.int64(1)),\n",
       " (np.int64(1), np.int64(2)),\n",
       " (np.int64(1), np.int64(3)),\n",
       " (np.int64(2), np.int64(0)),\n",
       " (np.int64(2), np.int64(1)),\n",
       " (np.int64(2), np.int64(2)),\n",
       " (np.int64(2), np.int64(3))]"
      ]
     },
     "execution_count": 85,
     "metadata": {},
     "output_type": "execute_result"
    }
   ],
   "source": [
    "list_of_coordinates"
   ]
  },
  {
   "cell_type": "code",
   "execution_count": 86,
   "id": "1f71111b-7819-4b85-929e-ed7bf09ddba8",
   "metadata": {},
   "outputs": [
    {
     "name": "stdout",
     "output_type": "stream",
     "text": [
      "1\n",
      "6\n",
      "7\n",
      "8\n",
      "9\n",
      "10\n",
      "11\n",
      "12\n"
     ]
    }
   ],
   "source": [
    "for cord in list_of_coordinates:\n",
    "    print(a[cord])"
   ]
  },
  {
   "cell_type": "markdown",
   "id": "c628fa16-7775-4c36-af31-77d38ed25067",
   "metadata": {},
   "source": [
    "- Slicing an array\n",
    "- Upating a slice of array updates the original array"
   ]
  },
  {
   "cell_type": "code",
   "execution_count": 87,
   "id": "f39b1867-4207-4bec-bdfd-d2200ff2404d",
   "metadata": {},
   "outputs": [],
   "source": [
    "a = np.array([1,  2,  3,  4,  5,  6,  7,  8,  9, 10])"
   ]
  },
  {
   "cell_type": "code",
   "execution_count": 88,
   "id": "aa93ff33-76b3-4e55-816d-8dd310b2a5d6",
   "metadata": {},
   "outputs": [],
   "source": [
    "arr1 = a[3:8]"
   ]
  },
  {
   "cell_type": "code",
   "execution_count": 89,
   "id": "0feac6fb-ff3a-4870-90b3-e3287f2b5b8d",
   "metadata": {},
   "outputs": [
    {
     "data": {
      "text/plain": [
       "array([4, 5, 6, 7, 8])"
      ]
     },
     "execution_count": 89,
     "metadata": {},
     "output_type": "execute_result"
    }
   ],
   "source": [
    "arr1"
   ]
  },
  {
   "cell_type": "code",
   "execution_count": 90,
   "id": "53f55db2-c4d3-4b67-991a-4e136cc6cddc",
   "metadata": {},
   "outputs": [],
   "source": [
    "arr1[1] = -1"
   ]
  },
  {
   "cell_type": "code",
   "execution_count": 91,
   "id": "29816daf-d9c7-4fad-b7dc-50b90d0c1fdb",
   "metadata": {},
   "outputs": [
    {
     "data": {
      "text/plain": [
       "array([ 4, -1,  6,  7,  8])"
      ]
     },
     "execution_count": 91,
     "metadata": {},
     "output_type": "execute_result"
    }
   ],
   "source": [
    "arr1"
   ]
  },
  {
   "cell_type": "code",
   "execution_count": 92,
   "id": "a13199dd-d8ef-4e6a-a878-9cb6bf36a4d2",
   "metadata": {},
   "outputs": [
    {
     "data": {
      "text/plain": [
       "array([ 1,  2,  3,  4, -1,  6,  7,  8,  9, 10])"
      ]
     },
     "execution_count": 92,
     "metadata": {},
     "output_type": "execute_result"
    }
   ],
   "source": [
    "a"
   ]
  },
  {
   "cell_type": "markdown",
   "id": "9130a32c-31f6-4173-915f-9b8fa462157b",
   "metadata": {},
   "source": [
    "- Stack arrays vertically and horizontally"
   ]
  },
  {
   "cell_type": "code",
   "execution_count": 277,
   "id": "a66f796f-6e12-4507-b4cd-7946d8ebd6f7",
   "metadata": {},
   "outputs": [],
   "source": [
    "a1 = np.array([[1, 1],\n",
    "               [2,2]])\n",
    "\n",
    "a2 = np.array([[3, 3],\n",
    "               [4, 4]])"
   ]
  },
  {
   "cell_type": "code",
   "execution_count": 94,
   "id": "1b83fcb5-ba84-42e5-b425-4405ddee7745",
   "metadata": {},
   "outputs": [
    {
     "data": {
      "text/plain": [
       "array([[1, 1],\n",
       "       [2, 2]])"
      ]
     },
     "execution_count": 94,
     "metadata": {},
     "output_type": "execute_result"
    }
   ],
   "source": [
    "a1"
   ]
  },
  {
   "cell_type": "code",
   "execution_count": 95,
   "id": "3c76d189-e9e1-4713-b0cb-68fe2ac85744",
   "metadata": {},
   "outputs": [
    {
     "data": {
      "text/plain": [
       "array([[3, 3],\n",
       "       [4, 4]])"
      ]
     },
     "execution_count": 95,
     "metadata": {},
     "output_type": "execute_result"
    }
   ],
   "source": [
    "a2"
   ]
  },
  {
   "cell_type": "code",
   "execution_count": 96,
   "id": "7f99dae3-8867-492d-86e8-cf0169956d31",
   "metadata": {},
   "outputs": [
    {
     "data": {
      "text/plain": [
       "array([[1, 1],\n",
       "       [2, 2],\n",
       "       [3, 3],\n",
       "       [4, 4]])"
      ]
     },
     "execution_count": 96,
     "metadata": {},
     "output_type": "execute_result"
    }
   ],
   "source": [
    "np.vstack((a1,a2))"
   ]
  },
  {
   "cell_type": "code",
   "execution_count": 97,
   "id": "b31f0213-5a67-47e7-bc6e-dec6e2a2e467",
   "metadata": {},
   "outputs": [
    {
     "data": {
      "text/plain": [
       "array([[1, 1, 3, 3],\n",
       "       [2, 2, 4, 4]])"
      ]
     },
     "execution_count": 97,
     "metadata": {},
     "output_type": "execute_result"
    }
   ],
   "source": [
    "np.hstack((a1,a2))"
   ]
  },
  {
   "cell_type": "markdown",
   "id": "ec611c3b-ef63-487b-8947-6f4168827439",
   "metadata": {},
   "source": [
    "- Split array horizontally\n",
    "- Provide number of sections to produce"
   ]
  },
  {
   "cell_type": "code",
   "execution_count": 98,
   "id": "61129361-c2a8-4caa-b374-e17699e43666",
   "metadata": {},
   "outputs": [],
   "source": [
    "x = np.arange(1, 25).reshape(2, 12)"
   ]
  },
  {
   "cell_type": "code",
   "execution_count": 99,
   "id": "69df16cd-d1ae-40ed-905f-d7c7964383df",
   "metadata": {},
   "outputs": [
    {
     "data": {
      "text/plain": [
       "array([[ 1,  2,  3,  4,  5,  6,  7,  8,  9, 10, 11, 12],\n",
       "       [13, 14, 15, 16, 17, 18, 19, 20, 21, 22, 23, 24]])"
      ]
     },
     "execution_count": 99,
     "metadata": {},
     "output_type": "execute_result"
    }
   ],
   "source": [
    "x"
   ]
  },
  {
   "cell_type": "code",
   "execution_count": 100,
   "id": "77505479-4f5c-4680-8297-d655722ec399",
   "metadata": {},
   "outputs": [
    {
     "data": {
      "text/plain": [
       "[array([[ 1,  2,  3,  4],\n",
       "        [13, 14, 15, 16]]),\n",
       " array([[ 5,  6,  7,  8],\n",
       "        [17, 18, 19, 20]]),\n",
       " array([[ 9, 10, 11, 12],\n",
       "        [21, 22, 23, 24]])]"
      ]
     },
     "execution_count": 100,
     "metadata": {},
     "output_type": "execute_result"
    }
   ],
   "source": [
    "np.hsplit(x,3)"
   ]
  },
  {
   "cell_type": "markdown",
   "id": "1dc5a3a9-5b9d-4de2-a83c-eac89945eeb3",
   "metadata": {},
   "source": [
    "- Numpy functions and operations like indexing/slicing return views (shallow copies) whenever possible for faster ops and saving memory\n",
    "- Thus, modifying data in view modifies the original array!"
   ]
  },
  {
   "cell_type": "code",
   "execution_count": 101,
   "id": "d6760359-1fc1-44ae-a0a4-e590d0635a9c",
   "metadata": {},
   "outputs": [],
   "source": [
    "a = np.array([[1, 2, 3, 4], [5, 6, 7, 8], [9, 10, 11, 12]])"
   ]
  },
  {
   "cell_type": "code",
   "execution_count": 102,
   "id": "14276228-36eb-40d5-8ee5-9861ba49e491",
   "metadata": {},
   "outputs": [
    {
     "data": {
      "text/plain": [
       "array([[ 1,  2,  3,  4],\n",
       "       [ 5,  6,  7,  8],\n",
       "       [ 9, 10, 11, 12]])"
      ]
     },
     "execution_count": 102,
     "metadata": {},
     "output_type": "execute_result"
    }
   ],
   "source": [
    "a"
   ]
  },
  {
   "cell_type": "code",
   "execution_count": 103,
   "id": "2c3cf55e-4395-48ed-a9cb-994190794179",
   "metadata": {},
   "outputs": [],
   "source": [
    "b1 = a[0, :]"
   ]
  },
  {
   "cell_type": "code",
   "execution_count": 104,
   "id": "8d9f7fb3-ea63-42f5-86dc-b0ce88c55705",
   "metadata": {},
   "outputs": [
    {
     "data": {
      "text/plain": [
       "array([1, 2, 3, 4])"
      ]
     },
     "execution_count": 104,
     "metadata": {},
     "output_type": "execute_result"
    }
   ],
   "source": [
    "b1"
   ]
  },
  {
   "cell_type": "code",
   "execution_count": 105,
   "id": "24cd0818-4e43-421f-8949-79bb71fb69b5",
   "metadata": {},
   "outputs": [],
   "source": [
    "b1[0] = 99"
   ]
  },
  {
   "cell_type": "code",
   "execution_count": 106,
   "id": "77f23efb-1dd0-46be-b2e6-a706cf5b0bcc",
   "metadata": {},
   "outputs": [
    {
     "data": {
      "text/plain": [
       "array([99,  2,  3,  4])"
      ]
     },
     "execution_count": 106,
     "metadata": {},
     "output_type": "execute_result"
    }
   ],
   "source": [
    "b1"
   ]
  },
  {
   "cell_type": "code",
   "execution_count": 107,
   "id": "236501ad-e6ac-4a5e-af34-3c36d9b210b0",
   "metadata": {},
   "outputs": [
    {
     "data": {
      "text/plain": [
       "array([[99,  2,  3,  4],\n",
       "       [ 5,  6,  7,  8],\n",
       "       [ 9, 10, 11, 12]])"
      ]
     },
     "execution_count": 107,
     "metadata": {},
     "output_type": "execute_result"
    }
   ],
   "source": [
    "a"
   ]
  },
  {
   "cell_type": "markdown",
   "id": "cbc7b9d9-ca9c-4f28-99cb-20399a0cc652",
   "metadata": {},
   "source": [
    "- Use copy to create a **deep** copy of array"
   ]
  },
  {
   "cell_type": "code",
   "execution_count": 108,
   "id": "d1ba5e93-d965-4322-8644-44c179ac0cc9",
   "metadata": {},
   "outputs": [],
   "source": [
    "b2 = a.copy()"
   ]
  },
  {
   "cell_type": "code",
   "execution_count": 109,
   "id": "ff340a26-2909-4a96-91dc-e2b1b04b2a6b",
   "metadata": {},
   "outputs": [
    {
     "data": {
      "text/plain": [
       "array([[99,  2,  3,  4],\n",
       "       [ 5,  6,  7,  8],\n",
       "       [ 9, 10, 11, 12]])"
      ]
     },
     "execution_count": 109,
     "metadata": {},
     "output_type": "execute_result"
    }
   ],
   "source": [
    "b2"
   ]
  },
  {
   "cell_type": "code",
   "execution_count": 110,
   "id": "2ee88587-3f38-4f48-87f5-8c720c5b8806",
   "metadata": {},
   "outputs": [],
   "source": [
    "b2[0,0] = 999"
   ]
  },
  {
   "cell_type": "code",
   "execution_count": 111,
   "id": "f3ab3227-dc0d-47e0-bdae-0d22e94c9001",
   "metadata": {},
   "outputs": [
    {
     "data": {
      "text/plain": [
       "array([[999,   2,   3,   4],\n",
       "       [  5,   6,   7,   8],\n",
       "       [  9,  10,  11,  12]])"
      ]
     },
     "execution_count": 111,
     "metadata": {},
     "output_type": "execute_result"
    }
   ],
   "source": [
    "b2"
   ]
  },
  {
   "cell_type": "code",
   "execution_count": 112,
   "id": "054b2e4b-cf84-48a4-a13c-0de2eff19441",
   "metadata": {},
   "outputs": [
    {
     "data": {
      "text/plain": [
       "array([[99,  2,  3,  4],\n",
       "       [ 5,  6,  7,  8],\n",
       "       [ 9, 10, 11, 12]])"
      ]
     },
     "execution_count": 112,
     "metadata": {},
     "output_type": "execute_result"
    }
   ],
   "source": [
    "a"
   ]
  },
  {
   "cell_type": "markdown",
   "id": "b0377382-55fc-4276-8e52-9703e8c90b48",
   "metadata": {},
   "source": [
    "- You can add arrays with a plus sign\n",
    "- It performs elem-wise addition"
   ]
  },
  {
   "cell_type": "code",
   "execution_count": 113,
   "id": "8daa80fc-fcff-43b6-a926-7371ac64ed15",
   "metadata": {},
   "outputs": [],
   "source": [
    "data = np.array([1, 2])\n",
    "ones = np.ones(2, dtype=int)"
   ]
  },
  {
   "cell_type": "code",
   "execution_count": 114,
   "id": "0f4dda17-e8b7-4c3f-a2f4-8b90ccd3c7fe",
   "metadata": {},
   "outputs": [
    {
     "data": {
      "text/plain": [
       "array([1, 2])"
      ]
     },
     "execution_count": 114,
     "metadata": {},
     "output_type": "execute_result"
    }
   ],
   "source": [
    "data"
   ]
  },
  {
   "cell_type": "code",
   "execution_count": 115,
   "id": "c0aca582-dd4f-4eae-accd-05b38753dd95",
   "metadata": {},
   "outputs": [
    {
     "data": {
      "text/plain": [
       "array([1, 1])"
      ]
     },
     "execution_count": 115,
     "metadata": {},
     "output_type": "execute_result"
    }
   ],
   "source": [
    "ones"
   ]
  },
  {
   "cell_type": "code",
   "execution_count": 116,
   "id": "d49d7058-997b-40ce-a2dc-0501b235ffec",
   "metadata": {},
   "outputs": [
    {
     "data": {
      "text/plain": [
       "array([2, 3])"
      ]
     },
     "execution_count": 116,
     "metadata": {},
     "output_type": "execute_result"
    }
   ],
   "source": [
    "data + ones"
   ]
  },
  {
   "cell_type": "markdown",
   "id": "34133c69-0b71-47d3-b717-6205ce2db027",
   "metadata": {},
   "source": [
    "- You can also do more elem wise operations"
   ]
  },
  {
   "cell_type": "code",
   "execution_count": 117,
   "id": "525ead03-4f26-4213-aa50-444f5e5267f4",
   "metadata": {},
   "outputs": [
    {
     "data": {
      "text/plain": [
       "array([0, 1])"
      ]
     },
     "execution_count": 117,
     "metadata": {},
     "output_type": "execute_result"
    }
   ],
   "source": [
    "data - ones"
   ]
  },
  {
   "cell_type": "code",
   "execution_count": 118,
   "id": "6687d097-4792-414f-9e30-67c109dc97a3",
   "metadata": {},
   "outputs": [
    {
     "data": {
      "text/plain": [
       "array([1, 2])"
      ]
     },
     "execution_count": 118,
     "metadata": {},
     "output_type": "execute_result"
    }
   ],
   "source": [
    "data * ones"
   ]
  },
  {
   "cell_type": "code",
   "execution_count": 119,
   "id": "71530339-f55e-4e11-bcca-04ed6f40ce23",
   "metadata": {},
   "outputs": [
    {
     "data": {
      "text/plain": [
       "array([1., 2.])"
      ]
     },
     "execution_count": 119,
     "metadata": {},
     "output_type": "execute_result"
    }
   ],
   "source": [
    "data / ones"
   ]
  },
  {
   "cell_type": "code",
   "execution_count": 120,
   "id": "4edec1c9-7d6f-486f-b3de-094d1681c9fe",
   "metadata": {},
   "outputs": [
    {
     "data": {
      "text/plain": [
       "array([1, 2])"
      ]
     },
     "execution_count": 120,
     "metadata": {},
     "output_type": "execute_result"
    }
   ],
   "source": [
    "data // ones"
   ]
  },
  {
   "cell_type": "code",
   "execution_count": 121,
   "id": "751961a3-28d6-48d7-9d45-4386aaf54f24",
   "metadata": {},
   "outputs": [
    {
     "data": {
      "text/plain": [
       "array([2, 3])"
      ]
     },
     "execution_count": 121,
     "metadata": {},
     "output_type": "execute_result"
    }
   ],
   "source": [
    "data1 = data + ones\n",
    "data1"
   ]
  },
  {
   "cell_type": "code",
   "execution_count": 122,
   "id": "d635bedd-9efa-4647-9d0b-b241e763872a",
   "metadata": {},
   "outputs": [],
   "source": [
    "data1 += ones"
   ]
  },
  {
   "cell_type": "code",
   "execution_count": 123,
   "id": "5b2d8bb8-a1fb-4020-a411-e021c2c3528a",
   "metadata": {},
   "outputs": [
    {
     "data": {
      "text/plain": [
       "array([3, 4])"
      ]
     },
     "execution_count": 123,
     "metadata": {},
     "output_type": "execute_result"
    }
   ],
   "source": [
    "data1"
   ]
  },
  {
   "cell_type": "markdown",
   "id": "f60d710e-20af-4b6a-8257-9a186dcae5bb",
   "metadata": {},
   "source": [
    "- Sum of elements"
   ]
  },
  {
   "cell_type": "code",
   "execution_count": 124,
   "id": "d127cf59-06ed-4ba9-8340-8a16dbd1e5f4",
   "metadata": {},
   "outputs": [],
   "source": [
    "a = np.array([1, 2, 3, 4])"
   ]
  },
  {
   "cell_type": "code",
   "execution_count": 125,
   "id": "488705fb-7395-47a8-a2d0-96cbef51f9e0",
   "metadata": {},
   "outputs": [
    {
     "data": {
      "text/plain": [
       "array([1, 2, 3, 4])"
      ]
     },
     "execution_count": 125,
     "metadata": {},
     "output_type": "execute_result"
    }
   ],
   "source": [
    "a"
   ]
  },
  {
   "cell_type": "code",
   "execution_count": 126,
   "id": "4e56cefd-0496-4c24-b9f2-d9d9ec9c82a3",
   "metadata": {},
   "outputs": [
    {
     "data": {
      "text/plain": [
       "np.int64(10)"
      ]
     },
     "execution_count": 126,
     "metadata": {},
     "output_type": "execute_result"
    }
   ],
   "source": [
    "a.sum()"
   ]
  },
  {
   "cell_type": "markdown",
   "id": "ce761c81-9041-4c5f-856d-f0d3f8bd161b",
   "metadata": {},
   "source": [
    "- Sum over a particular axis"
   ]
  },
  {
   "cell_type": "code",
   "execution_count": 127,
   "id": "394caca2-ebaa-4fc2-8ba4-50ad975c9186",
   "metadata": {},
   "outputs": [],
   "source": [
    "b = np.array([[1, 1], [2, 2]])"
   ]
  },
  {
   "cell_type": "code",
   "execution_count": 128,
   "id": "e9c7eb41-d285-4ea6-b42a-c4e4e7cd707b",
   "metadata": {},
   "outputs": [
    {
     "data": {
      "text/plain": [
       "array([[1, 1],\n",
       "       [2, 2]])"
      ]
     },
     "execution_count": 128,
     "metadata": {},
     "output_type": "execute_result"
    }
   ],
   "source": [
    "b"
   ]
  },
  {
   "cell_type": "code",
   "execution_count": 129,
   "id": "833f2392-9f8f-4fef-bb30-4ae9bd3ee2b3",
   "metadata": {},
   "outputs": [
    {
     "data": {
      "text/plain": [
       "np.int64(6)"
      ]
     },
     "execution_count": 129,
     "metadata": {},
     "output_type": "execute_result"
    }
   ],
   "source": [
    "b.sum()"
   ]
  },
  {
   "cell_type": "code",
   "execution_count": 130,
   "id": "248fe1e7-f997-47c9-9692-30fd88135f0b",
   "metadata": {},
   "outputs": [
    {
     "data": {
      "text/plain": [
       "array([3, 3])"
      ]
     },
     "execution_count": 130,
     "metadata": {},
     "output_type": "execute_result"
    }
   ],
   "source": [
    "b.sum(axis=0)"
   ]
  },
  {
   "cell_type": "code",
   "execution_count": 131,
   "id": "b5c640fa-bc60-4ec5-b18a-4fc95223459c",
   "metadata": {},
   "outputs": [
    {
     "data": {
      "text/plain": [
       "array([2, 4])"
      ]
     },
     "execution_count": 131,
     "metadata": {},
     "output_type": "execute_result"
    }
   ],
   "source": [
    "b.sum(axis=1)"
   ]
  },
  {
   "cell_type": "markdown",
   "id": "d2eb7f3c-19f6-48f2-80e6-b849c50efa47",
   "metadata": {},
   "source": [
    "- Broadcasting = Operation b/w array and a scalar"
   ]
  },
  {
   "cell_type": "code",
   "execution_count": 132,
   "id": "4af250cb-e2d8-49c4-8472-50b796f69c0a",
   "metadata": {},
   "outputs": [],
   "source": [
    "data = np.array([1.0, 2.0])"
   ]
  },
  {
   "cell_type": "code",
   "execution_count": 133,
   "id": "4d877e5e-beef-4580-b64c-bc1104e18fd7",
   "metadata": {},
   "outputs": [
    {
     "data": {
      "text/plain": [
       "array([1., 2.])"
      ]
     },
     "execution_count": 133,
     "metadata": {},
     "output_type": "execute_result"
    }
   ],
   "source": [
    "data"
   ]
  },
  {
   "cell_type": "code",
   "execution_count": 134,
   "id": "9f1c7b27-f483-4c1e-859c-c629e89651d5",
   "metadata": {},
   "outputs": [
    {
     "data": {
      "text/plain": [
       "array([1.6, 3.2])"
      ]
     },
     "execution_count": 134,
     "metadata": {},
     "output_type": "execute_result"
    }
   ],
   "source": [
    "data*1.6"
   ]
  },
  {
   "cell_type": "markdown",
   "id": "00e8388a-3082-42e8-8132-cebf5055d578",
   "metadata": {},
   "source": [
    "- Aggregation Functions in Numpy"
   ]
  },
  {
   "cell_type": "code",
   "execution_count": 135,
   "id": "45b7ac4c-9c3b-4900-941c-081317041be6",
   "metadata": {},
   "outputs": [],
   "source": [
    "data = np.array([1.0, 2.0])"
   ]
  },
  {
   "cell_type": "code",
   "execution_count": 136,
   "id": "27ac9295-b205-4427-ae9f-214e5841b8f1",
   "metadata": {},
   "outputs": [
    {
     "data": {
      "text/plain": [
       "np.float64(3.0)"
      ]
     },
     "execution_count": 136,
     "metadata": {},
     "output_type": "execute_result"
    }
   ],
   "source": [
    "data.sum()"
   ]
  },
  {
   "cell_type": "code",
   "execution_count": 137,
   "id": "2dd077af-b237-4919-89a0-da24f0e2e9ee",
   "metadata": {},
   "outputs": [
    {
     "data": {
      "text/plain": [
       "np.float64(1.0)"
      ]
     },
     "execution_count": 137,
     "metadata": {},
     "output_type": "execute_result"
    }
   ],
   "source": [
    "data.min()"
   ]
  },
  {
   "cell_type": "code",
   "execution_count": 138,
   "id": "80c899af-22db-4cfd-b890-aaded5ef5243",
   "metadata": {},
   "outputs": [
    {
     "data": {
      "text/plain": [
       "np.float64(2.0)"
      ]
     },
     "execution_count": 138,
     "metadata": {},
     "output_type": "execute_result"
    }
   ],
   "source": [
    "data.max()"
   ]
  },
  {
   "cell_type": "code",
   "execution_count": 139,
   "id": "de5f6c32-879c-4b09-a3c7-af119d570d20",
   "metadata": {},
   "outputs": [],
   "source": [
    "a = np.array([[0.45053314, 0.17296777, 0.34376245, 0.5510652],\n",
    "              [0.54627315, 0.05093587, 0.40067661, 0.55645993],\n",
    "              [0.12697628, 0.82485143, 0.26590556, 0.56917101]])"
   ]
  },
  {
   "cell_type": "code",
   "execution_count": 140,
   "id": "1dd9505e-0a8b-4d19-866b-a904feaf8430",
   "metadata": {},
   "outputs": [
    {
     "data": {
      "text/plain": [
       "array([[0.45053314, 0.17296777, 0.34376245, 0.5510652 ],\n",
       "       [0.54627315, 0.05093587, 0.40067661, 0.55645993],\n",
       "       [0.12697628, 0.82485143, 0.26590556, 0.56917101]])"
      ]
     },
     "execution_count": 140,
     "metadata": {},
     "output_type": "execute_result"
    }
   ],
   "source": [
    "a"
   ]
  },
  {
   "cell_type": "code",
   "execution_count": 141,
   "id": "14fb04f5-9ba8-4dec-8e78-1b195940c829",
   "metadata": {},
   "outputs": [
    {
     "data": {
      "text/plain": [
       "(3, 4)"
      ]
     },
     "execution_count": 141,
     "metadata": {},
     "output_type": "execute_result"
    }
   ],
   "source": [
    "a.shape"
   ]
  },
  {
   "cell_type": "code",
   "execution_count": 142,
   "id": "caff5639-a49f-461b-8939-7a30a68a9986",
   "metadata": {},
   "outputs": [
    {
     "data": {
      "text/plain": [
       "np.float64(4.8595784)"
      ]
     },
     "execution_count": 142,
     "metadata": {},
     "output_type": "execute_result"
    }
   ],
   "source": [
    "a.sum()"
   ]
  },
  {
   "cell_type": "code",
   "execution_count": 143,
   "id": "f08e447d-33bd-4ed6-aeab-20e5523cf541",
   "metadata": {},
   "outputs": [
    {
     "data": {
      "text/plain": [
       "array([1.12378257, 1.04875507, 1.01034462, 1.67669614])"
      ]
     },
     "execution_count": 143,
     "metadata": {},
     "output_type": "execute_result"
    }
   ],
   "source": [
    "a.sum(axis=0)"
   ]
  },
  {
   "cell_type": "code",
   "execution_count": 144,
   "id": "d4508785-d12e-49f6-9470-4841e55881c6",
   "metadata": {},
   "outputs": [
    {
     "data": {
      "text/plain": [
       "array([1.51832856, 1.55434556, 1.78690428])"
      ]
     },
     "execution_count": 144,
     "metadata": {},
     "output_type": "execute_result"
    }
   ],
   "source": [
    "a.sum(axis=1)"
   ]
  },
  {
   "cell_type": "markdown",
   "id": "c3e76157-646a-4593-bb30-296065d76d26",
   "metadata": {},
   "source": [
    "- Creating Matrices Using List of List"
   ]
  },
  {
   "cell_type": "code",
   "execution_count": 145,
   "id": "48a59e93-7f33-4d38-b8bc-63677bf1826e",
   "metadata": {},
   "outputs": [],
   "source": [
    "data = np.array([[1, 2], [3, 4], [5, 6]])"
   ]
  },
  {
   "cell_type": "code",
   "execution_count": 146,
   "id": "338b45de-a5df-4ec0-b8aa-b2f436d0c79c",
   "metadata": {},
   "outputs": [
    {
     "data": {
      "text/plain": [
       "array([[1, 2],\n",
       "       [3, 4],\n",
       "       [5, 6]])"
      ]
     },
     "execution_count": 146,
     "metadata": {},
     "output_type": "execute_result"
    }
   ],
   "source": [
    "data"
   ]
  },
  {
   "cell_type": "markdown",
   "id": "3436adbd-fc3d-424f-9d16-0363f8f84be6",
   "metadata": {},
   "source": [
    "- Arithmetic Operations on Matrix of Same Size"
   ]
  },
  {
   "cell_type": "code",
   "execution_count": 147,
   "id": "9ffb8d3d-3562-47ee-8582-fa8a5162abbb",
   "metadata": {},
   "outputs": [],
   "source": [
    "data = np.array([[1, 2], [3, 4]])\n",
    "ones = np.array([[1, 1], [1, 1]])"
   ]
  },
  {
   "cell_type": "code",
   "execution_count": 148,
   "id": "0cbbce13-15e9-414a-b5d6-639753477487",
   "metadata": {},
   "outputs": [
    {
     "data": {
      "text/plain": [
       "array([[1, 2],\n",
       "       [3, 4]])"
      ]
     },
     "execution_count": 148,
     "metadata": {},
     "output_type": "execute_result"
    }
   ],
   "source": [
    "data"
   ]
  },
  {
   "cell_type": "code",
   "execution_count": 149,
   "id": "58559498-9644-4b0e-9a39-caad21444218",
   "metadata": {},
   "outputs": [
    {
     "data": {
      "text/plain": [
       "array([[1, 1],\n",
       "       [1, 1]])"
      ]
     },
     "execution_count": 149,
     "metadata": {},
     "output_type": "execute_result"
    }
   ],
   "source": [
    "ones"
   ]
  },
  {
   "cell_type": "code",
   "execution_count": 150,
   "id": "69c96f06-6645-4073-bd25-0df4dfdd9870",
   "metadata": {},
   "outputs": [
    {
     "data": {
      "text/plain": [
       "array([[2, 3],\n",
       "       [4, 5]])"
      ]
     },
     "execution_count": 150,
     "metadata": {},
     "output_type": "execute_result"
    }
   ],
   "source": [
    "data + ones"
   ]
  },
  {
   "cell_type": "code",
   "execution_count": 151,
   "id": "a70a023b-b6f6-4c32-8df5-edf202f90c37",
   "metadata": {},
   "outputs": [
    {
     "data": {
      "text/plain": [
       "array([[0, 1],\n",
       "       [2, 3]])"
      ]
     },
     "execution_count": 151,
     "metadata": {},
     "output_type": "execute_result"
    }
   ],
   "source": [
    "data - ones"
   ]
  },
  {
   "cell_type": "code",
   "execution_count": 152,
   "id": "ef6485e7-7ead-4c16-832e-ef5ff28fa531",
   "metadata": {},
   "outputs": [
    {
     "data": {
      "text/plain": [
       "array([[1, 2],\n",
       "       [3, 4]])"
      ]
     },
     "execution_count": 152,
     "metadata": {},
     "output_type": "execute_result"
    }
   ],
   "source": [
    "data * ones"
   ]
  },
  {
   "cell_type": "markdown",
   "id": "a1df7091-f1b4-4778-8498-7cdcbd1d6f6d",
   "metadata": {},
   "source": [
    "- Broadcasting a row or column vector on numpy array"
   ]
  },
  {
   "cell_type": "code",
   "execution_count": 153,
   "id": "6c0f0c7b-7a87-4352-8e20-1692be22240d",
   "metadata": {},
   "outputs": [],
   "source": [
    "data = np.array([[1, 2], [3, 4], [5, 6]])"
   ]
  },
  {
   "cell_type": "code",
   "execution_count": 154,
   "id": "21c51a35-3135-4888-ba80-75b4ac52e46e",
   "metadata": {},
   "outputs": [
    {
     "data": {
      "text/plain": [
       "array([[1, 2],\n",
       "       [3, 4],\n",
       "       [5, 6]])"
      ]
     },
     "execution_count": 154,
     "metadata": {},
     "output_type": "execute_result"
    }
   ],
   "source": [
    "data"
   ]
  },
  {
   "cell_type": "code",
   "execution_count": 155,
   "id": "e8a4194f-13ba-47c2-9697-7b339cae3368",
   "metadata": {},
   "outputs": [
    {
     "data": {
      "text/plain": [
       "(3, 2)"
      ]
     },
     "execution_count": 155,
     "metadata": {},
     "output_type": "execute_result"
    }
   ],
   "source": [
    "data.shape"
   ]
  },
  {
   "cell_type": "code",
   "execution_count": 156,
   "id": "4015596f-5f42-4368-83db-a01be01c2947",
   "metadata": {},
   "outputs": [],
   "source": [
    "ones_row = np.array([[1, 1]])"
   ]
  },
  {
   "cell_type": "code",
   "execution_count": 157,
   "id": "3f1aa641-28c0-4758-9b97-fa09b0ee31ec",
   "metadata": {},
   "outputs": [
    {
     "data": {
      "text/plain": [
       "array([[1, 1]])"
      ]
     },
     "execution_count": 157,
     "metadata": {},
     "output_type": "execute_result"
    }
   ],
   "source": [
    "ones_row"
   ]
  },
  {
   "cell_type": "code",
   "execution_count": 158,
   "id": "85ef86be-dd86-4259-a76e-aee4f26a40ec",
   "metadata": {},
   "outputs": [
    {
     "data": {
      "text/plain": [
       "(1, 2)"
      ]
     },
     "execution_count": 158,
     "metadata": {},
     "output_type": "execute_result"
    }
   ],
   "source": [
    "ones_row.shape"
   ]
  },
  {
   "cell_type": "code",
   "execution_count": 159,
   "id": "c05185ec-2375-44b1-b27e-fd5c7539fb10",
   "metadata": {},
   "outputs": [],
   "source": [
    "new_data = data + ones_row"
   ]
  },
  {
   "cell_type": "code",
   "execution_count": 160,
   "id": "d029337f-7c55-4af1-946e-fb0512fbdfa2",
   "metadata": {},
   "outputs": [
    {
     "data": {
      "text/plain": [
       "array([[2, 3],\n",
       "       [4, 5],\n",
       "       [6, 7]])"
      ]
     },
     "execution_count": 160,
     "metadata": {},
     "output_type": "execute_result"
    }
   ],
   "source": [
    "new_data"
   ]
  },
  {
   "cell_type": "code",
   "execution_count": 161,
   "id": "a8b287fc-1e37-4a30-b688-891dc2989d60",
   "metadata": {},
   "outputs": [
    {
     "data": {
      "text/plain": [
       "(3, 2)"
      ]
     },
     "execution_count": 161,
     "metadata": {},
     "output_type": "execute_result"
    }
   ],
   "source": [
    "new_data.shape"
   ]
  },
  {
   "cell_type": "code",
   "execution_count": 162,
   "id": "aba4ecf5-c57e-49c1-ae99-b7b59f31b5e1",
   "metadata": {},
   "outputs": [],
   "source": [
    "ones_col = np.array([[1],[1],[1]])"
   ]
  },
  {
   "cell_type": "code",
   "execution_count": 163,
   "id": "e648f805-3468-4e73-94f1-ad93c519e67a",
   "metadata": {},
   "outputs": [
    {
     "data": {
      "text/plain": [
       "array([[1],\n",
       "       [1],\n",
       "       [1]])"
      ]
     },
     "execution_count": 163,
     "metadata": {},
     "output_type": "execute_result"
    }
   ],
   "source": [
    "ones_col"
   ]
  },
  {
   "cell_type": "code",
   "execution_count": 164,
   "id": "6d348c19-7ea9-4e07-96f0-41217449c496",
   "metadata": {},
   "outputs": [
    {
     "data": {
      "text/plain": [
       "(3, 1)"
      ]
     },
     "execution_count": 164,
     "metadata": {},
     "output_type": "execute_result"
    }
   ],
   "source": [
    "ones_col.shape"
   ]
  },
  {
   "cell_type": "code",
   "execution_count": 165,
   "id": "2bd7a5ae-eedc-46f7-8b14-0b3833527e93",
   "metadata": {},
   "outputs": [
    {
     "data": {
      "text/plain": [
       "array([[1, 2],\n",
       "       [3, 4],\n",
       "       [5, 6]])"
      ]
     },
     "execution_count": 165,
     "metadata": {},
     "output_type": "execute_result"
    }
   ],
   "source": [
    "data"
   ]
  },
  {
   "cell_type": "code",
   "execution_count": 166,
   "id": "e69d6522-6d79-4d51-bc14-c76010fe21a2",
   "metadata": {},
   "outputs": [],
   "source": [
    "new_data = data + ones_col"
   ]
  },
  {
   "cell_type": "code",
   "execution_count": 167,
   "id": "52406961-362a-4439-a45e-1dbeb2137d4c",
   "metadata": {},
   "outputs": [
    {
     "data": {
      "text/plain": [
       "array([[2, 3],\n",
       "       [4, 5],\n",
       "       [6, 7]])"
      ]
     },
     "execution_count": 167,
     "metadata": {},
     "output_type": "execute_result"
    }
   ],
   "source": [
    "new_data"
   ]
  },
  {
   "cell_type": "code",
   "execution_count": 168,
   "id": "6d421a6d-e8ba-4587-a0e6-24b784389ed9",
   "metadata": {},
   "outputs": [
    {
     "data": {
      "text/plain": [
       "(3, 2)"
      ]
     },
     "execution_count": 168,
     "metadata": {},
     "output_type": "execute_result"
    }
   ],
   "source": [
    "new_data.shape"
   ]
  },
  {
   "cell_type": "markdown",
   "id": "0f31397f-8d20-4ad1-9f7a-d3a8c35ee87f",
   "metadata": {},
   "source": [
    "- Random Number Generation in Numpy\n",
    "- Random Numbers b/w [0,1]\n",
    "- Random Integers Generation"
   ]
  },
  {
   "cell_type": "code",
   "execution_count": 169,
   "id": "e5372934-df5e-42ef-a1a3-e381d6313f2a",
   "metadata": {},
   "outputs": [],
   "source": [
    "rand_array = np.random.random((3,4))"
   ]
  },
  {
   "cell_type": "code",
   "execution_count": 170,
   "id": "f166264f-cd40-4fef-9f6c-e8d353e4a19d",
   "metadata": {},
   "outputs": [
    {
     "data": {
      "text/plain": [
       "array([[0.52825408, 0.98254151, 0.01580191, 0.51891464],\n",
       "       [0.24357966, 0.54858203, 0.75990005, 0.68487217],\n",
       "       [0.06324329, 0.21166873, 0.12832539, 0.20446075]])"
      ]
     },
     "execution_count": 170,
     "metadata": {},
     "output_type": "execute_result"
    }
   ],
   "source": [
    "rand_array"
   ]
  },
  {
   "cell_type": "code",
   "execution_count": 171,
   "id": "dd1863f8-7305-44f7-be28-43f7f9cfb342",
   "metadata": {},
   "outputs": [],
   "source": [
    "rand_int_array = np.random.randint(4,size=(3,4))"
   ]
  },
  {
   "cell_type": "code",
   "execution_count": 172,
   "id": "00ae61d9-c71a-47a6-90b4-6530f9c0f97f",
   "metadata": {},
   "outputs": [
    {
     "data": {
      "text/plain": [
       "array([[1, 1, 2, 0],\n",
       "       [3, 3, 0, 0],\n",
       "       [3, 2, 0, 1]])"
      ]
     },
     "execution_count": 172,
     "metadata": {},
     "output_type": "execute_result"
    }
   ],
   "source": [
    "rand_int_array"
   ]
  },
  {
   "cell_type": "code",
   "execution_count": 173,
   "id": "c98cc3f8-4c4d-461e-9bb3-aa9aad7f3f98",
   "metadata": {},
   "outputs": [
    {
     "data": {
      "text/plain": [
       "(3, 4)"
      ]
     },
     "execution_count": 173,
     "metadata": {},
     "output_type": "execute_result"
    }
   ],
   "source": [
    "rand_int_array.shape"
   ]
  },
  {
   "cell_type": "markdown",
   "id": "6d705b77-e6fc-4027-8a25-df8e210e1c3c",
   "metadata": {},
   "source": [
    "- Get Unique Elements in Array\n",
    "- Freq Count of Unique Elements\n",
    "- Indices of Unique Elements"
   ]
  },
  {
   "cell_type": "code",
   "execution_count": 174,
   "id": "299d96f9-1cda-469e-84e0-ae8679dd52a5",
   "metadata": {},
   "outputs": [],
   "source": [
    "a = np.array([11, 11, 12, 13, 14, 15, 16, 17, 12, 13, 11, 14, 18, 19, 20])"
   ]
  },
  {
   "cell_type": "code",
   "execution_count": 175,
   "id": "eeb919d2-0ed5-44f6-bf84-d414f7a6cfb1",
   "metadata": {},
   "outputs": [
    {
     "data": {
      "text/plain": [
       "array([11, 11, 12, 13, 14, 15, 16, 17, 12, 13, 11, 14, 18, 19, 20])"
      ]
     },
     "execution_count": 175,
     "metadata": {},
     "output_type": "execute_result"
    }
   ],
   "source": [
    "a"
   ]
  },
  {
   "cell_type": "code",
   "execution_count": 176,
   "id": "6f207738-bd0c-44dc-b999-3b8823fc1335",
   "metadata": {},
   "outputs": [
    {
     "data": {
      "text/plain": [
       "(15,)"
      ]
     },
     "execution_count": 176,
     "metadata": {},
     "output_type": "execute_result"
    }
   ],
   "source": [
    "a.shape"
   ]
  },
  {
   "cell_type": "code",
   "execution_count": 177,
   "id": "f5db2d27-235e-4ce1-8c64-93e6b13a13a8",
   "metadata": {},
   "outputs": [
    {
     "data": {
      "text/plain": [
       "array([11, 12, 13, 14, 15, 16, 17, 18, 19, 20])"
      ]
     },
     "execution_count": 177,
     "metadata": {},
     "output_type": "execute_result"
    }
   ],
   "source": [
    "np.unique(a)"
   ]
  },
  {
   "cell_type": "code",
   "execution_count": 178,
   "id": "14efc7f6-39c2-4e04-b27a-e764aec7257a",
   "metadata": {},
   "outputs": [],
   "source": [
    "unique_values, unique_indices = np.unique(a,return_index=True)"
   ]
  },
  {
   "cell_type": "code",
   "execution_count": 179,
   "id": "c1e36d7a-4ca1-4ffb-be2f-e76592b17e85",
   "metadata": {},
   "outputs": [
    {
     "data": {
      "text/plain": [
       "array([11, 12, 13, 14, 15, 16, 17, 18, 19, 20])"
      ]
     },
     "execution_count": 179,
     "metadata": {},
     "output_type": "execute_result"
    }
   ],
   "source": [
    "unique_values"
   ]
  },
  {
   "cell_type": "code",
   "execution_count": 180,
   "id": "5b190dc0-f1a7-4f87-b2f8-6f3fb1582f01",
   "metadata": {},
   "outputs": [
    {
     "data": {
      "text/plain": [
       "array([ 0,  2,  3,  4,  5,  6,  7, 12, 13, 14])"
      ]
     },
     "execution_count": 180,
     "metadata": {},
     "output_type": "execute_result"
    }
   ],
   "source": [
    "unique_indices"
   ]
  },
  {
   "cell_type": "code",
   "execution_count": 181,
   "id": "00a4b055-a01d-4bf0-962a-9bf3e5fd7657",
   "metadata": {},
   "outputs": [],
   "source": [
    "unique_values, freq_counts = np.unique(a,return_counts=True)"
   ]
  },
  {
   "cell_type": "code",
   "execution_count": 182,
   "id": "8224026a-bbce-451c-889e-691e72c7e192",
   "metadata": {},
   "outputs": [
    {
     "data": {
      "text/plain": [
       "array([11, 12, 13, 14, 15, 16, 17, 18, 19, 20])"
      ]
     },
     "execution_count": 182,
     "metadata": {},
     "output_type": "execute_result"
    }
   ],
   "source": [
    "unique_values"
   ]
  },
  {
   "cell_type": "code",
   "execution_count": 183,
   "id": "55ee90ea-9005-454c-ac36-13f84dce2f5d",
   "metadata": {},
   "outputs": [
    {
     "data": {
      "text/plain": [
       "array([3, 2, 2, 2, 1, 1, 1, 1, 1, 1])"
      ]
     },
     "execution_count": 183,
     "metadata": {},
     "output_type": "execute_result"
    }
   ],
   "source": [
    "freq_counts"
   ]
  },
  {
   "cell_type": "markdown",
   "id": "d81b5333-b1c9-45b0-80d9-7744bfee3617",
   "metadata": {},
   "source": [
    "- Unique values and indices on 2d array\n",
    "- Array is flattened here"
   ]
  },
  {
   "cell_type": "code",
   "execution_count": 184,
   "id": "3422a509-6883-4b76-af3e-9a2f17f8e41d",
   "metadata": {},
   "outputs": [],
   "source": [
    "a_2d = np.array([[1, 2, 3, 4], [5, 3, 7, 2], [9, 10, 11, 12], [1, 2, 3, 4]])"
   ]
  },
  {
   "cell_type": "code",
   "execution_count": 185,
   "id": "bab4040b-7978-4756-80b3-120afe24dd5f",
   "metadata": {},
   "outputs": [
    {
     "data": {
      "text/plain": [
       "array([[ 1,  2,  3,  4],\n",
       "       [ 5,  3,  7,  2],\n",
       "       [ 9, 10, 11, 12],\n",
       "       [ 1,  2,  3,  4]])"
      ]
     },
     "execution_count": 185,
     "metadata": {},
     "output_type": "execute_result"
    }
   ],
   "source": [
    "a_2d"
   ]
  },
  {
   "cell_type": "code",
   "execution_count": 186,
   "id": "5fa24dfa-fb7f-4818-b466-b9f21bcf96b5",
   "metadata": {},
   "outputs": [
    {
     "data": {
      "text/plain": [
       "(4, 4)"
      ]
     },
     "execution_count": 186,
     "metadata": {},
     "output_type": "execute_result"
    }
   ],
   "source": [
    "a_2d.shape"
   ]
  },
  {
   "cell_type": "code",
   "execution_count": 187,
   "id": "7b237558-ea0a-4bee-9e94-cb694177a4fe",
   "metadata": {},
   "outputs": [],
   "source": [
    "uniq_vals, uniq_indices, freq_counts = np.unique(a_2d,return_index=True,return_counts=True)"
   ]
  },
  {
   "cell_type": "code",
   "execution_count": 188,
   "id": "ec20e6ba-6785-4a9c-b5b9-f6e0588c9ace",
   "metadata": {},
   "outputs": [
    {
     "data": {
      "text/plain": [
       "array([ 1,  2,  3,  4,  5,  7,  9, 10, 11, 12])"
      ]
     },
     "execution_count": 188,
     "metadata": {},
     "output_type": "execute_result"
    }
   ],
   "source": [
    "uniq_vals"
   ]
  },
  {
   "cell_type": "code",
   "execution_count": 189,
   "id": "ef4a0c0c-ee2e-464d-89c7-b5992b102913",
   "metadata": {},
   "outputs": [
    {
     "data": {
      "text/plain": [
       "array([ 0,  1,  2,  3,  4,  6,  8,  9, 10, 11])"
      ]
     },
     "execution_count": 189,
     "metadata": {},
     "output_type": "execute_result"
    }
   ],
   "source": [
    "uniq_indices"
   ]
  },
  {
   "cell_type": "code",
   "execution_count": 190,
   "id": "caa1b376-533d-4ccf-b169-80faa27689f0",
   "metadata": {},
   "outputs": [
    {
     "data": {
      "text/plain": [
       "array([2, 3, 3, 2, 1, 1, 1, 1, 1, 1])"
      ]
     },
     "execution_count": 190,
     "metadata": {},
     "output_type": "execute_result"
    }
   ],
   "source": [
    "freq_counts"
   ]
  },
  {
   "cell_type": "markdown",
   "id": "517a4cd8-94c2-43fb-b2bd-78d67bcb108f",
   "metadata": {},
   "source": [
    "- Unique rows in the matrix"
   ]
  },
  {
   "cell_type": "code",
   "execution_count": 191,
   "id": "03cbc7b4-652b-4d56-b691-3b2161dc1bc3",
   "metadata": {},
   "outputs": [
    {
     "data": {
      "text/plain": [
       "array([[ 1,  2,  3,  4],\n",
       "       [ 5,  3,  7,  2],\n",
       "       [ 9, 10, 11, 12],\n",
       "       [ 1,  2,  3,  4]])"
      ]
     },
     "execution_count": 191,
     "metadata": {},
     "output_type": "execute_result"
    }
   ],
   "source": [
    "a_2d"
   ]
  },
  {
   "cell_type": "code",
   "execution_count": 192,
   "id": "29818c28-3812-4ea4-aab0-d629bc4ccce9",
   "metadata": {},
   "outputs": [],
   "source": [
    "uniq_rows, uniq_row_indices, freq_counts_of_rows = np.unique(a_2d,\n",
    "                                                 axis=0,\n",
    "                                                 return_index=True,\n",
    "                                                 return_counts=True)"
   ]
  },
  {
   "cell_type": "code",
   "execution_count": 193,
   "id": "a9ca9e93-3b9b-4300-8013-228ca445c06a",
   "metadata": {},
   "outputs": [
    {
     "data": {
      "text/plain": [
       "array([[ 1,  2,  3,  4],\n",
       "       [ 5,  3,  7,  2],\n",
       "       [ 9, 10, 11, 12]])"
      ]
     },
     "execution_count": 193,
     "metadata": {},
     "output_type": "execute_result"
    }
   ],
   "source": [
    "uniq_rows"
   ]
  },
  {
   "cell_type": "code",
   "execution_count": 194,
   "id": "2c248045-572c-4089-ae13-3dfcf21f9fcd",
   "metadata": {},
   "outputs": [
    {
     "data": {
      "text/plain": [
       "array([0, 1, 2])"
      ]
     },
     "execution_count": 194,
     "metadata": {},
     "output_type": "execute_result"
    }
   ],
   "source": [
    "uniq_row_indices"
   ]
  },
  {
   "cell_type": "code",
   "execution_count": 195,
   "id": "0633fc89-4f68-4edc-b04e-dc4132bab932",
   "metadata": {},
   "outputs": [
    {
     "data": {
      "text/plain": [
       "array([2, 1, 1])"
      ]
     },
     "execution_count": 195,
     "metadata": {},
     "output_type": "execute_result"
    }
   ],
   "source": [
    "freq_counts_of_rows"
   ]
  },
  {
   "cell_type": "markdown",
   "id": "f42ec7ab-67a5-4714-87b3-a6fddfd8bb99",
   "metadata": {},
   "source": [
    "- Reshaping A Matrix\n",
    "- In Reshape, Looping is done starting from the last index upto the first index\n",
    "- For Array, last index = column and first index = row"
   ]
  },
  {
   "cell_type": "code",
   "execution_count": 196,
   "id": "1f35c70e-f9a9-4dcc-ae94-77522d3149e1",
   "metadata": {},
   "outputs": [],
   "source": [
    "data = np.array([[1,2],[3,4],[5,6]])"
   ]
  },
  {
   "cell_type": "code",
   "execution_count": 197,
   "id": "e5467c89-e1cb-402f-8c7f-06e0033713be",
   "metadata": {},
   "outputs": [
    {
     "data": {
      "text/plain": [
       "array([[1, 2],\n",
       "       [3, 4],\n",
       "       [5, 6]])"
      ]
     },
     "execution_count": 197,
     "metadata": {},
     "output_type": "execute_result"
    }
   ],
   "source": [
    "data"
   ]
  },
  {
   "cell_type": "code",
   "execution_count": 198,
   "id": "ef98d79b-caf2-44c5-adcc-f4edeff7ea15",
   "metadata": {},
   "outputs": [
    {
     "data": {
      "text/plain": [
       "(3, 2)"
      ]
     },
     "execution_count": 198,
     "metadata": {},
     "output_type": "execute_result"
    }
   ],
   "source": [
    "data.shape"
   ]
  },
  {
   "cell_type": "code",
   "execution_count": 199,
   "id": "6b81bc61-91dd-47af-8063-603fed2c6edc",
   "metadata": {},
   "outputs": [
    {
     "data": {
      "text/plain": [
       "array([[1, 2, 3],\n",
       "       [4, 5, 6]])"
      ]
     },
     "execution_count": 199,
     "metadata": {},
     "output_type": "execute_result"
    }
   ],
   "source": [
    "data.reshape(2,3)"
   ]
  },
  {
   "cell_type": "code",
   "execution_count": 200,
   "id": "e3ae2a14-b2ef-48df-b313-09d48b2e1b7b",
   "metadata": {},
   "outputs": [
    {
     "data": {
      "text/plain": [
       "array([[1, 2, 3, 4, 5, 6]])"
      ]
     },
     "execution_count": 200,
     "metadata": {},
     "output_type": "execute_result"
    }
   ],
   "source": [
    "data.reshape(1,6)"
   ]
  },
  {
   "cell_type": "code",
   "execution_count": 201,
   "id": "ef294e9e-7822-4112-96db-671663f692da",
   "metadata": {},
   "outputs": [
    {
     "data": {
      "text/plain": [
       "array([[1],\n",
       "       [2],\n",
       "       [3],\n",
       "       [4],\n",
       "       [5],\n",
       "       [6]])"
      ]
     },
     "execution_count": 201,
     "metadata": {},
     "output_type": "execute_result"
    }
   ],
   "source": [
    "data.reshape(6,1)"
   ]
  },
  {
   "cell_type": "markdown",
   "id": "bd7f9001-e702-4c67-8c58-e001e71b4e01",
   "metadata": {},
   "source": [
    "- Transpose of Matrix"
   ]
  },
  {
   "cell_type": "code",
   "execution_count": 202,
   "id": "9128f865-779c-4d31-913f-c7a319e50c11",
   "metadata": {},
   "outputs": [],
   "source": [
    "arr = np.arange(6).reshape((2, 3))"
   ]
  },
  {
   "cell_type": "code",
   "execution_count": 203,
   "id": "08609945-cb4c-4f0d-a22e-90efa0972935",
   "metadata": {},
   "outputs": [
    {
     "data": {
      "text/plain": [
       "array([[0, 1, 2],\n",
       "       [3, 4, 5]])"
      ]
     },
     "execution_count": 203,
     "metadata": {},
     "output_type": "execute_result"
    }
   ],
   "source": [
    "arr"
   ]
  },
  {
   "cell_type": "code",
   "execution_count": 204,
   "id": "250d27a9-d627-49a7-b511-4829303b42d1",
   "metadata": {},
   "outputs": [
    {
     "data": {
      "text/plain": [
       "array([[0, 3],\n",
       "       [1, 4],\n",
       "       [2, 5]])"
      ]
     },
     "execution_count": 204,
     "metadata": {},
     "output_type": "execute_result"
    }
   ],
   "source": [
    "arr.transpose()"
   ]
  },
  {
   "cell_type": "code",
   "execution_count": 205,
   "id": "4563ee76-ba1c-4bb1-aaab-179525f22678",
   "metadata": {},
   "outputs": [
    {
     "data": {
      "text/plain": [
       "array([[0, 3],\n",
       "       [1, 4],\n",
       "       [2, 5]])"
      ]
     },
     "execution_count": 205,
     "metadata": {},
     "output_type": "execute_result"
    }
   ],
   "source": [
    "arr.T"
   ]
  },
  {
   "cell_type": "markdown",
   "id": "40d68947-f64d-4b18-bef8-0b9f65c79c5b",
   "metadata": {},
   "source": [
    "- Reverse an Array"
   ]
  },
  {
   "cell_type": "code",
   "execution_count": 206,
   "id": "45f5ea14-705f-4314-a579-a492961b7594",
   "metadata": {},
   "outputs": [],
   "source": [
    "arr = np.array([1, 2, 3, 4, 5, 6, 7, 8])"
   ]
  },
  {
   "cell_type": "code",
   "execution_count": 207,
   "id": "88d75d22-f67d-4ff9-a5ad-032994accdf4",
   "metadata": {},
   "outputs": [
    {
     "data": {
      "text/plain": [
       "array([1, 2, 3, 4, 5, 6, 7, 8])"
      ]
     },
     "execution_count": 207,
     "metadata": {},
     "output_type": "execute_result"
    }
   ],
   "source": [
    "arr"
   ]
  },
  {
   "cell_type": "code",
   "execution_count": 208,
   "id": "ecbeb519-340a-4055-a7b9-990787325de6",
   "metadata": {},
   "outputs": [
    {
     "data": {
      "text/plain": [
       "array([8, 7, 6, 5, 4, 3, 2, 1])"
      ]
     },
     "execution_count": 208,
     "metadata": {},
     "output_type": "execute_result"
    }
   ],
   "source": [
    "np.flip(arr)"
   ]
  },
  {
   "cell_type": "markdown",
   "id": "3dccf73c-9091-479f-9b3b-c5f88c7d09d3",
   "metadata": {},
   "source": [
    "- Reversing a 2d array\n",
    "- This reverses along all dimensions"
   ]
  },
  {
   "cell_type": "code",
   "execution_count": 209,
   "id": "9a7331c9-ff29-49fc-85d2-f766e127365a",
   "metadata": {},
   "outputs": [],
   "source": [
    "arr_2d = np.array([[1, 2, 3, 4], [5, 6, 7, 8], [9, 10, 11, 12]])"
   ]
  },
  {
   "cell_type": "code",
   "execution_count": 210,
   "id": "ac1fd031-9dab-4f1e-a70f-da3ddb795ff3",
   "metadata": {},
   "outputs": [
    {
     "data": {
      "text/plain": [
       "array([[ 1,  2,  3,  4],\n",
       "       [ 5,  6,  7,  8],\n",
       "       [ 9, 10, 11, 12]])"
      ]
     },
     "execution_count": 210,
     "metadata": {},
     "output_type": "execute_result"
    }
   ],
   "source": [
    "arr_2d"
   ]
  },
  {
   "cell_type": "code",
   "execution_count": 211,
   "id": "55ddc297-78bf-4f45-92cb-340c9e7dc1c8",
   "metadata": {},
   "outputs": [
    {
     "data": {
      "text/plain": [
       "array([[12, 11, 10,  9],\n",
       "       [ 8,  7,  6,  5],\n",
       "       [ 4,  3,  2,  1]])"
      ]
     },
     "execution_count": 211,
     "metadata": {},
     "output_type": "execute_result"
    }
   ],
   "source": [
    "np.flip(arr_2d)"
   ]
  },
  {
   "cell_type": "markdown",
   "id": "5d9ba5c6-2e6b-4426-9c56-52e61eb51293",
   "metadata": {},
   "source": [
    "- Reverse along one axis\n",
    "- We can reverse only rows/cols"
   ]
  },
  {
   "cell_type": "code",
   "execution_count": 212,
   "id": "aae3b287-3f8e-4c7b-b763-03059ed632a8",
   "metadata": {},
   "outputs": [],
   "source": [
    "reversed_arr_rows = np.flip(arr_2d, axis=0)"
   ]
  },
  {
   "cell_type": "code",
   "execution_count": 213,
   "id": "6726417c-1668-45af-b927-867a945871a4",
   "metadata": {},
   "outputs": [
    {
     "data": {
      "text/plain": [
       "array([[ 9, 10, 11, 12],\n",
       "       [ 5,  6,  7,  8],\n",
       "       [ 1,  2,  3,  4]])"
      ]
     },
     "execution_count": 213,
     "metadata": {},
     "output_type": "execute_result"
    }
   ],
   "source": [
    "reversed_arr_rows"
   ]
  },
  {
   "cell_type": "code",
   "execution_count": 214,
   "id": "161ce7a1-1dcb-410d-8886-28e8d204be8e",
   "metadata": {},
   "outputs": [],
   "source": [
    "reversed_arr_cols = np.flip(arr_2d, axis=1)"
   ]
  },
  {
   "cell_type": "code",
   "execution_count": 215,
   "id": "15ff85c3-7890-4146-a349-bceedf7afebb",
   "metadata": {},
   "outputs": [
    {
     "data": {
      "text/plain": [
       "array([[ 4,  3,  2,  1],\n",
       "       [ 8,  7,  6,  5],\n",
       "       [12, 11, 10,  9]])"
      ]
     },
     "execution_count": 215,
     "metadata": {},
     "output_type": "execute_result"
    }
   ],
   "source": [
    "reversed_arr_cols"
   ]
  },
  {
   "cell_type": "markdown",
   "id": "b0b11cef-7445-4c9b-8aab-0557d0c09382",
   "metadata": {},
   "source": [
    "- Flatten an Array\n",
    "- flatten -> creates a copy\n",
    "- ravel -> creates a view\n",
    "- ravel is memory efficient but modification in flattened array results in modification of original array"
   ]
  },
  {
   "cell_type": "code",
   "execution_count": 216,
   "id": "4b32d50e-1d7f-4871-8d7e-bd76fbb149ea",
   "metadata": {},
   "outputs": [],
   "source": [
    "x = np.array([[1 , 2, 3, 4], [5, 6, 7, 8], [9, 10, 11, 12]])"
   ]
  },
  {
   "cell_type": "code",
   "execution_count": 217,
   "id": "a00446cc-28c1-4923-be3b-d328cfc791d7",
   "metadata": {},
   "outputs": [
    {
     "data": {
      "text/plain": [
       "array([[ 1,  2,  3,  4],\n",
       "       [ 5,  6,  7,  8],\n",
       "       [ 9, 10, 11, 12]])"
      ]
     },
     "execution_count": 217,
     "metadata": {},
     "output_type": "execute_result"
    }
   ],
   "source": [
    "x"
   ]
  },
  {
   "cell_type": "code",
   "execution_count": 218,
   "id": "b7b41d38-1a69-49a1-8aea-4dc16d2597ac",
   "metadata": {},
   "outputs": [],
   "source": [
    "flattened_array = x.flatten()"
   ]
  },
  {
   "cell_type": "code",
   "execution_count": 219,
   "id": "9cd644d3-5016-412c-8af7-ef89489d1a1b",
   "metadata": {},
   "outputs": [
    {
     "data": {
      "text/plain": [
       "array([ 1,  2,  3,  4,  5,  6,  7,  8,  9, 10, 11, 12])"
      ]
     },
     "execution_count": 219,
     "metadata": {},
     "output_type": "execute_result"
    }
   ],
   "source": [
    "flattened_array"
   ]
  },
  {
   "cell_type": "code",
   "execution_count": 220,
   "id": "fca8ba75-3cf0-45a1-9620-c781b0bac95a",
   "metadata": {},
   "outputs": [],
   "source": [
    "flattened_array[0] = 99"
   ]
  },
  {
   "cell_type": "code",
   "execution_count": 221,
   "id": "4047395c-b39d-4cdc-acc2-dfe4187422c8",
   "metadata": {},
   "outputs": [
    {
     "data": {
      "text/plain": [
       "array([99,  2,  3,  4,  5,  6,  7,  8,  9, 10, 11, 12])"
      ]
     },
     "execution_count": 221,
     "metadata": {},
     "output_type": "execute_result"
    }
   ],
   "source": [
    "flattened_array"
   ]
  },
  {
   "cell_type": "code",
   "execution_count": 222,
   "id": "2d2c1b28-f2d4-4ef7-88de-6384f4e4c07e",
   "metadata": {},
   "outputs": [
    {
     "data": {
      "text/plain": [
       "array([[ 1,  2,  3,  4],\n",
       "       [ 5,  6,  7,  8],\n",
       "       [ 9, 10, 11, 12]])"
      ]
     },
     "execution_count": 222,
     "metadata": {},
     "output_type": "execute_result"
    }
   ],
   "source": [
    "x"
   ]
  },
  {
   "cell_type": "code",
   "execution_count": 223,
   "id": "ea482b9b-ae3d-4aa9-96c2-d6e3359b31d9",
   "metadata": {},
   "outputs": [],
   "source": [
    "a2 = x.ravel()"
   ]
  },
  {
   "cell_type": "code",
   "execution_count": 224,
   "id": "0ce3e2ca-f729-45c4-b029-cc574d520d62",
   "metadata": {},
   "outputs": [
    {
     "data": {
      "text/plain": [
       "array([ 1,  2,  3,  4,  5,  6,  7,  8,  9, 10, 11, 12])"
      ]
     },
     "execution_count": 224,
     "metadata": {},
     "output_type": "execute_result"
    }
   ],
   "source": [
    "a2"
   ]
  },
  {
   "cell_type": "code",
   "execution_count": 225,
   "id": "6f82f709-7fe8-4159-aa7e-840cc86c2b67",
   "metadata": {},
   "outputs": [],
   "source": [
    "a2[0] = 99"
   ]
  },
  {
   "cell_type": "code",
   "execution_count": 226,
   "id": "e029d55e-b143-4821-a399-492d9be50b50",
   "metadata": {},
   "outputs": [
    {
     "data": {
      "text/plain": [
       "array([99,  2,  3,  4,  5,  6,  7,  8,  9, 10, 11, 12])"
      ]
     },
     "execution_count": 226,
     "metadata": {},
     "output_type": "execute_result"
    }
   ],
   "source": [
    "a2"
   ]
  },
  {
   "cell_type": "code",
   "execution_count": 227,
   "id": "10649909-4a19-4945-8db5-998707104250",
   "metadata": {},
   "outputs": [
    {
     "data": {
      "text/plain": [
       "array([[99,  2,  3,  4],\n",
       "       [ 5,  6,  7,  8],\n",
       "       [ 9, 10, 11, 12]])"
      ]
     },
     "execution_count": 227,
     "metadata": {},
     "output_type": "execute_result"
    }
   ],
   "source": [
    "x"
   ]
  },
  {
   "cell_type": "markdown",
   "id": "3143e29c-5071-494f-bea4-61caaf2efa40",
   "metadata": {},
   "source": [
    "- Save and Load Numpy Arrays\n",
    "- Save = saves numpy array as a binary object on desk (file extension: npy)\n",
    "- Load = loads numpy array from binary file (file extension: npy)\n",
    "- npy format is faster and smaller!\n",
    "- npy format retains dtype information"
   ]
  },
  {
   "cell_type": "code",
   "execution_count": 228,
   "id": "a6addb0a-8bce-4be9-adbe-fb95106203e7",
   "metadata": {},
   "outputs": [],
   "source": [
    "a = np.array([1, 2, 3, 4, 5, 6])"
   ]
  },
  {
   "cell_type": "code",
   "execution_count": 229,
   "id": "cfc5cd6a-cf58-4ac6-88ba-4eb6cafc34b5",
   "metadata": {},
   "outputs": [
    {
     "data": {
      "text/plain": [
       "array([1, 2, 3, 4, 5, 6])"
      ]
     },
     "execution_count": 229,
     "metadata": {},
     "output_type": "execute_result"
    }
   ],
   "source": [
    "a"
   ]
  },
  {
   "cell_type": "code",
   "execution_count": 230,
   "id": "74d0da73-9786-4072-8180-39e7070c5cd2",
   "metadata": {},
   "outputs": [],
   "source": [
    "np.save(\"filename\",a)"
   ]
  },
  {
   "cell_type": "code",
   "execution_count": 231,
   "id": "54fc8307-89e9-454a-ba1c-d47365dc634c",
   "metadata": {},
   "outputs": [],
   "source": [
    "a_from_disk = np.load(\"filename.npy\")"
   ]
  },
  {
   "cell_type": "code",
   "execution_count": 232,
   "id": "0102f7cf-053f-42ba-9d1e-b6026fc4606c",
   "metadata": {},
   "outputs": [
    {
     "data": {
      "text/plain": [
       "array([1, 2, 3, 4, 5, 6])"
      ]
     },
     "execution_count": 232,
     "metadata": {},
     "output_type": "execute_result"
    }
   ],
   "source": [
    "a_from_disk"
   ]
  },
  {
   "cell_type": "code",
   "execution_count": 233,
   "id": "cfbe55d2-be88-424e-988b-c0293441aa9b",
   "metadata": {},
   "outputs": [
    {
     "data": {
      "text/plain": [
       "dtype('int64')"
      ]
     },
     "execution_count": 233,
     "metadata": {},
     "output_type": "execute_result"
    }
   ],
   "source": [
    "a_from_disk.dtype"
   ]
  },
  {
   "cell_type": "markdown",
   "id": "039e0d0c-6e39-41f5-bd07-3f5ef7d8c06d",
   "metadata": {},
   "source": [
    "- Save numpy array in human-readable text formats (csv/txt)\n",
    "- But it **loses** dtype information!"
   ]
  },
  {
   "cell_type": "code",
   "execution_count": 234,
   "id": "08024309-280d-4c79-a08f-e5d7c8289a84",
   "metadata": {},
   "outputs": [],
   "source": [
    "arr = np.array([1, 2, 3, 4, 5, 6, 7, 8],dtype=np.int32)"
   ]
  },
  {
   "cell_type": "code",
   "execution_count": 235,
   "id": "8f23cda5-fa8f-4583-85b7-7ba24e6acd17",
   "metadata": {},
   "outputs": [
    {
     "data": {
      "text/plain": [
       "array([1, 2, 3, 4, 5, 6, 7, 8], dtype=int32)"
      ]
     },
     "execution_count": 235,
     "metadata": {},
     "output_type": "execute_result"
    }
   ],
   "source": [
    "arr"
   ]
  },
  {
   "cell_type": "code",
   "execution_count": 236,
   "id": "39f2ef57-beff-4a2d-bf51-36796235dfa8",
   "metadata": {},
   "outputs": [],
   "source": [
    "np.savetxt('new_file.txt', arr)"
   ]
  },
  {
   "cell_type": "code",
   "execution_count": 237,
   "id": "03005dc9-d41a-48db-ac5a-332a5414813e",
   "metadata": {},
   "outputs": [],
   "source": [
    "arr_from_disk = np.loadtxt(\"new_file.txt\")"
   ]
  },
  {
   "cell_type": "code",
   "execution_count": 238,
   "id": "853787e1-e1f6-4c7c-b580-4f08dd6f87be",
   "metadata": {},
   "outputs": [
    {
     "data": {
      "text/plain": [
       "array([1., 2., 3., 4., 5., 6., 7., 8.])"
      ]
     },
     "execution_count": 238,
     "metadata": {},
     "output_type": "execute_result"
    }
   ],
   "source": [
    "arr_from_disk"
   ]
  },
  {
   "cell_type": "code",
   "execution_count": 239,
   "id": "40692b21-2ca1-4c03-995a-480eeb94f253",
   "metadata": {},
   "outputs": [
    {
     "data": {
      "text/plain": [
       "dtype('float64')"
      ]
     },
     "execution_count": 239,
     "metadata": {},
     "output_type": "execute_result"
    }
   ],
   "source": [
    "arr_from_disk.dtype"
   ]
  },
  {
   "cell_type": "markdown",
   "id": "dc72404d-3bad-4ad5-9a0a-37f99ac1371e",
   "metadata": {},
   "source": [
    "- Numpy array to csv files\n",
    "- Use pandas dataframes!"
   ]
  },
  {
   "cell_type": "code",
   "execution_count": 240,
   "id": "6d278821-bd71-4446-871a-3ba7e69e0bb1",
   "metadata": {},
   "outputs": [],
   "source": [
    "a = np.array([[-2.58289208,  0.43014843, -1.24082018, 1.59572603],\n",
    "              [ 0.99027828, 1.17150989,  0.94125714, -0.14692469],\n",
    "              [ 0.76989341,  0.81299683, -0.95068423, 0.11769564],\n",
    "              [ 0.20484034,  0.34784527,  1.96979195, 0.51992837]],dtype=\"float32\")"
   ]
  },
  {
   "cell_type": "code",
   "execution_count": 241,
   "id": "a2850b7e-8539-4559-91e4-2b6d176fbcf4",
   "metadata": {},
   "outputs": [
    {
     "data": {
      "text/plain": [
       "array([[-2.5828922 ,  0.43014842, -1.2408202 ,  1.595726  ],\n",
       "       [ 0.9902783 ,  1.1715099 ,  0.9412571 , -0.14692469],\n",
       "       [ 0.7698934 ,  0.8129968 , -0.95068425,  0.11769564],\n",
       "       [ 0.20484035,  0.34784526,  1.969792  ,  0.5199284 ]],\n",
       "      dtype=float32)"
      ]
     },
     "execution_count": 241,
     "metadata": {},
     "output_type": "execute_result"
    }
   ],
   "source": [
    "a"
   ]
  },
  {
   "cell_type": "code",
   "execution_count": 242,
   "id": "9a7991b9-c1e7-4ff5-8da2-ada4255ba577",
   "metadata": {},
   "outputs": [
    {
     "data": {
      "text/plain": [
       "(4, 4)"
      ]
     },
     "execution_count": 242,
     "metadata": {},
     "output_type": "execute_result"
    }
   ],
   "source": [
    "a.shape"
   ]
  },
  {
   "cell_type": "code",
   "execution_count": 243,
   "id": "893d3577-19e3-4d75-b572-88929179de98",
   "metadata": {},
   "outputs": [],
   "source": [
    "import pandas as pd\n",
    "df = pd.DataFrame(a)"
   ]
  },
  {
   "cell_type": "code",
   "execution_count": 244,
   "id": "c383ccb1-bc9e-4549-b0c2-3d374adc03fa",
   "metadata": {},
   "outputs": [
    {
     "data": {
      "text/html": [
       "<div>\n",
       "<style scoped>\n",
       "    .dataframe tbody tr th:only-of-type {\n",
       "        vertical-align: middle;\n",
       "    }\n",
       "\n",
       "    .dataframe tbody tr th {\n",
       "        vertical-align: top;\n",
       "    }\n",
       "\n",
       "    .dataframe thead th {\n",
       "        text-align: right;\n",
       "    }\n",
       "</style>\n",
       "<table border=\"1\" class=\"dataframe\">\n",
       "  <thead>\n",
       "    <tr style=\"text-align: right;\">\n",
       "      <th></th>\n",
       "      <th>0</th>\n",
       "      <th>1</th>\n",
       "      <th>2</th>\n",
       "      <th>3</th>\n",
       "    </tr>\n",
       "  </thead>\n",
       "  <tbody>\n",
       "    <tr>\n",
       "      <th>0</th>\n",
       "      <td>-2.582892</td>\n",
       "      <td>0.430148</td>\n",
       "      <td>-1.240820</td>\n",
       "      <td>1.595726</td>\n",
       "    </tr>\n",
       "    <tr>\n",
       "      <th>1</th>\n",
       "      <td>0.990278</td>\n",
       "      <td>1.171510</td>\n",
       "      <td>0.941257</td>\n",
       "      <td>-0.146925</td>\n",
       "    </tr>\n",
       "    <tr>\n",
       "      <th>2</th>\n",
       "      <td>0.769893</td>\n",
       "      <td>0.812997</td>\n",
       "      <td>-0.950684</td>\n",
       "      <td>0.117696</td>\n",
       "    </tr>\n",
       "    <tr>\n",
       "      <th>3</th>\n",
       "      <td>0.204840</td>\n",
       "      <td>0.347845</td>\n",
       "      <td>1.969792</td>\n",
       "      <td>0.519928</td>\n",
       "    </tr>\n",
       "  </tbody>\n",
       "</table>\n",
       "</div>"
      ],
      "text/plain": [
       "          0         1         2         3\n",
       "0 -2.582892  0.430148 -1.240820  1.595726\n",
       "1  0.990278  1.171510  0.941257 -0.146925\n",
       "2  0.769893  0.812997 -0.950684  0.117696\n",
       "3  0.204840  0.347845  1.969792  0.519928"
      ]
     },
     "execution_count": 244,
     "metadata": {},
     "output_type": "execute_result"
    }
   ],
   "source": [
    "df"
   ]
  },
  {
   "cell_type": "code",
   "execution_count": 245,
   "id": "4fa674e7-2eb6-4a3c-ae58-ccf2f8b63094",
   "metadata": {},
   "outputs": [
    {
     "data": {
      "text/plain": [
       "0    float32\n",
       "1    float32\n",
       "2    float32\n",
       "3    float32\n",
       "dtype: object"
      ]
     },
     "execution_count": 245,
     "metadata": {},
     "output_type": "execute_result"
    }
   ],
   "source": [
    "df.dtypes"
   ]
  },
  {
   "cell_type": "code",
   "execution_count": 246,
   "id": "7a53578d-f72d-444e-b412-eb74e221eb32",
   "metadata": {},
   "outputs": [],
   "source": [
    "df.to_csv(\"np.csv\")"
   ]
  },
  {
   "cell_type": "code",
   "execution_count": null,
   "id": "58284614-3a4b-4ed1-8ebc-536bca601e63",
   "metadata": {},
   "outputs": [],
   "source": []
  }
 ],
 "metadata": {
  "kernelspec": {
   "display_name": "Python 3 (ipykernel)",
   "language": "python",
   "name": "python3"
  },
  "language_info": {
   "codemirror_mode": {
    "name": "ipython",
    "version": 3
   },
   "file_extension": ".py",
   "mimetype": "text/x-python",
   "name": "python",
   "nbconvert_exporter": "python",
   "pygments_lexer": "ipython3",
   "version": "3.10.12"
  }
 },
 "nbformat": 4,
 "nbformat_minor": 5
}
