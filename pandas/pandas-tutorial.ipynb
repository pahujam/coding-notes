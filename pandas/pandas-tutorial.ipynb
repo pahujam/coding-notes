{
 "cells": [
  {
   "cell_type": "markdown",
   "id": "59aa2449-bb0d-459b-9d7d-bc53b109cae4",
   "metadata": {},
   "source": [
    "- Import Statement"
   ]
  },
  {
   "cell_type": "code",
   "execution_count": 1,
   "id": "822a4a03-f0ea-402e-b123-9f759fb4e0a6",
   "metadata": {},
   "outputs": [],
   "source": [
    "import pandas as pd\n",
    "import numpy as np"
   ]
  },
  {
   "cell_type": "markdown",
   "id": "36b7ffa8-ec30-40ef-b5a3-48c02c75c5bc",
   "metadata": {},
   "source": [
    "- Series = 1-D Labelled Array\n",
    "- We can create a series from a list"
   ]
  },
  {
   "cell_type": "code",
   "execution_count": 2,
   "id": "7174845c-81f9-42ed-9076-a49cd966a8cd",
   "metadata": {},
   "outputs": [
    {
     "data": {
      "text/plain": [
       "0    5\n",
       "1    6\n",
       "2    7\n",
       "dtype: int64"
      ]
     },
     "execution_count": 2,
     "metadata": {},
     "output_type": "execute_result"
    }
   ],
   "source": [
    "pd.Series([5,6,7])"
   ]
  },
  {
   "cell_type": "markdown",
   "id": "2c369f33-d206-4fca-a277-c4132ccab9bf",
   "metadata": {},
   "source": [
    "- We can create series from a numpy array"
   ]
  },
  {
   "cell_type": "code",
   "execution_count": 3,
   "id": "dff0ef9b-4d68-4fe2-b201-ce8b15c69ee4",
   "metadata": {},
   "outputs": [
    {
     "data": {
      "text/plain": [
       "array([1, 2, 3])"
      ]
     },
     "execution_count": 3,
     "metadata": {},
     "output_type": "execute_result"
    }
   ],
   "source": [
    "np_array = np.array([1,2,3])\n",
    "np_array"
   ]
  },
  {
   "cell_type": "code",
   "execution_count": 4,
   "id": "3d1ac1f5-597a-4c76-a018-1a37c0172f42",
   "metadata": {},
   "outputs": [
    {
     "data": {
      "text/plain": [
       "0    1\n",
       "1    2\n",
       "2    3\n",
       "dtype: int64"
      ]
     },
     "execution_count": 4,
     "metadata": {},
     "output_type": "execute_result"
    }
   ],
   "source": [
    "pd.Series(np_array)"
   ]
  },
  {
   "cell_type": "markdown",
   "id": "c99b447d-d2e9-4a6a-a2bb-deb4a507baab",
   "metadata": {},
   "source": [
    "- We can assign a label to each row = known as index"
   ]
  },
  {
   "cell_type": "code",
   "execution_count": 5,
   "id": "ca0878d6-0b6e-48d3-856b-2ef65e5e7026",
   "metadata": {},
   "outputs": [
    {
     "data": {
      "text/plain": [
       "a    5\n",
       "b    6\n",
       "c    7\n",
       "dtype: int64"
      ]
     },
     "execution_count": 5,
     "metadata": {},
     "output_type": "execute_result"
    }
   ],
   "source": [
    "pd.Series([5,6,7],index=[\"a\",\"b\",\"c\"])"
   ]
  },
  {
   "cell_type": "markdown",
   "id": "78261689-8ce2-46fd-8694-43afc202fd9b",
   "metadata": {},
   "source": [
    "- If no index is passed, default is 0,1,2..."
   ]
  },
  {
   "cell_type": "code",
   "execution_count": 6,
   "id": "29433085-3920-4240-807c-9463e505572d",
   "metadata": {},
   "outputs": [
    {
     "data": {
      "text/plain": [
       "0    5\n",
       "1    6\n",
       "2    7\n",
       "dtype: int64"
      ]
     },
     "execution_count": 6,
     "metadata": {},
     "output_type": "execute_result"
    }
   ],
   "source": [
    "pd.Series([5,6,7])"
   ]
  },
  {
   "cell_type": "markdown",
   "id": "962af511-5595-4575-901f-a5d7ea44f6a1",
   "metadata": {},
   "source": [
    "- We can check index for any pd series"
   ]
  },
  {
   "cell_type": "code",
   "execution_count": 7,
   "id": "59af34af-c445-4bc9-a19f-437f45d12945",
   "metadata": {},
   "outputs": [
    {
     "data": {
      "text/plain": [
       "Index(['a', 'b', 'c'], dtype='object')"
      ]
     },
     "execution_count": 7,
     "metadata": {},
     "output_type": "execute_result"
    }
   ],
   "source": [
    "s = pd.Series([5,6,7],index=[\"a\",\"b\",\"c\"])\n",
    "s.index"
   ]
  },
  {
   "cell_type": "markdown",
   "id": "fe630e33-6a55-44be-93ef-c5812311feab",
   "metadata": {},
   "source": [
    "- We can make series using a dictionary\n",
    "- Keys become row labels aka index\n",
    "- Values become row data"
   ]
  },
  {
   "cell_type": "code",
   "execution_count": 8,
   "id": "0c2345c0-107e-49f9-95de-b15d129c1de5",
   "metadata": {},
   "outputs": [
    {
     "data": {
      "text/plain": [
       "a    1\n",
       "b   -6\n",
       "c    7\n",
       "dtype: int64"
      ]
     },
     "execution_count": 8,
     "metadata": {},
     "output_type": "execute_result"
    }
   ],
   "source": [
    "pd.Series({\"a\":1,\"b\":-6,\"c\":7})"
   ]
  },
  {
   "cell_type": "markdown",
   "id": "45fc1cf8-8fc0-4d25-a761-346f2bf96145",
   "metadata": {},
   "source": [
    "- If an index is passed, corresponding data from dictionary is pulled out"
   ]
  },
  {
   "cell_type": "code",
   "execution_count": 9,
   "id": "10805648-d295-4f01-8348-87c872f365e7",
   "metadata": {},
   "outputs": [
    {
     "data": {
      "text/plain": [
       "b   -6.0\n",
       "c    7.0\n",
       "d    NaN\n",
       "a    1.0\n",
       "dtype: float64"
      ]
     },
     "execution_count": 9,
     "metadata": {},
     "output_type": "execute_result"
    }
   ],
   "source": [
    "d = {\"a\":1,\"b\":-6,\"c\":7}\n",
    "pd.Series(d, index=[\"b\", \"c\", \"d\", \"a\"])"
   ]
  },
  {
   "cell_type": "markdown",
   "id": "236014af-8386-41cc-8006-26947d88f9c7",
   "metadata": {},
   "source": [
    "- We can create series using scalar value\n",
    "- If index is passed, value is repeated across index"
   ]
  },
  {
   "cell_type": "code",
   "execution_count": 10,
   "id": "5686a88f-59b2-4ab4-937a-d69cc3a451c3",
   "metadata": {},
   "outputs": [
    {
     "data": {
      "text/plain": [
       "0    5\n",
       "dtype: int64"
      ]
     },
     "execution_count": 10,
     "metadata": {},
     "output_type": "execute_result"
    }
   ],
   "source": [
    "pd.Series(5)"
   ]
  },
  {
   "cell_type": "code",
   "execution_count": 11,
   "id": "6ce90d95-5c4b-4b65-940e-ed80f13ca77b",
   "metadata": {},
   "outputs": [
    {
     "data": {
      "text/plain": [
       "a    5.0\n",
       "b    5.0\n",
       "c    5.0\n",
       "dtype: float64"
      ]
     },
     "execution_count": 11,
     "metadata": {},
     "output_type": "execute_result"
    }
   ],
   "source": [
    "pd.Series(5.0,index=[\"a\",\"b\",\"c\"])"
   ]
  },
  {
   "cell_type": "markdown",
   "id": "b909f0b3-0344-404e-b572-146969028c8d",
   "metadata": {},
   "source": [
    "- Access elements in series like a numpy array\n",
    "- Access the series from end using negative index"
   ]
  },
  {
   "cell_type": "code",
   "execution_count": 12,
   "id": "c401b3da-2ca7-4010-97b1-6476405cfcee",
   "metadata": {},
   "outputs": [
    {
     "data": {
      "text/plain": [
       "np.int64(1)"
      ]
     },
     "execution_count": 12,
     "metadata": {},
     "output_type": "execute_result"
    }
   ],
   "source": [
    "s = pd.Series([1,3,9,10,-4])\n",
    "s.iloc[0]"
   ]
  },
  {
   "cell_type": "code",
   "execution_count": 13,
   "id": "fabc1aa7-9d6b-465d-802b-64b5548e09cb",
   "metadata": {},
   "outputs": [
    {
     "data": {
      "text/plain": [
       "np.int64(9)"
      ]
     },
     "execution_count": 13,
     "metadata": {},
     "output_type": "execute_result"
    }
   ],
   "source": [
    "s.iloc[2]"
   ]
  },
  {
   "cell_type": "code",
   "execution_count": 14,
   "id": "f5eb0248-7558-4c13-9999-44c7bbe70d4a",
   "metadata": {},
   "outputs": [
    {
     "data": {
      "text/plain": [
       "np.int64(-4)"
      ]
     },
     "execution_count": 14,
     "metadata": {},
     "output_type": "execute_result"
    }
   ],
   "source": [
    "s.iloc[-1]"
   ]
  },
  {
   "cell_type": "code",
   "execution_count": 15,
   "id": "a1984b1d-cc50-4580-b453-3a1eecfef6c7",
   "metadata": {},
   "outputs": [
    {
     "data": {
      "text/plain": [
       "np.int64(10)"
      ]
     },
     "execution_count": 15,
     "metadata": {},
     "output_type": "execute_result"
    }
   ],
   "source": [
    "s.iloc[-2]"
   ]
  },
  {
   "cell_type": "markdown",
   "id": "db4dbcc8-516d-4d14-b564-c20bd2345eed",
   "metadata": {},
   "source": [
    "- Slicing operations like numpy array\n",
    "- iloc is optional"
   ]
  },
  {
   "cell_type": "code",
   "execution_count": 16,
   "id": "07e2cd55-82ee-41a7-8a6b-687b05cb46b2",
   "metadata": {},
   "outputs": [
    {
     "data": {
      "text/plain": [
       "0    1\n",
       "1    3\n",
       "2    9\n",
       "dtype: int64"
      ]
     },
     "execution_count": 16,
     "metadata": {},
     "output_type": "execute_result"
    }
   ],
   "source": [
    "s.iloc[0:3]"
   ]
  },
  {
   "cell_type": "code",
   "execution_count": 17,
   "id": "67b0bc50-d334-4a06-94c4-91f78836c31b",
   "metadata": {},
   "outputs": [
    {
     "data": {
      "text/plain": [
       "0    1\n",
       "1    3\n",
       "2    9\n",
       "dtype: int64"
      ]
     },
     "execution_count": 17,
     "metadata": {},
     "output_type": "execute_result"
    }
   ],
   "source": [
    "s[0:3]"
   ]
  },
  {
   "cell_type": "code",
   "execution_count": 18,
   "id": "caca63f1-d191-4603-81b5-33964606f961",
   "metadata": {},
   "outputs": [
    {
     "data": {
      "text/plain": [
       "1    3\n",
       "2    9\n",
       "dtype: int64"
      ]
     },
     "execution_count": 18,
     "metadata": {},
     "output_type": "execute_result"
    }
   ],
   "source": [
    "s[1:3]"
   ]
  },
  {
   "cell_type": "code",
   "execution_count": 19,
   "id": "cb437491-8d4b-4586-b25b-1264553cb387",
   "metadata": {},
   "outputs": [
    {
     "data": {
      "text/plain": [
       "0    1\n",
       "1    3\n",
       "2    9\n",
       "dtype: int64"
      ]
     },
     "execution_count": 19,
     "metadata": {},
     "output_type": "execute_result"
    }
   ],
   "source": [
    "s[0:-2]"
   ]
  },
  {
   "cell_type": "markdown",
   "id": "fbaf97f8-69c0-4ecc-b709-ba2892b0a49b",
   "metadata": {},
   "source": [
    "- boolean indexing ie. indexing based on boolean mask"
   ]
  },
  {
   "cell_type": "code",
   "execution_count": 20,
   "id": "354f9ee7-778f-43bd-9a07-7a5a94d559f3",
   "metadata": {},
   "outputs": [],
   "source": [
    "s = pd.Series([1,3,9,10,-4])"
   ]
  },
  {
   "cell_type": "code",
   "execution_count": 21,
   "id": "cda77deb-33f2-4972-b627-49ff814c9e3d",
   "metadata": {},
   "outputs": [
    {
     "data": {
      "text/plain": [
       "0    False\n",
       "1    False\n",
       "2     True\n",
       "3     True\n",
       "4    False\n",
       "dtype: bool"
      ]
     },
     "execution_count": 21,
     "metadata": {},
     "output_type": "execute_result"
    }
   ],
   "source": [
    "mask = s>s.median()\n",
    "mask"
   ]
  },
  {
   "cell_type": "code",
   "execution_count": 22,
   "id": "a8eadba7-65ff-40f9-b82e-8d31f74659a1",
   "metadata": {},
   "outputs": [
    {
     "data": {
      "text/plain": [
       "2     9\n",
       "3    10\n",
       "dtype: int64"
      ]
     },
     "execution_count": 22,
     "metadata": {},
     "output_type": "execute_result"
    }
   ],
   "source": [
    "s[mask]"
   ]
  },
  {
   "cell_type": "code",
   "execution_count": 23,
   "id": "18b134f4-850f-4439-afdd-0ec88aea3dfe",
   "metadata": {},
   "outputs": [
    {
     "data": {
      "text/plain": [
       "2     9\n",
       "3    10\n",
       "dtype: int64"
      ]
     },
     "execution_count": 23,
     "metadata": {},
     "output_type": "execute_result"
    }
   ],
   "source": [
    "s[s>s.median()]"
   ]
  },
  {
   "cell_type": "markdown",
   "id": "2273957c-2aad-4fba-a7e3-ed4e88b79336",
   "metadata": {},
   "source": [
    "- Array based indexing"
   ]
  },
  {
   "cell_type": "code",
   "execution_count": 24,
   "id": "04dc4d29-133c-4b3f-98a5-8bfcf696026b",
   "metadata": {},
   "outputs": [
    {
     "data": {
      "text/plain": [
       "4    -4\n",
       "3    10\n",
       "1     3\n",
       "dtype: int64"
      ]
     },
     "execution_count": 24,
     "metadata": {},
     "output_type": "execute_result"
    }
   ],
   "source": [
    "s = pd.Series([1,3,9,10,-4])\n",
    "s.iloc[[4, 3, 1]]"
   ]
  },
  {
   "cell_type": "markdown",
   "id": "93124818-9d35-4e4c-b1ae-84f1a682a481",
   "metadata": {},
   "source": [
    "- Series has a **single** dtype"
   ]
  },
  {
   "cell_type": "code",
   "execution_count": 25,
   "id": "8c2059b4-7896-445a-a015-dbc30abeb001",
   "metadata": {},
   "outputs": [
    {
     "data": {
      "text/plain": [
       "dtype('int64')"
      ]
     },
     "execution_count": 25,
     "metadata": {},
     "output_type": "execute_result"
    }
   ],
   "source": [
    "s = pd.Series([1,3,9,10,-4])\n",
    "s.dtype"
   ]
  },
  {
   "cell_type": "code",
   "execution_count": 26,
   "id": "92813ae9-6e71-4b93-8cc7-da9488adcd7c",
   "metadata": {},
   "outputs": [
    {
     "data": {
      "text/plain": [
       "dtype('float64')"
      ]
     },
     "execution_count": 26,
     "metadata": {},
     "output_type": "execute_result"
    }
   ],
   "source": [
    "s = pd.Series([1,3,9.0,10.0,-4])\n",
    "s.dtype"
   ]
  },
  {
   "cell_type": "markdown",
   "id": "554de597",
   "metadata": {},
   "source": [
    "- Series is also a dictionary like object"
   ]
  },
  {
   "cell_type": "code",
   "execution_count": 27,
   "id": "a4bcd858",
   "metadata": {},
   "outputs": [],
   "source": [
    "s = pd.Series([1,3,9.0],index=[\"a\",\"b\",\"c\"])"
   ]
  },
  {
   "cell_type": "code",
   "execution_count": 28,
   "id": "1c4ca28b",
   "metadata": {},
   "outputs": [
    {
     "data": {
      "text/plain": [
       "np.float64(1.0)"
      ]
     },
     "execution_count": 28,
     "metadata": {},
     "output_type": "execute_result"
    }
   ],
   "source": [
    "s[\"a\"]"
   ]
  },
  {
   "cell_type": "code",
   "execution_count": 31,
   "id": "883df69e-0ee8-405d-aaa3-3b1f37a2f2e0",
   "metadata": {},
   "outputs": [
    {
     "data": {
      "text/plain": [
       "np.float64(3.0)"
      ]
     },
     "execution_count": 31,
     "metadata": {},
     "output_type": "execute_result"
    }
   ],
   "source": [
    "s[\"b\"]"
   ]
  },
  {
   "cell_type": "code",
   "execution_count": 34,
   "id": "6c8c8104-bb11-4c3e-aab9-2d6f9e205a38",
   "metadata": {},
   "outputs": [
    {
     "data": {
      "text/plain": [
       "True"
      ]
     },
     "execution_count": 34,
     "metadata": {},
     "output_type": "execute_result"
    }
   ],
   "source": [
    "\"a\" in s"
   ]
  },
  {
   "cell_type": "code",
   "execution_count": 35,
   "id": "e185347c-a545-47dd-99ba-711520020ed0",
   "metadata": {},
   "outputs": [
    {
     "data": {
      "text/plain": [
       "True"
      ]
     },
     "execution_count": 35,
     "metadata": {},
     "output_type": "execute_result"
    }
   ],
   "source": [
    "\"b\" in s"
   ]
  },
  {
   "cell_type": "code",
   "execution_count": 39,
   "id": "d95af270-7f3e-4793-a185-3f843fff89b3",
   "metadata": {},
   "outputs": [
    {
     "data": {
      "text/plain": [
       "np.float64(1.0)"
      ]
     },
     "execution_count": 39,
     "metadata": {},
     "output_type": "execute_result"
    }
   ],
   "source": [
    "s.get(\"a\")"
   ]
  },
  {
   "cell_type": "code",
   "execution_count": 40,
   "id": "da75b17b-fc95-432c-a041-9da4a7872947",
   "metadata": {},
   "outputs": [
    {
     "data": {
      "text/plain": [
       "np.float64(3.0)"
      ]
     },
     "execution_count": 40,
     "metadata": {},
     "output_type": "execute_result"
    }
   ],
   "source": [
    "s.get(\"b\")"
   ]
  },
  {
   "cell_type": "code",
   "execution_count": 46,
   "id": "0e9141ba-2828-4115-885e-24eead6e6027",
   "metadata": {},
   "outputs": [
    {
     "data": {
      "text/plain": [
       "-1"
      ]
     },
     "execution_count": 46,
     "metadata": {},
     "output_type": "execute_result"
    }
   ],
   "source": [
    "s.get(\"d\",-1)"
   ]
  },
  {
   "cell_type": "code",
   "execution_count": null,
   "id": "1668950f-0f33-4b0d-bf2c-c71264b6fa71",
   "metadata": {},
   "outputs": [],
   "source": []
  },
  {
   "cell_type": "code",
   "execution_count": 48,
   "id": "f435dd64-0df3-44b5-8ba1-f277b1fee7df",
   "metadata": {},
   "outputs": [
    {
     "data": {
      "text/plain": [
       "a     2.0\n",
       "b     6.0\n",
       "c    18.0\n",
       "dtype: float64"
      ]
     },
     "execution_count": 48,
     "metadata": {},
     "output_type": "execute_result"
    }
   ],
   "source": []
  },
  {
   "cell_type": "code",
   "execution_count": null,
   "id": "f42fe80b-0211-40b0-ac92-6e4b412c3014",
   "metadata": {},
   "outputs": [],
   "source": []
  }
 ],
 "metadata": {
  "kernelspec": {
   "display_name": "Python 3 (ipykernel)",
   "language": "python",
   "name": "python3"
  },
  "language_info": {
   "codemirror_mode": {
    "name": "ipython",
    "version": 3
   },
   "file_extension": ".py",
   "mimetype": "text/x-python",
   "name": "python",
   "nbconvert_exporter": "python",
   "pygments_lexer": "ipython3",
   "version": "3.10.12"
  }
 },
 "nbformat": 4,
 "nbformat_minor": 5
}
